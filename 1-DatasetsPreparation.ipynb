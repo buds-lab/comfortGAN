{
 "cells": [
  {
   "cell_type": "code",
   "execution_count": 1,
   "metadata": {},
   "outputs": [],
   "source": [
    "# Notebooks\n",
    "import nbimporter\n",
    "import os\n",
    "import sys\n",
    "\n",
    "# Functions from src\n",
    "module_path = os.path.abspath(os.path.join('..'))\n",
    "if module_path not in sys.path:\n",
    "    sys.path.append(module_path)\n",
    "    \n",
    "# Defined Functions\n",
    "from utils import *\n",
    "\n",
    "# Pandas, matplotlib, pickle, seaborn\n",
    "import pickle\n",
    "import numpy as np\n",
    "import pandas as pd\n",
    "\n",
    "# Sklearn\n",
    "from sklearn import preprocessing\n"
   ]
  },
  {
   "cell_type": "code",
   "execution_count": 2,
   "metadata": {},
   "outputs": [],
   "source": [
    "# Global variables\n",
    "train_test_split = 0.7 # for main train/validation split\n",
    "random_state = 100 # randome seed\n"
   ]
  },
  {
   "cell_type": "markdown",
   "metadata": {},
   "source": [
    "# Occutherm"
   ]
  },
  {
   "cell_type": "code",
   "execution_count": 3,
   "metadata": {},
   "outputs": [
    {
     "name": "stdout",
     "output_type": "stream",
     "text": [
      "       Participant_No  Temperature (Fahrenheit)  SkinTemperature  \\\n",
      "count     2067.000000               2067.000000      2067.000000   \n",
      "mean        40.233188                 71.388912        85.144962   \n",
      "std         23.315812                  6.227013         5.236758   \n",
      "min          1.000000                 60.070000        62.986781   \n",
      "25%         20.000000                 65.500000        81.980755   \n",
      "50%         41.000000                 70.199997        85.382000   \n",
      "75%         60.000000                 77.599998        88.465402   \n",
      "max         80.000000                 85.000000       110.235782   \n",
      "\n",
      "       ClothingInsulation   Height(cm)  Shoulder Circumference(cm)  \\\n",
      "count         2067.000000  2067.000000                 2067.000000   \n",
      "mean             0.565070   170.134736                  109.284857   \n",
      "std              0.192765     9.651437                   10.906837   \n",
      "min              0.000000   151.000000                   89.500000   \n",
      "25%              0.410000   163.650000                  101.000000   \n",
      "50%              0.530000   170.000000                  106.900000   \n",
      "75%              0.710000   176.700000                  115.000000   \n",
      "max              1.150000   191.200000                  133.000000   \n",
      "\n",
      "       Weight(lbs)       Gender  Temperature_outside  Humidity_outside  \\\n",
      "count  2067.000000  2067.000000          2067.000000       2067.000000   \n",
      "mean    152.995694     0.429608            49.554141         69.509434   \n",
      "std      30.811844     0.495140            20.873649         13.202796   \n",
      "min      90.000000     0.000000             6.790000         33.500000   \n",
      "25%     126.000000     0.000000            35.980000         60.799999   \n",
      "50%     146.000000     0.000000            46.889999         69.000000   \n",
      "75%     173.000000     1.000000            66.339996         78.500000   \n",
      "max     236.600000     1.000000            91.400002        100.000000   \n",
      "\n",
      "       Discrete Thermal Comfort_TA  \n",
      "count                  2067.000000  \n",
      "mean                     -0.286405  \n",
      "std                       0.863492  \n",
      "min                      -2.000000  \n",
      "25%                      -1.000000  \n",
      "50%                       0.000000  \n",
      "75%                       0.000000  \n",
      "max                       2.000000  \n"
     ]
    }
   ],
   "source": [
    "# load TCS dataset\n",
    "df_tcs = pd.read_pickle(\"data/occutherm/df_feature1.pkl\")\n",
    "\n",
    "test_size_percentage = 0.2 # for CV within train split\n",
    "user_split = True #split train and test user-based or completely stratfied\n",
    "use_heuristics_participants = False\n",
    "\n",
    "print(df_tcs.describe())\n"
   ]
  },
  {
   "cell_type": "markdown",
   "metadata": {},
   "source": [
    "## Original labels"
   ]
  },
  {
   "cell_type": "code",
   "execution_count": 4,
   "metadata": {},
   "outputs": [
    {
     "name": "stdout",
     "output_type": "stream",
     "text": [
      "Complete Participants: [1, 2, 4, 5, 6, 7, 8, 11, 12, 14, 15, 16, 17, 18, 19, 20, 21, 22, 23, 24, 25, 27, 29, 30, 31, 32, 33, 34, 35, 40, 41, 42, 43, 44, 45, 46, 49, 50, 51, 52, 54, 55, 57, 58, 59, 60, 61, 62, 63, 64, 65, 66, 67, 68, 70, 71, 72, 73, 74, 75, 76, 77, 78, 79, 80]\n",
      "Total number of complete participants: 65\n",
      "Num participants in test set: 20\n",
      "Testing on participants:\n",
      "[ 4  7  8 21 25 29 40 41 43 57 58 59 61 64 66 68 70 71 73 80]\n",
      "Total number of instances: 2067\n",
      " 0    1152\n",
      "-1     452\n",
      "-2     217\n",
      " 1     198\n",
      " 2      48\n",
      "Name: Discrete Thermal Comfort_TA, dtype: int64\n",
      "\n",
      "Number of training instances: 1508\n",
      " 0    818\n",
      "-1    303\n",
      "-2    172\n",
      " 1    171\n",
      " 2     44\n",
      "Name: Discrete Thermal Comfort_TA, dtype: int64\n",
      "\n",
      "Number of testing instances: 559\n",
      " 0    334\n",
      "-1    149\n",
      "-2     45\n",
      " 1     27\n",
      " 2      4\n",
      "Name: Discrete Thermal Comfort_TA, dtype: int64\n",
      "['Temperature (Fahrenheit)' 'SkinTemperature' 'ClothingInsulation'\n",
      " 'Height(cm)' 'Shoulder Circumference(cm)' 'Weight(lbs)' 'Gender'\n",
      " 'Temperature_outside' 'Humidity_outside' 'Discrete Thermal Comfort_TA']\n",
      "Temperature (Fahrenheit)       float64\n",
      "SkinTemperature                float64\n",
      "ClothingInsulation             float64\n",
      "Height(cm)                     float64\n",
      "Shoulder Circumference(cm)     float64\n",
      "Weight(lbs)                    float64\n",
      "Gender                           int64\n",
      "Temperature_outside            float64\n",
      "Humidity_outside               float64\n",
      "Discrete Thermal Comfort_TA      int64\n",
      "dtype: object\n"
     ]
    }
   ],
   "source": [
    "df_aux_65 = pd.read_csv(\"data/occutherm/TCS_65_participants_outsideData.csv\", delimiter = \",\")\n",
    "\n",
    "list_complete_participants = list(df_aux_65['Participant_No'].unique())\n",
    "\n",
    "if use_heuristics_participants:\n",
    "    list_complete_participants.append(10)\n",
    "    list_complete_participants.append(26)\n",
    "    list_complete_participants.append(28)\n",
    "    list_complete_participants.append(36)\n",
    "    list_complete_participants.append(37)\n",
    "    list_complete_participants.append(39)\n",
    "    list_complete_participants.append(47)\n",
    "    list_complete_participants.append(48)\n",
    "    list_complete_participants.append(53)\n",
    "\n",
    "num_complete_participants = len(list_complete_participants)\n",
    "print(\"Complete Participants: {}\".format(list_complete_participants))\n",
    "print(\"Total number of complete participants: {}\".format(num_complete_participants))\n",
    "\n",
    "df_tcs_train, df_tcs_test, _, _ = train_test_split_holistics(df_tcs, list_complete_participants,\n",
    "                                                               user_split = user_split, train_test_split = train_test_split)\n",
    "print(\"Total number of instances: {}\".format(df_tcs.shape[0]))\n",
    "print(df_tcs['Discrete Thermal Comfort_TA'].value_counts())\n",
    "\n",
    "print(\"\\nNumber of training instances: {}\".format(df_tcs_train.shape[0]))\n",
    "print(df_tcs_train['Discrete Thermal Comfort_TA'].value_counts())\n",
    "\n",
    "print(\"\\nNumber of testing instances: {}\".format(df_tcs_test.shape[0]))\n",
    "print(df_tcs_test['Discrete Thermal Comfort_TA'].value_counts())\n",
    "\n",
    "print(df_tcs_train.columns.values)\n",
    "print(df_tcs_train.dtypes)\n",
    "\n",
    "df_tcs_train.to_pickle('data/occutherm/df_feature1_train.pkl')\n",
    "df_tcs_test.to_pickle('data/occutherm/df_feature1_test.pkl')\n",
    "df_tcs_train.to_csv('data/occutherm/df_feature1_train.csv', index=False, header=False)\n",
    "df_tcs_test.to_csv('data/occutherm/df_feature1_test.csv', index=False, header=False)\n"
   ]
  },
  {
   "cell_type": "markdown",
   "metadata": {},
   "source": [
    "## Reduced labels"
   ]
  },
  {
   "cell_type": "code",
   "execution_count": 8,
   "metadata": {},
   "outputs": [],
   "source": [
    "def remap_occutherm(x):\n",
    "    if x > 0:\n",
    "        return 1\n",
    "    elif x < 0:\n",
    "        return -1\n",
    "    else:\n",
    "        return 0\n"
   ]
  },
  {
   "cell_type": "code",
   "execution_count": 11,
   "metadata": {},
   "outputs": [],
   "source": [
    "df_tcs_train_reduced = df_tcs_train.copy()\n",
    "df_tcs_test_reduced = df_tcs_test.copy()\n",
    "\n",
    "df_tcs_train_reduced['Discrete Thermal Comfort_TA'] = df_tcs_train_reduced['Discrete Thermal Comfort_TA'].apply(remap_occutherm)\n",
    "df_tcs_test_reduced['Discrete Thermal Comfort_TA'] = df_tcs_test_reduced['Discrete Thermal Comfort_TA'].apply(remap_occutherm)\n",
    "\n",
    "df_tcs_train_reduced.to_pickle('data/occutherm/df_feature1_train_reduced.pkl')\n",
    "df_tcs_test_reduced.to_pickle('data/occutherm/df_feature1_test_reduced.pkl')\n",
    "df_tcs_train_reduced.to_csv('data/occutherm/df_feature1_train_reduced.csv', index=False, header=False)\n",
    "df_tcs_test_reduced.to_csv('data/occutherm/df_feature1_test_reduced.csv', index=False, header=False)\n"
   ]
  },
  {
   "cell_type": "markdown",
   "metadata": {},
   "source": [
    "# Cresh"
   ]
  },
  {
   "cell_type": "markdown",
   "metadata": {},
   "source": [
    "The preprocessing of the data is already done in [this paper](https://www.researchgate.net/publication/338527635_Indoor_Comfort_Personalities_Scalable_Occupant_Preference_Capture_Using_Micro_Ecological_Momentary_Assessments).\n",
    "\n",
    "We chose the most comprehensive featureset (FS2) since it contains all sensor measurements deployed during the data collection experiment `Feature Set2: Time + Sensing (IoT) + Heart Rate (smartwatch) + mbient (nearbody temperature sensor on smartwatch)`. \n"
   ]
  },
  {
   "cell_type": "markdown",
   "metadata": {},
   "source": [
    "## Thermal comfort as targert variable"
   ]
  },
  {
   "cell_type": "markdown",
   "metadata": {},
   "source": [
    "### Original labels"
   ]
  },
  {
   "cell_type": "code",
   "execution_count": 6,
   "metadata": {},
   "outputs": [
    {
     "name": "stdout",
     "output_type": "stream",
     "text": [
      "Total number of instances: 1474\n",
      "10.0    937\n",
      "11.0    336\n",
      "9.0     201\n",
      "Name: thermal_cozie, dtype: int64\n",
      "\n",
      "Number of training instances: 1159\n",
      "10.0    713\n",
      "11.0    280\n",
      "9.0     166\n",
      "Name: thermal_cozie, dtype: int64\n",
      "\n",
      "Number of testing instances: 315\n",
      "10.0    224\n",
      "11.0     56\n",
      "9.0      35\n",
      "Name: thermal_cozie, dtype: int64\n",
      "['heartRate_cozie' 'humidity_sensing' 'light_sensing' 'noise_sensing'\n",
      " 'temperature_sensing' 'temperature_mbient' 'hour_sin' 'hour_cos'\n",
      " 'day_of_week_sin' 'day_of_week_cos' 'thermal_cozie']\n",
      "heartRate_cozie        float64\n",
      "humidity_sensing       float64\n",
      "light_sensing          float64\n",
      "noise_sensing          float64\n",
      "temperature_sensing    float64\n",
      "temperature_mbient     float64\n",
      "hour_sin               float64\n",
      "hour_cos               float64\n",
      "day_of_week_sin        float64\n",
      "day_of_week_cos        float64\n",
      "thermal_cozie          float64\n",
      "dtype: object\n"
     ]
    }
   ],
   "source": [
    "# load Cresh dataset\n",
    "df_cresh = pd.read_csv(\"data/cresh/2019-11-15_fs2.csv\")\n",
    "\n",
    "# drop user id\n",
    "df_cresh.drop(columns='user_id', axis=1, inplace=True)\n",
    "\n",
    "df_cresh_train = pd.read_csv(\"data/cresh/2019-11-15_fs2_train.csv\")\n",
    "df_cresh_train.drop(columns='user_id', axis=1, inplace=True)\n",
    "\n",
    "df_cresh_test = pd.read_csv(\"data/cresh/2019-11-15_fs2_val.csv\")\n",
    "df_cresh_test.drop(columns='user_id', axis=1, inplace=True)\n",
    "\n",
    "# drop light and noise subjective feedback\n",
    "df_cresh.drop(columns='light_cozie', axis=1, inplace=True)\n",
    "df_cresh.drop(columns='noise_cozie', axis=1, inplace=True)\n",
    "\n",
    "df_cresh_train.drop(columns='light_cozie', axis=1, inplace=True)\n",
    "df_cresh_train.drop(columns='noise_cozie', axis=1, inplace=True)\n",
    "\n",
    "df_cresh_test.drop(columns='light_cozie', axis=1, inplace=True)\n",
    "df_cresh_test.drop(columns='noise_cozie', axis=1, inplace=True)\n",
    "\n",
    "print(\"Total number of instances: {}\".format(df_cresh.shape[0]))\n",
    "print(df_cresh['thermal_cozie'].value_counts())\n",
    "\n",
    "# move thermal comfort response to the end of the dataframe\n",
    "# train and test split already have this format\n",
    "df_cresh_y = df_cresh.pop('thermal_cozie')\n",
    "df_cresh['thermal_cozie'] = df_cresh_y\n",
    "\n",
    "print(\"\\nNumber of training instances: {}\".format(df_cresh_train.shape[0]))\n",
    "print(df_cresh_train['thermal_cozie'].value_counts())\n",
    "\n",
    "print(\"\\nNumber of testing instances: {}\".format(df_cresh_test.shape[0]))\n",
    "print(df_cresh_test['thermal_cozie'].value_counts())\n",
    "\n",
    "print(df_cresh.columns.values)\n",
    "print(df_cresh_train.dtypes)\n",
    "df_cresh_train.iloc[:, -1] = df_cresh_train.iloc[:, -1].astype('int64') \n",
    "\n",
    "df_cresh.to_pickle('data/cresh/cresh.pkl')\n",
    "df_cresh_train.to_pickle('data/cresh/cresh_train.pkl')\n",
    "df_cresh_train.to_csv('data/cresh/cresh_train.csv', index=False, header=False) # for TGAN\n",
    "df_cresh_test.to_pickle('data/cresh/cresh_test.pkl')\n"
   ]
  },
  {
   "cell_type": "markdown",
   "metadata": {},
   "source": [
    "# ASHRAE Thermal Comfort Database"
   ]
  },
  {
   "cell_type": "code",
   "execution_count": 3,
   "metadata": {},
   "outputs": [
    {
     "name": "stdout",
     "output_type": "stream",
     "text": [
      "total number of datapoints: 107583\n",
      "['Thermal sensation' 'SET' 'Clo' 'Met' 'Air temperature (¡C)'\n",
      " 'Relative humidity (%)' 'Air velocity (m/s)']\n"
     ]
    }
   ],
   "source": [
    "df_ashrae_raw = pd.read_csv(\"data/ashrae/ashrae_db2.01.csv\", low_memory=False, encoding=\"cp1252\")\n",
    "ashrae_columns = [\"Air temperature (¡C)\",\n",
    "                  'SET',\n",
    "                  'Relative humidity (%)',\n",
    "                  'Clo',\n",
    "                  'Air velocity (m/s)',\n",
    "                  'Met',\n",
    "                  'Thermal sensation' \n",
    "                 ]\n",
    "\n",
    "df_ashrae_filtered = df_ashrae_raw[df_ashrae_raw.columns.intersection(ashrae_columns)]\n",
    "print(\"total number of datapoints: {}\".format(len(df_ashrae_filtered)))\n",
    "# original size (107583, 70)\n",
    "print(df_ashrae_filtered.columns.values)\n"
   ]
  },
  {
   "cell_type": "code",
   "execution_count": 4,
   "metadata": {},
   "outputs": [
    {
     "name": "stdout",
     "output_type": "stream",
     "text": [
      "total number of datapoints without a single nan: 66397 or 61.71699989775337\n",
      "['SET' 'Clo' 'Met' 'Air temperature (¡C)' 'Relative humidity (%)'\n",
      " 'Air velocity (m/s)' 'Thermal sensation rounded']\n",
      "                SET           Clo           Met  Air temperature (¡C)  \\\n",
      "count  66397.000000  66397.000000  66397.000000          66397.000000   \n",
      "mean      25.772715      0.696338      1.212996             24.357408   \n",
      "std        3.200367      0.283474      0.235523              3.574222   \n",
      "min        6.550000      0.030000      0.650000              0.600000   \n",
      "25%       23.720000      0.510000      1.100000             22.300000   \n",
      "50%       25.540000      0.660000      1.200000             23.800000   \n",
      "75%       27.630000      0.780000      1.300000             26.200000   \n",
      "max       61.530000      2.870000      6.830000             48.800000   \n",
      "\n",
      "       Relative humidity (%)  Air velocity (m/s)  Thermal sensation rounded  \n",
      "count           66397.000000        66397.000000               66397.000000  \n",
      "mean               46.654853            0.153913                   0.186017  \n",
      "std                14.651001            0.400901                   1.274920  \n",
      "min                 0.500000            0.000000                  -3.000000  \n",
      "25%                35.700000            0.040000                   0.000000  \n",
      "50%                46.300000            0.080000                   0.000000  \n",
      "75%                57.200000            0.160000                   1.000000  \n",
      "max               100.000000           56.170000                   3.000000  \n"
     ]
    },
    {
     "name": "stderr",
     "output_type": "stream",
     "text": [
      "/Users/matias/miniconda3/envs/gen-methods/lib/python3.7/site-packages/pandas/core/indexing.py:376: SettingWithCopyWarning: \n",
      "A value is trying to be set on a copy of a slice from a DataFrame.\n",
      "Try using .loc[row_indexer,col_indexer] = value instead\n",
      "\n",
      "See the caveats in the documentation: http://pandas.pydata.org/pandas-docs/stable/user_guide/indexing.html#returning-a-view-versus-a-copy\n",
      "  self.obj[key] = _infer_fill_value(value)\n",
      "/Users/matias/miniconda3/envs/gen-methods/lib/python3.7/site-packages/pandas/core/indexing.py:576: SettingWithCopyWarning: \n",
      "A value is trying to be set on a copy of a slice from a DataFrame.\n",
      "Try using .loc[row_indexer,col_indexer] = value instead\n",
      "\n",
      "See the caveats in the documentation: http://pandas.pydata.org/pandas-docs/stable/user_guide/indexing.html#returning-a-view-versus-a-copy\n",
      "  self.obj[item_labels[indexer[info_axis]]] = value\n"
     ]
    }
   ],
   "source": [
    "# removing nans\n",
    "df_ashrae_filtered_nonull = df_ashrae_filtered[\n",
    "                                               (df_ashrae_filtered['Thermal sensation'].notna()) &\n",
    "                                               (df_ashrae_filtered['SET'].notna()) &\n",
    "                                               (df_ashrae_filtered['Air velocity (m/s)'].notna())] # remove nans rows\n",
    "\n",
    "df_ashrae_filtered_nonull.loc[:, 'Thermal sensation rounded'] = df_ashrae_filtered.loc[:, 'Thermal sensation'].round(0)\n",
    "del df_ashrae_filtered_nonull['Thermal sensation']\n",
    "\n",
    "print(\"total number of datapoints without a single nan: {} or {}\".format(len(df_ashrae_filtered_nonull), \n",
    "                                                                         len(df_ashrae_filtered_nonull) / len(df_ashrae_raw) * 100))\n",
    "print(df_ashrae_filtered_nonull.columns.values)\n",
    "print(df_ashrae_filtered_nonull.describe())\n"
   ]
  },
  {
   "cell_type": "markdown",
   "metadata": {},
   "source": [
    "## Original labels"
   ]
  },
  {
   "cell_type": "code",
   "execution_count": 5,
   "metadata": {},
   "outputs": [
    {
     "name": "stdout",
     "output_type": "stream",
     "text": [
      "\n",
      "Number of instances: 66397\n",
      " 0.0    27470\n",
      " 1.0    12727\n",
      "-1.0    10406\n",
      " 2.0     6998\n",
      "-2.0     4014\n",
      " 3.0     3068\n",
      "-3.0     1714\n",
      "Name: Thermal sensation rounded, dtype: int64\n",
      "\n",
      "Number of training instances: 46477\n",
      " 0.0    19271\n",
      " 1.0     8872\n",
      "-1.0     7289\n",
      " 2.0     4889\n",
      "-2.0     2790\n",
      " 3.0     2161\n",
      "-3.0     1205\n",
      "Name: Thermal sensation rounded, dtype: int64\n",
      "\n",
      "Number of testing instances: 19920\n",
      " 0.0    8199\n",
      " 1.0    3855\n",
      "-1.0    3117\n",
      " 2.0    2109\n",
      "-2.0    1224\n",
      " 3.0     907\n",
      "-3.0     509\n",
      "Name: Thermal sensation rounded, dtype: int64\n",
      "['SET' 'Clo' 'Met' 'Air temperature (¡C)' 'Relative humidity (%)'\n",
      " 'Air velocity (m/s)' 'Thermal sensation rounded']\n",
      "SET                          float64\n",
      "Clo                          float64\n",
      "Met                          float64\n",
      "Air temperature (¡C)         float64\n",
      "Relative humidity (%)        float64\n",
      "Air velocity (m/s)           float64\n",
      "Thermal sensation rounded    float64\n",
      "dtype: object\n"
     ]
    }
   ],
   "source": [
    "# shuffle the dataset\n",
    "df_ashrae_filtered_nonull = df_ashrae_filtered_nonull.sample(frac=1, random_state=random_state).reset_index(drop=True)\n",
    "# determine split\n",
    "idx_split = int(df_ashrae_filtered_nonull.shape[0] * train_test_split)\n",
    "\n",
    "# split the dataframe\n",
    "df_ashrae_train = df_ashrae_filtered_nonull.iloc[:idx_split, :]\n",
    "df_ashrae_test = df_ashrae_filtered_nonull.iloc[idx_split:, :]\n",
    "\n",
    "# shuffle \n",
    "df_ashrae_train = df_ashrae_train.sample(frac=1, random_state=random_state).reset_index(drop=True)\n",
    "df_ashrae_test = df_ashrae_test.sample(frac=1, random_state=random_state).reset_index(drop=True)\n",
    "\n",
    "\n",
    "df_ashrae_filtered_nonull.to_pickle('data/ashrae/ashrae.pkl')\n",
    "df_ashrae_train.to_pickle('data/ashrae/ashrae_train.pkl')\n",
    "df_ashrae_train.to_csv('data/ashrae/ashrae_train.csv', index=False, header=False) # for TGAN\n",
    "df_ashrae_test.to_pickle('data/ashrae/ashrae_test.pkl')\n",
    "\n",
    "print(\"\\nNumber of instances: {}\".format(df_ashrae_filtered_nonull.shape[0]))\n",
    "print(df_ashrae_filtered_nonull['Thermal sensation rounded'].value_counts())\n",
    "\n",
    "print(\"\\nNumber of training instances: {}\".format(df_ashrae_train.shape[0]))\n",
    "print(df_ashrae_train['Thermal sensation rounded'].value_counts())\n",
    "\n",
    "print(\"\\nNumber of testing instances: {}\".format(df_ashrae_test.shape[0]))\n",
    "print(df_ashrae_test['Thermal sensation rounded'].value_counts())\n",
    "\n",
    "print(df_ashrae_filtered_nonull.columns.values)\n",
    "print(df_ashrae_train.dtypes)\n"
   ]
  },
  {
   "cell_type": "code",
   "execution_count": 6,
   "metadata": {},
   "outputs": [
    {
     "data": {
      "image/png": "[encoded data removed]",
      "text/plain": [
       "<Figure size 864x576 with 1 Axes>"
      ]
     },
     "metadata": {
      "needs_background": "light"
     },
     "output_type": "display_data"
    }
   ],
   "source": [
    "label_str = \"Thermal sensation rounded\"\n",
    "\n",
    "fig, axes = plt.subplots(nrows=1, ncols=1, figsize=(12, 8))\n",
    "values = df_ashrae_filtered_nonull[label_str].value_counts()\n",
    "indices = values.index.values\n",
    "axes.bar(indices, values)\n",
    "axes.set_title(label_str)\n",
    "plt.tight_layout()\n",
    "plt.show()"
   ]
  },
  {
   "cell_type": "markdown",
   "metadata": {},
   "source": [
    "## Reduced labels"
   ]
  },
  {
   "cell_type": "code",
   "execution_count": 7,
   "metadata": {},
   "outputs": [],
   "source": [
    "def remap_ashrae(x):\n",
    "    if x > 0.0:\n",
    "        return 1.0\n",
    "    elif x < 0.0:\n",
    "        return -1.0\n",
    "    else:\n",
    "        return 0.0\n"
   ]
  },
  {
   "cell_type": "code",
   "execution_count": 8,
   "metadata": {},
   "outputs": [],
   "source": [
    "df_ashrae_filtered_nonull_reduced = df_ashrae_filtered_nonull.copy()\n",
    "df_ashrae_train_reduced = df_ashrae_train.copy()\n",
    "df_ashrae_test_reduced = df_ashrae_test.copy()\n",
    "\n",
    "df_ashrae_filtered_nonull_reduced['Thermal sensation rounded'] = df_ashrae_filtered_nonull_reduced['Thermal sensation rounded'].apply(remap_ashrae)\n",
    "df_ashrae_train_reduced['Thermal sensation rounded'] = df_ashrae_train_reduced['Thermal sensation rounded'].apply(remap_ashrae)\n",
    "df_ashrae_test_reduced['Thermal sensation rounded'] = df_ashrae_test_reduced['Thermal sensation rounded'].apply(remap_ashrae)\n",
    "\n",
    "df_ashrae_train_reduced.to_pickle('data/ashrae/ashrae_train_reduced.pkl')\n",
    "df_ashrae_train_reduced.to_csv('data/ashrae/ashrae_train_reduced.csv', index=False, header=False) # for TGAN\n",
    "df_ashrae_test_reduced.to_pickle('data/ashrae/ashrae_test_reduced.pkl')\n"
   ]
  },
  {
   "cell_type": "code",
   "execution_count": 20,
   "metadata": {},
   "outputs": [
    {
     "data": {
      "image/png": "[encoded data removed]",
      "text/plain": [
       "<Figure size 864x576 with 1 Axes>"
      ]
     },
     "metadata": {
      "needs_background": "light"
     },
     "output_type": "display_data"
    }
   ],
   "source": [
    "label_str = \"Thermal sensation rounded\"\n",
    "\n",
    "fig, axes = plt.subplots(nrows=1, ncols=1, figsize=(12, 8))\n",
    "values = df_ashrae_filtered_nonull_reduced[label_str].value_counts()\n",
    "indices = values.index.values\n",
    "axes.bar(indices, values)\n",
    "axes.set_title(label_str)\n",
    "plt.tight_layout()\n",
    "plt.show()"
   ]
  },
  {
   "cell_type": "code",
   "execution_count": null,
   "metadata": {},
   "outputs": [],
   "source": []
  }
 ],
 "metadata": {
  "kernelspec": {
   "display_name": "gen-methods",
   "language": "python",
   "name": "gen-methods"
  },
  "language_info": {
   "codemirror_mode": {
    "name": "ipython",
    "version": 3
   },
   "file_extension": ".py",
   "mimetype": "text/x-python",
   "name": "python",
   "nbconvert_exporter": "python",
   "pygments_lexer": "ipython3",
   "version": "3.7.4"
  }
 },
 "nbformat": 4,
 "nbformat_minor": 4
}
