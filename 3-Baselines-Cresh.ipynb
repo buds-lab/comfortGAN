{
 "cells": [
  {
   "cell_type": "code",
   "execution_count": 1,
   "metadata": {},
   "outputs": [],
   "source": [
    "# Notebooks\n",
    "import nbimporter\n",
    "import os\n",
    "import sys\n",
    "\n",
    "# Functions from src\n",
    "module_path = os.path.abspath(os.path.join('..'))\n",
    "if module_path not in sys.path:\n",
    "    sys.path.append(module_path)\n",
    "    \n",
    "# Defined functions\n",
    "from utils import *\n",
    "\n",
    "# Pandas, matplotlib, pickle, seaborn\n",
    "import pickle\n",
    "import numpy as np\n",
    "import pandas as pd\n",
    "import seaborn as sns\n",
    "import matplotlib.pyplot as plt\n",
    "\n",
    "from statistics import mean \n",
    "from collections import Counter\n"
   ]
  },
  {
   "cell_type": "code",
   "execution_count": 2,
   "metadata": {},
   "outputs": [],
   "source": [
    "# global variables/constants\n",
    "num_trials = 30\n",
    "test_size_percentage = 0.2\n",
    "fixed_depth = 10\n"
   ]
  },
  {
   "cell_type": "markdown",
   "metadata": {},
   "source": [
    "# Load Cresh Dataset"
   ]
  },
  {
   "cell_type": "code",
   "execution_count": 3,
   "metadata": {},
   "outputs": [
    {
     "name": "stdout",
     "output_type": "stream",
     "text": [
      "       heartRate_cozie  humidity_sensing  light_sensing  noise_sensing  \\\n",
      "count      1159.000000       1159.000000    1159.000000    1159.000000   \n",
      "mean         80.327869         65.699624     184.154443      51.646247   \n",
      "std          14.835174         10.741136     228.407204       7.400868   \n",
      "min          51.000000         51.030800      11.000000      41.000000   \n",
      "25%          69.500000         58.711700      60.000000      46.000000   \n",
      "50%          79.000000         61.147500      99.000000      49.000000   \n",
      "75%          90.000000         73.851950     224.000000      54.000000   \n",
      "max         149.000000         98.682200    1294.000000      72.000000   \n",
      "\n",
      "       temperature_sensing  temperature_mbient     hour_sin     hour_cos  \\\n",
      "count          1159.000000         1159.000000  1159.000000  1159.000000   \n",
      "mean             26.680520           28.807916    -0.537530    -0.548435   \n",
      "std               1.642619            1.337675     0.433082     0.472309   \n",
      "min              21.658800           23.875000    -1.000000    -1.000000   \n",
      "25%              25.381000           28.125000    -0.910862    -0.932008   \n",
      "50%              26.971500           28.750000    -0.678801    -0.697790   \n",
      "75%              27.667450           29.750000    -0.258819    -0.296542   \n",
      "max              33.076900           32.875000     0.850352     0.999990   \n",
      "\n",
      "       day_of_week_sin  day_of_week_cos  thermal_cozie  \n",
      "count      1159.000000      1159.000000    1159.000000  \n",
      "mean          0.386543        -0.153177      10.098361  \n",
      "std           0.543248         0.729875       0.612751  \n",
      "min          -0.974928        -0.900969       9.000000  \n",
      "25%           0.000000        -0.900969      10.000000  \n",
      "50%           0.433884        -0.222521      10.000000  \n",
      "75%           0.974928         0.623490      10.000000  \n",
      "max           0.974928         1.000000      11.000000  \n"
     ]
    }
   ],
   "source": [
    "df_cresh = pd.read_pickle(\"data/cresh/cresh.pkl\")\n",
    "df_cresh_train = pd.read_pickle(\"data/cresh/cresh_train.pkl\")\n",
    "df_cresh_test = pd.read_pickle(\"data/cresh/cresh_test.pkl\")\n",
    "\n",
    "dataset_string = \"cresh\"\n",
    "\n",
    "# total count for instances per class: 713\n",
    "print(df_cresh_train.describe())\n"
   ]
  },
  {
   "cell_type": "markdown",
   "metadata": {},
   "source": [
    "# Classification models on train data (imbalanced)"
   ]
  },
  {
   "cell_type": "code",
   "execution_count": 6,
   "metadata": {},
   "outputs": [
    {
     "name": "stdout",
     "output_type": "stream",
     "text": [
      "Features: ['heartRate_cozie' 'humidity_sensing' 'light_sensing' 'noise_sensing'\n",
      " 'temperature_sensing' 'temperature_mbient' 'hour_sin' 'hour_cos'\n",
      " 'day_of_week_sin' 'day_of_week_cos']\n",
      "Expected accuracy (f1 micro) based on Cross-Validation:  0.5846189808321645\n",
      "GaussianNB(priors=None, var_smoothing=1e-09)\n",
      "Number of folds: 10\n",
      "Best parameters set found on development set:\n",
      "{'algorithm': 'brute', 'metric': 'seuclidean', 'n_neighbors': 13, 'weights': 'distance'}\n",
      "Number of folds: 10\n",
      "Best parameters set found on development set:\n",
      "{'C': 1000, 'class_weight': 'balanced', 'gamma': 0.1, 'kernel': 'rbf'}\n",
      "Number of folds: 10\n",
      "Best parameters set found on development set:\n",
      "{'class_weight': 'balanced', 'criterion': 'gini', 'min_samples_split': 2, 'n_estimators': 100}\n"
     ]
    }
   ],
   "source": [
    "acc_rdf, rdf_real_model = train_rdf(df_cresh_train, rdf_depth=fixed_depth, test_size_percentage=test_size_percentage)\n"
   ]
  },
  {
   "cell_type": "code",
   "execution_count": 7,
   "metadata": {},
   "outputs": [
    {
     "name": "stdout",
     "output_type": "stream",
     "text": [
      "nb acc CV: 0.5818965517241379\n",
      "knn acc CV: 0.6810344827586207\n",
      "svm acc CV: 0.6810344827586207\n",
      "rdf acc CV: 0.5858470764617691\n"
     ]
    }
   ],
   "source": [
    "print(\"rdf acc CV: {}\".format(acc_rdf))\n"
   ]
  },
  {
   "cell_type": "code",
   "execution_count": 8,
   "metadata": {},
   "outputs": [],
   "source": [
    "save_pickle(rdf_real_model, \"models/\" + dataset_string + \"_rdf_reall_full.pkl\")\n",
    "save_pickle(acc_rdf, \"metrics/\" + dataset_string + \"_rdf_reall_full_acc.pkl\")\n"
   ]
  },
  {
   "cell_type": "markdown",
   "metadata": {},
   "source": [
    "# Variability baseline"
   ]
  },
  {
   "cell_type": "code",
   "execution_count": 9,
   "metadata": {
    "collapsed": true,
    "jupyter": {
     "outputs_hidden": true
    }
   },
   "outputs": [
    {
     "name": "stdout",
     "output_type": "stream",
     "text": [
      "Thermal Comfort: 11\n",
      "Thermal Comfort: 10\n",
      "Thermal Comfort: 9\n",
      "Thermal Comfort: 11\n",
      "Thermal Comfort: 10\n",
      "Thermal Comfort: 9\n",
      "Thermal Comfort: 11\n",
      "Thermal Comfort: 10\n",
      "Thermal Comfort: 9\n",
      "Thermal Comfort: 11\n",
      "Thermal Comfort: 10\n",
      "Thermal Comfort: 9\n",
      "Thermal Comfort: 11\n",
      "Thermal Comfort: 10\n",
      "Thermal Comfort: 9\n",
      "Thermal Comfort: 11\n",
      "Thermal Comfort: 10\n",
      "Thermal Comfort: 9\n",
      "Thermal Comfort: 11\n",
      "Thermal Comfort: 10\n",
      "Thermal Comfort: 9\n",
      "Thermal Comfort: 11\n",
      "Thermal Comfort: 10\n",
      "Thermal Comfort: 9\n",
      "Thermal Comfort: 11\n",
      "Thermal Comfort: 10\n",
      "Thermal Comfort: 9\n",
      "Thermal Comfort: 11\n",
      "Thermal Comfort: 10\n",
      "Thermal Comfort: 9\n",
      "Thermal Comfort: 11\n",
      "Thermal Comfort: 10\n",
      "Thermal Comfort: 9\n",
      "Thermal Comfort: 11\n",
      "Thermal Comfort: 10\n",
      "Thermal Comfort: 9\n",
      "Thermal Comfort: 11\n",
      "Thermal Comfort: 10\n",
      "Thermal Comfort: 9\n",
      "Thermal Comfort: 11\n",
      "Thermal Comfort: 10\n",
      "Thermal Comfort: 9\n",
      "Thermal Comfort: 11\n",
      "Thermal Comfort: 10\n",
      "Thermal Comfort: 9\n",
      "Thermal Comfort: 11\n",
      "Thermal Comfort: 10\n",
      "Thermal Comfort: 9\n",
      "Thermal Comfort: 11\n",
      "Thermal Comfort: 10\n",
      "Thermal Comfort: 9\n",
      "Thermal Comfort: 11\n",
      "Thermal Comfort: 10\n",
      "Thermal Comfort: 9\n",
      "Thermal Comfort: 11\n",
      "Thermal Comfort: 10\n",
      "Thermal Comfort: 9\n",
      "Thermal Comfort: 11\n",
      "Thermal Comfort: 10\n",
      "Thermal Comfort: 9\n",
      "Thermal Comfort: 11\n",
      "Thermal Comfort: 10\n",
      "Thermal Comfort: 9\n",
      "Thermal Comfort: 11\n",
      "Thermal Comfort: 10\n",
      "Thermal Comfort: 9\n",
      "Thermal Comfort: 11\n",
      "Thermal Comfort: 10\n",
      "Thermal Comfort: 9\n",
      "Thermal Comfort: 11\n",
      "Thermal Comfort: 10\n",
      "Thermal Comfort: 9\n",
      "Thermal Comfort: 11\n",
      "Thermal Comfort: 10\n",
      "Thermal Comfort: 9\n",
      "Thermal Comfort: 11\n",
      "Thermal Comfort: 10\n",
      "Thermal Comfort: 9\n",
      "Thermal Comfort: 11\n",
      "Thermal Comfort: 10\n",
      "Thermal Comfort: 9\n",
      "Thermal Comfort: 11\n",
      "Thermal Comfort: 10\n",
      "Thermal Comfort: 9\n",
      "Thermal Comfort: 11\n",
      "Thermal Comfort: 10\n",
      "Thermal Comfort: 9\n",
      "Thermal Comfort: 11\n",
      "Thermal Comfort: 10\n",
      "Thermal Comfort: 9\n",
      "175.32225407429758\n"
     ]
    }
   ],
   "source": [
    "variability_baseline_list = []\n",
    "\n",
    "for _ in range(0, num_trials):\n",
    "    variability_baseline = evaluation_variability(df_cresh_train)\n",
    "    variability_baseline_list.append(variability_baseline)\n",
    "\n",
    "mean_var_baseline = mean(variability_baseline_list)\n",
    "print(mean_var_baseline)\n",
    "save_pickle(mean_var_baseline, \"metrics/\" + dataset_string + \"_variability_baseline.pkl\")\n"
   ]
  },
  {
   "cell_type": "markdown",
   "metadata": {},
   "source": [
    "# Diversity baseline"
   ]
  },
  {
   "cell_type": "code",
   "execution_count": 10,
   "metadata": {},
   "outputs": [
    {
     "name": "stdout",
     "output_type": "stream",
     "text": [
      "5.6614872565810765\n"
     ]
    }
   ],
   "source": [
    "diversity_baseline_list = []\n",
    "\n",
    "for _ in range(0, num_trials):\n",
    "    diversity_baseline = evaluation_diversity(df_cresh_train, df_cresh_train, baseline=True)\n",
    "    diversity_baseline_list.append(diversity_baseline)\n",
    "\n",
    "mean_diversity_baseline = mean(diversity_baseline_list)\n",
    "print(mean_diversity_baseline)\n",
    "save_pickle(mean_diversity_baseline, \"metrics/\" + dataset_string + \"_diversity_baseline.pkl\")\n"
   ]
  },
  {
   "cell_type": "markdown",
   "metadata": {},
   "source": [
    "# Quality of the final classification"
   ]
  },
  {
   "cell_type": "markdown",
   "metadata": {},
   "source": [
    "The paper that builds group models on this feature set only uses RDF https://www.researchgate.net/publication/338527635_Indoor_Comfort_Personalities_Scalable_Occupant_Preference_Capture_Using_Micro_Ecological_Momentary_Assessments\n"
   ]
  },
  {
   "cell_type": "code",
   "execution_count": 4,
   "metadata": {},
   "outputs": [
    {
     "name": "stderr",
     "output_type": "stream",
     "text": [
      "/home/matias/anaconda3/envs/gen-methods/lib/python3.7/site-packages/sklearn/metrics/pairwise.py:1449: FutureWarning: from version 0.25, pairwise_distances for metric='seuclidean' will require V to be specified if Y is passed.\n",
      "  \"specified if Y is passed.\", FutureWarning)\n",
      "/home/matias/anaconda3/envs/gen-methods/lib/python3.7/site-packages/sklearn/metrics/pairwise.py:1449: FutureWarning: from version 0.25, pairwise_distances for metric='seuclidean' will require V to be specified if Y is passed.\n",
      "  \"specified if Y is passed.\", FutureWarning)\n"
     ]
    }
   ],
   "source": [
    "class_acc_test, class_acc_train, class_models, class_report_rdf = evaluation_classification(df_cresh_train, \n",
    "                                                                                                df_cresh_test, \n",
    "                                                                                                rdf_depth=fixed_depth, \n",
    "                                                                                                depth_file_name='default', \n",
    "                                                                                                test_size_percentage=test_size_percentage)\n"
   ]
  },
  {
   "cell_type": "code",
   "execution_count": 5,
   "metadata": {},
   "outputs": [
    {
     "name": "stdout",
     "output_type": "stream",
     "text": [
      "[0.30158730158730157, 0.6095238095238096, 0.7111111111111111, 0.6444444444444445]\n",
      "{'9.0': {'precision': 0.25, 'recall': 0.02857142857142857, 'f1-score': 0.05128205128205128, 'support': 35}, '10.0': {'precision': 0.75, 'recall': 0.7633928571428571, 'f1-score': 0.7566371681415928, 'support': 224}, '11.0': {'precision': 0.37349397590361444, 'recall': 0.5535714285714286, 'f1-score': 0.4460431654676259, 'support': 56}, 'accuracy': 0.6444444444444445, 'macro avg': {'precision': 0.4578313253012048, 'recall': 0.4485119047619048, 'f1-score': 0.41798746163042333, 'support': 315}, 'weighted avg': {'precision': 0.6275100401606425, 'recall': 0.6444444444444445, 'f1-score': 0.6230476657929385, 'support': 315}}\n"
     ]
    }
   ],
   "source": [
    "print(class_acc_test)\n",
    "print(class_report_rdf)"
   ]
  },
  {
   "cell_type": "code",
   "execution_count": 7,
   "metadata": {},
   "outputs": [],
   "source": [
    "# Figure 6 from the paper above\n",
    "final_classification_rdf = class_acc_test[3]\n",
    "\n",
    "save_pickle(final_classification_rdf, \"metrics/\" + dataset_string + \"_rdf_classification_baseline.pkl\")\n",
    "save_pickle(class_report_rdf, \"label-metrics/\" + dataset_string + \"_class_report_baseline_trials.pkl\")\n"
   ]
  },
  {
   "cell_type": "code",
   "execution_count": null,
   "metadata": {},
   "outputs": [],
   "source": []
  }
 ],
 "metadata": {
  "kernelspec": {
   "display_name": "gen-methods",
   "language": "python",
   "name": "gen-methods"
  },
  "language_info": {
   "codemirror_mode": {
    "name": "ipython",
    "version": 3
   },
   "file_extension": ".py",
   "mimetype": "text/x-python",
   "name": "python",
   "nbconvert_exporter": "python",
   "pygments_lexer": "ipython3",
   "version": "3.7.4"
  }
 },
 "nbformat": 4,
 "nbformat_minor": 4
}
