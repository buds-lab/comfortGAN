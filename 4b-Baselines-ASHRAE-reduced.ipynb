{
 "cells": [
  {
   "cell_type": "code",
   "execution_count": 1,
   "metadata": {},
   "outputs": [],
   "source": [
    "# Notebooks\n",
    "import nbimporter\n",
    "import os\n",
    "import sys\n",
    "\n",
    "# Functions from src\n",
    "module_path = os.path.abspath(os.path.join('..'))\n",
    "if module_path not in sys.path:\n",
    "    sys.path.append(module_path)\n",
    "    \n",
    "# Defined Functions\n",
    "from utils import *\n",
    "\n",
    "# Pandas, matplotlib, pickle, seaborn\n",
    "import pickle\n",
    "import numpy as np\n",
    "import pandas as pd\n",
    "import seaborn as sns\n",
    "import matplotlib.pyplot as plt\n",
    "\n",
    "from statistics import mean \n",
    "from collections import Counter\n"
   ]
  },
  {
   "cell_type": "code",
   "execution_count": 2,
   "metadata": {},
   "outputs": [],
   "source": [
    "# global variables/constants\n",
    "num_trials = 30\n",
    "test_size_percentage = 0.2\n",
    "fixed_depth = 10\n"
   ]
  },
  {
   "cell_type": "markdown",
   "metadata": {},
   "source": [
    "# Load ASHRAE Dataset - reduced labels"
   ]
  },
  {
   "cell_type": "code",
   "execution_count": 3,
   "metadata": {},
   "outputs": [
    {
     "name": "stdout",
     "output_type": "stream",
     "text": [
      "46477\n",
      "19920\n"
     ]
    },
    {
     "data": {
      "text/html": [
       "<div>\n",
       "<style scoped>\n",
       "    .dataframe tbody tr th:only-of-type {\n",
       "        vertical-align: middle;\n",
       "    }\n",
       "\n",
       "    .dataframe tbody tr th {\n",
       "        vertical-align: top;\n",
       "    }\n",
       "\n",
       "    .dataframe thead th {\n",
       "        text-align: right;\n",
       "    }\n",
       "</style>\n",
       "<table border=\"1\" class=\"dataframe\">\n",
       "  <thead>\n",
       "    <tr style=\"text-align: right;\">\n",
       "      <th></th>\n",
       "      <th>SET</th>\n",
       "      <th>Clo</th>\n",
       "      <th>Met</th>\n",
       "      <th>Air temperature (¡C)</th>\n",
       "      <th>Relative humidity (%)</th>\n",
       "      <th>Air velocity (m/s)</th>\n",
       "      <th>Thermal sensation rounded</th>\n",
       "    </tr>\n",
       "  </thead>\n",
       "  <tbody>\n",
       "    <tr>\n",
       "      <td>0</td>\n",
       "      <td>19.96</td>\n",
       "      <td>0.49</td>\n",
       "      <td>1.00</td>\n",
       "      <td>23.2</td>\n",
       "      <td>41.9</td>\n",
       "      <td>0.38</td>\n",
       "      <td>0.0</td>\n",
       "    </tr>\n",
       "    <tr>\n",
       "      <td>1</td>\n",
       "      <td>27.00</td>\n",
       "      <td>1.04</td>\n",
       "      <td>1.01</td>\n",
       "      <td>28.3</td>\n",
       "      <td>14.1</td>\n",
       "      <td>0.18</td>\n",
       "      <td>0.0</td>\n",
       "    </tr>\n",
       "    <tr>\n",
       "      <td>2</td>\n",
       "      <td>19.08</td>\n",
       "      <td>0.50</td>\n",
       "      <td>1.00</td>\n",
       "      <td>20.6</td>\n",
       "      <td>45.8</td>\n",
       "      <td>0.08</td>\n",
       "      <td>-1.0</td>\n",
       "    </tr>\n",
       "  </tbody>\n",
       "</table>\n",
       "</div>"
      ],
      "text/plain": [
       "     SET   Clo   Met  Air temperature (¡C)  Relative humidity (%)  \\\n",
       "0  19.96  0.49  1.00                  23.2                   41.9   \n",
       "1  27.00  1.04  1.01                  28.3                   14.1   \n",
       "2  19.08  0.50  1.00                  20.6                   45.8   \n",
       "\n",
       "   Air velocity (m/s)  Thermal sensation rounded  \n",
       "0                0.38                        0.0  \n",
       "1                0.18                        0.0  \n",
       "2                0.08                       -1.0  "
      ]
     },
     "execution_count": 3,
     "metadata": {},
     "output_type": "execute_result"
    }
   ],
   "source": [
    "df_ashrae_train = pd.read_pickle(\"data/ashrae/ashrae_train_reduced.pkl\")\n",
    "df_ashrae_test = pd.read_pickle(\"data/ashrae/ashrae_test_reduced.pkl\")\n",
    "\n",
    "dataset_string = \"ashrae-reduced\"\n",
    "\n",
    "print(len(df_ashrae_train))\n",
    "print(len(df_ashrae_test))\n",
    "df_ashrae_train.head(3)\n",
    "# Number of training instances: 46477\n",
    "# Number of testing instances: 19920\n"
   ]
  },
  {
   "cell_type": "markdown",
   "metadata": {},
   "source": [
    "# Classification models on train data (imbalanced)"
   ]
  },
  {
   "cell_type": "code",
   "execution_count": 4,
   "metadata": {},
   "outputs": [],
   "source": [
    "acc_rdf, rdf_real_model = train_rdf(df_ashrae_train, rdf_depth=fixed_depth, test_size_percentage=test_size_percentage)\n"
   ]
  },
  {
   "cell_type": "code",
   "execution_count": 5,
   "metadata": {},
   "outputs": [],
   "source": [
    "print(\"rdf acc CV: {}\".format(acc_rdf))\n"
   ]
  },
  {
   "cell_type": "code",
   "execution_count": 6,
   "metadata": {},
   "outputs": [],
   "source": [
    "save_pickle(rdf_real_model, \"models/\" + dataset_string + \"_rdf_reall_full.pkl\")\n",
    "save_pickle(acc_rdf, \"metrics/\" + dataset_string + \"_rdf_reall_full_acc.pkl\")\n"
   ]
  },
  {
   "cell_type": "markdown",
   "metadata": {},
   "source": [
    "# Variability baseline"
   ]
  },
  {
   "cell_type": "code",
   "execution_count": 7,
   "metadata": {},
   "outputs": [
    {
     "name": "stdout",
     "output_type": "stream",
     "text": [
      "18.164089910819968\n"
     ]
    }
   ],
   "source": [
    "variability_baseline_list = []\n",
    "\n",
    "for _ in range(0, num_trials):\n",
    "    variability_baseline = evaluation_variability(df_ashrae_train)\n",
    "    variability_baseline_list.append(variability_baseline)\n",
    "\n",
    "mean_var_baseline = mean(variability_baseline_list)\n",
    "print(mean_var_baseline)\n",
    "save_pickle(mean_var_baseline, \"metrics/\" + dataset_string + \"_variability_baseline.pkl\")\n"
   ]
  },
  {
   "cell_type": "markdown",
   "metadata": {},
   "source": [
    "# Diversity baseline"
   ]
  },
  {
   "cell_type": "code",
   "execution_count": 8,
   "metadata": {},
   "outputs": [
    {
     "name": "stdout",
     "output_type": "stream",
     "text": [
      "0.4822430597895802\n"
     ]
    }
   ],
   "source": [
    "diversity_baseline_list = []\n",
    "\n",
    "for _ in range(0, num_trials):\n",
    "    diversity_baseline = evaluation_diversity(df_ashrae_train, df_ashrae_train, baseline=True)\n",
    "    diversity_baseline_list.append(diversity_baseline)\n",
    "\n",
    "mean_diversity_baseline = mean(diversity_baseline_list)\n",
    "print(mean_diversity_baseline)\n",
    "save_pickle(mean_diversity_baseline, \"metrics/\" + dataset_string + \"_diversity_baseline.pkl\")\n"
   ]
  },
  {
   "cell_type": "markdown",
   "metadata": {},
   "source": [
    "# Quality of the final classification"
   ]
  },
  {
   "cell_type": "code",
   "execution_count": 9,
   "metadata": {},
   "outputs": [],
   "source": [
    "class_acc_test, class_acc_train, class_models, class_report_rdf = evaluation_classification(df_ashrae_train, \n",
    "                                                                                                df_ashrae_test, \n",
    "                                                                                                rdf_depth=fixed_depth, \n",
    "                                                                                                depth_file_name='default', \n",
    "                                                                                                test_size_percentage=test_size_percentage)\n"
   ]
  },
  {
   "cell_type": "code",
   "execution_count": 10,
   "metadata": {},
   "outputs": [
    {
     "name": "stdout",
     "output_type": "stream",
     "text": [
      "[0.35727911646586347, 0.4592871485943775, 0.35672690763052206, 0.4944277108433735]\n",
      "{'-1.0': {'precision': 0.39863852961198093, 'recall': 0.6037113402061856, 'f1-score': 0.4801968019680196, 'support': 4850}, '0.0': {'precision': 0.5317097090552468, 'recall': 0.39675570191486764, 'f1-score': 0.45442480966682963, 'support': 8199}, '1.0': {'precision': 0.5680656651695833, 'recall': 0.5338378693057779, 'f1-score': 0.5504201680672268, 'support': 6871}, 'accuracy': 0.4944277108433735, 'macro avg': {'precision': 0.49947130127893696, 'recall': 0.5114349704756104, 'f1-score': 0.4950139265673587, 'support': 19920}, 'weighted avg': {'precision': 0.5118506003284279, 'recall': 0.4944277108433735, 'f1-score': 0.49381126901572026, 'support': 19920}}\n"
     ]
    }
   ],
   "source": [
    "print(class_acc_test)\n",
    "print(class_report_rdf)\n"
   ]
  },
  {
   "cell_type": "code",
   "execution_count": 11,
   "metadata": {},
   "outputs": [],
   "source": [
    "final_classification_rdf = class_acc_test[3] # RDF\n",
    "\n",
    "save_pickle(final_classification_rdf, \"metrics/\" + dataset_string + \"_rdf_classification_baseline.pkl\")\n",
    "save_pickle(class_report_rdf, \"label-metrics/\" + dataset_string + \"_class_report_baseline_trials.pkl\")\n"
   ]
  },
  {
   "cell_type": "code",
   "execution_count": null,
   "metadata": {},
   "outputs": [],
   "source": []
  }
 ],
 "metadata": {
  "kernelspec": {
   "display_name": "gen-methods",
   "language": "python",
   "name": "gen-methods"
  },
  "language_info": {
   "codemirror_mode": {
    "name": "ipython",
    "version": 3
   },
   "file_extension": ".py",
   "mimetype": "text/x-python",
   "name": "python",
   "nbconvert_exporter": "python",
   "pygments_lexer": "ipython3",
   "version": "3.7.4"
  }
 },
 "nbformat": 4,
 "nbformat_minor": 4
}
