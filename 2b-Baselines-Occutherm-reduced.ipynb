{
 "cells": [
  {
   "cell_type": "code",
   "execution_count": 2,
   "metadata": {},
   "outputs": [],
   "source": [
    "# Notebooks\n",
    "import nbimporter\n",
    "import os\n",
    "import sys\n",
    "\n",
    "# Functions from src\n",
    "module_path = os.path.abspath(os.path.join('..'))\n",
    "if module_path not in sys.path:\n",
    "    sys.path.append(module_path)\n",
    "    \n",
    "# Defined Functions\n",
    "from utils import *\n",
    "\n",
    "# Pandas, matplotlib, pickle, seaborn\n",
    "import pickle\n",
    "import numpy as np\n",
    "import pandas as pd\n",
    "import seaborn as sns\n",
    "import matplotlib.pyplot as plt\n",
    "\n",
    "from statistics import mean \n",
    "from collections import Counter\n",
    "from imblearn.over_sampling import SMOTE, SMOTENC, ADASYN\n"
   ]
  },
  {
   "cell_type": "code",
   "execution_count": 3,
   "metadata": {},
   "outputs": [],
   "source": [
    "# global constants\n",
    "num_trials = 30\n",
    "test_size_percentage = 0.2\n",
    "fixed_depth = 10\n"
   ]
  },
  {
   "cell_type": "markdown",
   "metadata": {},
   "source": [
    "# Load TCS Dataset - reduced labels"
   ]
  },
  {
   "cell_type": "code",
   "execution_count": 5,
   "metadata": {},
   "outputs": [
    {
     "name": "stdout",
     "output_type": "stream",
     "text": [
      "       Temperature (Fahrenheit)  SkinTemperature  ClothingInsulation  \\\n",
      "count               1508.000000      1508.000000         1508.000000   \n",
      "mean                  71.453707        85.207610            0.558176   \n",
      "std                    6.221285         5.362427            0.198067   \n",
      "min                   60.070000        62.986781            0.000000   \n",
      "25%                   65.599998        81.927500            0.410000   \n",
      "50%                   70.199997        85.376000            0.490000   \n",
      "75%                   77.634998        88.598001            0.680000   \n",
      "max                   85.000000       110.235782            1.070000   \n",
      "\n",
      "        Height(cm)  Shoulder Circumference(cm)  Weight(lbs)       Gender  \\\n",
      "count  1508.000000                 1508.000000  1508.000000  1508.000000   \n",
      "mean    169.909218                  109.055637   152.835411     0.443634   \n",
      "std       9.215815                   10.985466    30.818397     0.496978   \n",
      "min     151.000000                   89.500000    90.000000     0.000000   \n",
      "25%     163.300000                  101.600000   126.000000     0.000000   \n",
      "50%     170.000000                  106.900000   146.000000     0.000000   \n",
      "75%     176.700000                  117.000000   173.000000     1.000000   \n",
      "max     189.000000                  132.000000   236.600000     1.000000   \n",
      "\n",
      "       Temperature_outside  Humidity_outside  Discrete Thermal Comfort_TA  \n",
      "count          1508.000000       1508.000000                  1508.000000  \n",
      "mean             49.839702         70.359284                    -0.172414  \n",
      "std              20.873157         13.296121                     0.654307  \n",
      "min              10.510000         33.500000                    -1.000000  \n",
      "25%              35.540001         62.000000                    -1.000000  \n",
      "50%              47.240002         69.199997                     0.000000  \n",
      "75%              69.260002         79.400002                     0.000000  \n",
      "max              91.400002        100.000000                     1.000000  \n"
     ]
    }
   ],
   "source": [
    "df_tcs_train = pd.read_pickle(\"data/occutherm/df_feature1_train_reduced.pkl\") \n",
    "df_tcs_test = pd.read_pickle(\"data/occutherm/df_feature1_test_reduced.pkl\")\n",
    "\n",
    "dataset_string = \"occutherm-reduced\"\n",
    "\n",
    "# total count for instances per class: 818\n",
    "print(df_tcs_train.describe())\n"
   ]
  },
  {
   "cell_type": "markdown",
   "metadata": {},
   "source": [
    "# Classification models on train data (imbalanced)"
   ]
  },
  {
   "cell_type": "code",
   "execution_count": 4,
   "metadata": {},
   "outputs": [],
   "source": [
    "acc_rdf, rdf_real_model = train_rdf(df_tcs_train, rdf_depth=fixed_depth, test_size_percentage=test_size_percentage)\n"
   ]
  },
  {
   "cell_type": "code",
   "execution_count": 5,
   "metadata": {},
   "outputs": [
    {
     "name": "stdout",
     "output_type": "stream",
     "text": [
      "nb acc CV: (0.6423841059602649, {'-1': {'precision': 0.6271186440677966, 'recall': 0.7789473684210526, 'f1-score': 0.6948356807511737, 'support': 95}, '0': {'precision': 0.7322834645669292, 'recall': 0.5670731707317073, 'f1-score': 0.6391752577319588, 'support': 164}, '1': {'precision': 0.47368421052631576, 'recall': 0.627906976744186, 'f1-score': 0.5399999999999999, 'support': 43}, 'accuracy': 0.6423841059602649, 'macro avg': {'precision': 0.6110287730536805, 'recall': 0.6579758386323153, 'f1-score': 0.6246703128277109, 'support': 302}, 'weighted avg': {'precision': 0.6623813921458565, 'recall': 0.6423841059602649, 'f1-score': 0.6425633507927244, 'support': 302}})\n",
      "knn acc CV: (0.7715231788079471, {'-1': {'precision': 0.7551020408163265, 'recall': 0.7789473684210526, 'f1-score': 0.7668393782383419, 'support': 95}, '0': {'precision': 0.7951807228915663, 'recall': 0.8048780487804879, 'f1-score': 0.8, 'support': 164}, '1': {'precision': 0.7105263157894737, 'recall': 0.627906976744186, 'f1-score': 0.6666666666666666, 'support': 43}, 'accuracy': 0.7715231788079471, 'macro avg': {'precision': 0.753603026499122, 'recall': 0.7372441313152421, 'f1-score': 0.7445020149683361, 'support': 302}, 'weighted avg': {'precision': 0.7705197483798517, 'recall': 0.7715231788079471, 'f1-score': 0.7705841311235402, 'support': 302}})\n",
      "svm acc CV: (0.6920529801324503, {'-1': {'precision': 0.6324786324786325, 'recall': 0.7789473684210526, 'f1-score': 0.6981132075471698, 'support': 95}, '0': {'precision': 0.7142857142857143, 'recall': 0.7317073170731707, 'f1-score': 0.7228915662650603, 'support': 164}, '1': {'precision': 0.8823529411764706, 'recall': 0.3488372093023256, 'f1-score': 0.5, 'support': 43}, 'accuracy': 0.6920529801324503, 'macro avg': {'precision': 0.7430390959802725, 'recall': 0.6198306315988497, 'f1-score': 0.6403349246040767, 'support': 302}, 'weighted avg': {'precision': 0.7124818003275346, 'recall': 0.6920529801324503, 'f1-score': 0.6833608330610962, 'support': 302}})\n",
      "rdf acc CV: 0.8013245033112583\n"
     ]
    }
   ],
   "source": [
    "print(\"rdf acc CV: {}\".format(acc_rdf))\n"
   ]
  },
  {
   "cell_type": "code",
   "execution_count": 6,
   "metadata": {},
   "outputs": [],
   "source": [
    "save_pickle(rdf_real_model, \"models/\" + dataset_string + \"_rdf_reall_full.pkl\")\n",
    "save_pickle(acc_rdf, \"metrics/\" + dataset_string + \"_rdf_reall_full_acc.pkl\")\n"
   ]
  },
  {
   "cell_type": "markdown",
   "metadata": {},
   "source": [
    "# Variability baseline"
   ]
  },
  {
   "cell_type": "code",
   "execution_count": 7,
   "metadata": {},
   "outputs": [
    {
     "name": "stdout",
     "output_type": "stream",
     "text": [
      "53.732345146094445\n"
     ]
    }
   ],
   "source": [
    "variability_baseline_list = []\n",
    "\n",
    "for _ in range(0, num_trials):    \n",
    "    variability_baseline = evaluation_variability(df_tcs_train)\n",
    "    variability_baseline_list.append(variability_baseline)\n",
    "\n",
    "mean_var_baseline = mean(variability_baseline_list)\n",
    "print(mean_var_baseline)\n",
    "save_pickle(mean_var_baseline, \"metrics/\" + dataset_string + \"_variability_baseline.pkl\")\n"
   ]
  },
  {
   "cell_type": "markdown",
   "metadata": {
    "toc-hr-collapsed": false
   },
   "source": [
    "# Diversity baseline"
   ]
  },
  {
   "cell_type": "code",
   "execution_count": 8,
   "metadata": {},
   "outputs": [
    {
     "name": "stdout",
     "output_type": "stream",
     "text": [
      "1.6886419994986452\n"
     ]
    }
   ],
   "source": [
    "diversity_baseline_list = []\n",
    "\n",
    "for _ in range(0, num_trials):\n",
    "    diversity_baseline = evaluation_diversity(df_tcs_train, df_tcs_train, baseline=True)\n",
    "    diversity_baseline_list.append(diversity_baseline)\n",
    "\n",
    "mean_diversity_baseline = mean(diversity_baseline_list)\n",
    "print(mean_diversity_baseline)\n",
    "save_pickle(mean_diversity_baseline, \"metrics/\" + dataset_string + \"_diversity_baseline.pkl\")\n"
   ]
  },
  {
   "cell_type": "markdown",
   "metadata": {},
   "source": [
    "# Quality of the final classification"
   ]
  },
  {
   "cell_type": "code",
   "execution_count": 9,
   "metadata": {},
   "outputs": [],
   "source": [
    "class_acc_test, class_acc_train, class_models, class_report_rdf = evaluation_classification(df_tcs_train, \n",
    "                                                                                                df_tcs_test, \n",
    "                                                                                                rdf_depth=fixed_depth, \n",
    "                                                                                                depth_file_name='default', \n",
    "                                                                                                test_size_percentage=test_size_percentage)\n"
   ]
  },
  {
   "cell_type": "code",
   "execution_count": 10,
   "metadata": {},
   "outputs": [
    {
     "name": "stdout",
     "output_type": "stream",
     "text": [
      "[0.5974955277280859, 0.5885509838998211, 0.055456171735241505, 0.6565295169946332]\n"
     ]
    }
   ],
   "source": [
    "print(class_acc_test)\n"
   ]
  },
  {
   "cell_type": "code",
   "execution_count": 7,
   "metadata": {},
   "outputs": [],
   "source": [
    "final_classification_rdf = class_acc_test[3]\n",
    "\n",
    "save_pickle(final_classification_nb, \"metrics/\" + dataset_string + \"_nb_classification_baseline.pkl\")\n",
    "save_pickle(final_classification_knn, \"metrics/\" + dataset_string + \"_knn_classification_baseline.pkl\")\n",
    "save_pickle(final_classification_svm, \"metrics/\" + dataset_string + \"_svm_classification_baseline.pkl\")\n",
    "save_pickle(final_classification_rdf, \"metrics/\" + dataset_string + \"_rdf_classification_baseline.pkl\")\n",
    "\n",
    "save_pickle(class_report_rdf, \"label-metrics/\" + dataset_string + \"_class_report_baseline_trials.pkl\")\n"
   ]
  },
  {
   "cell_type": "code",
   "execution_count": null,
   "metadata": {},
   "outputs": [],
   "source": []
  }
 ],
 "metadata": {
  "kernelspec": {
   "display_name": "gen-methods",
   "language": "python",
   "name": "gen-methods"
  },
  "language_info": {
   "codemirror_mode": {
    "name": "ipython",
    "version": 3
   },
   "file_extension": ".py",
   "mimetype": "text/x-python",
   "name": "python",
   "nbconvert_exporter": "python",
   "pygments_lexer": "ipython3",
   "version": "3.7.4"
  }
 },
 "nbformat": 4,
 "nbformat_minor": 4
}
