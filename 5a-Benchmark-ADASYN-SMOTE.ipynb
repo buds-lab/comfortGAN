{
 "cells": [
  {
   "cell_type": "code",
   "execution_count": 1,
   "metadata": {},
   "outputs": [],
   "source": [
    "# Notebooks\n",
    "import nbimporter\n",
    "import os\n",
    "import sys\n",
    "\n",
    "# Functions from src\n",
    "module_path = os.path.abspath(os.path.join('..'))\n",
    "if module_path not in sys.path:\n",
    "    sys.path.append(module_path)\n",
    "    \n",
    "# Defined Functions\n",
    "from utils import *\n",
    "\n",
    "# Pandas, matplotlib, pickle, seaborn\n",
    "import pickle\n",
    "import numpy as np\n",
    "import pandas as pd\n",
    "import seaborn as sns\n",
    "import matplotlib.pyplot as plt\n",
    "\n",
    "from statistics import mean\n",
    "from collections import Counter\n",
    "from imblearn.over_sampling import SMOTE, SMOTENC, ADASYN\n",
    "\n",
    "random_state = 13 # if there is a need to fix it\n"
   ]
  },
  {
   "cell_type": "code",
   "execution_count": 2,
   "metadata": {},
   "outputs": [],
   "source": [
    "# global variables/constants\n",
    "num_trials = 30\n",
    "test_size_percentage = 0.2 # for CV within train split\n",
    "fixed_depth = 10\n"
   ]
  },
  {
   "cell_type": "markdown",
   "metadata": {},
   "source": [
    "\n",
    "# Load Datasets"
   ]
  },
  {
   "cell_type": "markdown",
   "metadata": {},
   "source": [
    "## Occutherm"
   ]
  },
  {
   "cell_type": "code",
   "execution_count": 3,
   "metadata": {},
   "outputs": [
    {
     "name": "stdout",
     "output_type": "stream",
     "text": [
      "<class 'pandas.core.frame.DataFrame'>\n",
      "RangeIndex: 1508 entries, 0 to 1507\n",
      "Data columns (total 10 columns):\n",
      "Temperature (Fahrenheit)       1508 non-null float64\n",
      "SkinTemperature                1508 non-null float64\n",
      "ClothingInsulation             1508 non-null float64\n",
      "Height(cm)                     1508 non-null float64\n",
      "Shoulder Circumference(cm)     1508 non-null float64\n",
      "Weight(lbs)                    1508 non-null float64\n",
      "Gender                         1508 non-null int64\n",
      "Temperature_outside            1508 non-null float64\n",
      "Humidity_outside               1508 non-null float64\n",
      "Discrete Thermal Comfort_TA    1508 non-null int64\n",
      "dtypes: float64(8), int64(2)\n",
      "memory usage: 117.9 KB\n",
      "None\n"
     ]
    }
   ],
   "source": [
    "# load TCS dataset\n",
    "df_tcs = pd.read_pickle(\"data/occutherm/df_feature1.pkl\") \n",
    "del df_tcs['Participant_No'] # original dataset contains participant number\n",
    "\n",
    "df_tcs_train = pd.read_pickle(\"data/occutherm/df_feature1_train.pkl\") \n",
    "df_tcs_test = pd.read_pickle(\"data/occutherm/df_feature1_test.pkl\")\n",
    "\n",
    "# total count for instances per class: 818\n",
    "print(df_tcs_train.info())\n"
   ]
  },
  {
   "cell_type": "markdown",
   "metadata": {},
   "source": [
    "## Cresh"
   ]
  },
  {
   "cell_type": "code",
   "execution_count": 4,
   "metadata": {},
   "outputs": [
    {
     "name": "stdout",
     "output_type": "stream",
     "text": [
      "<class 'pandas.core.frame.DataFrame'>\n",
      "RangeIndex: 1159 entries, 0 to 1158\n",
      "Data columns (total 11 columns):\n",
      "heartRate_cozie        1159 non-null float64\n",
      "humidity_sensing       1159 non-null float64\n",
      "light_sensing          1159 non-null float64\n",
      "noise_sensing          1159 non-null float64\n",
      "temperature_sensing    1159 non-null float64\n",
      "temperature_mbient     1159 non-null float64\n",
      "hour_sin               1159 non-null float64\n",
      "hour_cos               1159 non-null float64\n",
      "day_of_week_sin        1159 non-null float64\n",
      "day_of_week_cos        1159 non-null float64\n",
      "thermal_cozie          1159 non-null int64\n",
      "dtypes: float64(10), int64(1)\n",
      "memory usage: 99.7 KB\n",
      "None\n"
     ]
    }
   ],
   "source": [
    "df_cresh_train = pd.read_pickle(\"data/cresh/cresh_train.pkl\")\n",
    "df_cresh_test = pd.read_pickle(\"data/cresh/cresh_test.pkl\")\n",
    "\n",
    "# total count for instances per class: 713\n",
    "print(df_cresh_train.info())\n"
   ]
  },
  {
   "cell_type": "markdown",
   "metadata": {},
   "source": [
    "## ASHRAE"
   ]
  },
  {
   "cell_type": "code",
   "execution_count": 3,
   "metadata": {},
   "outputs": [
    {
     "name": "stdout",
     "output_type": "stream",
     "text": [
      "<class 'pandas.core.frame.DataFrame'>\n",
      "RangeIndex: 46477 entries, 0 to 46476\n",
      "Data columns (total 7 columns):\n",
      "SET                          46477 non-null float64\n",
      "Clo                          46477 non-null float64\n",
      "Met                          46477 non-null float64\n",
      "Air temperature (¡C)         46477 non-null float64\n",
      "Relative humidity (%)        46477 non-null float64\n",
      "Air velocity (m/s)           46477 non-null float64\n",
      "Thermal sensation rounded    46477 non-null float64\n",
      "dtypes: float64(7)\n",
      "memory usage: 2.5 MB\n",
      "None\n"
     ]
    }
   ],
   "source": [
    "df_ashrae_train = pd.read_pickle(\"data/ashrae/ashrae_train.pkl\")\n",
    "df_ashrae_test = pd.read_pickle(\"data/ashrae/ashrae_test.pkl\")\n",
    "\n",
    "print(df_ashrae_train.info())\n",
    "# Number of training instances: 46477\n",
    "# Number of testing instances: 19920\n"
   ]
  },
  {
   "cell_type": "markdown",
   "metadata": {},
   "source": [
    "# SMOTE - ADASYN"
   ]
  },
  {
   "cell_type": "markdown",
   "metadata": {},
   "source": [
    "https://imbalanced-learn.readthedocs.io/en/stable/generated/imblearn.over_sampling.SMOTE.html"
   ]
  },
  {
   "cell_type": "code",
   "execution_count": 4,
   "metadata": {},
   "outputs": [],
   "source": [
    "def sample_smote_adasyn(df, dataset='occutherm', logs=True, random_state=None):\n",
    "    columns = df.columns.values\n",
    "    \n",
    "    X = np.array(df.iloc[:, 0:df.shape[1] - 1]) # minus 1 for the comfort label\n",
    "    y = np.array(df.iloc[:, -1])\n",
    "    \n",
    "    ########\n",
    "    # SMOTE \n",
    "    ########\n",
    "    if dataset == 'occutherm':\n",
    "        X_res, y_res = SMOTENC(categorical_features=[6], random_state=random_state).fit_resample(X, y)\n",
    "    elif dataset == 'cresh': # cresh and ashrae datasets don't have categorical features\n",
    "        X_res, y_res = SMOTE(random_state=random_state).fit_resample(X, y)\n",
    "    elif dataset == 'ashrae':\n",
    "        X_res, y_res = SMOTE(random_state=random_state, sampling_strategy='all').fit_resample(X, y)\n",
    "\n",
    "    # the output of .fit_resample is the real dataset with the synthetic samples\n",
    "    df_x = pd.DataFrame(X_res)\n",
    "    df_y = pd.DataFrame(y_res)\n",
    "    df_real_synth_smote = pd.concat([df_x, df_y], axis=1)\n",
    "    df_real_synth_smote.columns = columns\n",
    "    df_real_synth_smote = df_real_synth_smote.sample(frac=1).reset_index(drop=True)\n",
    "    # concatenate original real data to the real+synth and drop duplicates, the result will be only synth data\n",
    "    df_synth_smote = pd.concat([df_real_synth_smote, df]).drop_duplicates(keep=False)   \n",
    "\n",
    "    #########\n",
    "    # ADASYN\n",
    "    #########\n",
    "    X_res, y_res = ADASYN(random_state=random_state).fit_resample(X, y)\n",
    "    \n",
    "    # the output of .fit_resample is the real dataset with the synthetic samples\n",
    "    df_x = pd.DataFrame(X_res)\n",
    "    df_y = pd.DataFrame(y_res)\n",
    "    df_real_synth_adasyn = pd.concat([df_x, df_y], axis=1)\n",
    "    df_real_synth_adasyn.columns = columns\n",
    "    df_real_synth_adasyn = df_real_synth_adasyn.sample(frac=1).reset_index(drop=True) # shuffling\n",
    "    # concatenate original real data to the real+synth and drop duplicates, the result will be only synth data\n",
    "    df_synth_adasyn = pd.concat([df_real_synth_adasyn, df]).drop_duplicates(keep=False)\n",
    "    \n",
    "    if logs:\n",
    "        print('Original {} train dataset shape {}'.format(dataset, Counter(y)))\n",
    "\n",
    "        print('Resampled (SMOTE) real + synth dataset shape %s' % Counter(np.array(df_real_synth_smote.iloc[:, -1])))\n",
    "        print('Resampled (SMOTE) synth dataset shape %s' % Counter(np.array(df_synth_smote.iloc[:, -1])))\n",
    "        \n",
    "        print('Resampled (ADASYN) train (real + synth) dataset shape %s' % Counter(np.array(df_real_synth_adasyn.iloc[:, -1])))\n",
    "        print('Resampled (ADASYN) synth dataset shape %s' % Counter(np.array(df_synth_adasyn.iloc[:, -1])))\n",
    "    \n",
    "    return df_real_synth_smote, df_synth_smote, df_real_synth_adasyn, df_synth_adasyn\n"
   ]
  },
  {
   "cell_type": "code",
   "execution_count": 5,
   "metadata": {},
   "outputs": [],
   "source": [
    "def evaluate_on_dataset(df_train, df_test, model='adasyn', dataset='occutherm'):\n",
    "    # empty list to hold values during trials\n",
    "    accgen_acc_test_list_0 = []\n",
    "    accgen_acc_test_list_1 = []\n",
    "    accgen_acc_test_list_2 = []\n",
    "    accgen_acc_test_list_3 = []\n",
    "    \n",
    "    variability_list = []\n",
    "    diversity_list = []\n",
    "\n",
    "    class_acc_test_list_0 = []\n",
    "    class_acc_test_list_1 = []\n",
    "    class_acc_test_list_2 = []\n",
    "    class_acc_test_list_3 = []\n",
    "    \n",
    "    class_report_rdf_list = []\n",
    "    \n",
    "    for i in range(0, num_trials):\n",
    "        ###################################\n",
    "        # Sample synthethic dataset for 'df'\n",
    "        if model == 'adasyn':\n",
    "            _ , _ , df_real_synth, df_synth = sample_smote_adasyn(df_train, dataset)\n",
    "        elif model == 'smote':\n",
    "            df_real_synth, df_synth, _ , _ = sample_smote_adasyn(df_train, dataset)\n",
    "                \n",
    "        ###################################\n",
    "        # Variability of generated samples\n",
    "        variability = evaluation_variability(df_synth)\n",
    "        variability_list.append(variability)\n",
    "    \n",
    "        #################################################\n",
    "        # Class diversity with respect to the training set\n",
    "        diversity = evaluation_diversity(df_synth, df_train, baseline=False)\n",
    "        diversity_list.append(diversity)\n",
    "\n",
    "        #####################################\n",
    "        # Quality on the final classification\n",
    "        # use best models NB, KNN, SVM, RDF\n",
    "        class_acc_test, class_acc_train, class_models, class_report_rdf = evaluation_classification(df_real_synth, df_test, rdf_depth=fixed_depth, depth_file_name='default', test_size_percentage=test_size_percentage)\n",
    "        class_acc_test_list_0.append(class_acc_test[0])\n",
    "        class_acc_test_list_1.append(class_acc_test[1])\n",
    "        class_acc_test_list_2.append(class_acc_test[2])\n",
    "        class_acc_test_list_3.append(class_acc_test[3])\n",
    "        class_report_rdf_list.append(class_report_rdf)\n",
    "        \n",
    "        ########################\n",
    "        # end of for loop trials\n",
    "        print(\"End of {} trial\".format(i + 1))\n",
    "        \n",
    "    # get average of trials\n",
    "    accgen_acc_test = [] # no need anymore\n",
    "    variability = mean(variability_list)\n",
    "    diversity = mean(diversity_list)\n",
    "    class_acc_test = [mean(class_acc_test_list_0), mean(class_acc_test_list_1), mean(class_acc_test_list_2), mean(class_acc_test_list_3)]\n",
    "    \n",
    "    #####################################\n",
    "    # Saving results\n",
    "    # Format is folder/<dataset_string>-<experiment_name>_<metric or model>_<test or train>_<model>.pkl\n",
    "    save_pickle(accgen_acc_test, \"metrics/\" + dataset + \"_accgen_test_\" + model + \"_trials.pkl\")\n",
    "    save_pickle(variability, \"metrics/\" + dataset + \"_variability_\" + model + \"_trials.pkl\")\n",
    "    save_pickle(diversity, \"metrics/\" + dataset + \"_diversity_\" + model + \"_trials.pkl\")\n",
    "    save_pickle(class_acc_test, \"metrics/\" + dataset + \"_classification_\" + model + \"_trials.pkl\")\n",
    "    save_pickle(class_report_rdf_list, \"label-metrics/\" + dataset + \"_class_report_\" + model + \"_trials.pkl\")\n",
    "    \n",
    "    print(\"################################################################################\")\n",
    "    print(\"# Metrics and models for dataset {} saved!\".format(dataset))\n",
    "    print(\"################################################################################\")\n"
   ]
  },
  {
   "cell_type": "markdown",
   "metadata": {},
   "source": [
    "## Occutherm"
   ]
  },
  {
   "cell_type": "code",
   "execution_count": 8,
   "metadata": {
    "collapsed": true,
    "jupyter": {
     "outputs_hidden": true
    }
   },
   "outputs": [
    {
     "name": "stdout",
     "output_type": "stream",
     "text": [
      "Original occutherm train dataset shape Counter({0: 818, -1: 303, -2: 172, 1: 171, 2: 44})\n",
      "Resampled (SMOTE) real + synth dataset shape Counter({2: 818, 1: 818, -1: 818, -2: 818, 0: 818})\n",
      "Resampled (SMOTE) synth dataset shape Counter({2: 774, 1: 647, -2: 646, -1: 512})\n",
      "Resampled (ADASYN) train (real + synth) dataset shape Counter({1: 851, -2: 823, -1: 823, 0: 818, 2: 814})\n",
      "Resampled (ADASYN) synth dataset shape Counter({2: 770, 1: 680, -2: 651, -1: 518})\n"
     ]
    },
    {
     "name": "stderr",
     "output_type": "stream",
     "text": [
      "/Users/matias/miniconda3/envs/gen-methods/lib/python3.7/site-packages/sklearn/metrics/_classification.py:1272: UndefinedMetricWarning: Precision and F-score are ill-defined and being set to 0.0 in labels with no predicted samples. Use `zero_division` parameter to control this behavior.\n",
      "  _warn_prf(average, modifier, msg_start, len(result))\n",
      "/Users/matias/miniconda3/envs/gen-methods/lib/python3.7/site-packages/sklearn/metrics/_classification.py:1272: UndefinedMetricWarning: Recall and F-score are ill-defined and being set to 0.0 in labels with no true samples. Use `zero_division` parameter to control this behavior.\n",
      "  _warn_prf(average, modifier, msg_start, len(result))\n",
      "/Users/matias/miniconda3/envs/gen-methods/lib/python3.7/site-packages/sklearn/metrics/_classification.py:1272: UndefinedMetricWarning: Recall and F-score are ill-defined and being set to 0.0 in labels with no true samples. Use `zero_division` parameter to control this behavior.\n",
      "  _warn_prf(average, modifier, msg_start, len(result))\n",
      "/Users/matias/miniconda3/envs/gen-methods/lib/python3.7/site-packages/sklearn/metrics/_classification.py:1272: UndefinedMetricWarning: Precision and F-score are ill-defined and being set to 0.0 in labels with no predicted samples. Use `zero_division` parameter to control this behavior.\n",
      "  _warn_prf(average, modifier, msg_start, len(result))\n",
      "/Users/matias/miniconda3/envs/gen-methods/lib/python3.7/site-packages/sklearn/metrics/_classification.py:1272: UndefinedMetricWarning: Recall and F-score are ill-defined and being set to 0.0 in labels with no true samples. Use `zero_division` parameter to control this behavior.\n",
      "  _warn_prf(average, modifier, msg_start, len(result))\n",
      "/Users/matias/miniconda3/envs/gen-methods/lib/python3.7/site-packages/sklearn/metrics/_classification.py:1272: UndefinedMetricWarning: Recall and F-score are ill-defined and being set to 0.0 in labels with no true samples. Use `zero_division` parameter to control this behavior.\n",
      "  _warn_prf(average, modifier, msg_start, len(result))\n",
      "/Users/matias/miniconda3/envs/gen-methods/lib/python3.7/site-packages/sklearn/metrics/_classification.py:1272: UndefinedMetricWarning: Precision and F-score are ill-defined and being set to 0.0 in labels with no predicted samples. Use `zero_division` parameter to control this behavior.\n",
      "  _warn_prf(average, modifier, msg_start, len(result))\n",
      "/Users/matias/miniconda3/envs/gen-methods/lib/python3.7/site-packages/sklearn/metrics/_classification.py:1272: UndefinedMetricWarning: Precision and F-score are ill-defined and being set to 0.0 in labels with no predicted samples. Use `zero_division` parameter to control this behavior.\n",
      "  _warn_prf(average, modifier, msg_start, len(result))\n"
     ]
    },
    {
     "name": "stdout",
     "output_type": "stream",
     "text": [
      "End of 1 trial\n",
      "Original occutherm train dataset shape Counter({0: 818, -1: 303, -2: 172, 1: 171, 2: 44})\n",
      "Resampled (SMOTE) real + synth dataset shape Counter({1: 818, -1: 818, 2: 818, -2: 818, 0: 818})\n",
      "Resampled (SMOTE) synth dataset shape Counter({2: 774, 1: 647, -2: 646, -1: 515})\n",
      "Resampled (ADASYN) train (real + synth) dataset shape Counter({1: 851, -2: 823, -1: 823, 0: 818, 2: 814})\n",
      "Resampled (ADASYN) synth dataset shape Counter({2: 770, 1: 680, -2: 651, -1: 519})\n"
     ]
    },
    {
     "name": "stderr",
     "output_type": "stream",
     "text": [
      "/Users/matias/miniconda3/envs/gen-methods/lib/python3.7/site-packages/sklearn/metrics/_classification.py:1272: UndefinedMetricWarning: Precision and F-score are ill-defined and being set to 0.0 in labels with no predicted samples. Use `zero_division` parameter to control this behavior.\n",
      "  _warn_prf(average, modifier, msg_start, len(result))\n",
      "/Users/matias/miniconda3/envs/gen-methods/lib/python3.7/site-packages/sklearn/metrics/_classification.py:1272: UndefinedMetricWarning: Recall and F-score are ill-defined and being set to 0.0 in labels with no true samples. Use `zero_division` parameter to control this behavior.\n",
      "  _warn_prf(average, modifier, msg_start, len(result))\n",
      "/Users/matias/miniconda3/envs/gen-methods/lib/python3.7/site-packages/sklearn/metrics/_classification.py:1272: UndefinedMetricWarning: Recall and F-score are ill-defined and being set to 0.0 in labels with no true samples. Use `zero_division` parameter to control this behavior.\n",
      "  _warn_prf(average, modifier, msg_start, len(result))\n",
      "/Users/matias/miniconda3/envs/gen-methods/lib/python3.7/site-packages/sklearn/metrics/_classification.py:1272: UndefinedMetricWarning: Precision and F-score are ill-defined and being set to 0.0 in labels with no predicted samples. Use `zero_division` parameter to control this behavior.\n",
      "  _warn_prf(average, modifier, msg_start, len(result))\n",
      "/Users/matias/miniconda3/envs/gen-methods/lib/python3.7/site-packages/sklearn/metrics/_classification.py:1272: UndefinedMetricWarning: Recall and F-score are ill-defined and being set to 0.0 in labels with no true samples. Use `zero_division` parameter to control this behavior.\n",
      "  _warn_prf(average, modifier, msg_start, len(result))\n",
      "/Users/matias/miniconda3/envs/gen-methods/lib/python3.7/site-packages/sklearn/metrics/_classification.py:1272: UndefinedMetricWarning: Recall and F-score are ill-defined and being set to 0.0 in labels with no true samples. Use `zero_division` parameter to control this behavior.\n",
      "  _warn_prf(average, modifier, msg_start, len(result))\n",
      "/Users/matias/miniconda3/envs/gen-methods/lib/python3.7/site-packages/sklearn/metrics/_classification.py:1272: UndefinedMetricWarning: Precision and F-score are ill-defined and being set to 0.0 in labels with no predicted samples. Use `zero_division` parameter to control this behavior.\n",
      "  _warn_prf(average, modifier, msg_start, len(result))\n",
      "/Users/matias/miniconda3/envs/gen-methods/lib/python3.7/site-packages/sklearn/metrics/_classification.py:1272: UndefinedMetricWarning: Precision and F-score are ill-defined and being set to 0.0 in labels with no predicted samples. Use `zero_division` parameter to control this behavior.\n",
      "  _warn_prf(average, modifier, msg_start, len(result))\n"
     ]
    },
    {
     "name": "stdout",
     "output_type": "stream",
     "text": [
      "End of 2 trial\n",
      "Original occutherm train dataset shape Counter({0: 818, -1: 303, -2: 172, 1: 171, 2: 44})\n",
      "Resampled (SMOTE) real + synth dataset shape Counter({-1: 818, -2: 818, 0: 818, 1: 818, 2: 818})\n",
      "Resampled (SMOTE) synth dataset shape Counter({2: 774, 1: 647, -2: 646, -1: 512})\n",
      "Resampled (ADASYN) train (real + synth) dataset shape Counter({1: 851, -1: 823, -2: 823, 0: 818, 2: 814})\n",
      "Resampled (ADASYN) synth dataset shape Counter({2: 770, 1: 680, -2: 651, -1: 520})\n"
     ]
    },
    {
     "name": "stderr",
     "output_type": "stream",
     "text": [
      "/Users/matias/miniconda3/envs/gen-methods/lib/python3.7/site-packages/sklearn/metrics/_classification.py:1272: UndefinedMetricWarning: Precision and F-score are ill-defined and being set to 0.0 in labels with no predicted samples. Use `zero_division` parameter to control this behavior.\n",
      "  _warn_prf(average, modifier, msg_start, len(result))\n",
      "/Users/matias/miniconda3/envs/gen-methods/lib/python3.7/site-packages/sklearn/metrics/_classification.py:1272: UndefinedMetricWarning: Recall and F-score are ill-defined and being set to 0.0 in labels with no true samples. Use `zero_division` parameter to control this behavior.\n",
      "  _warn_prf(average, modifier, msg_start, len(result))\n",
      "/Users/matias/miniconda3/envs/gen-methods/lib/python3.7/site-packages/sklearn/metrics/_classification.py:1272: UndefinedMetricWarning: Recall and F-score are ill-defined and being set to 0.0 in labels with no true samples. Use `zero_division` parameter to control this behavior.\n",
      "  _warn_prf(average, modifier, msg_start, len(result))\n",
      "/Users/matias/miniconda3/envs/gen-methods/lib/python3.7/site-packages/sklearn/metrics/_classification.py:1272: UndefinedMetricWarning: Precision and F-score are ill-defined and being set to 0.0 in labels with no predicted samples. Use `zero_division` parameter to control this behavior.\n",
      "  _warn_prf(average, modifier, msg_start, len(result))\n",
      "/Users/matias/miniconda3/envs/gen-methods/lib/python3.7/site-packages/sklearn/metrics/_classification.py:1272: UndefinedMetricWarning: Recall and F-score are ill-defined and being set to 0.0 in labels with no true samples. Use `zero_division` parameter to control this behavior.\n",
      "  _warn_prf(average, modifier, msg_start, len(result))\n",
      "/Users/matias/miniconda3/envs/gen-methods/lib/python3.7/site-packages/sklearn/metrics/_classification.py:1272: UndefinedMetricWarning: Recall and F-score are ill-defined and being set to 0.0 in labels with no true samples. Use `zero_division` parameter to control this behavior.\n",
      "  _warn_prf(average, modifier, msg_start, len(result))\n",
      "/Users/matias/miniconda3/envs/gen-methods/lib/python3.7/site-packages/sklearn/metrics/_classification.py:1272: UndefinedMetricWarning: Precision and F-score are ill-defined and being set to 0.0 in labels with no predicted samples. Use `zero_division` parameter to control this behavior.\n",
      "  _warn_prf(average, modifier, msg_start, len(result))\n",
      "/Users/matias/miniconda3/envs/gen-methods/lib/python3.7/site-packages/sklearn/metrics/_classification.py:1272: UndefinedMetricWarning: Precision and F-score are ill-defined and being set to 0.0 in labels with no predicted samples. Use `zero_division` parameter to control this behavior.\n",
      "  _warn_prf(average, modifier, msg_start, len(result))\n"
     ]
    },
    {
     "name": "stdout",
     "output_type": "stream",
     "text": [
      "End of 3 trial\n",
      "Original occutherm train dataset shape Counter({0: 818, -1: 303, -2: 172, 1: 171, 2: 44})\n",
      "Resampled (SMOTE) real + synth dataset shape Counter({-1: 818, 2: 818, 1: 818, 0: 818, -2: 818})\n",
      "Resampled (SMOTE) synth dataset shape Counter({2: 774, 1: 647, -2: 646, -1: 514})\n",
      "Resampled (ADASYN) train (real + synth) dataset shape Counter({1: 851, -1: 823, -2: 823, 0: 818, 2: 814})\n",
      "Resampled (ADASYN) synth dataset shape Counter({2: 770, 1: 680, -2: 651, -1: 520})\n"
     ]
    },
    {
     "name": "stderr",
     "output_type": "stream",
     "text": [
      "/Users/matias/miniconda3/envs/gen-methods/lib/python3.7/site-packages/sklearn/metrics/_classification.py:1272: UndefinedMetricWarning: Precision and F-score are ill-defined and being set to 0.0 in labels with no predicted samples. Use `zero_division` parameter to control this behavior.\n",
      "  _warn_prf(average, modifier, msg_start, len(result))\n",
      "/Users/matias/miniconda3/envs/gen-methods/lib/python3.7/site-packages/sklearn/metrics/_classification.py:1272: UndefinedMetricWarning: Recall and F-score are ill-defined and being set to 0.0 in labels with no true samples. Use `zero_division` parameter to control this behavior.\n",
      "  _warn_prf(average, modifier, msg_start, len(result))\n",
      "/Users/matias/miniconda3/envs/gen-methods/lib/python3.7/site-packages/sklearn/metrics/_classification.py:1272: UndefinedMetricWarning: Recall and F-score are ill-defined and being set to 0.0 in labels with no true samples. Use `zero_division` parameter to control this behavior.\n",
      "  _warn_prf(average, modifier, msg_start, len(result))\n",
      "/Users/matias/miniconda3/envs/gen-methods/lib/python3.7/site-packages/sklearn/metrics/_classification.py:1272: UndefinedMetricWarning: Precision and F-score are ill-defined and being set to 0.0 in labels with no predicted samples. Use `zero_division` parameter to control this behavior.\n",
      "  _warn_prf(average, modifier, msg_start, len(result))\n",
      "/Users/matias/miniconda3/envs/gen-methods/lib/python3.7/site-packages/sklearn/metrics/_classification.py:1272: UndefinedMetricWarning: Recall and F-score are ill-defined and being set to 0.0 in labels with no true samples. Use `zero_division` parameter to control this behavior.\n",
      "  _warn_prf(average, modifier, msg_start, len(result))\n",
      "/Users/matias/miniconda3/envs/gen-methods/lib/python3.7/site-packages/sklearn/metrics/_classification.py:1272: UndefinedMetricWarning: Recall and F-score are ill-defined and being set to 0.0 in labels with no true samples. Use `zero_division` parameter to control this behavior.\n",
      "  _warn_prf(average, modifier, msg_start, len(result))\n",
      "/Users/matias/miniconda3/envs/gen-methods/lib/python3.7/site-packages/sklearn/metrics/_classification.py:1272: UndefinedMetricWarning: Precision and F-score are ill-defined and being set to 0.0 in labels with no predicted samples. Use `zero_division` parameter to control this behavior.\n",
      "  _warn_prf(average, modifier, msg_start, len(result))\n",
      "/Users/matias/miniconda3/envs/gen-methods/lib/python3.7/site-packages/sklearn/metrics/_classification.py:1272: UndefinedMetricWarning: Precision and F-score are ill-defined and being set to 0.0 in labels with no predicted samples. Use `zero_division` parameter to control this behavior.\n",
      "  _warn_prf(average, modifier, msg_start, len(result))\n"
     ]
    },
    {
     "name": "stdout",
     "output_type": "stream",
     "text": [
      "End of 4 trial\n",
      "Original occutherm train dataset shape Counter({0: 818, -1: 303, -2: 172, 1: 171, 2: 44})\n",
      "Resampled (SMOTE) real + synth dataset shape Counter({-1: 818, 2: 818, 0: 818, -2: 818, 1: 818})\n",
      "Resampled (SMOTE) synth dataset shape Counter({2: 774, 1: 647, -2: 646, -1: 513})\n",
      "Resampled (ADASYN) train (real + synth) dataset shape Counter({1: 851, -1: 823, -2: 823, 0: 818, 2: 814})\n",
      "Resampled (ADASYN) synth dataset shape Counter({2: 770, 1: 680, -2: 651, -1: 519})\n"
     ]
    },
    {
     "name": "stderr",
     "output_type": "stream",
     "text": [
      "/Users/matias/miniconda3/envs/gen-methods/lib/python3.7/site-packages/sklearn/metrics/_classification.py:1272: UndefinedMetricWarning: Precision and F-score are ill-defined and being set to 0.0 in labels with no predicted samples. Use `zero_division` parameter to control this behavior.\n",
      "  _warn_prf(average, modifier, msg_start, len(result))\n",
      "/Users/matias/miniconda3/envs/gen-methods/lib/python3.7/site-packages/sklearn/metrics/_classification.py:1272: UndefinedMetricWarning: Recall and F-score are ill-defined and being set to 0.0 in labels with no true samples. Use `zero_division` parameter to control this behavior.\n",
      "  _warn_prf(average, modifier, msg_start, len(result))\n",
      "/Users/matias/miniconda3/envs/gen-methods/lib/python3.7/site-packages/sklearn/metrics/_classification.py:1272: UndefinedMetricWarning: Recall and F-score are ill-defined and being set to 0.0 in labels with no true samples. Use `zero_division` parameter to control this behavior.\n",
      "  _warn_prf(average, modifier, msg_start, len(result))\n",
      "/Users/matias/miniconda3/envs/gen-methods/lib/python3.7/site-packages/sklearn/metrics/_classification.py:1272: UndefinedMetricWarning: Precision and F-score are ill-defined and being set to 0.0 in labels with no predicted samples. Use `zero_division` parameter to control this behavior.\n",
      "  _warn_prf(average, modifier, msg_start, len(result))\n",
      "/Users/matias/miniconda3/envs/gen-methods/lib/python3.7/site-packages/sklearn/metrics/_classification.py:1272: UndefinedMetricWarning: Recall and F-score are ill-defined and being set to 0.0 in labels with no true samples. Use `zero_division` parameter to control this behavior.\n",
      "  _warn_prf(average, modifier, msg_start, len(result))\n",
      "/Users/matias/miniconda3/envs/gen-methods/lib/python3.7/site-packages/sklearn/metrics/_classification.py:1272: UndefinedMetricWarning: Recall and F-score are ill-defined and being set to 0.0 in labels with no true samples. Use `zero_division` parameter to control this behavior.\n",
      "  _warn_prf(average, modifier, msg_start, len(result))\n",
      "/Users/matias/miniconda3/envs/gen-methods/lib/python3.7/site-packages/sklearn/metrics/_classification.py:1272: UndefinedMetricWarning: Precision and F-score are ill-defined and being set to 0.0 in labels with no predicted samples. Use `zero_division` parameter to control this behavior.\n",
      "  _warn_prf(average, modifier, msg_start, len(result))\n",
      "/Users/matias/miniconda3/envs/gen-methods/lib/python3.7/site-packages/sklearn/metrics/_classification.py:1272: UndefinedMetricWarning: Precision and F-score are ill-defined and being set to 0.0 in labels with no predicted samples. Use `zero_division` parameter to control this behavior.\n",
      "  _warn_prf(average, modifier, msg_start, len(result))\n"
     ]
    },
    {
     "name": "stdout",
     "output_type": "stream",
     "text": [
      "End of 5 trial\n",
      "Original occutherm train dataset shape Counter({0: 818, -1: 303, -2: 172, 1: 171, 2: 44})\n",
      "Resampled (SMOTE) real + synth dataset shape Counter({-1: 818, 1: 818, -2: 818, 0: 818, 2: 818})\n",
      "Resampled (SMOTE) synth dataset shape Counter({2: 774, 1: 647, -2: 646, -1: 515})\n",
      "Resampled (ADASYN) train (real + synth) dataset shape Counter({1: 851, -1: 823, -2: 823, 0: 818, 2: 814})\n",
      "Resampled (ADASYN) synth dataset shape Counter({2: 770, 1: 680, -2: 651, -1: 519})\n"
     ]
    },
    {
     "name": "stderr",
     "output_type": "stream",
     "text": [
      "/Users/matias/miniconda3/envs/gen-methods/lib/python3.7/site-packages/sklearn/metrics/_classification.py:1272: UndefinedMetricWarning: Precision and F-score are ill-defined and being set to 0.0 in labels with no predicted samples. Use `zero_division` parameter to control this behavior.\n",
      "  _warn_prf(average, modifier, msg_start, len(result))\n",
      "/Users/matias/miniconda3/envs/gen-methods/lib/python3.7/site-packages/sklearn/metrics/_classification.py:1272: UndefinedMetricWarning: Recall and F-score are ill-defined and being set to 0.0 in labels with no true samples. Use `zero_division` parameter to control this behavior.\n",
      "  _warn_prf(average, modifier, msg_start, len(result))\n",
      "/Users/matias/miniconda3/envs/gen-methods/lib/python3.7/site-packages/sklearn/metrics/_classification.py:1272: UndefinedMetricWarning: Recall and F-score are ill-defined and being set to 0.0 in labels with no true samples. Use `zero_division` parameter to control this behavior.\n",
      "  _warn_prf(average, modifier, msg_start, len(result))\n",
      "/Users/matias/miniconda3/envs/gen-methods/lib/python3.7/site-packages/sklearn/metrics/_classification.py:1272: UndefinedMetricWarning: Precision and F-score are ill-defined and being set to 0.0 in labels with no predicted samples. Use `zero_division` parameter to control this behavior.\n",
      "  _warn_prf(average, modifier, msg_start, len(result))\n",
      "/Users/matias/miniconda3/envs/gen-methods/lib/python3.7/site-packages/sklearn/metrics/_classification.py:1272: UndefinedMetricWarning: Recall and F-score are ill-defined and being set to 0.0 in labels with no true samples. Use `zero_division` parameter to control this behavior.\n",
      "  _warn_prf(average, modifier, msg_start, len(result))\n",
      "/Users/matias/miniconda3/envs/gen-methods/lib/python3.7/site-packages/sklearn/metrics/_classification.py:1272: UndefinedMetricWarning: Recall and F-score are ill-defined and being set to 0.0 in labels with no true samples. Use `zero_division` parameter to control this behavior.\n",
      "  _warn_prf(average, modifier, msg_start, len(result))\n",
      "/Users/matias/miniconda3/envs/gen-methods/lib/python3.7/site-packages/sklearn/metrics/_classification.py:1272: UndefinedMetricWarning: Precision and F-score are ill-defined and being set to 0.0 in labels with no predicted samples. Use `zero_division` parameter to control this behavior.\n",
      "  _warn_prf(average, modifier, msg_start, len(result))\n",
      "/Users/matias/miniconda3/envs/gen-methods/lib/python3.7/site-packages/sklearn/metrics/_classification.py:1272: UndefinedMetricWarning: Precision and F-score are ill-defined and being set to 0.0 in labels with no predicted samples. Use `zero_division` parameter to control this behavior.\n",
      "  _warn_prf(average, modifier, msg_start, len(result))\n"
     ]
    },
    {
     "name": "stdout",
     "output_type": "stream",
     "text": [
      "End of 6 trial\n",
      "Original occutherm train dataset shape Counter({0: 818, -1: 303, -2: 172, 1: 171, 2: 44})\n",
      "Resampled (SMOTE) real + synth dataset shape Counter({-2: 818, -1: 818, 2: 818, 1: 818, 0: 818})\n",
      "Resampled (SMOTE) synth dataset shape Counter({2: 774, 1: 647, -2: 646, -1: 512})\n",
      "Resampled (ADASYN) train (real + synth) dataset shape Counter({1: 851, -1: 823, -2: 823, 0: 818, 2: 814})\n",
      "Resampled (ADASYN) synth dataset shape Counter({2: 770, 1: 680, -2: 651, -1: 518})\n"
     ]
    },
    {
     "name": "stderr",
     "output_type": "stream",
     "text": [
      "/Users/matias/miniconda3/envs/gen-methods/lib/python3.7/site-packages/sklearn/metrics/_classification.py:1272: UndefinedMetricWarning: Precision and F-score are ill-defined and being set to 0.0 in labels with no predicted samples. Use `zero_division` parameter to control this behavior.\n",
      "  _warn_prf(average, modifier, msg_start, len(result))\n",
      "/Users/matias/miniconda3/envs/gen-methods/lib/python3.7/site-packages/sklearn/metrics/_classification.py:1272: UndefinedMetricWarning: Recall and F-score are ill-defined and being set to 0.0 in labels with no true samples. Use `zero_division` parameter to control this behavior.\n",
      "  _warn_prf(average, modifier, msg_start, len(result))\n",
      "/Users/matias/miniconda3/envs/gen-methods/lib/python3.7/site-packages/sklearn/metrics/_classification.py:1272: UndefinedMetricWarning: Recall and F-score are ill-defined and being set to 0.0 in labels with no true samples. Use `zero_division` parameter to control this behavior.\n",
      "  _warn_prf(average, modifier, msg_start, len(result))\n",
      "/Users/matias/miniconda3/envs/gen-methods/lib/python3.7/site-packages/sklearn/metrics/_classification.py:1272: UndefinedMetricWarning: Precision and F-score are ill-defined and being set to 0.0 in labels with no predicted samples. Use `zero_division` parameter to control this behavior.\n",
      "  _warn_prf(average, modifier, msg_start, len(result))\n",
      "/Users/matias/miniconda3/envs/gen-methods/lib/python3.7/site-packages/sklearn/metrics/_classification.py:1272: UndefinedMetricWarning: Recall and F-score are ill-defined and being set to 0.0 in labels with no true samples. Use `zero_division` parameter to control this behavior.\n",
      "  _warn_prf(average, modifier, msg_start, len(result))\n",
      "/Users/matias/miniconda3/envs/gen-methods/lib/python3.7/site-packages/sklearn/metrics/_classification.py:1272: UndefinedMetricWarning: Recall and F-score are ill-defined and being set to 0.0 in labels with no true samples. Use `zero_division` parameter to control this behavior.\n",
      "  _warn_prf(average, modifier, msg_start, len(result))\n",
      "/Users/matias/miniconda3/envs/gen-methods/lib/python3.7/site-packages/sklearn/metrics/_classification.py:1272: UndefinedMetricWarning: Precision and F-score are ill-defined and being set to 0.0 in labels with no predicted samples. Use `zero_division` parameter to control this behavior.\n",
      "  _warn_prf(average, modifier, msg_start, len(result))\n",
      "/Users/matias/miniconda3/envs/gen-methods/lib/python3.7/site-packages/sklearn/metrics/_classification.py:1272: UndefinedMetricWarning: Precision and F-score are ill-defined and being set to 0.0 in labels with no predicted samples. Use `zero_division` parameter to control this behavior.\n",
      "  _warn_prf(average, modifier, msg_start, len(result))\n"
     ]
    },
    {
     "name": "stdout",
     "output_type": "stream",
     "text": [
      "End of 7 trial\n",
      "Original occutherm train dataset shape Counter({0: 818, -1: 303, -2: 172, 1: 171, 2: 44})\n",
      "Resampled (SMOTE) real + synth dataset shape Counter({2: 818, -1: 818, 1: 818, -2: 818, 0: 818})\n",
      "Resampled (SMOTE) synth dataset shape Counter({2: 774, 1: 647, -2: 646, -1: 515})\n",
      "Resampled (ADASYN) train (real + synth) dataset shape Counter({1: 851, -1: 823, -2: 823, 0: 818, 2: 814})\n",
      "Resampled (ADASYN) synth dataset shape Counter({2: 770, 1: 680, -2: 651, -1: 519})\n"
     ]
    },
    {
     "name": "stderr",
     "output_type": "stream",
     "text": [
      "/Users/matias/miniconda3/envs/gen-methods/lib/python3.7/site-packages/sklearn/metrics/_classification.py:1272: UndefinedMetricWarning: Precision and F-score are ill-defined and being set to 0.0 in labels with no predicted samples. Use `zero_division` parameter to control this behavior.\n",
      "  _warn_prf(average, modifier, msg_start, len(result))\n",
      "/Users/matias/miniconda3/envs/gen-methods/lib/python3.7/site-packages/sklearn/metrics/_classification.py:1272: UndefinedMetricWarning: Recall and F-score are ill-defined and being set to 0.0 in labels with no true samples. Use `zero_division` parameter to control this behavior.\n",
      "  _warn_prf(average, modifier, msg_start, len(result))\n",
      "/Users/matias/miniconda3/envs/gen-methods/lib/python3.7/site-packages/sklearn/metrics/_classification.py:1272: UndefinedMetricWarning: Recall and F-score are ill-defined and being set to 0.0 in labels with no true samples. Use `zero_division` parameter to control this behavior.\n",
      "  _warn_prf(average, modifier, msg_start, len(result))\n",
      "/Users/matias/miniconda3/envs/gen-methods/lib/python3.7/site-packages/sklearn/metrics/_classification.py:1272: UndefinedMetricWarning: Precision and F-score are ill-defined and being set to 0.0 in labels with no predicted samples. Use `zero_division` parameter to control this behavior.\n",
      "  _warn_prf(average, modifier, msg_start, len(result))\n",
      "/Users/matias/miniconda3/envs/gen-methods/lib/python3.7/site-packages/sklearn/metrics/_classification.py:1272: UndefinedMetricWarning: Recall and F-score are ill-defined and being set to 0.0 in labels with no true samples. Use `zero_division` parameter to control this behavior.\n",
      "  _warn_prf(average, modifier, msg_start, len(result))\n",
      "/Users/matias/miniconda3/envs/gen-methods/lib/python3.7/site-packages/sklearn/metrics/_classification.py:1272: UndefinedMetricWarning: Recall and F-score are ill-defined and being set to 0.0 in labels with no true samples. Use `zero_division` parameter to control this behavior.\n",
      "  _warn_prf(average, modifier, msg_start, len(result))\n",
      "/Users/matias/miniconda3/envs/gen-methods/lib/python3.7/site-packages/sklearn/metrics/_classification.py:1272: UndefinedMetricWarning: Precision and F-score are ill-defined and being set to 0.0 in labels with no predicted samples. Use `zero_division` parameter to control this behavior.\n",
      "  _warn_prf(average, modifier, msg_start, len(result))\n",
      "/Users/matias/miniconda3/envs/gen-methods/lib/python3.7/site-packages/sklearn/metrics/_classification.py:1272: UndefinedMetricWarning: Precision and F-score are ill-defined and being set to 0.0 in labels with no predicted samples. Use `zero_division` parameter to control this behavior.\n",
      "  _warn_prf(average, modifier, msg_start, len(result))\n"
     ]
    },
    {
     "name": "stdout",
     "output_type": "stream",
     "text": [
      "End of 8 trial\n",
      "Original occutherm train dataset shape Counter({0: 818, -1: 303, -2: 172, 1: 171, 2: 44})\n",
      "Resampled (SMOTE) real + synth dataset shape Counter({-2: 818, -1: 818, 1: 818, 0: 818, 2: 818})\n",
      "Resampled (SMOTE) synth dataset shape Counter({2: 774, 1: 647, -2: 646, -1: 515})\n",
      "Resampled (ADASYN) train (real + synth) dataset shape Counter({1: 851, -2: 823, -1: 823, 0: 818, 2: 814})\n",
      "Resampled (ADASYN) synth dataset shape Counter({2: 770, 1: 680, -2: 651, -1: 519})\n"
     ]
    },
    {
     "name": "stderr",
     "output_type": "stream",
     "text": [
      "/Users/matias/miniconda3/envs/gen-methods/lib/python3.7/site-packages/sklearn/metrics/_classification.py:1272: UndefinedMetricWarning: Precision and F-score are ill-defined and being set to 0.0 in labels with no predicted samples. Use `zero_division` parameter to control this behavior.\n",
      "  _warn_prf(average, modifier, msg_start, len(result))\n",
      "/Users/matias/miniconda3/envs/gen-methods/lib/python3.7/site-packages/sklearn/metrics/_classification.py:1272: UndefinedMetricWarning: Recall and F-score are ill-defined and being set to 0.0 in labels with no true samples. Use `zero_division` parameter to control this behavior.\n",
      "  _warn_prf(average, modifier, msg_start, len(result))\n",
      "/Users/matias/miniconda3/envs/gen-methods/lib/python3.7/site-packages/sklearn/metrics/_classification.py:1272: UndefinedMetricWarning: Recall and F-score are ill-defined and being set to 0.0 in labels with no true samples. Use `zero_division` parameter to control this behavior.\n",
      "  _warn_prf(average, modifier, msg_start, len(result))\n",
      "/Users/matias/miniconda3/envs/gen-methods/lib/python3.7/site-packages/sklearn/metrics/_classification.py:1272: UndefinedMetricWarning: Precision and F-score are ill-defined and being set to 0.0 in labels with no predicted samples. Use `zero_division` parameter to control this behavior.\n",
      "  _warn_prf(average, modifier, msg_start, len(result))\n",
      "/Users/matias/miniconda3/envs/gen-methods/lib/python3.7/site-packages/sklearn/metrics/_classification.py:1272: UndefinedMetricWarning: Recall and F-score are ill-defined and being set to 0.0 in labels with no true samples. Use `zero_division` parameter to control this behavior.\n",
      "  _warn_prf(average, modifier, msg_start, len(result))\n",
      "/Users/matias/miniconda3/envs/gen-methods/lib/python3.7/site-packages/sklearn/metrics/_classification.py:1272: UndefinedMetricWarning: Recall and F-score are ill-defined and being set to 0.0 in labels with no true samples. Use `zero_division` parameter to control this behavior.\n",
      "  _warn_prf(average, modifier, msg_start, len(result))\n",
      "/Users/matias/miniconda3/envs/gen-methods/lib/python3.7/site-packages/sklearn/metrics/_classification.py:1272: UndefinedMetricWarning: Precision and F-score are ill-defined and being set to 0.0 in labels with no predicted samples. Use `zero_division` parameter to control this behavior.\n",
      "  _warn_prf(average, modifier, msg_start, len(result))\n",
      "/Users/matias/miniconda3/envs/gen-methods/lib/python3.7/site-packages/sklearn/metrics/_classification.py:1272: UndefinedMetricWarning: Precision and F-score are ill-defined and being set to 0.0 in labels with no predicted samples. Use `zero_division` parameter to control this behavior.\n",
      "  _warn_prf(average, modifier, msg_start, len(result))\n"
     ]
    },
    {
     "name": "stdout",
     "output_type": "stream",
     "text": [
      "End of 9 trial\n",
      "Original occutherm train dataset shape Counter({0: 818, -1: 303, -2: 172, 1: 171, 2: 44})\n",
      "Resampled (SMOTE) real + synth dataset shape Counter({2: 818, -1: 818, 0: 818, -2: 818, 1: 818})\n",
      "Resampled (SMOTE) synth dataset shape Counter({2: 774, 1: 647, -2: 646, -1: 513})\n",
      "Resampled (ADASYN) train (real + synth) dataset shape Counter({1: 851, -2: 823, -1: 823, 0: 818, 2: 814})\n",
      "Resampled (ADASYN) synth dataset shape Counter({2: 770, 1: 680, -2: 651, -1: 520})\n"
     ]
    },
    {
     "name": "stderr",
     "output_type": "stream",
     "text": [
      "/Users/matias/miniconda3/envs/gen-methods/lib/python3.7/site-packages/sklearn/metrics/_classification.py:1272: UndefinedMetricWarning: Precision and F-score are ill-defined and being set to 0.0 in labels with no predicted samples. Use `zero_division` parameter to control this behavior.\n",
      "  _warn_prf(average, modifier, msg_start, len(result))\n",
      "/Users/matias/miniconda3/envs/gen-methods/lib/python3.7/site-packages/sklearn/metrics/_classification.py:1272: UndefinedMetricWarning: Recall and F-score are ill-defined and being set to 0.0 in labels with no true samples. Use `zero_division` parameter to control this behavior.\n",
      "  _warn_prf(average, modifier, msg_start, len(result))\n",
      "/Users/matias/miniconda3/envs/gen-methods/lib/python3.7/site-packages/sklearn/metrics/_classification.py:1272: UndefinedMetricWarning: Recall and F-score are ill-defined and being set to 0.0 in labels with no true samples. Use `zero_division` parameter to control this behavior.\n",
      "  _warn_prf(average, modifier, msg_start, len(result))\n",
      "/Users/matias/miniconda3/envs/gen-methods/lib/python3.7/site-packages/sklearn/metrics/_classification.py:1272: UndefinedMetricWarning: Precision and F-score are ill-defined and being set to 0.0 in labels with no predicted samples. Use `zero_division` parameter to control this behavior.\n",
      "  _warn_prf(average, modifier, msg_start, len(result))\n",
      "/Users/matias/miniconda3/envs/gen-methods/lib/python3.7/site-packages/sklearn/metrics/_classification.py:1272: UndefinedMetricWarning: Recall and F-score are ill-defined and being set to 0.0 in labels with no true samples. Use `zero_division` parameter to control this behavior.\n",
      "  _warn_prf(average, modifier, msg_start, len(result))\n",
      "/Users/matias/miniconda3/envs/gen-methods/lib/python3.7/site-packages/sklearn/metrics/_classification.py:1272: UndefinedMetricWarning: Recall and F-score are ill-defined and being set to 0.0 in labels with no true samples. Use `zero_division` parameter to control this behavior.\n",
      "  _warn_prf(average, modifier, msg_start, len(result))\n",
      "/Users/matias/miniconda3/envs/gen-methods/lib/python3.7/site-packages/sklearn/metrics/_classification.py:1272: UndefinedMetricWarning: Precision and F-score are ill-defined and being set to 0.0 in labels with no predicted samples. Use `zero_division` parameter to control this behavior.\n",
      "  _warn_prf(average, modifier, msg_start, len(result))\n",
      "/Users/matias/miniconda3/envs/gen-methods/lib/python3.7/site-packages/sklearn/metrics/_classification.py:1272: UndefinedMetricWarning: Precision and F-score are ill-defined and being set to 0.0 in labels with no predicted samples. Use `zero_division` parameter to control this behavior.\n",
      "  _warn_prf(average, modifier, msg_start, len(result))\n"
     ]
    },
    {
     "name": "stdout",
     "output_type": "stream",
     "text": [
      "End of 10 trial\n",
      "Original occutherm train dataset shape Counter({0: 818, -1: 303, -2: 172, 1: 171, 2: 44})\n",
      "Resampled (SMOTE) real + synth dataset shape Counter({1: 818, -2: 818, 0: 818, 2: 818, -1: 818})\n",
      "Resampled (SMOTE) synth dataset shape Counter({2: 774, 1: 647, -2: 646, -1: 514})\n",
      "Resampled (ADASYN) train (real + synth) dataset shape Counter({1: 851, -2: 823, -1: 823, 0: 818, 2: 814})\n",
      "Resampled (ADASYN) synth dataset shape Counter({2: 770, 1: 680, -2: 651, -1: 519})\n"
     ]
    },
    {
     "name": "stderr",
     "output_type": "stream",
     "text": [
      "/Users/matias/miniconda3/envs/gen-methods/lib/python3.7/site-packages/sklearn/metrics/_classification.py:1272: UndefinedMetricWarning: Precision and F-score are ill-defined and being set to 0.0 in labels with no predicted samples. Use `zero_division` parameter to control this behavior.\n",
      "  _warn_prf(average, modifier, msg_start, len(result))\n",
      "/Users/matias/miniconda3/envs/gen-methods/lib/python3.7/site-packages/sklearn/metrics/_classification.py:1272: UndefinedMetricWarning: Recall and F-score are ill-defined and being set to 0.0 in labels with no true samples. Use `zero_division` parameter to control this behavior.\n",
      "  _warn_prf(average, modifier, msg_start, len(result))\n",
      "/Users/matias/miniconda3/envs/gen-methods/lib/python3.7/site-packages/sklearn/metrics/_classification.py:1272: UndefinedMetricWarning: Recall and F-score are ill-defined and being set to 0.0 in labels with no true samples. Use `zero_division` parameter to control this behavior.\n",
      "  _warn_prf(average, modifier, msg_start, len(result))\n",
      "/Users/matias/miniconda3/envs/gen-methods/lib/python3.7/site-packages/sklearn/metrics/_classification.py:1272: UndefinedMetricWarning: Precision and F-score are ill-defined and being set to 0.0 in labels with no predicted samples. Use `zero_division` parameter to control this behavior.\n",
      "  _warn_prf(average, modifier, msg_start, len(result))\n",
      "/Users/matias/miniconda3/envs/gen-methods/lib/python3.7/site-packages/sklearn/metrics/_classification.py:1272: UndefinedMetricWarning: Recall and F-score are ill-defined and being set to 0.0 in labels with no true samples. Use `zero_division` parameter to control this behavior.\n",
      "  _warn_prf(average, modifier, msg_start, len(result))\n",
      "/Users/matias/miniconda3/envs/gen-methods/lib/python3.7/site-packages/sklearn/metrics/_classification.py:1272: UndefinedMetricWarning: Recall and F-score are ill-defined and being set to 0.0 in labels with no true samples. Use `zero_division` parameter to control this behavior.\n",
      "  _warn_prf(average, modifier, msg_start, len(result))\n",
      "/Users/matias/miniconda3/envs/gen-methods/lib/python3.7/site-packages/sklearn/metrics/_classification.py:1272: UndefinedMetricWarning: Precision and F-score are ill-defined and being set to 0.0 in labels with no predicted samples. Use `zero_division` parameter to control this behavior.\n",
      "  _warn_prf(average, modifier, msg_start, len(result))\n",
      "/Users/matias/miniconda3/envs/gen-methods/lib/python3.7/site-packages/sklearn/metrics/_classification.py:1272: UndefinedMetricWarning: Precision and F-score are ill-defined and being set to 0.0 in labels with no predicted samples. Use `zero_division` parameter to control this behavior.\n",
      "  _warn_prf(average, modifier, msg_start, len(result))\n"
     ]
    },
    {
     "name": "stdout",
     "output_type": "stream",
     "text": [
      "End of 11 trial\n",
      "Original occutherm train dataset shape Counter({0: 818, -1: 303, -2: 172, 1: 171, 2: 44})\n",
      "Resampled (SMOTE) real + synth dataset shape Counter({2: 818, 1: 818, 0: 818, -1: 818, -2: 818})\n",
      "Resampled (SMOTE) synth dataset shape Counter({2: 774, 1: 647, -2: 646, -1: 515})\n",
      "Resampled (ADASYN) train (real + synth) dataset shape Counter({1: 851, -1: 823, -2: 823, 0: 818, 2: 814})\n",
      "Resampled (ADASYN) synth dataset shape Counter({2: 770, 1: 680, -2: 651, -1: 519})\n"
     ]
    },
    {
     "name": "stderr",
     "output_type": "stream",
     "text": [
      "/Users/matias/miniconda3/envs/gen-methods/lib/python3.7/site-packages/sklearn/metrics/_classification.py:1272: UndefinedMetricWarning: Precision and F-score are ill-defined and being set to 0.0 in labels with no predicted samples. Use `zero_division` parameter to control this behavior.\n",
      "  _warn_prf(average, modifier, msg_start, len(result))\n",
      "/Users/matias/miniconda3/envs/gen-methods/lib/python3.7/site-packages/sklearn/metrics/_classification.py:1272: UndefinedMetricWarning: Recall and F-score are ill-defined and being set to 0.0 in labels with no true samples. Use `zero_division` parameter to control this behavior.\n",
      "  _warn_prf(average, modifier, msg_start, len(result))\n",
      "/Users/matias/miniconda3/envs/gen-methods/lib/python3.7/site-packages/sklearn/metrics/_classification.py:1272: UndefinedMetricWarning: Recall and F-score are ill-defined and being set to 0.0 in labels with no true samples. Use `zero_division` parameter to control this behavior.\n",
      "  _warn_prf(average, modifier, msg_start, len(result))\n",
      "/Users/matias/miniconda3/envs/gen-methods/lib/python3.7/site-packages/sklearn/metrics/_classification.py:1272: UndefinedMetricWarning: Precision and F-score are ill-defined and being set to 0.0 in labels with no predicted samples. Use `zero_division` parameter to control this behavior.\n",
      "  _warn_prf(average, modifier, msg_start, len(result))\n",
      "/Users/matias/miniconda3/envs/gen-methods/lib/python3.7/site-packages/sklearn/metrics/_classification.py:1272: UndefinedMetricWarning: Recall and F-score are ill-defined and being set to 0.0 in labels with no true samples. Use `zero_division` parameter to control this behavior.\n",
      "  _warn_prf(average, modifier, msg_start, len(result))\n",
      "/Users/matias/miniconda3/envs/gen-methods/lib/python3.7/site-packages/sklearn/metrics/_classification.py:1272: UndefinedMetricWarning: Recall and F-score are ill-defined and being set to 0.0 in labels with no true samples. Use `zero_division` parameter to control this behavior.\n",
      "  _warn_prf(average, modifier, msg_start, len(result))\n",
      "/Users/matias/miniconda3/envs/gen-methods/lib/python3.7/site-packages/sklearn/metrics/_classification.py:1272: UndefinedMetricWarning: Precision and F-score are ill-defined and being set to 0.0 in labels with no predicted samples. Use `zero_division` parameter to control this behavior.\n",
      "  _warn_prf(average, modifier, msg_start, len(result))\n",
      "/Users/matias/miniconda3/envs/gen-methods/lib/python3.7/site-packages/sklearn/metrics/_classification.py:1272: UndefinedMetricWarning: Precision and F-score are ill-defined and being set to 0.0 in labels with no predicted samples. Use `zero_division` parameter to control this behavior.\n",
      "  _warn_prf(average, modifier, msg_start, len(result))\n"
     ]
    },
    {
     "name": "stdout",
     "output_type": "stream",
     "text": [
      "End of 12 trial\n",
      "Original occutherm train dataset shape Counter({0: 818, -1: 303, -2: 172, 1: 171, 2: 44})\n",
      "Resampled (SMOTE) real + synth dataset shape Counter({0: 818, 1: 818, -2: 818, -1: 818, 2: 818})\n",
      "Resampled (SMOTE) synth dataset shape Counter({2: 774, 1: 647, -2: 646, -1: 515})\n",
      "Resampled (ADASYN) train (real + synth) dataset shape Counter({1: 851, -2: 823, -1: 823, 0: 818, 2: 814})\n",
      "Resampled (ADASYN) synth dataset shape Counter({2: 770, 1: 680, -2: 651, -1: 518})\n"
     ]
    },
    {
     "name": "stderr",
     "output_type": "stream",
     "text": [
      "/Users/matias/miniconda3/envs/gen-methods/lib/python3.7/site-packages/sklearn/metrics/_classification.py:1272: UndefinedMetricWarning: Precision and F-score are ill-defined and being set to 0.0 in labels with no predicted samples. Use `zero_division` parameter to control this behavior.\n",
      "  _warn_prf(average, modifier, msg_start, len(result))\n",
      "/Users/matias/miniconda3/envs/gen-methods/lib/python3.7/site-packages/sklearn/metrics/_classification.py:1272: UndefinedMetricWarning: Recall and F-score are ill-defined and being set to 0.0 in labels with no true samples. Use `zero_division` parameter to control this behavior.\n",
      "  _warn_prf(average, modifier, msg_start, len(result))\n",
      "/Users/matias/miniconda3/envs/gen-methods/lib/python3.7/site-packages/sklearn/metrics/_classification.py:1272: UndefinedMetricWarning: Recall and F-score are ill-defined and being set to 0.0 in labels with no true samples. Use `zero_division` parameter to control this behavior.\n",
      "  _warn_prf(average, modifier, msg_start, len(result))\n",
      "/Users/matias/miniconda3/envs/gen-methods/lib/python3.7/site-packages/sklearn/metrics/_classification.py:1272: UndefinedMetricWarning: Precision and F-score are ill-defined and being set to 0.0 in labels with no predicted samples. Use `zero_division` parameter to control this behavior.\n",
      "  _warn_prf(average, modifier, msg_start, len(result))\n",
      "/Users/matias/miniconda3/envs/gen-methods/lib/python3.7/site-packages/sklearn/metrics/_classification.py:1272: UndefinedMetricWarning: Recall and F-score are ill-defined and being set to 0.0 in labels with no true samples. Use `zero_division` parameter to control this behavior.\n",
      "  _warn_prf(average, modifier, msg_start, len(result))\n",
      "/Users/matias/miniconda3/envs/gen-methods/lib/python3.7/site-packages/sklearn/metrics/_classification.py:1272: UndefinedMetricWarning: Recall and F-score are ill-defined and being set to 0.0 in labels with no true samples. Use `zero_division` parameter to control this behavior.\n",
      "  _warn_prf(average, modifier, msg_start, len(result))\n",
      "/Users/matias/miniconda3/envs/gen-methods/lib/python3.7/site-packages/sklearn/metrics/_classification.py:1272: UndefinedMetricWarning: Precision and F-score are ill-defined and being set to 0.0 in labels with no predicted samples. Use `zero_division` parameter to control this behavior.\n",
      "  _warn_prf(average, modifier, msg_start, len(result))\n",
      "/Users/matias/miniconda3/envs/gen-methods/lib/python3.7/site-packages/sklearn/metrics/_classification.py:1272: UndefinedMetricWarning: Precision and F-score are ill-defined and being set to 0.0 in labels with no predicted samples. Use `zero_division` parameter to control this behavior.\n",
      "  _warn_prf(average, modifier, msg_start, len(result))\n"
     ]
    },
    {
     "name": "stdout",
     "output_type": "stream",
     "text": [
      "End of 13 trial\n",
      "Original occutherm train dataset shape Counter({0: 818, -1: 303, -2: 172, 1: 171, 2: 44})\n",
      "Resampled (SMOTE) real + synth dataset shape Counter({2: 818, -1: 818, -2: 818, 1: 818, 0: 818})\n",
      "Resampled (SMOTE) synth dataset shape Counter({2: 774, 1: 647, -2: 646, -1: 515})\n",
      "Resampled (ADASYN) train (real + synth) dataset shape Counter({1: 851, -1: 823, -2: 823, 0: 818, 2: 814})\n",
      "Resampled (ADASYN) synth dataset shape Counter({2: 770, 1: 680, -2: 651, -1: 519})\n"
     ]
    },
    {
     "name": "stderr",
     "output_type": "stream",
     "text": [
      "/Users/matias/miniconda3/envs/gen-methods/lib/python3.7/site-packages/sklearn/metrics/_classification.py:1272: UndefinedMetricWarning: Precision and F-score are ill-defined and being set to 0.0 in labels with no predicted samples. Use `zero_division` parameter to control this behavior.\n",
      "  _warn_prf(average, modifier, msg_start, len(result))\n",
      "/Users/matias/miniconda3/envs/gen-methods/lib/python3.7/site-packages/sklearn/metrics/_classification.py:1272: UndefinedMetricWarning: Recall and F-score are ill-defined and being set to 0.0 in labels with no true samples. Use `zero_division` parameter to control this behavior.\n",
      "  _warn_prf(average, modifier, msg_start, len(result))\n",
      "/Users/matias/miniconda3/envs/gen-methods/lib/python3.7/site-packages/sklearn/metrics/_classification.py:1272: UndefinedMetricWarning: Recall and F-score are ill-defined and being set to 0.0 in labels with no true samples. Use `zero_division` parameter to control this behavior.\n",
      "  _warn_prf(average, modifier, msg_start, len(result))\n",
      "/Users/matias/miniconda3/envs/gen-methods/lib/python3.7/site-packages/sklearn/metrics/_classification.py:1272: UndefinedMetricWarning: Precision and F-score are ill-defined and being set to 0.0 in labels with no predicted samples. Use `zero_division` parameter to control this behavior.\n",
      "  _warn_prf(average, modifier, msg_start, len(result))\n",
      "/Users/matias/miniconda3/envs/gen-methods/lib/python3.7/site-packages/sklearn/metrics/_classification.py:1272: UndefinedMetricWarning: Recall and F-score are ill-defined and being set to 0.0 in labels with no true samples. Use `zero_division` parameter to control this behavior.\n",
      "  _warn_prf(average, modifier, msg_start, len(result))\n",
      "/Users/matias/miniconda3/envs/gen-methods/lib/python3.7/site-packages/sklearn/metrics/_classification.py:1272: UndefinedMetricWarning: Recall and F-score are ill-defined and being set to 0.0 in labels with no true samples. Use `zero_division` parameter to control this behavior.\n",
      "  _warn_prf(average, modifier, msg_start, len(result))\n",
      "/Users/matias/miniconda3/envs/gen-methods/lib/python3.7/site-packages/sklearn/metrics/_classification.py:1272: UndefinedMetricWarning: Precision and F-score are ill-defined and being set to 0.0 in labels with no predicted samples. Use `zero_division` parameter to control this behavior.\n",
      "  _warn_prf(average, modifier, msg_start, len(result))\n",
      "/Users/matias/miniconda3/envs/gen-methods/lib/python3.7/site-packages/sklearn/metrics/_classification.py:1272: UndefinedMetricWarning: Precision and F-score are ill-defined and being set to 0.0 in labels with no predicted samples. Use `zero_division` parameter to control this behavior.\n",
      "  _warn_prf(average, modifier, msg_start, len(result))\n"
     ]
    },
    {
     "name": "stdout",
     "output_type": "stream",
     "text": [
      "End of 14 trial\n",
      "Original occutherm train dataset shape Counter({0: 818, -1: 303, -2: 172, 1: 171, 2: 44})\n",
      "Resampled (SMOTE) real + synth dataset shape Counter({-2: 818, 1: 818, -1: 818, 0: 818, 2: 818})\n",
      "Resampled (SMOTE) synth dataset shape Counter({2: 774, 1: 647, -2: 646, -1: 513})\n",
      "Resampled (ADASYN) train (real + synth) dataset shape Counter({1: 851, -1: 823, -2: 823, 0: 818, 2: 814})\n",
      "Resampled (ADASYN) synth dataset shape Counter({2: 770, 1: 680, -2: 651, -1: 519})\n"
     ]
    },
    {
     "name": "stderr",
     "output_type": "stream",
     "text": [
      "/Users/matias/miniconda3/envs/gen-methods/lib/python3.7/site-packages/sklearn/metrics/_classification.py:1272: UndefinedMetricWarning: Precision and F-score are ill-defined and being set to 0.0 in labels with no predicted samples. Use `zero_division` parameter to control this behavior.\n",
      "  _warn_prf(average, modifier, msg_start, len(result))\n",
      "/Users/matias/miniconda3/envs/gen-methods/lib/python3.7/site-packages/sklearn/metrics/_classification.py:1272: UndefinedMetricWarning: Recall and F-score are ill-defined and being set to 0.0 in labels with no true samples. Use `zero_division` parameter to control this behavior.\n",
      "  _warn_prf(average, modifier, msg_start, len(result))\n",
      "/Users/matias/miniconda3/envs/gen-methods/lib/python3.7/site-packages/sklearn/metrics/_classification.py:1272: UndefinedMetricWarning: Recall and F-score are ill-defined and being set to 0.0 in labels with no true samples. Use `zero_division` parameter to control this behavior.\n",
      "  _warn_prf(average, modifier, msg_start, len(result))\n",
      "/Users/matias/miniconda3/envs/gen-methods/lib/python3.7/site-packages/sklearn/metrics/_classification.py:1272: UndefinedMetricWarning: Precision and F-score are ill-defined and being set to 0.0 in labels with no predicted samples. Use `zero_division` parameter to control this behavior.\n",
      "  _warn_prf(average, modifier, msg_start, len(result))\n",
      "/Users/matias/miniconda3/envs/gen-methods/lib/python3.7/site-packages/sklearn/metrics/_classification.py:1272: UndefinedMetricWarning: Recall and F-score are ill-defined and being set to 0.0 in labels with no true samples. Use `zero_division` parameter to control this behavior.\n",
      "  _warn_prf(average, modifier, msg_start, len(result))\n",
      "/Users/matias/miniconda3/envs/gen-methods/lib/python3.7/site-packages/sklearn/metrics/_classification.py:1272: UndefinedMetricWarning: Recall and F-score are ill-defined and being set to 0.0 in labels with no true samples. Use `zero_division` parameter to control this behavior.\n",
      "  _warn_prf(average, modifier, msg_start, len(result))\n",
      "/Users/matias/miniconda3/envs/gen-methods/lib/python3.7/site-packages/sklearn/metrics/_classification.py:1272: UndefinedMetricWarning: Precision and F-score are ill-defined and being set to 0.0 in labels with no predicted samples. Use `zero_division` parameter to control this behavior.\n",
      "  _warn_prf(average, modifier, msg_start, len(result))\n",
      "/Users/matias/miniconda3/envs/gen-methods/lib/python3.7/site-packages/sklearn/metrics/_classification.py:1272: UndefinedMetricWarning: Precision and F-score are ill-defined and being set to 0.0 in labels with no predicted samples. Use `zero_division` parameter to control this behavior.\n",
      "  _warn_prf(average, modifier, msg_start, len(result))\n"
     ]
    },
    {
     "name": "stdout",
     "output_type": "stream",
     "text": [
      "End of 15 trial\n",
      "Original occutherm train dataset shape Counter({0: 818, -1: 303, -2: 172, 1: 171, 2: 44})\n",
      "Resampled (SMOTE) real + synth dataset shape Counter({1: 818, -2: 818, 0: 818, -1: 818, 2: 818})\n",
      "Resampled (SMOTE) synth dataset shape Counter({2: 774, 1: 647, -2: 646, -1: 515})\n",
      "Resampled (ADASYN) train (real + synth) dataset shape Counter({1: 851, -1: 823, -2: 823, 0: 818, 2: 814})\n",
      "Resampled (ADASYN) synth dataset shape Counter({2: 770, 1: 680, -2: 651, -1: 519})\n"
     ]
    },
    {
     "name": "stderr",
     "output_type": "stream",
     "text": [
      "/Users/matias/miniconda3/envs/gen-methods/lib/python3.7/site-packages/sklearn/metrics/_classification.py:1272: UndefinedMetricWarning: Precision and F-score are ill-defined and being set to 0.0 in labels with no predicted samples. Use `zero_division` parameter to control this behavior.\n",
      "  _warn_prf(average, modifier, msg_start, len(result))\n",
      "/Users/matias/miniconda3/envs/gen-methods/lib/python3.7/site-packages/sklearn/metrics/_classification.py:1272: UndefinedMetricWarning: Recall and F-score are ill-defined and being set to 0.0 in labels with no true samples. Use `zero_division` parameter to control this behavior.\n",
      "  _warn_prf(average, modifier, msg_start, len(result))\n",
      "/Users/matias/miniconda3/envs/gen-methods/lib/python3.7/site-packages/sklearn/metrics/_classification.py:1272: UndefinedMetricWarning: Recall and F-score are ill-defined and being set to 0.0 in labels with no true samples. Use `zero_division` parameter to control this behavior.\n",
      "  _warn_prf(average, modifier, msg_start, len(result))\n",
      "/Users/matias/miniconda3/envs/gen-methods/lib/python3.7/site-packages/sklearn/metrics/_classification.py:1272: UndefinedMetricWarning: Precision and F-score are ill-defined and being set to 0.0 in labels with no predicted samples. Use `zero_division` parameter to control this behavior.\n",
      "  _warn_prf(average, modifier, msg_start, len(result))\n",
      "/Users/matias/miniconda3/envs/gen-methods/lib/python3.7/site-packages/sklearn/metrics/_classification.py:1272: UndefinedMetricWarning: Recall and F-score are ill-defined and being set to 0.0 in labels with no true samples. Use `zero_division` parameter to control this behavior.\n",
      "  _warn_prf(average, modifier, msg_start, len(result))\n",
      "/Users/matias/miniconda3/envs/gen-methods/lib/python3.7/site-packages/sklearn/metrics/_classification.py:1272: UndefinedMetricWarning: Recall and F-score are ill-defined and being set to 0.0 in labels with no true samples. Use `zero_division` parameter to control this behavior.\n",
      "  _warn_prf(average, modifier, msg_start, len(result))\n",
      "/Users/matias/miniconda3/envs/gen-methods/lib/python3.7/site-packages/sklearn/metrics/_classification.py:1272: UndefinedMetricWarning: Precision and F-score are ill-defined and being set to 0.0 in labels with no predicted samples. Use `zero_division` parameter to control this behavior.\n",
      "  _warn_prf(average, modifier, msg_start, len(result))\n",
      "/Users/matias/miniconda3/envs/gen-methods/lib/python3.7/site-packages/sklearn/metrics/_classification.py:1272: UndefinedMetricWarning: Precision and F-score are ill-defined and being set to 0.0 in labels with no predicted samples. Use `zero_division` parameter to control this behavior.\n",
      "  _warn_prf(average, modifier, msg_start, len(result))\n"
     ]
    },
    {
     "name": "stdout",
     "output_type": "stream",
     "text": [
      "End of 16 trial\n",
      "Original occutherm train dataset shape Counter({0: 818, -1: 303, -2: 172, 1: 171, 2: 44})\n",
      "Resampled (SMOTE) real + synth dataset shape Counter({2: 818, -1: 818, 1: 818, 0: 818, -2: 818})\n",
      "Resampled (SMOTE) synth dataset shape Counter({2: 774, 1: 647, -2: 646, -1: 512})\n",
      "Resampled (ADASYN) train (real + synth) dataset shape Counter({1: 851, -1: 823, -2: 823, 0: 818, 2: 814})\n",
      "Resampled (ADASYN) synth dataset shape Counter({2: 770, 1: 680, -2: 651, -1: 519})\n"
     ]
    },
    {
     "name": "stderr",
     "output_type": "stream",
     "text": [
      "/Users/matias/miniconda3/envs/gen-methods/lib/python3.7/site-packages/sklearn/metrics/_classification.py:1272: UndefinedMetricWarning: Precision and F-score are ill-defined and being set to 0.0 in labels with no predicted samples. Use `zero_division` parameter to control this behavior.\n",
      "  _warn_prf(average, modifier, msg_start, len(result))\n",
      "/Users/matias/miniconda3/envs/gen-methods/lib/python3.7/site-packages/sklearn/metrics/_classification.py:1272: UndefinedMetricWarning: Recall and F-score are ill-defined and being set to 0.0 in labels with no true samples. Use `zero_division` parameter to control this behavior.\n",
      "  _warn_prf(average, modifier, msg_start, len(result))\n",
      "/Users/matias/miniconda3/envs/gen-methods/lib/python3.7/site-packages/sklearn/metrics/_classification.py:1272: UndefinedMetricWarning: Recall and F-score are ill-defined and being set to 0.0 in labels with no true samples. Use `zero_division` parameter to control this behavior.\n",
      "  _warn_prf(average, modifier, msg_start, len(result))\n",
      "/Users/matias/miniconda3/envs/gen-methods/lib/python3.7/site-packages/sklearn/metrics/_classification.py:1272: UndefinedMetricWarning: Precision and F-score are ill-defined and being set to 0.0 in labels with no predicted samples. Use `zero_division` parameter to control this behavior.\n",
      "  _warn_prf(average, modifier, msg_start, len(result))\n",
      "/Users/matias/miniconda3/envs/gen-methods/lib/python3.7/site-packages/sklearn/metrics/_classification.py:1272: UndefinedMetricWarning: Recall and F-score are ill-defined and being set to 0.0 in labels with no true samples. Use `zero_division` parameter to control this behavior.\n",
      "  _warn_prf(average, modifier, msg_start, len(result))\n",
      "/Users/matias/miniconda3/envs/gen-methods/lib/python3.7/site-packages/sklearn/metrics/_classification.py:1272: UndefinedMetricWarning: Recall and F-score are ill-defined and being set to 0.0 in labels with no true samples. Use `zero_division` parameter to control this behavior.\n",
      "  _warn_prf(average, modifier, msg_start, len(result))\n",
      "/Users/matias/miniconda3/envs/gen-methods/lib/python3.7/site-packages/sklearn/metrics/_classification.py:1272: UndefinedMetricWarning: Precision and F-score are ill-defined and being set to 0.0 in labels with no predicted samples. Use `zero_division` parameter to control this behavior.\n",
      "  _warn_prf(average, modifier, msg_start, len(result))\n",
      "/Users/matias/miniconda3/envs/gen-methods/lib/python3.7/site-packages/sklearn/metrics/_classification.py:1272: UndefinedMetricWarning: Precision and F-score are ill-defined and being set to 0.0 in labels with no predicted samples. Use `zero_division` parameter to control this behavior.\n",
      "  _warn_prf(average, modifier, msg_start, len(result))\n"
     ]
    },
    {
     "name": "stdout",
     "output_type": "stream",
     "text": [
      "End of 17 trial\n",
      "Original occutherm train dataset shape Counter({0: 818, -1: 303, -2: 172, 1: 171, 2: 44})\n",
      "Resampled (SMOTE) real + synth dataset shape Counter({-2: 818, 1: 818, 0: 818, -1: 818, 2: 818})\n",
      "Resampled (SMOTE) synth dataset shape Counter({2: 774, 1: 647, -2: 646, -1: 514})\n",
      "Resampled (ADASYN) train (real + synth) dataset shape Counter({1: 851, -2: 823, -1: 823, 0: 818, 2: 814})\n",
      "Resampled (ADASYN) synth dataset shape Counter({2: 770, 1: 680, -2: 651, -1: 518})\n"
     ]
    },
    {
     "name": "stderr",
     "output_type": "stream",
     "text": [
      "/Users/matias/miniconda3/envs/gen-methods/lib/python3.7/site-packages/sklearn/metrics/_classification.py:1272: UndefinedMetricWarning: Precision and F-score are ill-defined and being set to 0.0 in labels with no predicted samples. Use `zero_division` parameter to control this behavior.\n",
      "  _warn_prf(average, modifier, msg_start, len(result))\n",
      "/Users/matias/miniconda3/envs/gen-methods/lib/python3.7/site-packages/sklearn/metrics/_classification.py:1272: UndefinedMetricWarning: Recall and F-score are ill-defined and being set to 0.0 in labels with no true samples. Use `zero_division` parameter to control this behavior.\n",
      "  _warn_prf(average, modifier, msg_start, len(result))\n",
      "/Users/matias/miniconda3/envs/gen-methods/lib/python3.7/site-packages/sklearn/metrics/_classification.py:1272: UndefinedMetricWarning: Recall and F-score are ill-defined and being set to 0.0 in labels with no true samples. Use `zero_division` parameter to control this behavior.\n",
      "  _warn_prf(average, modifier, msg_start, len(result))\n",
      "/Users/matias/miniconda3/envs/gen-methods/lib/python3.7/site-packages/sklearn/metrics/_classification.py:1272: UndefinedMetricWarning: Precision and F-score are ill-defined and being set to 0.0 in labels with no predicted samples. Use `zero_division` parameter to control this behavior.\n",
      "  _warn_prf(average, modifier, msg_start, len(result))\n",
      "/Users/matias/miniconda3/envs/gen-methods/lib/python3.7/site-packages/sklearn/metrics/_classification.py:1272: UndefinedMetricWarning: Recall and F-score are ill-defined and being set to 0.0 in labels with no true samples. Use `zero_division` parameter to control this behavior.\n",
      "  _warn_prf(average, modifier, msg_start, len(result))\n",
      "/Users/matias/miniconda3/envs/gen-methods/lib/python3.7/site-packages/sklearn/metrics/_classification.py:1272: UndefinedMetricWarning: Recall and F-score are ill-defined and being set to 0.0 in labels with no true samples. Use `zero_division` parameter to control this behavior.\n",
      "  _warn_prf(average, modifier, msg_start, len(result))\n",
      "/Users/matias/miniconda3/envs/gen-methods/lib/python3.7/site-packages/sklearn/metrics/_classification.py:1272: UndefinedMetricWarning: Precision and F-score are ill-defined and being set to 0.0 in labels with no predicted samples. Use `zero_division` parameter to control this behavior.\n",
      "  _warn_prf(average, modifier, msg_start, len(result))\n",
      "/Users/matias/miniconda3/envs/gen-methods/lib/python3.7/site-packages/sklearn/metrics/_classification.py:1272: UndefinedMetricWarning: Precision and F-score are ill-defined and being set to 0.0 in labels with no predicted samples. Use `zero_division` parameter to control this behavior.\n",
      "  _warn_prf(average, modifier, msg_start, len(result))\n"
     ]
    },
    {
     "name": "stdout",
     "output_type": "stream",
     "text": [
      "End of 18 trial\n",
      "Original occutherm train dataset shape Counter({0: 818, -1: 303, -2: 172, 1: 171, 2: 44})\n",
      "Resampled (SMOTE) real + synth dataset shape Counter({1: 818, 0: 818, -2: 818, -1: 818, 2: 818})\n",
      "Resampled (SMOTE) synth dataset shape Counter({2: 774, 1: 647, -2: 646, -1: 515})\n",
      "Resampled (ADASYN) train (real + synth) dataset shape Counter({1: 851, -1: 823, -2: 823, 0: 818, 2: 814})\n",
      "Resampled (ADASYN) synth dataset shape Counter({2: 770, 1: 680, -2: 651, -1: 519})\n"
     ]
    },
    {
     "name": "stderr",
     "output_type": "stream",
     "text": [
      "/Users/matias/miniconda3/envs/gen-methods/lib/python3.7/site-packages/sklearn/metrics/_classification.py:1272: UndefinedMetricWarning: Precision and F-score are ill-defined and being set to 0.0 in labels with no predicted samples. Use `zero_division` parameter to control this behavior.\n",
      "  _warn_prf(average, modifier, msg_start, len(result))\n",
      "/Users/matias/miniconda3/envs/gen-methods/lib/python3.7/site-packages/sklearn/metrics/_classification.py:1272: UndefinedMetricWarning: Recall and F-score are ill-defined and being set to 0.0 in labels with no true samples. Use `zero_division` parameter to control this behavior.\n",
      "  _warn_prf(average, modifier, msg_start, len(result))\n",
      "/Users/matias/miniconda3/envs/gen-methods/lib/python3.7/site-packages/sklearn/metrics/_classification.py:1272: UndefinedMetricWarning: Recall and F-score are ill-defined and being set to 0.0 in labels with no true samples. Use `zero_division` parameter to control this behavior.\n",
      "  _warn_prf(average, modifier, msg_start, len(result))\n",
      "/Users/matias/miniconda3/envs/gen-methods/lib/python3.7/site-packages/sklearn/metrics/_classification.py:1272: UndefinedMetricWarning: Precision and F-score are ill-defined and being set to 0.0 in labels with no predicted samples. Use `zero_division` parameter to control this behavior.\n",
      "  _warn_prf(average, modifier, msg_start, len(result))\n",
      "/Users/matias/miniconda3/envs/gen-methods/lib/python3.7/site-packages/sklearn/metrics/_classification.py:1272: UndefinedMetricWarning: Recall and F-score are ill-defined and being set to 0.0 in labels with no true samples. Use `zero_division` parameter to control this behavior.\n",
      "  _warn_prf(average, modifier, msg_start, len(result))\n",
      "/Users/matias/miniconda3/envs/gen-methods/lib/python3.7/site-packages/sklearn/metrics/_classification.py:1272: UndefinedMetricWarning: Recall and F-score are ill-defined and being set to 0.0 in labels with no true samples. Use `zero_division` parameter to control this behavior.\n",
      "  _warn_prf(average, modifier, msg_start, len(result))\n",
      "/Users/matias/miniconda3/envs/gen-methods/lib/python3.7/site-packages/sklearn/metrics/_classification.py:1272: UndefinedMetricWarning: Precision and F-score are ill-defined and being set to 0.0 in labels with no predicted samples. Use `zero_division` parameter to control this behavior.\n",
      "  _warn_prf(average, modifier, msg_start, len(result))\n",
      "/Users/matias/miniconda3/envs/gen-methods/lib/python3.7/site-packages/sklearn/metrics/_classification.py:1272: UndefinedMetricWarning: Precision and F-score are ill-defined and being set to 0.0 in labels with no predicted samples. Use `zero_division` parameter to control this behavior.\n",
      "  _warn_prf(average, modifier, msg_start, len(result))\n"
     ]
    },
    {
     "name": "stdout",
     "output_type": "stream",
     "text": [
      "End of 19 trial\n",
      "Original occutherm train dataset shape Counter({0: 818, -1: 303, -2: 172, 1: 171, 2: 44})\n",
      "Resampled (SMOTE) real + synth dataset shape Counter({0: 818, 2: 818, 1: 818, -2: 818, -1: 818})\n",
      "Resampled (SMOTE) synth dataset shape Counter({2: 774, 1: 647, -2: 646, -1: 514})\n",
      "Resampled (ADASYN) train (real + synth) dataset shape Counter({1: 851, -2: 823, -1: 823, 0: 818, 2: 814})\n",
      "Resampled (ADASYN) synth dataset shape Counter({2: 770, 1: 680, -2: 651, -1: 519})\n"
     ]
    },
    {
     "name": "stderr",
     "output_type": "stream",
     "text": [
      "/Users/matias/miniconda3/envs/gen-methods/lib/python3.7/site-packages/sklearn/metrics/_classification.py:1272: UndefinedMetricWarning: Precision and F-score are ill-defined and being set to 0.0 in labels with no predicted samples. Use `zero_division` parameter to control this behavior.\n",
      "  _warn_prf(average, modifier, msg_start, len(result))\n",
      "/Users/matias/miniconda3/envs/gen-methods/lib/python3.7/site-packages/sklearn/metrics/_classification.py:1272: UndefinedMetricWarning: Recall and F-score are ill-defined and being set to 0.0 in labels with no true samples. Use `zero_division` parameter to control this behavior.\n",
      "  _warn_prf(average, modifier, msg_start, len(result))\n",
      "/Users/matias/miniconda3/envs/gen-methods/lib/python3.7/site-packages/sklearn/metrics/_classification.py:1272: UndefinedMetricWarning: Recall and F-score are ill-defined and being set to 0.0 in labels with no true samples. Use `zero_division` parameter to control this behavior.\n",
      "  _warn_prf(average, modifier, msg_start, len(result))\n",
      "/Users/matias/miniconda3/envs/gen-methods/lib/python3.7/site-packages/sklearn/metrics/_classification.py:1272: UndefinedMetricWarning: Precision and F-score are ill-defined and being set to 0.0 in labels with no predicted samples. Use `zero_division` parameter to control this behavior.\n",
      "  _warn_prf(average, modifier, msg_start, len(result))\n",
      "/Users/matias/miniconda3/envs/gen-methods/lib/python3.7/site-packages/sklearn/metrics/_classification.py:1272: UndefinedMetricWarning: Recall and F-score are ill-defined and being set to 0.0 in labels with no true samples. Use `zero_division` parameter to control this behavior.\n",
      "  _warn_prf(average, modifier, msg_start, len(result))\n",
      "/Users/matias/miniconda3/envs/gen-methods/lib/python3.7/site-packages/sklearn/metrics/_classification.py:1272: UndefinedMetricWarning: Recall and F-score are ill-defined and being set to 0.0 in labels with no true samples. Use `zero_division` parameter to control this behavior.\n",
      "  _warn_prf(average, modifier, msg_start, len(result))\n",
      "/Users/matias/miniconda3/envs/gen-methods/lib/python3.7/site-packages/sklearn/metrics/_classification.py:1272: UndefinedMetricWarning: Precision and F-score are ill-defined and being set to 0.0 in labels with no predicted samples. Use `zero_division` parameter to control this behavior.\n",
      "  _warn_prf(average, modifier, msg_start, len(result))\n",
      "/Users/matias/miniconda3/envs/gen-methods/lib/python3.7/site-packages/sklearn/metrics/_classification.py:1272: UndefinedMetricWarning: Precision and F-score are ill-defined and being set to 0.0 in labels with no predicted samples. Use `zero_division` parameter to control this behavior.\n",
      "  _warn_prf(average, modifier, msg_start, len(result))\n"
     ]
    },
    {
     "name": "stdout",
     "output_type": "stream",
     "text": [
      "End of 20 trial\n",
      "Original occutherm train dataset shape Counter({0: 818, -1: 303, -2: 172, 1: 171, 2: 44})\n",
      "Resampled (SMOTE) real + synth dataset shape Counter({-1: 818, 1: 818, -2: 818, 0: 818, 2: 818})\n",
      "Resampled (SMOTE) synth dataset shape Counter({2: 774, 1: 647, -2: 646, -1: 514})\n",
      "Resampled (ADASYN) train (real + synth) dataset shape Counter({1: 851, -1: 823, -2: 823, 0: 818, 2: 814})\n",
      "Resampled (ADASYN) synth dataset shape Counter({2: 770, 1: 680, -2: 651, -1: 520})\n"
     ]
    },
    {
     "name": "stderr",
     "output_type": "stream",
     "text": [
      "/Users/matias/miniconda3/envs/gen-methods/lib/python3.7/site-packages/sklearn/metrics/_classification.py:1272: UndefinedMetricWarning: Precision and F-score are ill-defined and being set to 0.0 in labels with no predicted samples. Use `zero_division` parameter to control this behavior.\n",
      "  _warn_prf(average, modifier, msg_start, len(result))\n",
      "/Users/matias/miniconda3/envs/gen-methods/lib/python3.7/site-packages/sklearn/metrics/_classification.py:1272: UndefinedMetricWarning: Recall and F-score are ill-defined and being set to 0.0 in labels with no true samples. Use `zero_division` parameter to control this behavior.\n",
      "  _warn_prf(average, modifier, msg_start, len(result))\n",
      "/Users/matias/miniconda3/envs/gen-methods/lib/python3.7/site-packages/sklearn/metrics/_classification.py:1272: UndefinedMetricWarning: Recall and F-score are ill-defined and being set to 0.0 in labels with no true samples. Use `zero_division` parameter to control this behavior.\n",
      "  _warn_prf(average, modifier, msg_start, len(result))\n",
      "/Users/matias/miniconda3/envs/gen-methods/lib/python3.7/site-packages/sklearn/metrics/_classification.py:1272: UndefinedMetricWarning: Precision and F-score are ill-defined and being set to 0.0 in labels with no predicted samples. Use `zero_division` parameter to control this behavior.\n",
      "  _warn_prf(average, modifier, msg_start, len(result))\n",
      "/Users/matias/miniconda3/envs/gen-methods/lib/python3.7/site-packages/sklearn/metrics/_classification.py:1272: UndefinedMetricWarning: Recall and F-score are ill-defined and being set to 0.0 in labels with no true samples. Use `zero_division` parameter to control this behavior.\n",
      "  _warn_prf(average, modifier, msg_start, len(result))\n",
      "/Users/matias/miniconda3/envs/gen-methods/lib/python3.7/site-packages/sklearn/metrics/_classification.py:1272: UndefinedMetricWarning: Recall and F-score are ill-defined and being set to 0.0 in labels with no true samples. Use `zero_division` parameter to control this behavior.\n",
      "  _warn_prf(average, modifier, msg_start, len(result))\n",
      "/Users/matias/miniconda3/envs/gen-methods/lib/python3.7/site-packages/sklearn/metrics/_classification.py:1272: UndefinedMetricWarning: Precision and F-score are ill-defined and being set to 0.0 in labels with no predicted samples. Use `zero_division` parameter to control this behavior.\n",
      "  _warn_prf(average, modifier, msg_start, len(result))\n",
      "/Users/matias/miniconda3/envs/gen-methods/lib/python3.7/site-packages/sklearn/metrics/_classification.py:1272: UndefinedMetricWarning: Precision and F-score are ill-defined and being set to 0.0 in labels with no predicted samples. Use `zero_division` parameter to control this behavior.\n",
      "  _warn_prf(average, modifier, msg_start, len(result))\n"
     ]
    },
    {
     "name": "stdout",
     "output_type": "stream",
     "text": [
      "End of 21 trial\n",
      "Original occutherm train dataset shape Counter({0: 818, -1: 303, -2: 172, 1: 171, 2: 44})\n",
      "Resampled (SMOTE) real + synth dataset shape Counter({2: 818, 0: 818, -2: 818, 1: 818, -1: 818})\n",
      "Resampled (SMOTE) synth dataset shape Counter({2: 774, 1: 647, -2: 646, -1: 514})\n",
      "Resampled (ADASYN) train (real + synth) dataset shape Counter({1: 851, -2: 823, -1: 823, 0: 818, 2: 814})\n",
      "Resampled (ADASYN) synth dataset shape Counter({2: 770, 1: 680, -2: 651, -1: 519})\n"
     ]
    },
    {
     "name": "stderr",
     "output_type": "stream",
     "text": [
      "/Users/matias/miniconda3/envs/gen-methods/lib/python3.7/site-packages/sklearn/metrics/_classification.py:1272: UndefinedMetricWarning: Precision and F-score are ill-defined and being set to 0.0 in labels with no predicted samples. Use `zero_division` parameter to control this behavior.\n",
      "  _warn_prf(average, modifier, msg_start, len(result))\n",
      "/Users/matias/miniconda3/envs/gen-methods/lib/python3.7/site-packages/sklearn/metrics/_classification.py:1272: UndefinedMetricWarning: Recall and F-score are ill-defined and being set to 0.0 in labels with no true samples. Use `zero_division` parameter to control this behavior.\n",
      "  _warn_prf(average, modifier, msg_start, len(result))\n",
      "/Users/matias/miniconda3/envs/gen-methods/lib/python3.7/site-packages/sklearn/metrics/_classification.py:1272: UndefinedMetricWarning: Recall and F-score are ill-defined and being set to 0.0 in labels with no true samples. Use `zero_division` parameter to control this behavior.\n",
      "  _warn_prf(average, modifier, msg_start, len(result))\n",
      "/Users/matias/miniconda3/envs/gen-methods/lib/python3.7/site-packages/sklearn/metrics/_classification.py:1272: UndefinedMetricWarning: Precision and F-score are ill-defined and being set to 0.0 in labels with no predicted samples. Use `zero_division` parameter to control this behavior.\n",
      "  _warn_prf(average, modifier, msg_start, len(result))\n",
      "/Users/matias/miniconda3/envs/gen-methods/lib/python3.7/site-packages/sklearn/metrics/_classification.py:1272: UndefinedMetricWarning: Recall and F-score are ill-defined and being set to 0.0 in labels with no true samples. Use `zero_division` parameter to control this behavior.\n",
      "  _warn_prf(average, modifier, msg_start, len(result))\n",
      "/Users/matias/miniconda3/envs/gen-methods/lib/python3.7/site-packages/sklearn/metrics/_classification.py:1272: UndefinedMetricWarning: Recall and F-score are ill-defined and being set to 0.0 in labels with no true samples. Use `zero_division` parameter to control this behavior.\n",
      "  _warn_prf(average, modifier, msg_start, len(result))\n",
      "/Users/matias/miniconda3/envs/gen-methods/lib/python3.7/site-packages/sklearn/metrics/_classification.py:1272: UndefinedMetricWarning: Precision and F-score are ill-defined and being set to 0.0 in labels with no predicted samples. Use `zero_division` parameter to control this behavior.\n",
      "  _warn_prf(average, modifier, msg_start, len(result))\n",
      "/Users/matias/miniconda3/envs/gen-methods/lib/python3.7/site-packages/sklearn/metrics/_classification.py:1272: UndefinedMetricWarning: Precision and F-score are ill-defined and being set to 0.0 in labels with no predicted samples. Use `zero_division` parameter to control this behavior.\n",
      "  _warn_prf(average, modifier, msg_start, len(result))\n"
     ]
    },
    {
     "name": "stdout",
     "output_type": "stream",
     "text": [
      "End of 22 trial\n",
      "Original occutherm train dataset shape Counter({0: 818, -1: 303, -2: 172, 1: 171, 2: 44})\n",
      "Resampled (SMOTE) real + synth dataset shape Counter({1: 818, -2: 818, -1: 818, 0: 818, 2: 818})\n",
      "Resampled (SMOTE) synth dataset shape Counter({2: 774, 1: 647, -2: 646, -1: 514})\n",
      "Resampled (ADASYN) train (real + synth) dataset shape Counter({1: 851, -2: 823, -1: 823, 0: 818, 2: 814})\n",
      "Resampled (ADASYN) synth dataset shape Counter({2: 770, 1: 680, -2: 651, -1: 520})\n"
     ]
    },
    {
     "name": "stderr",
     "output_type": "stream",
     "text": [
      "/Users/matias/miniconda3/envs/gen-methods/lib/python3.7/site-packages/sklearn/metrics/_classification.py:1272: UndefinedMetricWarning: Precision and F-score are ill-defined and being set to 0.0 in labels with no predicted samples. Use `zero_division` parameter to control this behavior.\n",
      "  _warn_prf(average, modifier, msg_start, len(result))\n",
      "/Users/matias/miniconda3/envs/gen-methods/lib/python3.7/site-packages/sklearn/metrics/_classification.py:1272: UndefinedMetricWarning: Recall and F-score are ill-defined and being set to 0.0 in labels with no true samples. Use `zero_division` parameter to control this behavior.\n",
      "  _warn_prf(average, modifier, msg_start, len(result))\n",
      "/Users/matias/miniconda3/envs/gen-methods/lib/python3.7/site-packages/sklearn/metrics/_classification.py:1272: UndefinedMetricWarning: Recall and F-score are ill-defined and being set to 0.0 in labels with no true samples. Use `zero_division` parameter to control this behavior.\n",
      "  _warn_prf(average, modifier, msg_start, len(result))\n",
      "/Users/matias/miniconda3/envs/gen-methods/lib/python3.7/site-packages/sklearn/metrics/_classification.py:1272: UndefinedMetricWarning: Precision and F-score are ill-defined and being set to 0.0 in labels with no predicted samples. Use `zero_division` parameter to control this behavior.\n",
      "  _warn_prf(average, modifier, msg_start, len(result))\n",
      "/Users/matias/miniconda3/envs/gen-methods/lib/python3.7/site-packages/sklearn/metrics/_classification.py:1272: UndefinedMetricWarning: Recall and F-score are ill-defined and being set to 0.0 in labels with no true samples. Use `zero_division` parameter to control this behavior.\n",
      "  _warn_prf(average, modifier, msg_start, len(result))\n",
      "/Users/matias/miniconda3/envs/gen-methods/lib/python3.7/site-packages/sklearn/metrics/_classification.py:1272: UndefinedMetricWarning: Recall and F-score are ill-defined and being set to 0.0 in labels with no true samples. Use `zero_division` parameter to control this behavior.\n",
      "  _warn_prf(average, modifier, msg_start, len(result))\n",
      "/Users/matias/miniconda3/envs/gen-methods/lib/python3.7/site-packages/sklearn/metrics/_classification.py:1272: UndefinedMetricWarning: Precision and F-score are ill-defined and being set to 0.0 in labels with no predicted samples. Use `zero_division` parameter to control this behavior.\n",
      "  _warn_prf(average, modifier, msg_start, len(result))\n",
      "/Users/matias/miniconda3/envs/gen-methods/lib/python3.7/site-packages/sklearn/metrics/_classification.py:1272: UndefinedMetricWarning: Precision and F-score are ill-defined and being set to 0.0 in labels with no predicted samples. Use `zero_division` parameter to control this behavior.\n",
      "  _warn_prf(average, modifier, msg_start, len(result))\n"
     ]
    },
    {
     "name": "stdout",
     "output_type": "stream",
     "text": [
      "End of 23 trial\n",
      "Original occutherm train dataset shape Counter({0: 818, -1: 303, -2: 172, 1: 171, 2: 44})\n",
      "Resampled (SMOTE) real + synth dataset shape Counter({-2: 818, 0: 818, 1: 818, 2: 818, -1: 818})\n",
      "Resampled (SMOTE) synth dataset shape Counter({2: 774, 1: 647, -2: 646, -1: 512})\n",
      "Resampled (ADASYN) train (real + synth) dataset shape Counter({1: 851, -1: 823, -2: 823, 0: 818, 2: 814})\n",
      "Resampled (ADASYN) synth dataset shape Counter({2: 770, 1: 680, -2: 651, -1: 518})\n"
     ]
    },
    {
     "name": "stderr",
     "output_type": "stream",
     "text": [
      "/Users/matias/miniconda3/envs/gen-methods/lib/python3.7/site-packages/sklearn/metrics/_classification.py:1272: UndefinedMetricWarning: Precision and F-score are ill-defined and being set to 0.0 in labels with no predicted samples. Use `zero_division` parameter to control this behavior.\n",
      "  _warn_prf(average, modifier, msg_start, len(result))\n",
      "/Users/matias/miniconda3/envs/gen-methods/lib/python3.7/site-packages/sklearn/metrics/_classification.py:1272: UndefinedMetricWarning: Recall and F-score are ill-defined and being set to 0.0 in labels with no true samples. Use `zero_division` parameter to control this behavior.\n",
      "  _warn_prf(average, modifier, msg_start, len(result))\n",
      "/Users/matias/miniconda3/envs/gen-methods/lib/python3.7/site-packages/sklearn/metrics/_classification.py:1272: UndefinedMetricWarning: Recall and F-score are ill-defined and being set to 0.0 in labels with no true samples. Use `zero_division` parameter to control this behavior.\n",
      "  _warn_prf(average, modifier, msg_start, len(result))\n",
      "/Users/matias/miniconda3/envs/gen-methods/lib/python3.7/site-packages/sklearn/metrics/_classification.py:1272: UndefinedMetricWarning: Precision and F-score are ill-defined and being set to 0.0 in labels with no predicted samples. Use `zero_division` parameter to control this behavior.\n",
      "  _warn_prf(average, modifier, msg_start, len(result))\n",
      "/Users/matias/miniconda3/envs/gen-methods/lib/python3.7/site-packages/sklearn/metrics/_classification.py:1272: UndefinedMetricWarning: Recall and F-score are ill-defined and being set to 0.0 in labels with no true samples. Use `zero_division` parameter to control this behavior.\n",
      "  _warn_prf(average, modifier, msg_start, len(result))\n",
      "/Users/matias/miniconda3/envs/gen-methods/lib/python3.7/site-packages/sklearn/metrics/_classification.py:1272: UndefinedMetricWarning: Recall and F-score are ill-defined and being set to 0.0 in labels with no true samples. Use `zero_division` parameter to control this behavior.\n",
      "  _warn_prf(average, modifier, msg_start, len(result))\n",
      "/Users/matias/miniconda3/envs/gen-methods/lib/python3.7/site-packages/sklearn/metrics/_classification.py:1272: UndefinedMetricWarning: Precision and F-score are ill-defined and being set to 0.0 in labels with no predicted samples. Use `zero_division` parameter to control this behavior.\n",
      "  _warn_prf(average, modifier, msg_start, len(result))\n",
      "/Users/matias/miniconda3/envs/gen-methods/lib/python3.7/site-packages/sklearn/metrics/_classification.py:1272: UndefinedMetricWarning: Precision and F-score are ill-defined and being set to 0.0 in labels with no predicted samples. Use `zero_division` parameter to control this behavior.\n",
      "  _warn_prf(average, modifier, msg_start, len(result))\n"
     ]
    },
    {
     "name": "stdout",
     "output_type": "stream",
     "text": [
      "End of 24 trial\n",
      "Original occutherm train dataset shape Counter({0: 818, -1: 303, -2: 172, 1: 171, 2: 44})\n",
      "Resampled (SMOTE) real + synth dataset shape Counter({2: 818, -2: 818, 0: 818, 1: 818, -1: 818})\n",
      "Resampled (SMOTE) synth dataset shape Counter({2: 774, 1: 647, -2: 646, -1: 514})\n",
      "Resampled (ADASYN) train (real + synth) dataset shape Counter({1: 851, -1: 823, -2: 823, 0: 818, 2: 814})\n",
      "Resampled (ADASYN) synth dataset shape Counter({2: 770, 1: 680, -2: 651, -1: 517})\n"
     ]
    },
    {
     "name": "stderr",
     "output_type": "stream",
     "text": [
      "/Users/matias/miniconda3/envs/gen-methods/lib/python3.7/site-packages/sklearn/metrics/_classification.py:1272: UndefinedMetricWarning: Precision and F-score are ill-defined and being set to 0.0 in labels with no predicted samples. Use `zero_division` parameter to control this behavior.\n",
      "  _warn_prf(average, modifier, msg_start, len(result))\n",
      "/Users/matias/miniconda3/envs/gen-methods/lib/python3.7/site-packages/sklearn/metrics/_classification.py:1272: UndefinedMetricWarning: Recall and F-score are ill-defined and being set to 0.0 in labels with no true samples. Use `zero_division` parameter to control this behavior.\n",
      "  _warn_prf(average, modifier, msg_start, len(result))\n",
      "/Users/matias/miniconda3/envs/gen-methods/lib/python3.7/site-packages/sklearn/metrics/_classification.py:1272: UndefinedMetricWarning: Recall and F-score are ill-defined and being set to 0.0 in labels with no true samples. Use `zero_division` parameter to control this behavior.\n",
      "  _warn_prf(average, modifier, msg_start, len(result))\n",
      "/Users/matias/miniconda3/envs/gen-methods/lib/python3.7/site-packages/sklearn/metrics/_classification.py:1272: UndefinedMetricWarning: Precision and F-score are ill-defined and being set to 0.0 in labels with no predicted samples. Use `zero_division` parameter to control this behavior.\n",
      "  _warn_prf(average, modifier, msg_start, len(result))\n",
      "/Users/matias/miniconda3/envs/gen-methods/lib/python3.7/site-packages/sklearn/metrics/_classification.py:1272: UndefinedMetricWarning: Recall and F-score are ill-defined and being set to 0.0 in labels with no true samples. Use `zero_division` parameter to control this behavior.\n",
      "  _warn_prf(average, modifier, msg_start, len(result))\n",
      "/Users/matias/miniconda3/envs/gen-methods/lib/python3.7/site-packages/sklearn/metrics/_classification.py:1272: UndefinedMetricWarning: Recall and F-score are ill-defined and being set to 0.0 in labels with no true samples. Use `zero_division` parameter to control this behavior.\n",
      "  _warn_prf(average, modifier, msg_start, len(result))\n",
      "/Users/matias/miniconda3/envs/gen-methods/lib/python3.7/site-packages/sklearn/metrics/_classification.py:1272: UndefinedMetricWarning: Precision and F-score are ill-defined and being set to 0.0 in labels with no predicted samples. Use `zero_division` parameter to control this behavior.\n",
      "  _warn_prf(average, modifier, msg_start, len(result))\n",
      "/Users/matias/miniconda3/envs/gen-methods/lib/python3.7/site-packages/sklearn/metrics/_classification.py:1272: UndefinedMetricWarning: Precision and F-score are ill-defined and being set to 0.0 in labels with no predicted samples. Use `zero_division` parameter to control this behavior.\n",
      "  _warn_prf(average, modifier, msg_start, len(result))\n"
     ]
    },
    {
     "name": "stdout",
     "output_type": "stream",
     "text": [
      "End of 25 trial\n",
      "Original occutherm train dataset shape Counter({0: 818, -1: 303, -2: 172, 1: 171, 2: 44})\n",
      "Resampled (SMOTE) real + synth dataset shape Counter({-2: 818, -1: 818, 2: 818, 1: 818, 0: 818})\n",
      "Resampled (SMOTE) synth dataset shape Counter({2: 774, 1: 647, -2: 646, -1: 514})\n",
      "Resampled (ADASYN) train (real + synth) dataset shape Counter({1: 851, -1: 823, -2: 823, 0: 818, 2: 814})\n",
      "Resampled (ADASYN) synth dataset shape Counter({2: 770, 1: 680, -2: 651, -1: 518})\n"
     ]
    },
    {
     "name": "stderr",
     "output_type": "stream",
     "text": [
      "/Users/matias/miniconda3/envs/gen-methods/lib/python3.7/site-packages/sklearn/metrics/_classification.py:1272: UndefinedMetricWarning: Precision and F-score are ill-defined and being set to 0.0 in labels with no predicted samples. Use `zero_division` parameter to control this behavior.\n",
      "  _warn_prf(average, modifier, msg_start, len(result))\n",
      "/Users/matias/miniconda3/envs/gen-methods/lib/python3.7/site-packages/sklearn/metrics/_classification.py:1272: UndefinedMetricWarning: Recall and F-score are ill-defined and being set to 0.0 in labels with no true samples. Use `zero_division` parameter to control this behavior.\n",
      "  _warn_prf(average, modifier, msg_start, len(result))\n",
      "/Users/matias/miniconda3/envs/gen-methods/lib/python3.7/site-packages/sklearn/metrics/_classification.py:1272: UndefinedMetricWarning: Recall and F-score are ill-defined and being set to 0.0 in labels with no true samples. Use `zero_division` parameter to control this behavior.\n",
      "  _warn_prf(average, modifier, msg_start, len(result))\n",
      "/Users/matias/miniconda3/envs/gen-methods/lib/python3.7/site-packages/sklearn/metrics/_classification.py:1272: UndefinedMetricWarning: Precision and F-score are ill-defined and being set to 0.0 in labels with no predicted samples. Use `zero_division` parameter to control this behavior.\n",
      "  _warn_prf(average, modifier, msg_start, len(result))\n",
      "/Users/matias/miniconda3/envs/gen-methods/lib/python3.7/site-packages/sklearn/metrics/_classification.py:1272: UndefinedMetricWarning: Recall and F-score are ill-defined and being set to 0.0 in labels with no true samples. Use `zero_division` parameter to control this behavior.\n",
      "  _warn_prf(average, modifier, msg_start, len(result))\n",
      "/Users/matias/miniconda3/envs/gen-methods/lib/python3.7/site-packages/sklearn/metrics/_classification.py:1272: UndefinedMetricWarning: Recall and F-score are ill-defined and being set to 0.0 in labels with no true samples. Use `zero_division` parameter to control this behavior.\n",
      "  _warn_prf(average, modifier, msg_start, len(result))\n",
      "/Users/matias/miniconda3/envs/gen-methods/lib/python3.7/site-packages/sklearn/metrics/_classification.py:1272: UndefinedMetricWarning: Precision and F-score are ill-defined and being set to 0.0 in labels with no predicted samples. Use `zero_division` parameter to control this behavior.\n",
      "  _warn_prf(average, modifier, msg_start, len(result))\n",
      "/Users/matias/miniconda3/envs/gen-methods/lib/python3.7/site-packages/sklearn/metrics/_classification.py:1272: UndefinedMetricWarning: Precision and F-score are ill-defined and being set to 0.0 in labels with no predicted samples. Use `zero_division` parameter to control this behavior.\n",
      "  _warn_prf(average, modifier, msg_start, len(result))\n"
     ]
    },
    {
     "name": "stdout",
     "output_type": "stream",
     "text": [
      "End of 26 trial\n",
      "Original occutherm train dataset shape Counter({0: 818, -1: 303, -2: 172, 1: 171, 2: 44})\n",
      "Resampled (SMOTE) real + synth dataset shape Counter({-2: 818, 0: 818, 1: 818, -1: 818, 2: 818})\n",
      "Resampled (SMOTE) synth dataset shape Counter({2: 774, 1: 647, -2: 646, -1: 513})\n",
      "Resampled (ADASYN) train (real + synth) dataset shape Counter({1: 851, -1: 823, -2: 823, 0: 818, 2: 814})\n",
      "Resampled (ADASYN) synth dataset shape Counter({2: 770, 1: 680, -2: 651, -1: 518})\n"
     ]
    },
    {
     "name": "stderr",
     "output_type": "stream",
     "text": [
      "/Users/matias/miniconda3/envs/gen-methods/lib/python3.7/site-packages/sklearn/metrics/_classification.py:1272: UndefinedMetricWarning: Precision and F-score are ill-defined and being set to 0.0 in labels with no predicted samples. Use `zero_division` parameter to control this behavior.\n",
      "  _warn_prf(average, modifier, msg_start, len(result))\n",
      "/Users/matias/miniconda3/envs/gen-methods/lib/python3.7/site-packages/sklearn/metrics/_classification.py:1272: UndefinedMetricWarning: Recall and F-score are ill-defined and being set to 0.0 in labels with no true samples. Use `zero_division` parameter to control this behavior.\n",
      "  _warn_prf(average, modifier, msg_start, len(result))\n",
      "/Users/matias/miniconda3/envs/gen-methods/lib/python3.7/site-packages/sklearn/metrics/_classification.py:1272: UndefinedMetricWarning: Recall and F-score are ill-defined and being set to 0.0 in labels with no true samples. Use `zero_division` parameter to control this behavior.\n",
      "  _warn_prf(average, modifier, msg_start, len(result))\n",
      "/Users/matias/miniconda3/envs/gen-methods/lib/python3.7/site-packages/sklearn/metrics/_classification.py:1272: UndefinedMetricWarning: Precision and F-score are ill-defined and being set to 0.0 in labels with no predicted samples. Use `zero_division` parameter to control this behavior.\n",
      "  _warn_prf(average, modifier, msg_start, len(result))\n",
      "/Users/matias/miniconda3/envs/gen-methods/lib/python3.7/site-packages/sklearn/metrics/_classification.py:1272: UndefinedMetricWarning: Recall and F-score are ill-defined and being set to 0.0 in labels with no true samples. Use `zero_division` parameter to control this behavior.\n",
      "  _warn_prf(average, modifier, msg_start, len(result))\n",
      "/Users/matias/miniconda3/envs/gen-methods/lib/python3.7/site-packages/sklearn/metrics/_classification.py:1272: UndefinedMetricWarning: Recall and F-score are ill-defined and being set to 0.0 in labels with no true samples. Use `zero_division` parameter to control this behavior.\n",
      "  _warn_prf(average, modifier, msg_start, len(result))\n",
      "/Users/matias/miniconda3/envs/gen-methods/lib/python3.7/site-packages/sklearn/metrics/_classification.py:1272: UndefinedMetricWarning: Precision and F-score are ill-defined and being set to 0.0 in labels with no predicted samples. Use `zero_division` parameter to control this behavior.\n",
      "  _warn_prf(average, modifier, msg_start, len(result))\n",
      "/Users/matias/miniconda3/envs/gen-methods/lib/python3.7/site-packages/sklearn/metrics/_classification.py:1272: UndefinedMetricWarning: Precision and F-score are ill-defined and being set to 0.0 in labels with no predicted samples. Use `zero_division` parameter to control this behavior.\n",
      "  _warn_prf(average, modifier, msg_start, len(result))\n"
     ]
    },
    {
     "name": "stdout",
     "output_type": "stream",
     "text": [
      "End of 27 trial\n",
      "Original occutherm train dataset shape Counter({0: 818, -1: 303, -2: 172, 1: 171, 2: 44})\n",
      "Resampled (SMOTE) real + synth dataset shape Counter({2: 818, 1: 818, -2: 818, 0: 818, -1: 818})\n",
      "Resampled (SMOTE) synth dataset shape Counter({2: 774, 1: 647, -2: 646, -1: 513})\n",
      "Resampled (ADASYN) train (real + synth) dataset shape Counter({1: 851, -2: 823, -1: 823, 0: 818, 2: 814})\n",
      "Resampled (ADASYN) synth dataset shape Counter({2: 770, 1: 680, -2: 651, -1: 519})\n"
     ]
    },
    {
     "name": "stderr",
     "output_type": "stream",
     "text": [
      "/Users/matias/miniconda3/envs/gen-methods/lib/python3.7/site-packages/sklearn/metrics/_classification.py:1272: UndefinedMetricWarning: Precision and F-score are ill-defined and being set to 0.0 in labels with no predicted samples. Use `zero_division` parameter to control this behavior.\n",
      "  _warn_prf(average, modifier, msg_start, len(result))\n",
      "/Users/matias/miniconda3/envs/gen-methods/lib/python3.7/site-packages/sklearn/metrics/_classification.py:1272: UndefinedMetricWarning: Recall and F-score are ill-defined and being set to 0.0 in labels with no true samples. Use `zero_division` parameter to control this behavior.\n",
      "  _warn_prf(average, modifier, msg_start, len(result))\n",
      "/Users/matias/miniconda3/envs/gen-methods/lib/python3.7/site-packages/sklearn/metrics/_classification.py:1272: UndefinedMetricWarning: Recall and F-score are ill-defined and being set to 0.0 in labels with no true samples. Use `zero_division` parameter to control this behavior.\n",
      "  _warn_prf(average, modifier, msg_start, len(result))\n",
      "/Users/matias/miniconda3/envs/gen-methods/lib/python3.7/site-packages/sklearn/metrics/_classification.py:1272: UndefinedMetricWarning: Precision and F-score are ill-defined and being set to 0.0 in labels with no predicted samples. Use `zero_division` parameter to control this behavior.\n",
      "  _warn_prf(average, modifier, msg_start, len(result))\n",
      "/Users/matias/miniconda3/envs/gen-methods/lib/python3.7/site-packages/sklearn/metrics/_classification.py:1272: UndefinedMetricWarning: Recall and F-score are ill-defined and being set to 0.0 in labels with no true samples. Use `zero_division` parameter to control this behavior.\n",
      "  _warn_prf(average, modifier, msg_start, len(result))\n",
      "/Users/matias/miniconda3/envs/gen-methods/lib/python3.7/site-packages/sklearn/metrics/_classification.py:1272: UndefinedMetricWarning: Recall and F-score are ill-defined and being set to 0.0 in labels with no true samples. Use `zero_division` parameter to control this behavior.\n",
      "  _warn_prf(average, modifier, msg_start, len(result))\n",
      "/Users/matias/miniconda3/envs/gen-methods/lib/python3.7/site-packages/sklearn/metrics/_classification.py:1272: UndefinedMetricWarning: Precision and F-score are ill-defined and being set to 0.0 in labels with no predicted samples. Use `zero_division` parameter to control this behavior.\n",
      "  _warn_prf(average, modifier, msg_start, len(result))\n",
      "/Users/matias/miniconda3/envs/gen-methods/lib/python3.7/site-packages/sklearn/metrics/_classification.py:1272: UndefinedMetricWarning: Precision and F-score are ill-defined and being set to 0.0 in labels with no predicted samples. Use `zero_division` parameter to control this behavior.\n",
      "  _warn_prf(average, modifier, msg_start, len(result))\n"
     ]
    },
    {
     "name": "stdout",
     "output_type": "stream",
     "text": [
      "End of 28 trial\n",
      "Original occutherm train dataset shape Counter({0: 818, -1: 303, -2: 172, 1: 171, 2: 44})\n",
      "Resampled (SMOTE) real + synth dataset shape Counter({-1: 818, 1: 818, 0: 818, -2: 818, 2: 818})\n",
      "Resampled (SMOTE) synth dataset shape Counter({2: 774, 1: 647, -2: 646, -1: 514})\n",
      "Resampled (ADASYN) train (real + synth) dataset shape Counter({1: 851, -1: 823, -2: 823, 0: 818, 2: 814})\n",
      "Resampled (ADASYN) synth dataset shape Counter({2: 770, 1: 680, -2: 651, -1: 519})\n"
     ]
    },
    {
     "name": "stderr",
     "output_type": "stream",
     "text": [
      "/Users/matias/miniconda3/envs/gen-methods/lib/python3.7/site-packages/sklearn/metrics/_classification.py:1272: UndefinedMetricWarning: Precision and F-score are ill-defined and being set to 0.0 in labels with no predicted samples. Use `zero_division` parameter to control this behavior.\n",
      "  _warn_prf(average, modifier, msg_start, len(result))\n",
      "/Users/matias/miniconda3/envs/gen-methods/lib/python3.7/site-packages/sklearn/metrics/_classification.py:1272: UndefinedMetricWarning: Recall and F-score are ill-defined and being set to 0.0 in labels with no true samples. Use `zero_division` parameter to control this behavior.\n",
      "  _warn_prf(average, modifier, msg_start, len(result))\n",
      "/Users/matias/miniconda3/envs/gen-methods/lib/python3.7/site-packages/sklearn/metrics/_classification.py:1272: UndefinedMetricWarning: Recall and F-score are ill-defined and being set to 0.0 in labels with no true samples. Use `zero_division` parameter to control this behavior.\n",
      "  _warn_prf(average, modifier, msg_start, len(result))\n",
      "/Users/matias/miniconda3/envs/gen-methods/lib/python3.7/site-packages/sklearn/metrics/_classification.py:1272: UndefinedMetricWarning: Precision and F-score are ill-defined and being set to 0.0 in labels with no predicted samples. Use `zero_division` parameter to control this behavior.\n",
      "  _warn_prf(average, modifier, msg_start, len(result))\n",
      "/Users/matias/miniconda3/envs/gen-methods/lib/python3.7/site-packages/sklearn/metrics/_classification.py:1272: UndefinedMetricWarning: Recall and F-score are ill-defined and being set to 0.0 in labels with no true samples. Use `zero_division` parameter to control this behavior.\n",
      "  _warn_prf(average, modifier, msg_start, len(result))\n",
      "/Users/matias/miniconda3/envs/gen-methods/lib/python3.7/site-packages/sklearn/metrics/_classification.py:1272: UndefinedMetricWarning: Recall and F-score are ill-defined and being set to 0.0 in labels with no true samples. Use `zero_division` parameter to control this behavior.\n",
      "  _warn_prf(average, modifier, msg_start, len(result))\n",
      "/Users/matias/miniconda3/envs/gen-methods/lib/python3.7/site-packages/sklearn/metrics/_classification.py:1272: UndefinedMetricWarning: Precision and F-score are ill-defined and being set to 0.0 in labels with no predicted samples. Use `zero_division` parameter to control this behavior.\n",
      "  _warn_prf(average, modifier, msg_start, len(result))\n",
      "/Users/matias/miniconda3/envs/gen-methods/lib/python3.7/site-packages/sklearn/metrics/_classification.py:1272: UndefinedMetricWarning: Precision and F-score are ill-defined and being set to 0.0 in labels with no predicted samples. Use `zero_division` parameter to control this behavior.\n",
      "  _warn_prf(average, modifier, msg_start, len(result))\n"
     ]
    },
    {
     "name": "stdout",
     "output_type": "stream",
     "text": [
      "End of 29 trial\n",
      "Original occutherm train dataset shape Counter({0: 818, -1: 303, -2: 172, 1: 171, 2: 44})\n",
      "Resampled (SMOTE) real + synth dataset shape Counter({2: 818, 0: 818, -1: 818, -2: 818, 1: 818})\n",
      "Resampled (SMOTE) synth dataset shape Counter({2: 774, 1: 647, -2: 646, -1: 514})\n",
      "Resampled (ADASYN) train (real + synth) dataset shape Counter({1: 851, -2: 823, -1: 823, 0: 818, 2: 814})\n",
      "Resampled (ADASYN) synth dataset shape Counter({2: 770, 1: 680, -2: 651, -1: 520})\n"
     ]
    },
    {
     "name": "stderr",
     "output_type": "stream",
     "text": [
      "/Users/matias/miniconda3/envs/gen-methods/lib/python3.7/site-packages/sklearn/metrics/_classification.py:1272: UndefinedMetricWarning: Precision and F-score are ill-defined and being set to 0.0 in labels with no predicted samples. Use `zero_division` parameter to control this behavior.\n",
      "  _warn_prf(average, modifier, msg_start, len(result))\n",
      "/Users/matias/miniconda3/envs/gen-methods/lib/python3.7/site-packages/sklearn/metrics/_classification.py:1272: UndefinedMetricWarning: Recall and F-score are ill-defined and being set to 0.0 in labels with no true samples. Use `zero_division` parameter to control this behavior.\n",
      "  _warn_prf(average, modifier, msg_start, len(result))\n",
      "/Users/matias/miniconda3/envs/gen-methods/lib/python3.7/site-packages/sklearn/metrics/_classification.py:1272: UndefinedMetricWarning: Recall and F-score are ill-defined and being set to 0.0 in labels with no true samples. Use `zero_division` parameter to control this behavior.\n",
      "  _warn_prf(average, modifier, msg_start, len(result))\n",
      "/Users/matias/miniconda3/envs/gen-methods/lib/python3.7/site-packages/sklearn/metrics/_classification.py:1272: UndefinedMetricWarning: Precision and F-score are ill-defined and being set to 0.0 in labels with no predicted samples. Use `zero_division` parameter to control this behavior.\n",
      "  _warn_prf(average, modifier, msg_start, len(result))\n",
      "/Users/matias/miniconda3/envs/gen-methods/lib/python3.7/site-packages/sklearn/metrics/_classification.py:1272: UndefinedMetricWarning: Recall and F-score are ill-defined and being set to 0.0 in labels with no true samples. Use `zero_division` parameter to control this behavior.\n",
      "  _warn_prf(average, modifier, msg_start, len(result))\n",
      "/Users/matias/miniconda3/envs/gen-methods/lib/python3.7/site-packages/sklearn/metrics/_classification.py:1272: UndefinedMetricWarning: Recall and F-score are ill-defined and being set to 0.0 in labels with no true samples. Use `zero_division` parameter to control this behavior.\n",
      "  _warn_prf(average, modifier, msg_start, len(result))\n"
     ]
    },
    {
     "name": "stdout",
     "output_type": "stream",
     "text": [
      "End of 30 trial\n",
      "################################################################################\n",
      "# Metrics and models for dataset occutherm saved!\n",
      "################################################################################\n"
     ]
    },
    {
     "name": "stderr",
     "output_type": "stream",
     "text": [
      "/Users/matias/miniconda3/envs/gen-methods/lib/python3.7/site-packages/sklearn/metrics/_classification.py:1272: UndefinedMetricWarning: Precision and F-score are ill-defined and being set to 0.0 in labels with no predicted samples. Use `zero_division` parameter to control this behavior.\n",
      "  _warn_prf(average, modifier, msg_start, len(result))\n",
      "/Users/matias/miniconda3/envs/gen-methods/lib/python3.7/site-packages/sklearn/metrics/_classification.py:1272: UndefinedMetricWarning: Precision and F-score are ill-defined and being set to 0.0 in labels with no predicted samples. Use `zero_division` parameter to control this behavior.\n",
      "  _warn_prf(average, modifier, msg_start, len(result))\n"
     ]
    }
   ],
   "source": [
    "evaluate_on_dataset(df_tcs_train, df_tcs_test, model='smote', dataset='occutherm')\n"
   ]
  },
  {
   "cell_type": "code",
   "execution_count": 9,
   "metadata": {
    "collapsed": true,
    "jupyter": {
     "outputs_hidden": true
    }
   },
   "outputs": [
    {
     "name": "stdout",
     "output_type": "stream",
     "text": [
      "Original occutherm train dataset shape Counter({0: 818, -1: 303, -2: 172, 1: 171, 2: 44})\n",
      "Resampled (SMOTE) real + synth dataset shape Counter({-1: 818, -2: 818, 2: 818, 0: 818, 1: 818})\n",
      "Resampled (SMOTE) synth dataset shape Counter({2: 774, 1: 647, -2: 646, -1: 513})\n",
      "Resampled (ADASYN) train (real + synth) dataset shape Counter({1: 851, -1: 823, -2: 823, 0: 818, 2: 814})\n",
      "Resampled (ADASYN) synth dataset shape Counter({2: 770, 1: 680, -2: 651, -1: 518})\n"
     ]
    },
    {
     "name": "stderr",
     "output_type": "stream",
     "text": [
      "/Users/matias/miniconda3/envs/gen-methods/lib/python3.7/site-packages/sklearn/metrics/_classification.py:1272: UndefinedMetricWarning: Precision and F-score are ill-defined and being set to 0.0 in labels with no predicted samples. Use `zero_division` parameter to control this behavior.\n",
      "  _warn_prf(average, modifier, msg_start, len(result))\n",
      "/Users/matias/miniconda3/envs/gen-methods/lib/python3.7/site-packages/sklearn/metrics/_classification.py:1272: UndefinedMetricWarning: Recall and F-score are ill-defined and being set to 0.0 in labels with no true samples. Use `zero_division` parameter to control this behavior.\n",
      "  _warn_prf(average, modifier, msg_start, len(result))\n",
      "/Users/matias/miniconda3/envs/gen-methods/lib/python3.7/site-packages/sklearn/metrics/_classification.py:1272: UndefinedMetricWarning: Recall and F-score are ill-defined and being set to 0.0 in labels with no true samples. Use `zero_division` parameter to control this behavior.\n",
      "  _warn_prf(average, modifier, msg_start, len(result))\n",
      "/Users/matias/miniconda3/envs/gen-methods/lib/python3.7/site-packages/sklearn/metrics/_classification.py:1272: UndefinedMetricWarning: Precision and F-score are ill-defined and being set to 0.0 in labels with no predicted samples. Use `zero_division` parameter to control this behavior.\n",
      "  _warn_prf(average, modifier, msg_start, len(result))\n",
      "/Users/matias/miniconda3/envs/gen-methods/lib/python3.7/site-packages/sklearn/metrics/_classification.py:1272: UndefinedMetricWarning: Recall and F-score are ill-defined and being set to 0.0 in labels with no true samples. Use `zero_division` parameter to control this behavior.\n",
      "  _warn_prf(average, modifier, msg_start, len(result))\n",
      "/Users/matias/miniconda3/envs/gen-methods/lib/python3.7/site-packages/sklearn/metrics/_classification.py:1272: UndefinedMetricWarning: Recall and F-score are ill-defined and being set to 0.0 in labels with no true samples. Use `zero_division` parameter to control this behavior.\n",
      "  _warn_prf(average, modifier, msg_start, len(result))\n",
      "/Users/matias/miniconda3/envs/gen-methods/lib/python3.7/site-packages/sklearn/metrics/_classification.py:1272: UndefinedMetricWarning: Precision and F-score are ill-defined and being set to 0.0 in labels with no predicted samples. Use `zero_division` parameter to control this behavior.\n",
      "  _warn_prf(average, modifier, msg_start, len(result))\n",
      "/Users/matias/miniconda3/envs/gen-methods/lib/python3.7/site-packages/sklearn/metrics/_classification.py:1272: UndefinedMetricWarning: Precision and F-score are ill-defined and being set to 0.0 in labels with no predicted samples. Use `zero_division` parameter to control this behavior.\n",
      "  _warn_prf(average, modifier, msg_start, len(result))\n"
     ]
    },
    {
     "name": "stdout",
     "output_type": "stream",
     "text": [
      "End of 1 trial\n",
      "Original occutherm train dataset shape Counter({0: 818, -1: 303, -2: 172, 1: 171, 2: 44})\n",
      "Resampled (SMOTE) real + synth dataset shape Counter({1: 818, -1: 818, 0: 818, -2: 818, 2: 818})\n",
      "Resampled (SMOTE) synth dataset shape Counter({2: 774, 1: 647, -2: 646, -1: 515})\n",
      "Resampled (ADASYN) train (real + synth) dataset shape Counter({1: 851, -1: 823, -2: 823, 0: 818, 2: 814})\n",
      "Resampled (ADASYN) synth dataset shape Counter({2: 770, 1: 680, -2: 651, -1: 519})\n"
     ]
    },
    {
     "name": "stderr",
     "output_type": "stream",
     "text": [
      "/Users/matias/miniconda3/envs/gen-methods/lib/python3.7/site-packages/sklearn/metrics/_classification.py:1272: UndefinedMetricWarning: Precision and F-score are ill-defined and being set to 0.0 in labels with no predicted samples. Use `zero_division` parameter to control this behavior.\n",
      "  _warn_prf(average, modifier, msg_start, len(result))\n",
      "/Users/matias/miniconda3/envs/gen-methods/lib/python3.7/site-packages/sklearn/metrics/_classification.py:1272: UndefinedMetricWarning: Recall and F-score are ill-defined and being set to 0.0 in labels with no true samples. Use `zero_division` parameter to control this behavior.\n",
      "  _warn_prf(average, modifier, msg_start, len(result))\n",
      "/Users/matias/miniconda3/envs/gen-methods/lib/python3.7/site-packages/sklearn/metrics/_classification.py:1272: UndefinedMetricWarning: Recall and F-score are ill-defined and being set to 0.0 in labels with no true samples. Use `zero_division` parameter to control this behavior.\n",
      "  _warn_prf(average, modifier, msg_start, len(result))\n",
      "/Users/matias/miniconda3/envs/gen-methods/lib/python3.7/site-packages/sklearn/metrics/_classification.py:1272: UndefinedMetricWarning: Precision and F-score are ill-defined and being set to 0.0 in labels with no predicted samples. Use `zero_division` parameter to control this behavior.\n",
      "  _warn_prf(average, modifier, msg_start, len(result))\n",
      "/Users/matias/miniconda3/envs/gen-methods/lib/python3.7/site-packages/sklearn/metrics/_classification.py:1272: UndefinedMetricWarning: Recall and F-score are ill-defined and being set to 0.0 in labels with no true samples. Use `zero_division` parameter to control this behavior.\n",
      "  _warn_prf(average, modifier, msg_start, len(result))\n",
      "/Users/matias/miniconda3/envs/gen-methods/lib/python3.7/site-packages/sklearn/metrics/_classification.py:1272: UndefinedMetricWarning: Recall and F-score are ill-defined and being set to 0.0 in labels with no true samples. Use `zero_division` parameter to control this behavior.\n",
      "  _warn_prf(average, modifier, msg_start, len(result))\n",
      "/Users/matias/miniconda3/envs/gen-methods/lib/python3.7/site-packages/sklearn/metrics/_classification.py:1272: UndefinedMetricWarning: Precision and F-score are ill-defined and being set to 0.0 in labels with no predicted samples. Use `zero_division` parameter to control this behavior.\n",
      "  _warn_prf(average, modifier, msg_start, len(result))\n",
      "/Users/matias/miniconda3/envs/gen-methods/lib/python3.7/site-packages/sklearn/metrics/_classification.py:1272: UndefinedMetricWarning: Precision and F-score are ill-defined and being set to 0.0 in labels with no predicted samples. Use `zero_division` parameter to control this behavior.\n",
      "  _warn_prf(average, modifier, msg_start, len(result))\n"
     ]
    },
    {
     "name": "stdout",
     "output_type": "stream",
     "text": [
      "End of 2 trial\n",
      "Original occutherm train dataset shape Counter({0: 818, -1: 303, -2: 172, 1: 171, 2: 44})\n",
      "Resampled (SMOTE) real + synth dataset shape Counter({-2: 818, 2: 818, 1: 818, 0: 818, -1: 818})\n",
      "Resampled (SMOTE) synth dataset shape Counter({2: 774, 1: 647, -2: 646, -1: 513})\n",
      "Resampled (ADASYN) train (real + synth) dataset shape Counter({1: 851, -1: 823, -2: 823, 0: 818, 2: 814})\n",
      "Resampled (ADASYN) synth dataset shape Counter({2: 770, 1: 680, -2: 651, -1: 517})\n"
     ]
    },
    {
     "name": "stderr",
     "output_type": "stream",
     "text": [
      "/Users/matias/miniconda3/envs/gen-methods/lib/python3.7/site-packages/sklearn/metrics/_classification.py:1272: UndefinedMetricWarning: Precision and F-score are ill-defined and being set to 0.0 in labels with no predicted samples. Use `zero_division` parameter to control this behavior.\n",
      "  _warn_prf(average, modifier, msg_start, len(result))\n",
      "/Users/matias/miniconda3/envs/gen-methods/lib/python3.7/site-packages/sklearn/metrics/_classification.py:1272: UndefinedMetricWarning: Recall and F-score are ill-defined and being set to 0.0 in labels with no true samples. Use `zero_division` parameter to control this behavior.\n",
      "  _warn_prf(average, modifier, msg_start, len(result))\n",
      "/Users/matias/miniconda3/envs/gen-methods/lib/python3.7/site-packages/sklearn/metrics/_classification.py:1272: UndefinedMetricWarning: Recall and F-score are ill-defined and being set to 0.0 in labels with no true samples. Use `zero_division` parameter to control this behavior.\n",
      "  _warn_prf(average, modifier, msg_start, len(result))\n",
      "/Users/matias/miniconda3/envs/gen-methods/lib/python3.7/site-packages/sklearn/metrics/_classification.py:1272: UndefinedMetricWarning: Precision and F-score are ill-defined and being set to 0.0 in labels with no predicted samples. Use `zero_division` parameter to control this behavior.\n",
      "  _warn_prf(average, modifier, msg_start, len(result))\n",
      "/Users/matias/miniconda3/envs/gen-methods/lib/python3.7/site-packages/sklearn/metrics/_classification.py:1272: UndefinedMetricWarning: Recall and F-score are ill-defined and being set to 0.0 in labels with no true samples. Use `zero_division` parameter to control this behavior.\n",
      "  _warn_prf(average, modifier, msg_start, len(result))\n",
      "/Users/matias/miniconda3/envs/gen-methods/lib/python3.7/site-packages/sklearn/metrics/_classification.py:1272: UndefinedMetricWarning: Recall and F-score are ill-defined and being set to 0.0 in labels with no true samples. Use `zero_division` parameter to control this behavior.\n",
      "  _warn_prf(average, modifier, msg_start, len(result))\n",
      "/Users/matias/miniconda3/envs/gen-methods/lib/python3.7/site-packages/sklearn/metrics/_classification.py:1272: UndefinedMetricWarning: Precision and F-score are ill-defined and being set to 0.0 in labels with no predicted samples. Use `zero_division` parameter to control this behavior.\n",
      "  _warn_prf(average, modifier, msg_start, len(result))\n",
      "/Users/matias/miniconda3/envs/gen-methods/lib/python3.7/site-packages/sklearn/metrics/_classification.py:1272: UndefinedMetricWarning: Precision and F-score are ill-defined and being set to 0.0 in labels with no predicted samples. Use `zero_division` parameter to control this behavior.\n",
      "  _warn_prf(average, modifier, msg_start, len(result))\n"
     ]
    },
    {
     "name": "stdout",
     "output_type": "stream",
     "text": [
      "End of 3 trial\n",
      "Original occutherm train dataset shape Counter({0: 818, -1: 303, -2: 172, 1: 171, 2: 44})\n",
      "Resampled (SMOTE) real + synth dataset shape Counter({2: 818, 0: 818, -1: 818, 1: 818, -2: 818})\n",
      "Resampled (SMOTE) synth dataset shape Counter({2: 774, 1: 647, -2: 646, -1: 512})\n",
      "Resampled (ADASYN) train (real + synth) dataset shape Counter({1: 851, -1: 823, -2: 823, 0: 818, 2: 814})\n",
      "Resampled (ADASYN) synth dataset shape Counter({2: 770, 1: 680, -2: 651, -1: 517})\n"
     ]
    },
    {
     "name": "stderr",
     "output_type": "stream",
     "text": [
      "/Users/matias/miniconda3/envs/gen-methods/lib/python3.7/site-packages/sklearn/metrics/_classification.py:1272: UndefinedMetricWarning: Precision and F-score are ill-defined and being set to 0.0 in labels with no predicted samples. Use `zero_division` parameter to control this behavior.\n",
      "  _warn_prf(average, modifier, msg_start, len(result))\n",
      "/Users/matias/miniconda3/envs/gen-methods/lib/python3.7/site-packages/sklearn/metrics/_classification.py:1272: UndefinedMetricWarning: Recall and F-score are ill-defined and being set to 0.0 in labels with no true samples. Use `zero_division` parameter to control this behavior.\n",
      "  _warn_prf(average, modifier, msg_start, len(result))\n",
      "/Users/matias/miniconda3/envs/gen-methods/lib/python3.7/site-packages/sklearn/metrics/_classification.py:1272: UndefinedMetricWarning: Recall and F-score are ill-defined and being set to 0.0 in labels with no true samples. Use `zero_division` parameter to control this behavior.\n",
      "  _warn_prf(average, modifier, msg_start, len(result))\n",
      "/Users/matias/miniconda3/envs/gen-methods/lib/python3.7/site-packages/sklearn/metrics/_classification.py:1272: UndefinedMetricWarning: Precision and F-score are ill-defined and being set to 0.0 in labels with no predicted samples. Use `zero_division` parameter to control this behavior.\n",
      "  _warn_prf(average, modifier, msg_start, len(result))\n",
      "/Users/matias/miniconda3/envs/gen-methods/lib/python3.7/site-packages/sklearn/metrics/_classification.py:1272: UndefinedMetricWarning: Recall and F-score are ill-defined and being set to 0.0 in labels with no true samples. Use `zero_division` parameter to control this behavior.\n",
      "  _warn_prf(average, modifier, msg_start, len(result))\n",
      "/Users/matias/miniconda3/envs/gen-methods/lib/python3.7/site-packages/sklearn/metrics/_classification.py:1272: UndefinedMetricWarning: Recall and F-score are ill-defined and being set to 0.0 in labels with no true samples. Use `zero_division` parameter to control this behavior.\n",
      "  _warn_prf(average, modifier, msg_start, len(result))\n",
      "/Users/matias/miniconda3/envs/gen-methods/lib/python3.7/site-packages/sklearn/metrics/_classification.py:1272: UndefinedMetricWarning: Precision and F-score are ill-defined and being set to 0.0 in labels with no predicted samples. Use `zero_division` parameter to control this behavior.\n",
      "  _warn_prf(average, modifier, msg_start, len(result))\n",
      "/Users/matias/miniconda3/envs/gen-methods/lib/python3.7/site-packages/sklearn/metrics/_classification.py:1272: UndefinedMetricWarning: Precision and F-score are ill-defined and being set to 0.0 in labels with no predicted samples. Use `zero_division` parameter to control this behavior.\n",
      "  _warn_prf(average, modifier, msg_start, len(result))\n"
     ]
    },
    {
     "name": "stdout",
     "output_type": "stream",
     "text": [
      "End of 4 trial\n",
      "Original occutherm train dataset shape Counter({0: 818, -1: 303, -2: 172, 1: 171, 2: 44})\n",
      "Resampled (SMOTE) real + synth dataset shape Counter({2: 818, 0: 818, -1: 818, -2: 818, 1: 818})\n",
      "Resampled (SMOTE) synth dataset shape Counter({2: 774, 1: 647, -2: 646, -1: 515})\n",
      "Resampled (ADASYN) train (real + synth) dataset shape Counter({1: 851, -2: 823, -1: 823, 0: 818, 2: 814})\n",
      "Resampled (ADASYN) synth dataset shape Counter({2: 770, 1: 680, -2: 651, -1: 520})\n"
     ]
    },
    {
     "name": "stderr",
     "output_type": "stream",
     "text": [
      "/Users/matias/miniconda3/envs/gen-methods/lib/python3.7/site-packages/sklearn/metrics/_classification.py:1272: UndefinedMetricWarning: Precision and F-score are ill-defined and being set to 0.0 in labels with no predicted samples. Use `zero_division` parameter to control this behavior.\n",
      "  _warn_prf(average, modifier, msg_start, len(result))\n",
      "/Users/matias/miniconda3/envs/gen-methods/lib/python3.7/site-packages/sklearn/metrics/_classification.py:1272: UndefinedMetricWarning: Recall and F-score are ill-defined and being set to 0.0 in labels with no true samples. Use `zero_division` parameter to control this behavior.\n",
      "  _warn_prf(average, modifier, msg_start, len(result))\n",
      "/Users/matias/miniconda3/envs/gen-methods/lib/python3.7/site-packages/sklearn/metrics/_classification.py:1272: UndefinedMetricWarning: Recall and F-score are ill-defined and being set to 0.0 in labels with no true samples. Use `zero_division` parameter to control this behavior.\n",
      "  _warn_prf(average, modifier, msg_start, len(result))\n",
      "/Users/matias/miniconda3/envs/gen-methods/lib/python3.7/site-packages/sklearn/metrics/_classification.py:1272: UndefinedMetricWarning: Precision and F-score are ill-defined and being set to 0.0 in labels with no predicted samples. Use `zero_division` parameter to control this behavior.\n",
      "  _warn_prf(average, modifier, msg_start, len(result))\n",
      "/Users/matias/miniconda3/envs/gen-methods/lib/python3.7/site-packages/sklearn/metrics/_classification.py:1272: UndefinedMetricWarning: Recall and F-score are ill-defined and being set to 0.0 in labels with no true samples. Use `zero_division` parameter to control this behavior.\n",
      "  _warn_prf(average, modifier, msg_start, len(result))\n",
      "/Users/matias/miniconda3/envs/gen-methods/lib/python3.7/site-packages/sklearn/metrics/_classification.py:1272: UndefinedMetricWarning: Recall and F-score are ill-defined and being set to 0.0 in labels with no true samples. Use `zero_division` parameter to control this behavior.\n",
      "  _warn_prf(average, modifier, msg_start, len(result))\n",
      "/Users/matias/miniconda3/envs/gen-methods/lib/python3.7/site-packages/sklearn/metrics/_classification.py:1272: UndefinedMetricWarning: Precision and F-score are ill-defined and being set to 0.0 in labels with no predicted samples. Use `zero_division` parameter to control this behavior.\n",
      "  _warn_prf(average, modifier, msg_start, len(result))\n",
      "/Users/matias/miniconda3/envs/gen-methods/lib/python3.7/site-packages/sklearn/metrics/_classification.py:1272: UndefinedMetricWarning: Precision and F-score are ill-defined and being set to 0.0 in labels with no predicted samples. Use `zero_division` parameter to control this behavior.\n",
      "  _warn_prf(average, modifier, msg_start, len(result))\n"
     ]
    },
    {
     "name": "stdout",
     "output_type": "stream",
     "text": [
      "End of 5 trial\n",
      "Original occutherm train dataset shape Counter({0: 818, -1: 303, -2: 172, 1: 171, 2: 44})\n",
      "Resampled (SMOTE) real + synth dataset shape Counter({-1: 818, 1: 818, 0: 818, -2: 818, 2: 818})\n",
      "Resampled (SMOTE) synth dataset shape Counter({2: 774, 1: 647, -2: 646, -1: 514})\n",
      "Resampled (ADASYN) train (real + synth) dataset shape Counter({1: 851, -1: 823, -2: 823, 0: 818, 2: 814})\n",
      "Resampled (ADASYN) synth dataset shape Counter({2: 770, 1: 680, -2: 651, -1: 518})\n"
     ]
    },
    {
     "name": "stderr",
     "output_type": "stream",
     "text": [
      "/Users/matias/miniconda3/envs/gen-methods/lib/python3.7/site-packages/sklearn/metrics/_classification.py:1272: UndefinedMetricWarning: Precision and F-score are ill-defined and being set to 0.0 in labels with no predicted samples. Use `zero_division` parameter to control this behavior.\n",
      "  _warn_prf(average, modifier, msg_start, len(result))\n",
      "/Users/matias/miniconda3/envs/gen-methods/lib/python3.7/site-packages/sklearn/metrics/_classification.py:1272: UndefinedMetricWarning: Recall and F-score are ill-defined and being set to 0.0 in labels with no true samples. Use `zero_division` parameter to control this behavior.\n",
      "  _warn_prf(average, modifier, msg_start, len(result))\n",
      "/Users/matias/miniconda3/envs/gen-methods/lib/python3.7/site-packages/sklearn/metrics/_classification.py:1272: UndefinedMetricWarning: Recall and F-score are ill-defined and being set to 0.0 in labels with no true samples. Use `zero_division` parameter to control this behavior.\n",
      "  _warn_prf(average, modifier, msg_start, len(result))\n",
      "/Users/matias/miniconda3/envs/gen-methods/lib/python3.7/site-packages/sklearn/metrics/_classification.py:1272: UndefinedMetricWarning: Precision and F-score are ill-defined and being set to 0.0 in labels with no predicted samples. Use `zero_division` parameter to control this behavior.\n",
      "  _warn_prf(average, modifier, msg_start, len(result))\n",
      "/Users/matias/miniconda3/envs/gen-methods/lib/python3.7/site-packages/sklearn/metrics/_classification.py:1272: UndefinedMetricWarning: Recall and F-score are ill-defined and being set to 0.0 in labels with no true samples. Use `zero_division` parameter to control this behavior.\n",
      "  _warn_prf(average, modifier, msg_start, len(result))\n",
      "/Users/matias/miniconda3/envs/gen-methods/lib/python3.7/site-packages/sklearn/metrics/_classification.py:1272: UndefinedMetricWarning: Recall and F-score are ill-defined and being set to 0.0 in labels with no true samples. Use `zero_division` parameter to control this behavior.\n",
      "  _warn_prf(average, modifier, msg_start, len(result))\n",
      "/Users/matias/miniconda3/envs/gen-methods/lib/python3.7/site-packages/sklearn/metrics/_classification.py:1272: UndefinedMetricWarning: Precision and F-score are ill-defined and being set to 0.0 in labels with no predicted samples. Use `zero_division` parameter to control this behavior.\n",
      "  _warn_prf(average, modifier, msg_start, len(result))\n",
      "/Users/matias/miniconda3/envs/gen-methods/lib/python3.7/site-packages/sklearn/metrics/_classification.py:1272: UndefinedMetricWarning: Precision and F-score are ill-defined and being set to 0.0 in labels with no predicted samples. Use `zero_division` parameter to control this behavior.\n",
      "  _warn_prf(average, modifier, msg_start, len(result))\n"
     ]
    },
    {
     "name": "stdout",
     "output_type": "stream",
     "text": [
      "End of 6 trial\n",
      "Original occutherm train dataset shape Counter({0: 818, -1: 303, -2: 172, 1: 171, 2: 44})\n",
      "Resampled (SMOTE) real + synth dataset shape Counter({-2: 818, 0: 818, 1: 818, 2: 818, -1: 818})\n",
      "Resampled (SMOTE) synth dataset shape Counter({2: 774, 1: 647, -2: 646, -1: 513})\n",
      "Resampled (ADASYN) train (real + synth) dataset shape Counter({1: 851, -2: 823, -1: 823, 0: 818, 2: 814})\n",
      "Resampled (ADASYN) synth dataset shape Counter({2: 770, 1: 680, -2: 651, -1: 518})\n"
     ]
    },
    {
     "name": "stderr",
     "output_type": "stream",
     "text": [
      "/Users/matias/miniconda3/envs/gen-methods/lib/python3.7/site-packages/sklearn/metrics/_classification.py:1272: UndefinedMetricWarning: Precision and F-score are ill-defined and being set to 0.0 in labels with no predicted samples. Use `zero_division` parameter to control this behavior.\n",
      "  _warn_prf(average, modifier, msg_start, len(result))\n",
      "/Users/matias/miniconda3/envs/gen-methods/lib/python3.7/site-packages/sklearn/metrics/_classification.py:1272: UndefinedMetricWarning: Recall and F-score are ill-defined and being set to 0.0 in labels with no true samples. Use `zero_division` parameter to control this behavior.\n",
      "  _warn_prf(average, modifier, msg_start, len(result))\n",
      "/Users/matias/miniconda3/envs/gen-methods/lib/python3.7/site-packages/sklearn/metrics/_classification.py:1272: UndefinedMetricWarning: Recall and F-score are ill-defined and being set to 0.0 in labels with no true samples. Use `zero_division` parameter to control this behavior.\n",
      "  _warn_prf(average, modifier, msg_start, len(result))\n",
      "/Users/matias/miniconda3/envs/gen-methods/lib/python3.7/site-packages/sklearn/metrics/_classification.py:1272: UndefinedMetricWarning: Precision and F-score are ill-defined and being set to 0.0 in labels with no predicted samples. Use `zero_division` parameter to control this behavior.\n",
      "  _warn_prf(average, modifier, msg_start, len(result))\n",
      "/Users/matias/miniconda3/envs/gen-methods/lib/python3.7/site-packages/sklearn/metrics/_classification.py:1272: UndefinedMetricWarning: Recall and F-score are ill-defined and being set to 0.0 in labels with no true samples. Use `zero_division` parameter to control this behavior.\n",
      "  _warn_prf(average, modifier, msg_start, len(result))\n",
      "/Users/matias/miniconda3/envs/gen-methods/lib/python3.7/site-packages/sklearn/metrics/_classification.py:1272: UndefinedMetricWarning: Recall and F-score are ill-defined and being set to 0.0 in labels with no true samples. Use `zero_division` parameter to control this behavior.\n",
      "  _warn_prf(average, modifier, msg_start, len(result))\n",
      "/Users/matias/miniconda3/envs/gen-methods/lib/python3.7/site-packages/sklearn/metrics/_classification.py:1272: UndefinedMetricWarning: Precision and F-score are ill-defined and being set to 0.0 in labels with no predicted samples. Use `zero_division` parameter to control this behavior.\n",
      "  _warn_prf(average, modifier, msg_start, len(result))\n",
      "/Users/matias/miniconda3/envs/gen-methods/lib/python3.7/site-packages/sklearn/metrics/_classification.py:1272: UndefinedMetricWarning: Precision and F-score are ill-defined and being set to 0.0 in labels with no predicted samples. Use `zero_division` parameter to control this behavior.\n",
      "  _warn_prf(average, modifier, msg_start, len(result))\n"
     ]
    },
    {
     "name": "stdout",
     "output_type": "stream",
     "text": [
      "End of 7 trial\n",
      "Original occutherm train dataset shape Counter({0: 818, -1: 303, -2: 172, 1: 171, 2: 44})\n",
      "Resampled (SMOTE) real + synth dataset shape Counter({-1: 818, -2: 818, 0: 818, 1: 818, 2: 818})\n",
      "Resampled (SMOTE) synth dataset shape Counter({2: 774, 1: 647, -2: 646, -1: 514})\n",
      "Resampled (ADASYN) train (real + synth) dataset shape Counter({1: 851, -2: 823, -1: 823, 0: 818, 2: 814})\n",
      "Resampled (ADASYN) synth dataset shape Counter({2: 770, 1: 680, -2: 651, -1: 520})\n"
     ]
    },
    {
     "name": "stderr",
     "output_type": "stream",
     "text": [
      "/Users/matias/miniconda3/envs/gen-methods/lib/python3.7/site-packages/sklearn/metrics/_classification.py:1272: UndefinedMetricWarning: Precision and F-score are ill-defined and being set to 0.0 in labels with no predicted samples. Use `zero_division` parameter to control this behavior.\n",
      "  _warn_prf(average, modifier, msg_start, len(result))\n",
      "/Users/matias/miniconda3/envs/gen-methods/lib/python3.7/site-packages/sklearn/metrics/_classification.py:1272: UndefinedMetricWarning: Recall and F-score are ill-defined and being set to 0.0 in labels with no true samples. Use `zero_division` parameter to control this behavior.\n",
      "  _warn_prf(average, modifier, msg_start, len(result))\n",
      "/Users/matias/miniconda3/envs/gen-methods/lib/python3.7/site-packages/sklearn/metrics/_classification.py:1272: UndefinedMetricWarning: Recall and F-score are ill-defined and being set to 0.0 in labels with no true samples. Use `zero_division` parameter to control this behavior.\n",
      "  _warn_prf(average, modifier, msg_start, len(result))\n",
      "/Users/matias/miniconda3/envs/gen-methods/lib/python3.7/site-packages/sklearn/metrics/_classification.py:1272: UndefinedMetricWarning: Precision and F-score are ill-defined and being set to 0.0 in labels with no predicted samples. Use `zero_division` parameter to control this behavior.\n",
      "  _warn_prf(average, modifier, msg_start, len(result))\n",
      "/Users/matias/miniconda3/envs/gen-methods/lib/python3.7/site-packages/sklearn/metrics/_classification.py:1272: UndefinedMetricWarning: Recall and F-score are ill-defined and being set to 0.0 in labels with no true samples. Use `zero_division` parameter to control this behavior.\n",
      "  _warn_prf(average, modifier, msg_start, len(result))\n",
      "/Users/matias/miniconda3/envs/gen-methods/lib/python3.7/site-packages/sklearn/metrics/_classification.py:1272: UndefinedMetricWarning: Recall and F-score are ill-defined and being set to 0.0 in labels with no true samples. Use `zero_division` parameter to control this behavior.\n",
      "  _warn_prf(average, modifier, msg_start, len(result))\n",
      "/Users/matias/miniconda3/envs/gen-methods/lib/python3.7/site-packages/sklearn/metrics/_classification.py:1272: UndefinedMetricWarning: Precision and F-score are ill-defined and being set to 0.0 in labels with no predicted samples. Use `zero_division` parameter to control this behavior.\n",
      "  _warn_prf(average, modifier, msg_start, len(result))\n",
      "/Users/matias/miniconda3/envs/gen-methods/lib/python3.7/site-packages/sklearn/metrics/_classification.py:1272: UndefinedMetricWarning: Precision and F-score are ill-defined and being set to 0.0 in labels with no predicted samples. Use `zero_division` parameter to control this behavior.\n",
      "  _warn_prf(average, modifier, msg_start, len(result))\n"
     ]
    },
    {
     "name": "stdout",
     "output_type": "stream",
     "text": [
      "End of 8 trial\n",
      "Original occutherm train dataset shape Counter({0: 818, -1: 303, -2: 172, 1: 171, 2: 44})\n",
      "Resampled (SMOTE) real + synth dataset shape Counter({2: 818, -2: 818, 1: 818, -1: 818, 0: 818})\n",
      "Resampled (SMOTE) synth dataset shape Counter({2: 774, 1: 647, -2: 646, -1: 514})\n",
      "Resampled (ADASYN) train (real + synth) dataset shape Counter({1: 851, -1: 823, -2: 823, 0: 818, 2: 814})\n",
      "Resampled (ADASYN) synth dataset shape Counter({2: 770, 1: 680, -2: 651, -1: 519})\n"
     ]
    },
    {
     "name": "stderr",
     "output_type": "stream",
     "text": [
      "/Users/matias/miniconda3/envs/gen-methods/lib/python3.7/site-packages/sklearn/metrics/_classification.py:1272: UndefinedMetricWarning: Precision and F-score are ill-defined and being set to 0.0 in labels with no predicted samples. Use `zero_division` parameter to control this behavior.\n",
      "  _warn_prf(average, modifier, msg_start, len(result))\n",
      "/Users/matias/miniconda3/envs/gen-methods/lib/python3.7/site-packages/sklearn/metrics/_classification.py:1272: UndefinedMetricWarning: Recall and F-score are ill-defined and being set to 0.0 in labels with no true samples. Use `zero_division` parameter to control this behavior.\n",
      "  _warn_prf(average, modifier, msg_start, len(result))\n",
      "/Users/matias/miniconda3/envs/gen-methods/lib/python3.7/site-packages/sklearn/metrics/_classification.py:1272: UndefinedMetricWarning: Recall and F-score are ill-defined and being set to 0.0 in labels with no true samples. Use `zero_division` parameter to control this behavior.\n",
      "  _warn_prf(average, modifier, msg_start, len(result))\n",
      "/Users/matias/miniconda3/envs/gen-methods/lib/python3.7/site-packages/sklearn/metrics/_classification.py:1272: UndefinedMetricWarning: Precision and F-score are ill-defined and being set to 0.0 in labels with no predicted samples. Use `zero_division` parameter to control this behavior.\n",
      "  _warn_prf(average, modifier, msg_start, len(result))\n",
      "/Users/matias/miniconda3/envs/gen-methods/lib/python3.7/site-packages/sklearn/metrics/_classification.py:1272: UndefinedMetricWarning: Recall and F-score are ill-defined and being set to 0.0 in labels with no true samples. Use `zero_division` parameter to control this behavior.\n",
      "  _warn_prf(average, modifier, msg_start, len(result))\n",
      "/Users/matias/miniconda3/envs/gen-methods/lib/python3.7/site-packages/sklearn/metrics/_classification.py:1272: UndefinedMetricWarning: Recall and F-score are ill-defined and being set to 0.0 in labels with no true samples. Use `zero_division` parameter to control this behavior.\n",
      "  _warn_prf(average, modifier, msg_start, len(result))\n",
      "/Users/matias/miniconda3/envs/gen-methods/lib/python3.7/site-packages/sklearn/metrics/_classification.py:1272: UndefinedMetricWarning: Precision and F-score are ill-defined and being set to 0.0 in labels with no predicted samples. Use `zero_division` parameter to control this behavior.\n",
      "  _warn_prf(average, modifier, msg_start, len(result))\n",
      "/Users/matias/miniconda3/envs/gen-methods/lib/python3.7/site-packages/sklearn/metrics/_classification.py:1272: UndefinedMetricWarning: Precision and F-score are ill-defined and being set to 0.0 in labels with no predicted samples. Use `zero_division` parameter to control this behavior.\n",
      "  _warn_prf(average, modifier, msg_start, len(result))\n"
     ]
    },
    {
     "name": "stdout",
     "output_type": "stream",
     "text": [
      "End of 9 trial\n",
      "Original occutherm train dataset shape Counter({0: 818, -1: 303, -2: 172, 1: 171, 2: 44})\n",
      "Resampled (SMOTE) real + synth dataset shape Counter({1: 818, -1: 818, -2: 818, 2: 818, 0: 818})\n",
      "Resampled (SMOTE) synth dataset shape Counter({2: 774, 1: 647, -2: 646, -1: 513})\n",
      "Resampled (ADASYN) train (real + synth) dataset shape Counter({1: 851, -1: 823, -2: 823, 0: 818, 2: 814})\n",
      "Resampled (ADASYN) synth dataset shape Counter({2: 770, 1: 680, -2: 651, -1: 519})\n"
     ]
    },
    {
     "name": "stderr",
     "output_type": "stream",
     "text": [
      "/Users/matias/miniconda3/envs/gen-methods/lib/python3.7/site-packages/sklearn/metrics/_classification.py:1272: UndefinedMetricWarning: Precision and F-score are ill-defined and being set to 0.0 in labels with no predicted samples. Use `zero_division` parameter to control this behavior.\n",
      "  _warn_prf(average, modifier, msg_start, len(result))\n",
      "/Users/matias/miniconda3/envs/gen-methods/lib/python3.7/site-packages/sklearn/metrics/_classification.py:1272: UndefinedMetricWarning: Recall and F-score are ill-defined and being set to 0.0 in labels with no true samples. Use `zero_division` parameter to control this behavior.\n",
      "  _warn_prf(average, modifier, msg_start, len(result))\n",
      "/Users/matias/miniconda3/envs/gen-methods/lib/python3.7/site-packages/sklearn/metrics/_classification.py:1272: UndefinedMetricWarning: Recall and F-score are ill-defined and being set to 0.0 in labels with no true samples. Use `zero_division` parameter to control this behavior.\n",
      "  _warn_prf(average, modifier, msg_start, len(result))\n",
      "/Users/matias/miniconda3/envs/gen-methods/lib/python3.7/site-packages/sklearn/metrics/_classification.py:1272: UndefinedMetricWarning: Precision and F-score are ill-defined and being set to 0.0 in labels with no predicted samples. Use `zero_division` parameter to control this behavior.\n",
      "  _warn_prf(average, modifier, msg_start, len(result))\n",
      "/Users/matias/miniconda3/envs/gen-methods/lib/python3.7/site-packages/sklearn/metrics/_classification.py:1272: UndefinedMetricWarning: Recall and F-score are ill-defined and being set to 0.0 in labels with no true samples. Use `zero_division` parameter to control this behavior.\n",
      "  _warn_prf(average, modifier, msg_start, len(result))\n",
      "/Users/matias/miniconda3/envs/gen-methods/lib/python3.7/site-packages/sklearn/metrics/_classification.py:1272: UndefinedMetricWarning: Recall and F-score are ill-defined and being set to 0.0 in labels with no true samples. Use `zero_division` parameter to control this behavior.\n",
      "  _warn_prf(average, modifier, msg_start, len(result))\n",
      "/Users/matias/miniconda3/envs/gen-methods/lib/python3.7/site-packages/sklearn/metrics/_classification.py:1272: UndefinedMetricWarning: Precision and F-score are ill-defined and being set to 0.0 in labels with no predicted samples. Use `zero_division` parameter to control this behavior.\n",
      "  _warn_prf(average, modifier, msg_start, len(result))\n",
      "/Users/matias/miniconda3/envs/gen-methods/lib/python3.7/site-packages/sklearn/metrics/_classification.py:1272: UndefinedMetricWarning: Precision and F-score are ill-defined and being set to 0.0 in labels with no predicted samples. Use `zero_division` parameter to control this behavior.\n",
      "  _warn_prf(average, modifier, msg_start, len(result))\n"
     ]
    },
    {
     "name": "stdout",
     "output_type": "stream",
     "text": [
      "End of 10 trial\n",
      "Original occutherm train dataset shape Counter({0: 818, -1: 303, -2: 172, 1: 171, 2: 44})\n",
      "Resampled (SMOTE) real + synth dataset shape Counter({-1: 818, -2: 818, 0: 818, 1: 818, 2: 818})\n",
      "Resampled (SMOTE) synth dataset shape Counter({2: 774, 1: 647, -2: 646, -1: 514})\n",
      "Resampled (ADASYN) train (real + synth) dataset shape Counter({1: 851, -2: 823, -1: 823, 0: 818, 2: 814})\n",
      "Resampled (ADASYN) synth dataset shape Counter({2: 770, 1: 680, -2: 651, -1: 519})\n"
     ]
    },
    {
     "name": "stderr",
     "output_type": "stream",
     "text": [
      "/Users/matias/miniconda3/envs/gen-methods/lib/python3.7/site-packages/sklearn/metrics/_classification.py:1272: UndefinedMetricWarning: Precision and F-score are ill-defined and being set to 0.0 in labels with no predicted samples. Use `zero_division` parameter to control this behavior.\n",
      "  _warn_prf(average, modifier, msg_start, len(result))\n",
      "/Users/matias/miniconda3/envs/gen-methods/lib/python3.7/site-packages/sklearn/metrics/_classification.py:1272: UndefinedMetricWarning: Recall and F-score are ill-defined and being set to 0.0 in labels with no true samples. Use `zero_division` parameter to control this behavior.\n",
      "  _warn_prf(average, modifier, msg_start, len(result))\n",
      "/Users/matias/miniconda3/envs/gen-methods/lib/python3.7/site-packages/sklearn/metrics/_classification.py:1272: UndefinedMetricWarning: Recall and F-score are ill-defined and being set to 0.0 in labels with no true samples. Use `zero_division` parameter to control this behavior.\n",
      "  _warn_prf(average, modifier, msg_start, len(result))\n",
      "/Users/matias/miniconda3/envs/gen-methods/lib/python3.7/site-packages/sklearn/metrics/_classification.py:1272: UndefinedMetricWarning: Precision and F-score are ill-defined and being set to 0.0 in labels with no predicted samples. Use `zero_division` parameter to control this behavior.\n",
      "  _warn_prf(average, modifier, msg_start, len(result))\n",
      "/Users/matias/miniconda3/envs/gen-methods/lib/python3.7/site-packages/sklearn/metrics/_classification.py:1272: UndefinedMetricWarning: Recall and F-score are ill-defined and being set to 0.0 in labels with no true samples. Use `zero_division` parameter to control this behavior.\n",
      "  _warn_prf(average, modifier, msg_start, len(result))\n",
      "/Users/matias/miniconda3/envs/gen-methods/lib/python3.7/site-packages/sklearn/metrics/_classification.py:1272: UndefinedMetricWarning: Recall and F-score are ill-defined and being set to 0.0 in labels with no true samples. Use `zero_division` parameter to control this behavior.\n",
      "  _warn_prf(average, modifier, msg_start, len(result))\n",
      "/Users/matias/miniconda3/envs/gen-methods/lib/python3.7/site-packages/sklearn/metrics/_classification.py:1272: UndefinedMetricWarning: Precision and F-score are ill-defined and being set to 0.0 in labels with no predicted samples. Use `zero_division` parameter to control this behavior.\n",
      "  _warn_prf(average, modifier, msg_start, len(result))\n",
      "/Users/matias/miniconda3/envs/gen-methods/lib/python3.7/site-packages/sklearn/metrics/_classification.py:1272: UndefinedMetricWarning: Precision and F-score are ill-defined and being set to 0.0 in labels with no predicted samples. Use `zero_division` parameter to control this behavior.\n",
      "  _warn_prf(average, modifier, msg_start, len(result))\n"
     ]
    },
    {
     "name": "stdout",
     "output_type": "stream",
     "text": [
      "End of 11 trial\n",
      "Original occutherm train dataset shape Counter({0: 818, -1: 303, -2: 172, 1: 171, 2: 44})\n",
      "Resampled (SMOTE) real + synth dataset shape Counter({-2: 818, -1: 818, 1: 818, 0: 818, 2: 818})\n",
      "Resampled (SMOTE) synth dataset shape Counter({2: 774, 1: 647, -2: 646, -1: 513})\n",
      "Resampled (ADASYN) train (real + synth) dataset shape Counter({1: 851, -1: 823, -2: 823, 0: 818, 2: 814})\n",
      "Resampled (ADASYN) synth dataset shape Counter({2: 770, 1: 680, -2: 651, -1: 518})\n"
     ]
    },
    {
     "name": "stderr",
     "output_type": "stream",
     "text": [
      "/Users/matias/miniconda3/envs/gen-methods/lib/python3.7/site-packages/sklearn/metrics/_classification.py:1272: UndefinedMetricWarning: Precision and F-score are ill-defined and being set to 0.0 in labels with no predicted samples. Use `zero_division` parameter to control this behavior.\n",
      "  _warn_prf(average, modifier, msg_start, len(result))\n",
      "/Users/matias/miniconda3/envs/gen-methods/lib/python3.7/site-packages/sklearn/metrics/_classification.py:1272: UndefinedMetricWarning: Recall and F-score are ill-defined and being set to 0.0 in labels with no true samples. Use `zero_division` parameter to control this behavior.\n",
      "  _warn_prf(average, modifier, msg_start, len(result))\n",
      "/Users/matias/miniconda3/envs/gen-methods/lib/python3.7/site-packages/sklearn/metrics/_classification.py:1272: UndefinedMetricWarning: Recall and F-score are ill-defined and being set to 0.0 in labels with no true samples. Use `zero_division` parameter to control this behavior.\n",
      "  _warn_prf(average, modifier, msg_start, len(result))\n",
      "/Users/matias/miniconda3/envs/gen-methods/lib/python3.7/site-packages/sklearn/metrics/_classification.py:1272: UndefinedMetricWarning: Precision and F-score are ill-defined and being set to 0.0 in labels with no predicted samples. Use `zero_division` parameter to control this behavior.\n",
      "  _warn_prf(average, modifier, msg_start, len(result))\n",
      "/Users/matias/miniconda3/envs/gen-methods/lib/python3.7/site-packages/sklearn/metrics/_classification.py:1272: UndefinedMetricWarning: Recall and F-score are ill-defined and being set to 0.0 in labels with no true samples. Use `zero_division` parameter to control this behavior.\n",
      "  _warn_prf(average, modifier, msg_start, len(result))\n",
      "/Users/matias/miniconda3/envs/gen-methods/lib/python3.7/site-packages/sklearn/metrics/_classification.py:1272: UndefinedMetricWarning: Recall and F-score are ill-defined and being set to 0.0 in labels with no true samples. Use `zero_division` parameter to control this behavior.\n",
      "  _warn_prf(average, modifier, msg_start, len(result))\n",
      "/Users/matias/miniconda3/envs/gen-methods/lib/python3.7/site-packages/sklearn/metrics/_classification.py:1272: UndefinedMetricWarning: Precision and F-score are ill-defined and being set to 0.0 in labels with no predicted samples. Use `zero_division` parameter to control this behavior.\n",
      "  _warn_prf(average, modifier, msg_start, len(result))\n",
      "/Users/matias/miniconda3/envs/gen-methods/lib/python3.7/site-packages/sklearn/metrics/_classification.py:1272: UndefinedMetricWarning: Precision and F-score are ill-defined and being set to 0.0 in labels with no predicted samples. Use `zero_division` parameter to control this behavior.\n",
      "  _warn_prf(average, modifier, msg_start, len(result))\n"
     ]
    },
    {
     "name": "stdout",
     "output_type": "stream",
     "text": [
      "End of 12 trial\n",
      "Original occutherm train dataset shape Counter({0: 818, -1: 303, -2: 172, 1: 171, 2: 44})\n",
      "Resampled (SMOTE) real + synth dataset shape Counter({0: 818, -1: 818, -2: 818, 2: 818, 1: 818})\n",
      "Resampled (SMOTE) synth dataset shape Counter({2: 774, 1: 647, -2: 646, -1: 513})\n",
      "Resampled (ADASYN) train (real + synth) dataset shape Counter({1: 851, -1: 823, -2: 823, 0: 818, 2: 814})\n",
      "Resampled (ADASYN) synth dataset shape Counter({2: 770, 1: 680, -2: 651, -1: 519})\n"
     ]
    },
    {
     "name": "stderr",
     "output_type": "stream",
     "text": [
      "/Users/matias/miniconda3/envs/gen-methods/lib/python3.7/site-packages/sklearn/metrics/_classification.py:1272: UndefinedMetricWarning: Precision and F-score are ill-defined and being set to 0.0 in labels with no predicted samples. Use `zero_division` parameter to control this behavior.\n",
      "  _warn_prf(average, modifier, msg_start, len(result))\n",
      "/Users/matias/miniconda3/envs/gen-methods/lib/python3.7/site-packages/sklearn/metrics/_classification.py:1272: UndefinedMetricWarning: Recall and F-score are ill-defined and being set to 0.0 in labels with no true samples. Use `zero_division` parameter to control this behavior.\n",
      "  _warn_prf(average, modifier, msg_start, len(result))\n",
      "/Users/matias/miniconda3/envs/gen-methods/lib/python3.7/site-packages/sklearn/metrics/_classification.py:1272: UndefinedMetricWarning: Recall and F-score are ill-defined and being set to 0.0 in labels with no true samples. Use `zero_division` parameter to control this behavior.\n",
      "  _warn_prf(average, modifier, msg_start, len(result))\n",
      "/Users/matias/miniconda3/envs/gen-methods/lib/python3.7/site-packages/sklearn/metrics/_classification.py:1272: UndefinedMetricWarning: Precision and F-score are ill-defined and being set to 0.0 in labels with no predicted samples. Use `zero_division` parameter to control this behavior.\n",
      "  _warn_prf(average, modifier, msg_start, len(result))\n",
      "/Users/matias/miniconda3/envs/gen-methods/lib/python3.7/site-packages/sklearn/metrics/_classification.py:1272: UndefinedMetricWarning: Recall and F-score are ill-defined and being set to 0.0 in labels with no true samples. Use `zero_division` parameter to control this behavior.\n",
      "  _warn_prf(average, modifier, msg_start, len(result))\n",
      "/Users/matias/miniconda3/envs/gen-methods/lib/python3.7/site-packages/sklearn/metrics/_classification.py:1272: UndefinedMetricWarning: Recall and F-score are ill-defined and being set to 0.0 in labels with no true samples. Use `zero_division` parameter to control this behavior.\n",
      "  _warn_prf(average, modifier, msg_start, len(result))\n",
      "/Users/matias/miniconda3/envs/gen-methods/lib/python3.7/site-packages/sklearn/metrics/_classification.py:1272: UndefinedMetricWarning: Precision and F-score are ill-defined and being set to 0.0 in labels with no predicted samples. Use `zero_division` parameter to control this behavior.\n",
      "  _warn_prf(average, modifier, msg_start, len(result))\n",
      "/Users/matias/miniconda3/envs/gen-methods/lib/python3.7/site-packages/sklearn/metrics/_classification.py:1272: UndefinedMetricWarning: Precision and F-score are ill-defined and being set to 0.0 in labels with no predicted samples. Use `zero_division` parameter to control this behavior.\n",
      "  _warn_prf(average, modifier, msg_start, len(result))\n"
     ]
    },
    {
     "name": "stdout",
     "output_type": "stream",
     "text": [
      "End of 13 trial\n",
      "Original occutherm train dataset shape Counter({0: 818, -1: 303, -2: 172, 1: 171, 2: 44})\n",
      "Resampled (SMOTE) real + synth dataset shape Counter({1: 818, 2: 818, -1: 818, -2: 818, 0: 818})\n",
      "Resampled (SMOTE) synth dataset shape Counter({2: 774, 1: 647, -2: 646, -1: 514})\n",
      "Resampled (ADASYN) train (real + synth) dataset shape Counter({1: 851, -2: 823, -1: 823, 0: 818, 2: 814})\n",
      "Resampled (ADASYN) synth dataset shape Counter({2: 770, 1: 680, -2: 651, -1: 519})\n"
     ]
    },
    {
     "name": "stderr",
     "output_type": "stream",
     "text": [
      "/Users/matias/miniconda3/envs/gen-methods/lib/python3.7/site-packages/sklearn/metrics/_classification.py:1272: UndefinedMetricWarning: Precision and F-score are ill-defined and being set to 0.0 in labels with no predicted samples. Use `zero_division` parameter to control this behavior.\n",
      "  _warn_prf(average, modifier, msg_start, len(result))\n",
      "/Users/matias/miniconda3/envs/gen-methods/lib/python3.7/site-packages/sklearn/metrics/_classification.py:1272: UndefinedMetricWarning: Recall and F-score are ill-defined and being set to 0.0 in labels with no true samples. Use `zero_division` parameter to control this behavior.\n",
      "  _warn_prf(average, modifier, msg_start, len(result))\n",
      "/Users/matias/miniconda3/envs/gen-methods/lib/python3.7/site-packages/sklearn/metrics/_classification.py:1272: UndefinedMetricWarning: Recall and F-score are ill-defined and being set to 0.0 in labels with no true samples. Use `zero_division` parameter to control this behavior.\n",
      "  _warn_prf(average, modifier, msg_start, len(result))\n",
      "/Users/matias/miniconda3/envs/gen-methods/lib/python3.7/site-packages/sklearn/metrics/_classification.py:1272: UndefinedMetricWarning: Precision and F-score are ill-defined and being set to 0.0 in labels with no predicted samples. Use `zero_division` parameter to control this behavior.\n",
      "  _warn_prf(average, modifier, msg_start, len(result))\n",
      "/Users/matias/miniconda3/envs/gen-methods/lib/python3.7/site-packages/sklearn/metrics/_classification.py:1272: UndefinedMetricWarning: Recall and F-score are ill-defined and being set to 0.0 in labels with no true samples. Use `zero_division` parameter to control this behavior.\n",
      "  _warn_prf(average, modifier, msg_start, len(result))\n",
      "/Users/matias/miniconda3/envs/gen-methods/lib/python3.7/site-packages/sklearn/metrics/_classification.py:1272: UndefinedMetricWarning: Recall and F-score are ill-defined and being set to 0.0 in labels with no true samples. Use `zero_division` parameter to control this behavior.\n",
      "  _warn_prf(average, modifier, msg_start, len(result))\n",
      "/Users/matias/miniconda3/envs/gen-methods/lib/python3.7/site-packages/sklearn/metrics/_classification.py:1272: UndefinedMetricWarning: Precision and F-score are ill-defined and being set to 0.0 in labels with no predicted samples. Use `zero_division` parameter to control this behavior.\n",
      "  _warn_prf(average, modifier, msg_start, len(result))\n",
      "/Users/matias/miniconda3/envs/gen-methods/lib/python3.7/site-packages/sklearn/metrics/_classification.py:1272: UndefinedMetricWarning: Precision and F-score are ill-defined and being set to 0.0 in labels with no predicted samples. Use `zero_division` parameter to control this behavior.\n",
      "  _warn_prf(average, modifier, msg_start, len(result))\n"
     ]
    },
    {
     "name": "stdout",
     "output_type": "stream",
     "text": [
      "End of 14 trial\n",
      "Original occutherm train dataset shape Counter({0: 818, -1: 303, -2: 172, 1: 171, 2: 44})\n",
      "Resampled (SMOTE) real + synth dataset shape Counter({1: 818, -2: 818, 2: 818, 0: 818, -1: 818})\n",
      "Resampled (SMOTE) synth dataset shape Counter({2: 774, 1: 647, -2: 646, -1: 515})\n",
      "Resampled (ADASYN) train (real + synth) dataset shape Counter({1: 851, -1: 823, -2: 823, 0: 818, 2: 814})\n",
      "Resampled (ADASYN) synth dataset shape Counter({2: 770, 1: 680, -2: 651, -1: 518})\n"
     ]
    },
    {
     "name": "stderr",
     "output_type": "stream",
     "text": [
      "/Users/matias/miniconda3/envs/gen-methods/lib/python3.7/site-packages/sklearn/metrics/_classification.py:1272: UndefinedMetricWarning: Precision and F-score are ill-defined and being set to 0.0 in labels with no predicted samples. Use `zero_division` parameter to control this behavior.\n",
      "  _warn_prf(average, modifier, msg_start, len(result))\n",
      "/Users/matias/miniconda3/envs/gen-methods/lib/python3.7/site-packages/sklearn/metrics/_classification.py:1272: UndefinedMetricWarning: Recall and F-score are ill-defined and being set to 0.0 in labels with no true samples. Use `zero_division` parameter to control this behavior.\n",
      "  _warn_prf(average, modifier, msg_start, len(result))\n",
      "/Users/matias/miniconda3/envs/gen-methods/lib/python3.7/site-packages/sklearn/metrics/_classification.py:1272: UndefinedMetricWarning: Recall and F-score are ill-defined and being set to 0.0 in labels with no true samples. Use `zero_division` parameter to control this behavior.\n",
      "  _warn_prf(average, modifier, msg_start, len(result))\n",
      "/Users/matias/miniconda3/envs/gen-methods/lib/python3.7/site-packages/sklearn/metrics/_classification.py:1272: UndefinedMetricWarning: Precision and F-score are ill-defined and being set to 0.0 in labels with no predicted samples. Use `zero_division` parameter to control this behavior.\n",
      "  _warn_prf(average, modifier, msg_start, len(result))\n",
      "/Users/matias/miniconda3/envs/gen-methods/lib/python3.7/site-packages/sklearn/metrics/_classification.py:1272: UndefinedMetricWarning: Recall and F-score are ill-defined and being set to 0.0 in labels with no true samples. Use `zero_division` parameter to control this behavior.\n",
      "  _warn_prf(average, modifier, msg_start, len(result))\n",
      "/Users/matias/miniconda3/envs/gen-methods/lib/python3.7/site-packages/sklearn/metrics/_classification.py:1272: UndefinedMetricWarning: Recall and F-score are ill-defined and being set to 0.0 in labels with no true samples. Use `zero_division` parameter to control this behavior.\n",
      "  _warn_prf(average, modifier, msg_start, len(result))\n",
      "/Users/matias/miniconda3/envs/gen-methods/lib/python3.7/site-packages/sklearn/metrics/_classification.py:1272: UndefinedMetricWarning: Precision and F-score are ill-defined and being set to 0.0 in labels with no predicted samples. Use `zero_division` parameter to control this behavior.\n",
      "  _warn_prf(average, modifier, msg_start, len(result))\n",
      "/Users/matias/miniconda3/envs/gen-methods/lib/python3.7/site-packages/sklearn/metrics/_classification.py:1272: UndefinedMetricWarning: Precision and F-score are ill-defined and being set to 0.0 in labels with no predicted samples. Use `zero_division` parameter to control this behavior.\n",
      "  _warn_prf(average, modifier, msg_start, len(result))\n"
     ]
    },
    {
     "name": "stdout",
     "output_type": "stream",
     "text": [
      "End of 15 trial\n",
      "Original occutherm train dataset shape Counter({0: 818, -1: 303, -2: 172, 1: 171, 2: 44})\n",
      "Resampled (SMOTE) real + synth dataset shape Counter({2: 818, 0: 818, -1: 818, -2: 818, 1: 818})\n",
      "Resampled (SMOTE) synth dataset shape Counter({2: 774, 1: 647, -2: 646, -1: 515})\n",
      "Resampled (ADASYN) train (real + synth) dataset shape Counter({1: 851, -1: 823, -2: 823, 0: 818, 2: 814})\n",
      "Resampled (ADASYN) synth dataset shape Counter({2: 770, 1: 680, -2: 651, -1: 519})\n"
     ]
    },
    {
     "name": "stderr",
     "output_type": "stream",
     "text": [
      "/Users/matias/miniconda3/envs/gen-methods/lib/python3.7/site-packages/sklearn/metrics/_classification.py:1272: UndefinedMetricWarning: Precision and F-score are ill-defined and being set to 0.0 in labels with no predicted samples. Use `zero_division` parameter to control this behavior.\n",
      "  _warn_prf(average, modifier, msg_start, len(result))\n",
      "/Users/matias/miniconda3/envs/gen-methods/lib/python3.7/site-packages/sklearn/metrics/_classification.py:1272: UndefinedMetricWarning: Recall and F-score are ill-defined and being set to 0.0 in labels with no true samples. Use `zero_division` parameter to control this behavior.\n",
      "  _warn_prf(average, modifier, msg_start, len(result))\n",
      "/Users/matias/miniconda3/envs/gen-methods/lib/python3.7/site-packages/sklearn/metrics/_classification.py:1272: UndefinedMetricWarning: Recall and F-score are ill-defined and being set to 0.0 in labels with no true samples. Use `zero_division` parameter to control this behavior.\n",
      "  _warn_prf(average, modifier, msg_start, len(result))\n",
      "/Users/matias/miniconda3/envs/gen-methods/lib/python3.7/site-packages/sklearn/metrics/_classification.py:1272: UndefinedMetricWarning: Precision and F-score are ill-defined and being set to 0.0 in labels with no predicted samples. Use `zero_division` parameter to control this behavior.\n",
      "  _warn_prf(average, modifier, msg_start, len(result))\n",
      "/Users/matias/miniconda3/envs/gen-methods/lib/python3.7/site-packages/sklearn/metrics/_classification.py:1272: UndefinedMetricWarning: Recall and F-score are ill-defined and being set to 0.0 in labels with no true samples. Use `zero_division` parameter to control this behavior.\n",
      "  _warn_prf(average, modifier, msg_start, len(result))\n",
      "/Users/matias/miniconda3/envs/gen-methods/lib/python3.7/site-packages/sklearn/metrics/_classification.py:1272: UndefinedMetricWarning: Recall and F-score are ill-defined and being set to 0.0 in labels with no true samples. Use `zero_division` parameter to control this behavior.\n",
      "  _warn_prf(average, modifier, msg_start, len(result))\n",
      "/Users/matias/miniconda3/envs/gen-methods/lib/python3.7/site-packages/sklearn/metrics/_classification.py:1272: UndefinedMetricWarning: Precision and F-score are ill-defined and being set to 0.0 in labels with no predicted samples. Use `zero_division` parameter to control this behavior.\n",
      "  _warn_prf(average, modifier, msg_start, len(result))\n",
      "/Users/matias/miniconda3/envs/gen-methods/lib/python3.7/site-packages/sklearn/metrics/_classification.py:1272: UndefinedMetricWarning: Precision and F-score are ill-defined and being set to 0.0 in labels with no predicted samples. Use `zero_division` parameter to control this behavior.\n",
      "  _warn_prf(average, modifier, msg_start, len(result))\n"
     ]
    },
    {
     "name": "stdout",
     "output_type": "stream",
     "text": [
      "End of 16 trial\n",
      "Original occutherm train dataset shape Counter({0: 818, -1: 303, -2: 172, 1: 171, 2: 44})\n",
      "Resampled (SMOTE) real + synth dataset shape Counter({1: 818, -1: 818, 0: 818, 2: 818, -2: 818})\n",
      "Resampled (SMOTE) synth dataset shape Counter({2: 774, 1: 647, -2: 646, -1: 515})\n",
      "Resampled (ADASYN) train (real + synth) dataset shape Counter({1: 851, -1: 823, -2: 823, 0: 818, 2: 814})\n",
      "Resampled (ADASYN) synth dataset shape Counter({2: 770, 1: 680, -2: 651, -1: 519})\n"
     ]
    },
    {
     "name": "stderr",
     "output_type": "stream",
     "text": [
      "/Users/matias/miniconda3/envs/gen-methods/lib/python3.7/site-packages/sklearn/metrics/_classification.py:1272: UndefinedMetricWarning: Precision and F-score are ill-defined and being set to 0.0 in labels with no predicted samples. Use `zero_division` parameter to control this behavior.\n",
      "  _warn_prf(average, modifier, msg_start, len(result))\n",
      "/Users/matias/miniconda3/envs/gen-methods/lib/python3.7/site-packages/sklearn/metrics/_classification.py:1272: UndefinedMetricWarning: Recall and F-score are ill-defined and being set to 0.0 in labels with no true samples. Use `zero_division` parameter to control this behavior.\n",
      "  _warn_prf(average, modifier, msg_start, len(result))\n",
      "/Users/matias/miniconda3/envs/gen-methods/lib/python3.7/site-packages/sklearn/metrics/_classification.py:1272: UndefinedMetricWarning: Recall and F-score are ill-defined and being set to 0.0 in labels with no true samples. Use `zero_division` parameter to control this behavior.\n",
      "  _warn_prf(average, modifier, msg_start, len(result))\n",
      "/Users/matias/miniconda3/envs/gen-methods/lib/python3.7/site-packages/sklearn/metrics/_classification.py:1272: UndefinedMetricWarning: Precision and F-score are ill-defined and being set to 0.0 in labels with no predicted samples. Use `zero_division` parameter to control this behavior.\n",
      "  _warn_prf(average, modifier, msg_start, len(result))\n",
      "/Users/matias/miniconda3/envs/gen-methods/lib/python3.7/site-packages/sklearn/metrics/_classification.py:1272: UndefinedMetricWarning: Recall and F-score are ill-defined and being set to 0.0 in labels with no true samples. Use `zero_division` parameter to control this behavior.\n",
      "  _warn_prf(average, modifier, msg_start, len(result))\n",
      "/Users/matias/miniconda3/envs/gen-methods/lib/python3.7/site-packages/sklearn/metrics/_classification.py:1272: UndefinedMetricWarning: Recall and F-score are ill-defined and being set to 0.0 in labels with no true samples. Use `zero_division` parameter to control this behavior.\n",
      "  _warn_prf(average, modifier, msg_start, len(result))\n",
      "/Users/matias/miniconda3/envs/gen-methods/lib/python3.7/site-packages/sklearn/metrics/_classification.py:1272: UndefinedMetricWarning: Precision and F-score are ill-defined and being set to 0.0 in labels with no predicted samples. Use `zero_division` parameter to control this behavior.\n",
      "  _warn_prf(average, modifier, msg_start, len(result))\n",
      "/Users/matias/miniconda3/envs/gen-methods/lib/python3.7/site-packages/sklearn/metrics/_classification.py:1272: UndefinedMetricWarning: Precision and F-score are ill-defined and being set to 0.0 in labels with no predicted samples. Use `zero_division` parameter to control this behavior.\n",
      "  _warn_prf(average, modifier, msg_start, len(result))\n"
     ]
    },
    {
     "name": "stdout",
     "output_type": "stream",
     "text": [
      "End of 17 trial\n",
      "Original occutherm train dataset shape Counter({0: 818, -1: 303, -2: 172, 1: 171, 2: 44})\n",
      "Resampled (SMOTE) real + synth dataset shape Counter({-1: 818, 2: 818, 1: 818, -2: 818, 0: 818})\n",
      "Resampled (SMOTE) synth dataset shape Counter({2: 774, 1: 647, -2: 646, -1: 515})\n",
      "Resampled (ADASYN) train (real + synth) dataset shape Counter({1: 851, -1: 823, -2: 823, 0: 818, 2: 814})\n",
      "Resampled (ADASYN) synth dataset shape Counter({2: 770, 1: 680, -2: 651, -1: 520})\n"
     ]
    },
    {
     "name": "stderr",
     "output_type": "stream",
     "text": [
      "/Users/matias/miniconda3/envs/gen-methods/lib/python3.7/site-packages/sklearn/metrics/_classification.py:1272: UndefinedMetricWarning: Precision and F-score are ill-defined and being set to 0.0 in labels with no predicted samples. Use `zero_division` parameter to control this behavior.\n",
      "  _warn_prf(average, modifier, msg_start, len(result))\n",
      "/Users/matias/miniconda3/envs/gen-methods/lib/python3.7/site-packages/sklearn/metrics/_classification.py:1272: UndefinedMetricWarning: Recall and F-score are ill-defined and being set to 0.0 in labels with no true samples. Use `zero_division` parameter to control this behavior.\n",
      "  _warn_prf(average, modifier, msg_start, len(result))\n",
      "/Users/matias/miniconda3/envs/gen-methods/lib/python3.7/site-packages/sklearn/metrics/_classification.py:1272: UndefinedMetricWarning: Recall and F-score are ill-defined and being set to 0.0 in labels with no true samples. Use `zero_division` parameter to control this behavior.\n",
      "  _warn_prf(average, modifier, msg_start, len(result))\n",
      "/Users/matias/miniconda3/envs/gen-methods/lib/python3.7/site-packages/sklearn/metrics/_classification.py:1272: UndefinedMetricWarning: Precision and F-score are ill-defined and being set to 0.0 in labels with no predicted samples. Use `zero_division` parameter to control this behavior.\n",
      "  _warn_prf(average, modifier, msg_start, len(result))\n",
      "/Users/matias/miniconda3/envs/gen-methods/lib/python3.7/site-packages/sklearn/metrics/_classification.py:1272: UndefinedMetricWarning: Recall and F-score are ill-defined and being set to 0.0 in labels with no true samples. Use `zero_division` parameter to control this behavior.\n",
      "  _warn_prf(average, modifier, msg_start, len(result))\n",
      "/Users/matias/miniconda3/envs/gen-methods/lib/python3.7/site-packages/sklearn/metrics/_classification.py:1272: UndefinedMetricWarning: Recall and F-score are ill-defined and being set to 0.0 in labels with no true samples. Use `zero_division` parameter to control this behavior.\n",
      "  _warn_prf(average, modifier, msg_start, len(result))\n",
      "/Users/matias/miniconda3/envs/gen-methods/lib/python3.7/site-packages/sklearn/metrics/_classification.py:1272: UndefinedMetricWarning: Precision and F-score are ill-defined and being set to 0.0 in labels with no predicted samples. Use `zero_division` parameter to control this behavior.\n",
      "  _warn_prf(average, modifier, msg_start, len(result))\n",
      "/Users/matias/miniconda3/envs/gen-methods/lib/python3.7/site-packages/sklearn/metrics/_classification.py:1272: UndefinedMetricWarning: Precision and F-score are ill-defined and being set to 0.0 in labels with no predicted samples. Use `zero_division` parameter to control this behavior.\n",
      "  _warn_prf(average, modifier, msg_start, len(result))\n"
     ]
    },
    {
     "name": "stdout",
     "output_type": "stream",
     "text": [
      "End of 18 trial\n",
      "Original occutherm train dataset shape Counter({0: 818, -1: 303, -2: 172, 1: 171, 2: 44})\n",
      "Resampled (SMOTE) real + synth dataset shape Counter({-2: 818, 0: 818, 1: 818, 2: 818, -1: 818})\n",
      "Resampled (SMOTE) synth dataset shape Counter({2: 774, 1: 647, -2: 646, -1: 514})\n",
      "Resampled (ADASYN) train (real + synth) dataset shape Counter({1: 851, -2: 823, -1: 823, 0: 818, 2: 814})\n",
      "Resampled (ADASYN) synth dataset shape Counter({2: 770, 1: 680, -2: 651, -1: 517})\n"
     ]
    },
    {
     "name": "stderr",
     "output_type": "stream",
     "text": [
      "/Users/matias/miniconda3/envs/gen-methods/lib/python3.7/site-packages/sklearn/metrics/_classification.py:1272: UndefinedMetricWarning: Precision and F-score are ill-defined and being set to 0.0 in labels with no predicted samples. Use `zero_division` parameter to control this behavior.\n",
      "  _warn_prf(average, modifier, msg_start, len(result))\n",
      "/Users/matias/miniconda3/envs/gen-methods/lib/python3.7/site-packages/sklearn/metrics/_classification.py:1272: UndefinedMetricWarning: Recall and F-score are ill-defined and being set to 0.0 in labels with no true samples. Use `zero_division` parameter to control this behavior.\n",
      "  _warn_prf(average, modifier, msg_start, len(result))\n",
      "/Users/matias/miniconda3/envs/gen-methods/lib/python3.7/site-packages/sklearn/metrics/_classification.py:1272: UndefinedMetricWarning: Recall and F-score are ill-defined and being set to 0.0 in labels with no true samples. Use `zero_division` parameter to control this behavior.\n",
      "  _warn_prf(average, modifier, msg_start, len(result))\n",
      "/Users/matias/miniconda3/envs/gen-methods/lib/python3.7/site-packages/sklearn/metrics/_classification.py:1272: UndefinedMetricWarning: Precision and F-score are ill-defined and being set to 0.0 in labels with no predicted samples. Use `zero_division` parameter to control this behavior.\n",
      "  _warn_prf(average, modifier, msg_start, len(result))\n",
      "/Users/matias/miniconda3/envs/gen-methods/lib/python3.7/site-packages/sklearn/metrics/_classification.py:1272: UndefinedMetricWarning: Recall and F-score are ill-defined and being set to 0.0 in labels with no true samples. Use `zero_division` parameter to control this behavior.\n",
      "  _warn_prf(average, modifier, msg_start, len(result))\n",
      "/Users/matias/miniconda3/envs/gen-methods/lib/python3.7/site-packages/sklearn/metrics/_classification.py:1272: UndefinedMetricWarning: Recall and F-score are ill-defined and being set to 0.0 in labels with no true samples. Use `zero_division` parameter to control this behavior.\n",
      "  _warn_prf(average, modifier, msg_start, len(result))\n",
      "/Users/matias/miniconda3/envs/gen-methods/lib/python3.7/site-packages/sklearn/metrics/_classification.py:1272: UndefinedMetricWarning: Precision and F-score are ill-defined and being set to 0.0 in labels with no predicted samples. Use `zero_division` parameter to control this behavior.\n",
      "  _warn_prf(average, modifier, msg_start, len(result))\n",
      "/Users/matias/miniconda3/envs/gen-methods/lib/python3.7/site-packages/sklearn/metrics/_classification.py:1272: UndefinedMetricWarning: Precision and F-score are ill-defined and being set to 0.0 in labels with no predicted samples. Use `zero_division` parameter to control this behavior.\n",
      "  _warn_prf(average, modifier, msg_start, len(result))\n"
     ]
    },
    {
     "name": "stdout",
     "output_type": "stream",
     "text": [
      "End of 19 trial\n",
      "Original occutherm train dataset shape Counter({0: 818, -1: 303, -2: 172, 1: 171, 2: 44})\n",
      "Resampled (SMOTE) real + synth dataset shape Counter({1: 818, 0: 818, -1: 818, 2: 818, -2: 818})\n",
      "Resampled (SMOTE) synth dataset shape Counter({2: 774, 1: 647, -2: 646, -1: 514})\n",
      "Resampled (ADASYN) train (real + synth) dataset shape Counter({1: 851, -1: 823, -2: 823, 0: 818, 2: 814})\n",
      "Resampled (ADASYN) synth dataset shape Counter({2: 770, 1: 680, -2: 651, -1: 518})\n"
     ]
    },
    {
     "name": "stderr",
     "output_type": "stream",
     "text": [
      "/Users/matias/miniconda3/envs/gen-methods/lib/python3.7/site-packages/sklearn/metrics/_classification.py:1272: UndefinedMetricWarning: Precision and F-score are ill-defined and being set to 0.0 in labels with no predicted samples. Use `zero_division` parameter to control this behavior.\n",
      "  _warn_prf(average, modifier, msg_start, len(result))\n",
      "/Users/matias/miniconda3/envs/gen-methods/lib/python3.7/site-packages/sklearn/metrics/_classification.py:1272: UndefinedMetricWarning: Recall and F-score are ill-defined and being set to 0.0 in labels with no true samples. Use `zero_division` parameter to control this behavior.\n",
      "  _warn_prf(average, modifier, msg_start, len(result))\n",
      "/Users/matias/miniconda3/envs/gen-methods/lib/python3.7/site-packages/sklearn/metrics/_classification.py:1272: UndefinedMetricWarning: Recall and F-score are ill-defined and being set to 0.0 in labels with no true samples. Use `zero_division` parameter to control this behavior.\n",
      "  _warn_prf(average, modifier, msg_start, len(result))\n",
      "/Users/matias/miniconda3/envs/gen-methods/lib/python3.7/site-packages/sklearn/metrics/_classification.py:1272: UndefinedMetricWarning: Precision and F-score are ill-defined and being set to 0.0 in labels with no predicted samples. Use `zero_division` parameter to control this behavior.\n",
      "  _warn_prf(average, modifier, msg_start, len(result))\n",
      "/Users/matias/miniconda3/envs/gen-methods/lib/python3.7/site-packages/sklearn/metrics/_classification.py:1272: UndefinedMetricWarning: Recall and F-score are ill-defined and being set to 0.0 in labels with no true samples. Use `zero_division` parameter to control this behavior.\n",
      "  _warn_prf(average, modifier, msg_start, len(result))\n",
      "/Users/matias/miniconda3/envs/gen-methods/lib/python3.7/site-packages/sklearn/metrics/_classification.py:1272: UndefinedMetricWarning: Recall and F-score are ill-defined and being set to 0.0 in labels with no true samples. Use `zero_division` parameter to control this behavior.\n",
      "  _warn_prf(average, modifier, msg_start, len(result))\n",
      "/Users/matias/miniconda3/envs/gen-methods/lib/python3.7/site-packages/sklearn/metrics/_classification.py:1272: UndefinedMetricWarning: Precision and F-score are ill-defined and being set to 0.0 in labels with no predicted samples. Use `zero_division` parameter to control this behavior.\n",
      "  _warn_prf(average, modifier, msg_start, len(result))\n",
      "/Users/matias/miniconda3/envs/gen-methods/lib/python3.7/site-packages/sklearn/metrics/_classification.py:1272: UndefinedMetricWarning: Precision and F-score are ill-defined and being set to 0.0 in labels with no predicted samples. Use `zero_division` parameter to control this behavior.\n",
      "  _warn_prf(average, modifier, msg_start, len(result))\n"
     ]
    },
    {
     "name": "stdout",
     "output_type": "stream",
     "text": [
      "End of 20 trial\n",
      "Original occutherm train dataset shape Counter({0: 818, -1: 303, -2: 172, 1: 171, 2: 44})\n",
      "Resampled (SMOTE) real + synth dataset shape Counter({1: 818, -2: 818, 2: 818, 0: 818, -1: 818})\n",
      "Resampled (SMOTE) synth dataset shape Counter({2: 774, 1: 647, -2: 646, -1: 512})\n",
      "Resampled (ADASYN) train (real + synth) dataset shape Counter({1: 851, -2: 823, -1: 823, 0: 818, 2: 814})\n",
      "Resampled (ADASYN) synth dataset shape Counter({2: 770, 1: 680, -2: 651, -1: 519})\n"
     ]
    },
    {
     "name": "stderr",
     "output_type": "stream",
     "text": [
      "/Users/matias/miniconda3/envs/gen-methods/lib/python3.7/site-packages/sklearn/metrics/_classification.py:1272: UndefinedMetricWarning: Precision and F-score are ill-defined and being set to 0.0 in labels with no predicted samples. Use `zero_division` parameter to control this behavior.\n",
      "  _warn_prf(average, modifier, msg_start, len(result))\n",
      "/Users/matias/miniconda3/envs/gen-methods/lib/python3.7/site-packages/sklearn/metrics/_classification.py:1272: UndefinedMetricWarning: Recall and F-score are ill-defined and being set to 0.0 in labels with no true samples. Use `zero_division` parameter to control this behavior.\n",
      "  _warn_prf(average, modifier, msg_start, len(result))\n",
      "/Users/matias/miniconda3/envs/gen-methods/lib/python3.7/site-packages/sklearn/metrics/_classification.py:1272: UndefinedMetricWarning: Recall and F-score are ill-defined and being set to 0.0 in labels with no true samples. Use `zero_division` parameter to control this behavior.\n",
      "  _warn_prf(average, modifier, msg_start, len(result))\n",
      "/Users/matias/miniconda3/envs/gen-methods/lib/python3.7/site-packages/sklearn/metrics/_classification.py:1272: UndefinedMetricWarning: Precision and F-score are ill-defined and being set to 0.0 in labels with no predicted samples. Use `zero_division` parameter to control this behavior.\n",
      "  _warn_prf(average, modifier, msg_start, len(result))\n",
      "/Users/matias/miniconda3/envs/gen-methods/lib/python3.7/site-packages/sklearn/metrics/_classification.py:1272: UndefinedMetricWarning: Recall and F-score are ill-defined and being set to 0.0 in labels with no true samples. Use `zero_division` parameter to control this behavior.\n",
      "  _warn_prf(average, modifier, msg_start, len(result))\n",
      "/Users/matias/miniconda3/envs/gen-methods/lib/python3.7/site-packages/sklearn/metrics/_classification.py:1272: UndefinedMetricWarning: Recall and F-score are ill-defined and being set to 0.0 in labels with no true samples. Use `zero_division` parameter to control this behavior.\n",
      "  _warn_prf(average, modifier, msg_start, len(result))\n",
      "/Users/matias/miniconda3/envs/gen-methods/lib/python3.7/site-packages/sklearn/metrics/_classification.py:1272: UndefinedMetricWarning: Precision and F-score are ill-defined and being set to 0.0 in labels with no predicted samples. Use `zero_division` parameter to control this behavior.\n",
      "  _warn_prf(average, modifier, msg_start, len(result))\n",
      "/Users/matias/miniconda3/envs/gen-methods/lib/python3.7/site-packages/sklearn/metrics/_classification.py:1272: UndefinedMetricWarning: Precision and F-score are ill-defined and being set to 0.0 in labels with no predicted samples. Use `zero_division` parameter to control this behavior.\n",
      "  _warn_prf(average, modifier, msg_start, len(result))\n"
     ]
    },
    {
     "name": "stdout",
     "output_type": "stream",
     "text": [
      "End of 21 trial\n",
      "Original occutherm train dataset shape Counter({0: 818, -1: 303, -2: 172, 1: 171, 2: 44})\n",
      "Resampled (SMOTE) real + synth dataset shape Counter({1: 818, -1: 818, 2: 818, 0: 818, -2: 818})\n",
      "Resampled (SMOTE) synth dataset shape Counter({2: 774, 1: 647, -2: 646, -1: 514})\n",
      "Resampled (ADASYN) train (real + synth) dataset shape Counter({1: 851, -2: 823, -1: 823, 0: 818, 2: 814})\n",
      "Resampled (ADASYN) synth dataset shape Counter({2: 770, 1: 680, -2: 651, -1: 519})\n"
     ]
    },
    {
     "name": "stderr",
     "output_type": "stream",
     "text": [
      "/Users/matias/miniconda3/envs/gen-methods/lib/python3.7/site-packages/sklearn/metrics/_classification.py:1272: UndefinedMetricWarning: Precision and F-score are ill-defined and being set to 0.0 in labels with no predicted samples. Use `zero_division` parameter to control this behavior.\n",
      "  _warn_prf(average, modifier, msg_start, len(result))\n",
      "/Users/matias/miniconda3/envs/gen-methods/lib/python3.7/site-packages/sklearn/metrics/_classification.py:1272: UndefinedMetricWarning: Recall and F-score are ill-defined and being set to 0.0 in labels with no true samples. Use `zero_division` parameter to control this behavior.\n",
      "  _warn_prf(average, modifier, msg_start, len(result))\n",
      "/Users/matias/miniconda3/envs/gen-methods/lib/python3.7/site-packages/sklearn/metrics/_classification.py:1272: UndefinedMetricWarning: Recall and F-score are ill-defined and being set to 0.0 in labels with no true samples. Use `zero_division` parameter to control this behavior.\n",
      "  _warn_prf(average, modifier, msg_start, len(result))\n",
      "/Users/matias/miniconda3/envs/gen-methods/lib/python3.7/site-packages/sklearn/metrics/_classification.py:1272: UndefinedMetricWarning: Precision and F-score are ill-defined and being set to 0.0 in labels with no predicted samples. Use `zero_division` parameter to control this behavior.\n",
      "  _warn_prf(average, modifier, msg_start, len(result))\n",
      "/Users/matias/miniconda3/envs/gen-methods/lib/python3.7/site-packages/sklearn/metrics/_classification.py:1272: UndefinedMetricWarning: Recall and F-score are ill-defined and being set to 0.0 in labels with no true samples. Use `zero_division` parameter to control this behavior.\n",
      "  _warn_prf(average, modifier, msg_start, len(result))\n",
      "/Users/matias/miniconda3/envs/gen-methods/lib/python3.7/site-packages/sklearn/metrics/_classification.py:1272: UndefinedMetricWarning: Recall and F-score are ill-defined and being set to 0.0 in labels with no true samples. Use `zero_division` parameter to control this behavior.\n",
      "  _warn_prf(average, modifier, msg_start, len(result))\n",
      "/Users/matias/miniconda3/envs/gen-methods/lib/python3.7/site-packages/sklearn/metrics/_classification.py:1272: UndefinedMetricWarning: Precision and F-score are ill-defined and being set to 0.0 in labels with no predicted samples. Use `zero_division` parameter to control this behavior.\n",
      "  _warn_prf(average, modifier, msg_start, len(result))\n",
      "/Users/matias/miniconda3/envs/gen-methods/lib/python3.7/site-packages/sklearn/metrics/_classification.py:1272: UndefinedMetricWarning: Precision and F-score are ill-defined and being set to 0.0 in labels with no predicted samples. Use `zero_division` parameter to control this behavior.\n",
      "  _warn_prf(average, modifier, msg_start, len(result))\n"
     ]
    },
    {
     "name": "stdout",
     "output_type": "stream",
     "text": [
      "End of 22 trial\n",
      "Original occutherm train dataset shape Counter({0: 818, -1: 303, -2: 172, 1: 171, 2: 44})\n",
      "Resampled (SMOTE) real + synth dataset shape Counter({-1: 818, -2: 818, 1: 818, 2: 818, 0: 818})\n",
      "Resampled (SMOTE) synth dataset shape Counter({2: 774, 1: 647, -2: 646, -1: 513})\n",
      "Resampled (ADASYN) train (real + synth) dataset shape Counter({1: 851, -1: 823, -2: 823, 0: 818, 2: 814})\n",
      "Resampled (ADASYN) synth dataset shape Counter({2: 770, 1: 680, -2: 651, -1: 518})\n"
     ]
    },
    {
     "name": "stderr",
     "output_type": "stream",
     "text": [
      "/Users/matias/miniconda3/envs/gen-methods/lib/python3.7/site-packages/sklearn/metrics/_classification.py:1272: UndefinedMetricWarning: Precision and F-score are ill-defined and being set to 0.0 in labels with no predicted samples. Use `zero_division` parameter to control this behavior.\n",
      "  _warn_prf(average, modifier, msg_start, len(result))\n",
      "/Users/matias/miniconda3/envs/gen-methods/lib/python3.7/site-packages/sklearn/metrics/_classification.py:1272: UndefinedMetricWarning: Recall and F-score are ill-defined and being set to 0.0 in labels with no true samples. Use `zero_division` parameter to control this behavior.\n",
      "  _warn_prf(average, modifier, msg_start, len(result))\n",
      "/Users/matias/miniconda3/envs/gen-methods/lib/python3.7/site-packages/sklearn/metrics/_classification.py:1272: UndefinedMetricWarning: Recall and F-score are ill-defined and being set to 0.0 in labels with no true samples. Use `zero_division` parameter to control this behavior.\n",
      "  _warn_prf(average, modifier, msg_start, len(result))\n",
      "/Users/matias/miniconda3/envs/gen-methods/lib/python3.7/site-packages/sklearn/metrics/_classification.py:1272: UndefinedMetricWarning: Precision and F-score are ill-defined and being set to 0.0 in labels with no predicted samples. Use `zero_division` parameter to control this behavior.\n",
      "  _warn_prf(average, modifier, msg_start, len(result))\n",
      "/Users/matias/miniconda3/envs/gen-methods/lib/python3.7/site-packages/sklearn/metrics/_classification.py:1272: UndefinedMetricWarning: Recall and F-score are ill-defined and being set to 0.0 in labels with no true samples. Use `zero_division` parameter to control this behavior.\n",
      "  _warn_prf(average, modifier, msg_start, len(result))\n",
      "/Users/matias/miniconda3/envs/gen-methods/lib/python3.7/site-packages/sklearn/metrics/_classification.py:1272: UndefinedMetricWarning: Recall and F-score are ill-defined and being set to 0.0 in labels with no true samples. Use `zero_division` parameter to control this behavior.\n",
      "  _warn_prf(average, modifier, msg_start, len(result))\n",
      "/Users/matias/miniconda3/envs/gen-methods/lib/python3.7/site-packages/sklearn/metrics/_classification.py:1272: UndefinedMetricWarning: Precision and F-score are ill-defined and being set to 0.0 in labels with no predicted samples. Use `zero_division` parameter to control this behavior.\n",
      "  _warn_prf(average, modifier, msg_start, len(result))\n",
      "/Users/matias/miniconda3/envs/gen-methods/lib/python3.7/site-packages/sklearn/metrics/_classification.py:1272: UndefinedMetricWarning: Precision and F-score are ill-defined and being set to 0.0 in labels with no predicted samples. Use `zero_division` parameter to control this behavior.\n",
      "  _warn_prf(average, modifier, msg_start, len(result))\n"
     ]
    },
    {
     "name": "stdout",
     "output_type": "stream",
     "text": [
      "End of 23 trial\n",
      "Original occutherm train dataset shape Counter({0: 818, -1: 303, -2: 172, 1: 171, 2: 44})\n",
      "Resampled (SMOTE) real + synth dataset shape Counter({-1: 818, 1: 818, -2: 818, 0: 818, 2: 818})\n",
      "Resampled (SMOTE) synth dataset shape Counter({2: 774, 1: 647, -2: 646, -1: 514})\n",
      "Resampled (ADASYN) train (real + synth) dataset shape Counter({1: 851, -2: 823, -1: 823, 0: 818, 2: 814})\n",
      "Resampled (ADASYN) synth dataset shape Counter({2: 770, 1: 680, -2: 651, -1: 517})\n"
     ]
    },
    {
     "name": "stderr",
     "output_type": "stream",
     "text": [
      "/Users/matias/miniconda3/envs/gen-methods/lib/python3.7/site-packages/sklearn/metrics/_classification.py:1272: UndefinedMetricWarning: Precision and F-score are ill-defined and being set to 0.0 in labels with no predicted samples. Use `zero_division` parameter to control this behavior.\n",
      "  _warn_prf(average, modifier, msg_start, len(result))\n",
      "/Users/matias/miniconda3/envs/gen-methods/lib/python3.7/site-packages/sklearn/metrics/_classification.py:1272: UndefinedMetricWarning: Recall and F-score are ill-defined and being set to 0.0 in labels with no true samples. Use `zero_division` parameter to control this behavior.\n",
      "  _warn_prf(average, modifier, msg_start, len(result))\n",
      "/Users/matias/miniconda3/envs/gen-methods/lib/python3.7/site-packages/sklearn/metrics/_classification.py:1272: UndefinedMetricWarning: Recall and F-score are ill-defined and being set to 0.0 in labels with no true samples. Use `zero_division` parameter to control this behavior.\n",
      "  _warn_prf(average, modifier, msg_start, len(result))\n",
      "/Users/matias/miniconda3/envs/gen-methods/lib/python3.7/site-packages/sklearn/metrics/_classification.py:1272: UndefinedMetricWarning: Precision and F-score are ill-defined and being set to 0.0 in labels with no predicted samples. Use `zero_division` parameter to control this behavior.\n",
      "  _warn_prf(average, modifier, msg_start, len(result))\n",
      "/Users/matias/miniconda3/envs/gen-methods/lib/python3.7/site-packages/sklearn/metrics/_classification.py:1272: UndefinedMetricWarning: Recall and F-score are ill-defined and being set to 0.0 in labels with no true samples. Use `zero_division` parameter to control this behavior.\n",
      "  _warn_prf(average, modifier, msg_start, len(result))\n",
      "/Users/matias/miniconda3/envs/gen-methods/lib/python3.7/site-packages/sklearn/metrics/_classification.py:1272: UndefinedMetricWarning: Recall and F-score are ill-defined and being set to 0.0 in labels with no true samples. Use `zero_division` parameter to control this behavior.\n",
      "  _warn_prf(average, modifier, msg_start, len(result))\n",
      "/Users/matias/miniconda3/envs/gen-methods/lib/python3.7/site-packages/sklearn/metrics/_classification.py:1272: UndefinedMetricWarning: Precision and F-score are ill-defined and being set to 0.0 in labels with no predicted samples. Use `zero_division` parameter to control this behavior.\n",
      "  _warn_prf(average, modifier, msg_start, len(result))\n",
      "/Users/matias/miniconda3/envs/gen-methods/lib/python3.7/site-packages/sklearn/metrics/_classification.py:1272: UndefinedMetricWarning: Precision and F-score are ill-defined and being set to 0.0 in labels with no predicted samples. Use `zero_division` parameter to control this behavior.\n",
      "  _warn_prf(average, modifier, msg_start, len(result))\n"
     ]
    },
    {
     "name": "stdout",
     "output_type": "stream",
     "text": [
      "End of 24 trial\n",
      "Original occutherm train dataset shape Counter({0: 818, -1: 303, -2: 172, 1: 171, 2: 44})\n",
      "Resampled (SMOTE) real + synth dataset shape Counter({0: 818, -1: 818, 2: 818, -2: 818, 1: 818})\n",
      "Resampled (SMOTE) synth dataset shape Counter({2: 774, 1: 647, -2: 646, -1: 515})\n",
      "Resampled (ADASYN) train (real + synth) dataset shape Counter({1: 851, -1: 823, -2: 823, 0: 818, 2: 814})\n",
      "Resampled (ADASYN) synth dataset shape Counter({2: 770, 1: 680, -2: 651, -1: 518})\n"
     ]
    },
    {
     "name": "stderr",
     "output_type": "stream",
     "text": [
      "/Users/matias/miniconda3/envs/gen-methods/lib/python3.7/site-packages/sklearn/metrics/_classification.py:1272: UndefinedMetricWarning: Precision and F-score are ill-defined and being set to 0.0 in labels with no predicted samples. Use `zero_division` parameter to control this behavior.\n",
      "  _warn_prf(average, modifier, msg_start, len(result))\n",
      "/Users/matias/miniconda3/envs/gen-methods/lib/python3.7/site-packages/sklearn/metrics/_classification.py:1272: UndefinedMetricWarning: Recall and F-score are ill-defined and being set to 0.0 in labels with no true samples. Use `zero_division` parameter to control this behavior.\n",
      "  _warn_prf(average, modifier, msg_start, len(result))\n",
      "/Users/matias/miniconda3/envs/gen-methods/lib/python3.7/site-packages/sklearn/metrics/_classification.py:1272: UndefinedMetricWarning: Recall and F-score are ill-defined and being set to 0.0 in labels with no true samples. Use `zero_division` parameter to control this behavior.\n",
      "  _warn_prf(average, modifier, msg_start, len(result))\n",
      "/Users/matias/miniconda3/envs/gen-methods/lib/python3.7/site-packages/sklearn/metrics/_classification.py:1272: UndefinedMetricWarning: Precision and F-score are ill-defined and being set to 0.0 in labels with no predicted samples. Use `zero_division` parameter to control this behavior.\n",
      "  _warn_prf(average, modifier, msg_start, len(result))\n",
      "/Users/matias/miniconda3/envs/gen-methods/lib/python3.7/site-packages/sklearn/metrics/_classification.py:1272: UndefinedMetricWarning: Recall and F-score are ill-defined and being set to 0.0 in labels with no true samples. Use `zero_division` parameter to control this behavior.\n",
      "  _warn_prf(average, modifier, msg_start, len(result))\n",
      "/Users/matias/miniconda3/envs/gen-methods/lib/python3.7/site-packages/sklearn/metrics/_classification.py:1272: UndefinedMetricWarning: Recall and F-score are ill-defined and being set to 0.0 in labels with no true samples. Use `zero_division` parameter to control this behavior.\n",
      "  _warn_prf(average, modifier, msg_start, len(result))\n",
      "/Users/matias/miniconda3/envs/gen-methods/lib/python3.7/site-packages/sklearn/metrics/_classification.py:1272: UndefinedMetricWarning: Precision and F-score are ill-defined and being set to 0.0 in labels with no predicted samples. Use `zero_division` parameter to control this behavior.\n",
      "  _warn_prf(average, modifier, msg_start, len(result))\n",
      "/Users/matias/miniconda3/envs/gen-methods/lib/python3.7/site-packages/sklearn/metrics/_classification.py:1272: UndefinedMetricWarning: Precision and F-score are ill-defined and being set to 0.0 in labels with no predicted samples. Use `zero_division` parameter to control this behavior.\n",
      "  _warn_prf(average, modifier, msg_start, len(result))\n"
     ]
    },
    {
     "name": "stdout",
     "output_type": "stream",
     "text": [
      "End of 25 trial\n",
      "Original occutherm train dataset shape Counter({0: 818, -1: 303, -2: 172, 1: 171, 2: 44})\n",
      "Resampled (SMOTE) real + synth dataset shape Counter({0: 818, -2: 818, 2: 818, -1: 818, 1: 818})\n",
      "Resampled (SMOTE) synth dataset shape Counter({2: 774, 1: 647, -2: 646, -1: 515})\n",
      "Resampled (ADASYN) train (real + synth) dataset shape Counter({1: 851, -2: 823, -1: 823, 0: 818, 2: 814})\n",
      "Resampled (ADASYN) synth dataset shape Counter({2: 770, 1: 680, -2: 651, -1: 519})\n"
     ]
    },
    {
     "name": "stderr",
     "output_type": "stream",
     "text": [
      "/Users/matias/miniconda3/envs/gen-methods/lib/python3.7/site-packages/sklearn/metrics/_classification.py:1272: UndefinedMetricWarning: Precision and F-score are ill-defined and being set to 0.0 in labels with no predicted samples. Use `zero_division` parameter to control this behavior.\n",
      "  _warn_prf(average, modifier, msg_start, len(result))\n",
      "/Users/matias/miniconda3/envs/gen-methods/lib/python3.7/site-packages/sklearn/metrics/_classification.py:1272: UndefinedMetricWarning: Recall and F-score are ill-defined and being set to 0.0 in labels with no true samples. Use `zero_division` parameter to control this behavior.\n",
      "  _warn_prf(average, modifier, msg_start, len(result))\n",
      "/Users/matias/miniconda3/envs/gen-methods/lib/python3.7/site-packages/sklearn/metrics/_classification.py:1272: UndefinedMetricWarning: Recall and F-score are ill-defined and being set to 0.0 in labels with no true samples. Use `zero_division` parameter to control this behavior.\n",
      "  _warn_prf(average, modifier, msg_start, len(result))\n",
      "/Users/matias/miniconda3/envs/gen-methods/lib/python3.7/site-packages/sklearn/metrics/_classification.py:1272: UndefinedMetricWarning: Precision and F-score are ill-defined and being set to 0.0 in labels with no predicted samples. Use `zero_division` parameter to control this behavior.\n",
      "  _warn_prf(average, modifier, msg_start, len(result))\n",
      "/Users/matias/miniconda3/envs/gen-methods/lib/python3.7/site-packages/sklearn/metrics/_classification.py:1272: UndefinedMetricWarning: Recall and F-score are ill-defined and being set to 0.0 in labels with no true samples. Use `zero_division` parameter to control this behavior.\n",
      "  _warn_prf(average, modifier, msg_start, len(result))\n",
      "/Users/matias/miniconda3/envs/gen-methods/lib/python3.7/site-packages/sklearn/metrics/_classification.py:1272: UndefinedMetricWarning: Recall and F-score are ill-defined and being set to 0.0 in labels with no true samples. Use `zero_division` parameter to control this behavior.\n",
      "  _warn_prf(average, modifier, msg_start, len(result))\n",
      "/Users/matias/miniconda3/envs/gen-methods/lib/python3.7/site-packages/sklearn/metrics/_classification.py:1272: UndefinedMetricWarning: Precision and F-score are ill-defined and being set to 0.0 in labels with no predicted samples. Use `zero_division` parameter to control this behavior.\n",
      "  _warn_prf(average, modifier, msg_start, len(result))\n",
      "/Users/matias/miniconda3/envs/gen-methods/lib/python3.7/site-packages/sklearn/metrics/_classification.py:1272: UndefinedMetricWarning: Precision and F-score are ill-defined and being set to 0.0 in labels with no predicted samples. Use `zero_division` parameter to control this behavior.\n",
      "  _warn_prf(average, modifier, msg_start, len(result))\n"
     ]
    },
    {
     "name": "stdout",
     "output_type": "stream",
     "text": [
      "End of 26 trial\n",
      "Original occutherm train dataset shape Counter({0: 818, -1: 303, -2: 172, 1: 171, 2: 44})\n",
      "Resampled (SMOTE) real + synth dataset shape Counter({0: 818, 1: 818, -1: 818, -2: 818, 2: 818})\n",
      "Resampled (SMOTE) synth dataset shape Counter({2: 774, 1: 647, -2: 646, -1: 513})\n",
      "Resampled (ADASYN) train (real + synth) dataset shape Counter({1: 851, -2: 823, -1: 823, 0: 818, 2: 814})\n",
      "Resampled (ADASYN) synth dataset shape Counter({2: 770, 1: 680, -2: 651, -1: 518})\n"
     ]
    },
    {
     "name": "stderr",
     "output_type": "stream",
     "text": [
      "/Users/matias/miniconda3/envs/gen-methods/lib/python3.7/site-packages/sklearn/metrics/_classification.py:1272: UndefinedMetricWarning: Precision and F-score are ill-defined and being set to 0.0 in labels with no predicted samples. Use `zero_division` parameter to control this behavior.\n",
      "  _warn_prf(average, modifier, msg_start, len(result))\n",
      "/Users/matias/miniconda3/envs/gen-methods/lib/python3.7/site-packages/sklearn/metrics/_classification.py:1272: UndefinedMetricWarning: Recall and F-score are ill-defined and being set to 0.0 in labels with no true samples. Use `zero_division` parameter to control this behavior.\n",
      "  _warn_prf(average, modifier, msg_start, len(result))\n",
      "/Users/matias/miniconda3/envs/gen-methods/lib/python3.7/site-packages/sklearn/metrics/_classification.py:1272: UndefinedMetricWarning: Recall and F-score are ill-defined and being set to 0.0 in labels with no true samples. Use `zero_division` parameter to control this behavior.\n",
      "  _warn_prf(average, modifier, msg_start, len(result))\n",
      "/Users/matias/miniconda3/envs/gen-methods/lib/python3.7/site-packages/sklearn/metrics/_classification.py:1272: UndefinedMetricWarning: Precision and F-score are ill-defined and being set to 0.0 in labels with no predicted samples. Use `zero_division` parameter to control this behavior.\n",
      "  _warn_prf(average, modifier, msg_start, len(result))\n",
      "/Users/matias/miniconda3/envs/gen-methods/lib/python3.7/site-packages/sklearn/metrics/_classification.py:1272: UndefinedMetricWarning: Recall and F-score are ill-defined and being set to 0.0 in labels with no true samples. Use `zero_division` parameter to control this behavior.\n",
      "  _warn_prf(average, modifier, msg_start, len(result))\n",
      "/Users/matias/miniconda3/envs/gen-methods/lib/python3.7/site-packages/sklearn/metrics/_classification.py:1272: UndefinedMetricWarning: Recall and F-score are ill-defined and being set to 0.0 in labels with no true samples. Use `zero_division` parameter to control this behavior.\n",
      "  _warn_prf(average, modifier, msg_start, len(result))\n",
      "/Users/matias/miniconda3/envs/gen-methods/lib/python3.7/site-packages/sklearn/metrics/_classification.py:1272: UndefinedMetricWarning: Precision and F-score are ill-defined and being set to 0.0 in labels with no predicted samples. Use `zero_division` parameter to control this behavior.\n",
      "  _warn_prf(average, modifier, msg_start, len(result))\n",
      "/Users/matias/miniconda3/envs/gen-methods/lib/python3.7/site-packages/sklearn/metrics/_classification.py:1272: UndefinedMetricWarning: Precision and F-score are ill-defined and being set to 0.0 in labels with no predicted samples. Use `zero_division` parameter to control this behavior.\n",
      "  _warn_prf(average, modifier, msg_start, len(result))\n"
     ]
    },
    {
     "name": "stdout",
     "output_type": "stream",
     "text": [
      "End of 27 trial\n",
      "Original occutherm train dataset shape Counter({0: 818, -1: 303, -2: 172, 1: 171, 2: 44})\n",
      "Resampled (SMOTE) real + synth dataset shape Counter({2: 818, 1: 818, -1: 818, 0: 818, -2: 818})\n",
      "Resampled (SMOTE) synth dataset shape Counter({2: 774, 1: 647, -2: 646, -1: 513})\n",
      "Resampled (ADASYN) train (real + synth) dataset shape Counter({1: 851, -1: 823, -2: 823, 0: 818, 2: 814})\n",
      "Resampled (ADASYN) synth dataset shape Counter({2: 770, 1: 680, -2: 651, -1: 520})\n"
     ]
    },
    {
     "name": "stderr",
     "output_type": "stream",
     "text": [
      "/Users/matias/miniconda3/envs/gen-methods/lib/python3.7/site-packages/sklearn/metrics/_classification.py:1272: UndefinedMetricWarning: Precision and F-score are ill-defined and being set to 0.0 in labels with no predicted samples. Use `zero_division` parameter to control this behavior.\n",
      "  _warn_prf(average, modifier, msg_start, len(result))\n",
      "/Users/matias/miniconda3/envs/gen-methods/lib/python3.7/site-packages/sklearn/metrics/_classification.py:1272: UndefinedMetricWarning: Recall and F-score are ill-defined and being set to 0.0 in labels with no true samples. Use `zero_division` parameter to control this behavior.\n",
      "  _warn_prf(average, modifier, msg_start, len(result))\n",
      "/Users/matias/miniconda3/envs/gen-methods/lib/python3.7/site-packages/sklearn/metrics/_classification.py:1272: UndefinedMetricWarning: Recall and F-score are ill-defined and being set to 0.0 in labels with no true samples. Use `zero_division` parameter to control this behavior.\n",
      "  _warn_prf(average, modifier, msg_start, len(result))\n",
      "/Users/matias/miniconda3/envs/gen-methods/lib/python3.7/site-packages/sklearn/metrics/_classification.py:1272: UndefinedMetricWarning: Precision and F-score are ill-defined and being set to 0.0 in labels with no predicted samples. Use `zero_division` parameter to control this behavior.\n",
      "  _warn_prf(average, modifier, msg_start, len(result))\n",
      "/Users/matias/miniconda3/envs/gen-methods/lib/python3.7/site-packages/sklearn/metrics/_classification.py:1272: UndefinedMetricWarning: Recall and F-score are ill-defined and being set to 0.0 in labels with no true samples. Use `zero_division` parameter to control this behavior.\n",
      "  _warn_prf(average, modifier, msg_start, len(result))\n",
      "/Users/matias/miniconda3/envs/gen-methods/lib/python3.7/site-packages/sklearn/metrics/_classification.py:1272: UndefinedMetricWarning: Recall and F-score are ill-defined and being set to 0.0 in labels with no true samples. Use `zero_division` parameter to control this behavior.\n",
      "  _warn_prf(average, modifier, msg_start, len(result))\n",
      "/Users/matias/miniconda3/envs/gen-methods/lib/python3.7/site-packages/sklearn/metrics/_classification.py:1272: UndefinedMetricWarning: Precision and F-score are ill-defined and being set to 0.0 in labels with no predicted samples. Use `zero_division` parameter to control this behavior.\n",
      "  _warn_prf(average, modifier, msg_start, len(result))\n",
      "/Users/matias/miniconda3/envs/gen-methods/lib/python3.7/site-packages/sklearn/metrics/_classification.py:1272: UndefinedMetricWarning: Precision and F-score are ill-defined and being set to 0.0 in labels with no predicted samples. Use `zero_division` parameter to control this behavior.\n",
      "  _warn_prf(average, modifier, msg_start, len(result))\n"
     ]
    },
    {
     "name": "stdout",
     "output_type": "stream",
     "text": [
      "End of 28 trial\n",
      "Original occutherm train dataset shape Counter({0: 818, -1: 303, -2: 172, 1: 171, 2: 44})\n",
      "Resampled (SMOTE) real + synth dataset shape Counter({0: 818, 2: 818, 1: 818, -1: 818, -2: 818})\n",
      "Resampled (SMOTE) synth dataset shape Counter({2: 774, 1: 647, -2: 646, -1: 514})\n",
      "Resampled (ADASYN) train (real + synth) dataset shape Counter({1: 851, -1: 823, -2: 823, 0: 818, 2: 814})\n",
      "Resampled (ADASYN) synth dataset shape Counter({2: 770, 1: 680, -2: 651, -1: 520})\n"
     ]
    },
    {
     "name": "stderr",
     "output_type": "stream",
     "text": [
      "/Users/matias/miniconda3/envs/gen-methods/lib/python3.7/site-packages/sklearn/metrics/_classification.py:1272: UndefinedMetricWarning: Precision and F-score are ill-defined and being set to 0.0 in labels with no predicted samples. Use `zero_division` parameter to control this behavior.\n",
      "  _warn_prf(average, modifier, msg_start, len(result))\n",
      "/Users/matias/miniconda3/envs/gen-methods/lib/python3.7/site-packages/sklearn/metrics/_classification.py:1272: UndefinedMetricWarning: Recall and F-score are ill-defined and being set to 0.0 in labels with no true samples. Use `zero_division` parameter to control this behavior.\n",
      "  _warn_prf(average, modifier, msg_start, len(result))\n",
      "/Users/matias/miniconda3/envs/gen-methods/lib/python3.7/site-packages/sklearn/metrics/_classification.py:1272: UndefinedMetricWarning: Recall and F-score are ill-defined and being set to 0.0 in labels with no true samples. Use `zero_division` parameter to control this behavior.\n",
      "  _warn_prf(average, modifier, msg_start, len(result))\n",
      "/Users/matias/miniconda3/envs/gen-methods/lib/python3.7/site-packages/sklearn/metrics/_classification.py:1272: UndefinedMetricWarning: Precision and F-score are ill-defined and being set to 0.0 in labels with no predicted samples. Use `zero_division` parameter to control this behavior.\n",
      "  _warn_prf(average, modifier, msg_start, len(result))\n",
      "/Users/matias/miniconda3/envs/gen-methods/lib/python3.7/site-packages/sklearn/metrics/_classification.py:1272: UndefinedMetricWarning: Recall and F-score are ill-defined and being set to 0.0 in labels with no true samples. Use `zero_division` parameter to control this behavior.\n",
      "  _warn_prf(average, modifier, msg_start, len(result))\n",
      "/Users/matias/miniconda3/envs/gen-methods/lib/python3.7/site-packages/sklearn/metrics/_classification.py:1272: UndefinedMetricWarning: Recall and F-score are ill-defined and being set to 0.0 in labels with no true samples. Use `zero_division` parameter to control this behavior.\n",
      "  _warn_prf(average, modifier, msg_start, len(result))\n",
      "/Users/matias/miniconda3/envs/gen-methods/lib/python3.7/site-packages/sklearn/metrics/_classification.py:1272: UndefinedMetricWarning: Precision and F-score are ill-defined and being set to 0.0 in labels with no predicted samples. Use `zero_division` parameter to control this behavior.\n",
      "  _warn_prf(average, modifier, msg_start, len(result))\n",
      "/Users/matias/miniconda3/envs/gen-methods/lib/python3.7/site-packages/sklearn/metrics/_classification.py:1272: UndefinedMetricWarning: Precision and F-score are ill-defined and being set to 0.0 in labels with no predicted samples. Use `zero_division` parameter to control this behavior.\n",
      "  _warn_prf(average, modifier, msg_start, len(result))\n"
     ]
    },
    {
     "name": "stdout",
     "output_type": "stream",
     "text": [
      "End of 29 trial\n",
      "Original occutherm train dataset shape Counter({0: 818, -1: 303, -2: 172, 1: 171, 2: 44})\n",
      "Resampled (SMOTE) real + synth dataset shape Counter({-1: 818, 1: 818, 0: 818, -2: 818, 2: 818})\n",
      "Resampled (SMOTE) synth dataset shape Counter({2: 774, 1: 647, -2: 646, -1: 513})\n",
      "Resampled (ADASYN) train (real + synth) dataset shape Counter({1: 851, -2: 823, -1: 823, 0: 818, 2: 814})\n",
      "Resampled (ADASYN) synth dataset shape Counter({2: 770, 1: 680, -2: 651, -1: 519})\n"
     ]
    },
    {
     "name": "stderr",
     "output_type": "stream",
     "text": [
      "/Users/matias/miniconda3/envs/gen-methods/lib/python3.7/site-packages/sklearn/metrics/_classification.py:1272: UndefinedMetricWarning: Precision and F-score are ill-defined and being set to 0.0 in labels with no predicted samples. Use `zero_division` parameter to control this behavior.\n",
      "  _warn_prf(average, modifier, msg_start, len(result))\n",
      "/Users/matias/miniconda3/envs/gen-methods/lib/python3.7/site-packages/sklearn/metrics/_classification.py:1272: UndefinedMetricWarning: Recall and F-score are ill-defined and being set to 0.0 in labels with no true samples. Use `zero_division` parameter to control this behavior.\n",
      "  _warn_prf(average, modifier, msg_start, len(result))\n",
      "/Users/matias/miniconda3/envs/gen-methods/lib/python3.7/site-packages/sklearn/metrics/_classification.py:1272: UndefinedMetricWarning: Recall and F-score are ill-defined and being set to 0.0 in labels with no true samples. Use `zero_division` parameter to control this behavior.\n",
      "  _warn_prf(average, modifier, msg_start, len(result))\n",
      "/Users/matias/miniconda3/envs/gen-methods/lib/python3.7/site-packages/sklearn/metrics/_classification.py:1272: UndefinedMetricWarning: Precision and F-score are ill-defined and being set to 0.0 in labels with no predicted samples. Use `zero_division` parameter to control this behavior.\n",
      "  _warn_prf(average, modifier, msg_start, len(result))\n",
      "/Users/matias/miniconda3/envs/gen-methods/lib/python3.7/site-packages/sklearn/metrics/_classification.py:1272: UndefinedMetricWarning: Recall and F-score are ill-defined and being set to 0.0 in labels with no true samples. Use `zero_division` parameter to control this behavior.\n",
      "  _warn_prf(average, modifier, msg_start, len(result))\n",
      "/Users/matias/miniconda3/envs/gen-methods/lib/python3.7/site-packages/sklearn/metrics/_classification.py:1272: UndefinedMetricWarning: Recall and F-score are ill-defined and being set to 0.0 in labels with no true samples. Use `zero_division` parameter to control this behavior.\n",
      "  _warn_prf(average, modifier, msg_start, len(result))\n"
     ]
    },
    {
     "name": "stdout",
     "output_type": "stream",
     "text": [
      "End of 30 trial\n",
      "################################################################################\n",
      "# Metrics and models for dataset occutherm saved!\n",
      "################################################################################\n"
     ]
    },
    {
     "name": "stderr",
     "output_type": "stream",
     "text": [
      "/Users/matias/miniconda3/envs/gen-methods/lib/python3.7/site-packages/sklearn/metrics/_classification.py:1272: UndefinedMetricWarning: Precision and F-score are ill-defined and being set to 0.0 in labels with no predicted samples. Use `zero_division` parameter to control this behavior.\n",
      "  _warn_prf(average, modifier, msg_start, len(result))\n",
      "/Users/matias/miniconda3/envs/gen-methods/lib/python3.7/site-packages/sklearn/metrics/_classification.py:1272: UndefinedMetricWarning: Precision and F-score are ill-defined and being set to 0.0 in labels with no predicted samples. Use `zero_division` parameter to control this behavior.\n",
      "  _warn_prf(average, modifier, msg_start, len(result))\n"
     ]
    }
   ],
   "source": [
    "evaluate_on_dataset(df_tcs_train, df_tcs_test, model='adasyn', dataset='occutherm')\n"
   ]
  },
  {
   "cell_type": "markdown",
   "metadata": {},
   "source": [
    "## Cresh"
   ]
  },
  {
   "cell_type": "code",
   "execution_count": 10,
   "metadata": {
    "collapsed": true,
    "jupyter": {
     "outputs_hidden": true
    }
   },
   "outputs": [
    {
     "name": "stdout",
     "output_type": "stream",
     "text": [
      "Original cresh train dataset shape Counter({10: 713, 11: 280, 9: 166})\n",
      "Resampled (SMOTE) real + synth dataset shape Counter({11: 713, 9: 713, 10: 713})\n",
      "Resampled (SMOTE) synth dataset shape Counter({9: 547, 11: 433})\n",
      "Resampled (ADASYN) train (real + synth) dataset shape Counter({10: 713, 9: 702, 11: 685})\n",
      "Resampled (ADASYN) synth dataset shape Counter({9: 536, 11: 405})\n"
     ]
    },
    {
     "name": "stderr",
     "output_type": "stream",
     "text": [
      "/Users/matias/miniconda3/envs/gen-methods/lib/python3.7/site-packages/sklearn/metrics/_classification.py:1272: UndefinedMetricWarning: Precision and F-score are ill-defined and being set to 0.0 in labels with no predicted samples. Use `zero_division` parameter to control this behavior.\n",
      "  _warn_prf(average, modifier, msg_start, len(result))\n",
      "/Users/matias/miniconda3/envs/gen-methods/lib/python3.7/site-packages/sklearn/metrics/_classification.py:1272: UndefinedMetricWarning: Recall and F-score are ill-defined and being set to 0.0 in labels with no true samples. Use `zero_division` parameter to control this behavior.\n",
      "  _warn_prf(average, modifier, msg_start, len(result))\n",
      "/Users/matias/miniconda3/envs/gen-methods/lib/python3.7/site-packages/sklearn/metrics/_classification.py:1272: UndefinedMetricWarning: Recall and F-score are ill-defined and being set to 0.0 in labels with no true samples. Use `zero_division` parameter to control this behavior.\n",
      "  _warn_prf(average, modifier, msg_start, len(result))\n",
      "/Users/matias/miniconda3/envs/gen-methods/lib/python3.7/site-packages/sklearn/metrics/_classification.py:1272: UndefinedMetricWarning: Precision and F-score are ill-defined and being set to 0.0 in labels with no predicted samples. Use `zero_division` parameter to control this behavior.\n",
      "  _warn_prf(average, modifier, msg_start, len(result))\n",
      "/Users/matias/miniconda3/envs/gen-methods/lib/python3.7/site-packages/sklearn/metrics/_classification.py:1272: UndefinedMetricWarning: Recall and F-score are ill-defined and being set to 0.0 in labels with no true samples. Use `zero_division` parameter to control this behavior.\n",
      "  _warn_prf(average, modifier, msg_start, len(result))\n",
      "/Users/matias/miniconda3/envs/gen-methods/lib/python3.7/site-packages/sklearn/metrics/_classification.py:1272: UndefinedMetricWarning: Recall and F-score are ill-defined and being set to 0.0 in labels with no true samples. Use `zero_division` parameter to control this behavior.\n",
      "  _warn_prf(average, modifier, msg_start, len(result))\n",
      "/Users/matias/miniconda3/envs/gen-methods/lib/python3.7/site-packages/sklearn/metrics/_classification.py:1272: UndefinedMetricWarning: Precision and F-score are ill-defined and being set to 0.0 in labels with no predicted samples. Use `zero_division` parameter to control this behavior.\n",
      "  _warn_prf(average, modifier, msg_start, len(result))\n",
      "/Users/matias/miniconda3/envs/gen-methods/lib/python3.7/site-packages/sklearn/metrics/_classification.py:1272: UndefinedMetricWarning: Precision and F-score are ill-defined and being set to 0.0 in labels with no predicted samples. Use `zero_division` parameter to control this behavior.\n",
      "  _warn_prf(average, modifier, msg_start, len(result))\n",
      "/Users/matias/miniconda3/envs/gen-methods/lib/python3.7/site-packages/sklearn/metrics/_classification.py:1272: UndefinedMetricWarning: Precision and F-score are ill-defined and being set to 0.0 in labels with no predicted samples. Use `zero_division` parameter to control this behavior.\n",
      "  _warn_prf(average, modifier, msg_start, len(result))\n",
      "/Users/matias/miniconda3/envs/gen-methods/lib/python3.7/site-packages/sklearn/metrics/_classification.py:1272: UndefinedMetricWarning: Recall and F-score are ill-defined and being set to 0.0 in labels with no true samples. Use `zero_division` parameter to control this behavior.\n",
      "  _warn_prf(average, modifier, msg_start, len(result))\n",
      "/Users/matias/miniconda3/envs/gen-methods/lib/python3.7/site-packages/sklearn/metrics/_classification.py:1272: UndefinedMetricWarning: Recall and F-score are ill-defined and being set to 0.0 in labels with no true samples. Use `zero_division` parameter to control this behavior.\n",
      "  _warn_prf(average, modifier, msg_start, len(result))\n",
      "/Users/matias/miniconda3/envs/gen-methods/lib/python3.7/site-packages/sklearn/metrics/_classification.py:1272: UndefinedMetricWarning: Precision and F-score are ill-defined and being set to 0.0 in labels with no predicted samples. Use `zero_division` parameter to control this behavior.\n",
      "  _warn_prf(average, modifier, msg_start, len(result))\n",
      "/Users/matias/miniconda3/envs/gen-methods/lib/python3.7/site-packages/sklearn/metrics/_classification.py:1272: UndefinedMetricWarning: Recall and F-score are ill-defined and being set to 0.0 in labels with no true samples. Use `zero_division` parameter to control this behavior.\n",
      "  _warn_prf(average, modifier, msg_start, len(result))\n"
     ]
    },
    {
     "name": "stdout",
     "output_type": "stream",
     "text": [
      "End of 1 trial\n",
      "Original cresh train dataset shape Counter({10: 713, 11: 280, 9: 166})\n",
      "Resampled (SMOTE) real + synth dataset shape Counter({9: 713, 10: 713, 11: 713})\n",
      "Resampled (SMOTE) synth dataset shape Counter({9: 547, 11: 433})\n",
      "Resampled (ADASYN) train (real + synth) dataset shape Counter({10: 713, 9: 702, 11: 685})\n",
      "Resampled (ADASYN) synth dataset shape Counter({9: 536, 11: 405})\n"
     ]
    },
    {
     "name": "stderr",
     "output_type": "stream",
     "text": [
      "/Users/matias/miniconda3/envs/gen-methods/lib/python3.7/site-packages/sklearn/metrics/_classification.py:1272: UndefinedMetricWarning: Recall and F-score are ill-defined and being set to 0.0 in labels with no true samples. Use `zero_division` parameter to control this behavior.\n",
      "  _warn_prf(average, modifier, msg_start, len(result))\n",
      "/Users/matias/miniconda3/envs/gen-methods/lib/python3.7/site-packages/sklearn/metrics/_classification.py:1272: UndefinedMetricWarning: Precision and F-score are ill-defined and being set to 0.0 in labels with no predicted samples. Use `zero_division` parameter to control this behavior.\n",
      "  _warn_prf(average, modifier, msg_start, len(result))\n",
      "/Users/matias/miniconda3/envs/gen-methods/lib/python3.7/site-packages/sklearn/metrics/_classification.py:1272: UndefinedMetricWarning: Precision and F-score are ill-defined and being set to 0.0 in labels with no predicted samples. Use `zero_division` parameter to control this behavior.\n",
      "  _warn_prf(average, modifier, msg_start, len(result))\n",
      "/Users/matias/miniconda3/envs/gen-methods/lib/python3.7/site-packages/sklearn/metrics/_classification.py:1272: UndefinedMetricWarning: Precision and F-score are ill-defined and being set to 0.0 in labels with no predicted samples. Use `zero_division` parameter to control this behavior.\n",
      "  _warn_prf(average, modifier, msg_start, len(result))\n",
      "/Users/matias/miniconda3/envs/gen-methods/lib/python3.7/site-packages/sklearn/metrics/_classification.py:1272: UndefinedMetricWarning: Recall and F-score are ill-defined and being set to 0.0 in labels with no true samples. Use `zero_division` parameter to control this behavior.\n",
      "  _warn_prf(average, modifier, msg_start, len(result))\n",
      "/Users/matias/miniconda3/envs/gen-methods/lib/python3.7/site-packages/sklearn/metrics/_classification.py:1272: UndefinedMetricWarning: Recall and F-score are ill-defined and being set to 0.0 in labels with no true samples. Use `zero_division` parameter to control this behavior.\n",
      "  _warn_prf(average, modifier, msg_start, len(result))\n",
      "/Users/matias/miniconda3/envs/gen-methods/lib/python3.7/site-packages/sklearn/metrics/_classification.py:1272: UndefinedMetricWarning: Precision and F-score are ill-defined and being set to 0.0 in labels with no predicted samples. Use `zero_division` parameter to control this behavior.\n",
      "  _warn_prf(average, modifier, msg_start, len(result))\n",
      "/Users/matias/miniconda3/envs/gen-methods/lib/python3.7/site-packages/sklearn/metrics/_classification.py:1272: UndefinedMetricWarning: Recall and F-score are ill-defined and being set to 0.0 in labels with no true samples. Use `zero_division` parameter to control this behavior.\n",
      "  _warn_prf(average, modifier, msg_start, len(result))\n"
     ]
    },
    {
     "name": "stdout",
     "output_type": "stream",
     "text": [
      "End of 2 trial\n",
      "Original cresh train dataset shape Counter({10: 713, 11: 280, 9: 166})\n",
      "Resampled (SMOTE) real + synth dataset shape Counter({10: 713, 11: 713, 9: 713})\n",
      "Resampled (SMOTE) synth dataset shape Counter({9: 547, 11: 433})\n",
      "Resampled (ADASYN) train (real + synth) dataset shape Counter({10: 713, 9: 702, 11: 685})\n",
      "Resampled (ADASYN) synth dataset shape Counter({9: 536, 11: 405})\n"
     ]
    },
    {
     "name": "stderr",
     "output_type": "stream",
     "text": [
      "/Users/matias/miniconda3/envs/gen-methods/lib/python3.7/site-packages/sklearn/metrics/_classification.py:1272: UndefinedMetricWarning: Recall and F-score are ill-defined and being set to 0.0 in labels with no true samples. Use `zero_division` parameter to control this behavior.\n",
      "  _warn_prf(average, modifier, msg_start, len(result))\n",
      "/Users/matias/miniconda3/envs/gen-methods/lib/python3.7/site-packages/sklearn/metrics/_classification.py:1272: UndefinedMetricWarning: Precision and F-score are ill-defined and being set to 0.0 in labels with no predicted samples. Use `zero_division` parameter to control this behavior.\n",
      "  _warn_prf(average, modifier, msg_start, len(result))\n",
      "/Users/matias/miniconda3/envs/gen-methods/lib/python3.7/site-packages/sklearn/metrics/_classification.py:1272: UndefinedMetricWarning: Precision and F-score are ill-defined and being set to 0.0 in labels with no predicted samples. Use `zero_division` parameter to control this behavior.\n",
      "  _warn_prf(average, modifier, msg_start, len(result))\n",
      "/Users/matias/miniconda3/envs/gen-methods/lib/python3.7/site-packages/sklearn/metrics/_classification.py:1272: UndefinedMetricWarning: Precision and F-score are ill-defined and being set to 0.0 in labels with no predicted samples. Use `zero_division` parameter to control this behavior.\n",
      "  _warn_prf(average, modifier, msg_start, len(result))\n",
      "/Users/matias/miniconda3/envs/gen-methods/lib/python3.7/site-packages/sklearn/metrics/_classification.py:1272: UndefinedMetricWarning: Recall and F-score are ill-defined and being set to 0.0 in labels with no true samples. Use `zero_division` parameter to control this behavior.\n",
      "  _warn_prf(average, modifier, msg_start, len(result))\n",
      "/Users/matias/miniconda3/envs/gen-methods/lib/python3.7/site-packages/sklearn/metrics/_classification.py:1272: UndefinedMetricWarning: Recall and F-score are ill-defined and being set to 0.0 in labels with no true samples. Use `zero_division` parameter to control this behavior.\n",
      "  _warn_prf(average, modifier, msg_start, len(result))\n",
      "/Users/matias/miniconda3/envs/gen-methods/lib/python3.7/site-packages/sklearn/metrics/_classification.py:1272: UndefinedMetricWarning: Precision and F-score are ill-defined and being set to 0.0 in labels with no predicted samples. Use `zero_division` parameter to control this behavior.\n",
      "  _warn_prf(average, modifier, msg_start, len(result))\n",
      "/Users/matias/miniconda3/envs/gen-methods/lib/python3.7/site-packages/sklearn/metrics/_classification.py:1272: UndefinedMetricWarning: Recall and F-score are ill-defined and being set to 0.0 in labels with no true samples. Use `zero_division` parameter to control this behavior.\n",
      "  _warn_prf(average, modifier, msg_start, len(result))\n"
     ]
    },
    {
     "name": "stdout",
     "output_type": "stream",
     "text": [
      "End of 3 trial\n",
      "Original cresh train dataset shape Counter({10: 713, 11: 280, 9: 166})\n",
      "Resampled (SMOTE) real + synth dataset shape Counter({10: 713, 11: 713, 9: 713})\n",
      "Resampled (SMOTE) synth dataset shape Counter({9: 547, 11: 433})\n",
      "Resampled (ADASYN) train (real + synth) dataset shape Counter({10: 713, 9: 702, 11: 685})\n",
      "Resampled (ADASYN) synth dataset shape Counter({9: 536, 11: 405})\n"
     ]
    },
    {
     "name": "stderr",
     "output_type": "stream",
     "text": [
      "/Users/matias/miniconda3/envs/gen-methods/lib/python3.7/site-packages/sklearn/metrics/_classification.py:1272: UndefinedMetricWarning: Recall and F-score are ill-defined and being set to 0.0 in labels with no true samples. Use `zero_division` parameter to control this behavior.\n",
      "  _warn_prf(average, modifier, msg_start, len(result))\n",
      "/Users/matias/miniconda3/envs/gen-methods/lib/python3.7/site-packages/sklearn/metrics/_classification.py:1272: UndefinedMetricWarning: Precision and F-score are ill-defined and being set to 0.0 in labels with no predicted samples. Use `zero_division` parameter to control this behavior.\n",
      "  _warn_prf(average, modifier, msg_start, len(result))\n",
      "/Users/matias/miniconda3/envs/gen-methods/lib/python3.7/site-packages/sklearn/metrics/_classification.py:1272: UndefinedMetricWarning: Precision and F-score are ill-defined and being set to 0.0 in labels with no predicted samples. Use `zero_division` parameter to control this behavior.\n",
      "  _warn_prf(average, modifier, msg_start, len(result))\n",
      "/Users/matias/miniconda3/envs/gen-methods/lib/python3.7/site-packages/sklearn/metrics/_classification.py:1272: UndefinedMetricWarning: Precision and F-score are ill-defined and being set to 0.0 in labels with no predicted samples. Use `zero_division` parameter to control this behavior.\n",
      "  _warn_prf(average, modifier, msg_start, len(result))\n",
      "/Users/matias/miniconda3/envs/gen-methods/lib/python3.7/site-packages/sklearn/metrics/_classification.py:1272: UndefinedMetricWarning: Recall and F-score are ill-defined and being set to 0.0 in labels with no true samples. Use `zero_division` parameter to control this behavior.\n",
      "  _warn_prf(average, modifier, msg_start, len(result))\n",
      "/Users/matias/miniconda3/envs/gen-methods/lib/python3.7/site-packages/sklearn/metrics/_classification.py:1272: UndefinedMetricWarning: Recall and F-score are ill-defined and being set to 0.0 in labels with no true samples. Use `zero_division` parameter to control this behavior.\n",
      "  _warn_prf(average, modifier, msg_start, len(result))\n",
      "/Users/matias/miniconda3/envs/gen-methods/lib/python3.7/site-packages/sklearn/metrics/_classification.py:1272: UndefinedMetricWarning: Precision and F-score are ill-defined and being set to 0.0 in labels with no predicted samples. Use `zero_division` parameter to control this behavior.\n",
      "  _warn_prf(average, modifier, msg_start, len(result))\n",
      "/Users/matias/miniconda3/envs/gen-methods/lib/python3.7/site-packages/sklearn/metrics/_classification.py:1272: UndefinedMetricWarning: Recall and F-score are ill-defined and being set to 0.0 in labels with no true samples. Use `zero_division` parameter to control this behavior.\n",
      "  _warn_prf(average, modifier, msg_start, len(result))\n"
     ]
    },
    {
     "name": "stdout",
     "output_type": "stream",
     "text": [
      "End of 4 trial\n",
      "Original cresh train dataset shape Counter({10: 713, 11: 280, 9: 166})\n",
      "Resampled (SMOTE) real + synth dataset shape Counter({9: 713, 11: 713, 10: 713})\n",
      "Resampled (SMOTE) synth dataset shape Counter({9: 547, 11: 433})\n",
      "Resampled (ADASYN) train (real + synth) dataset shape Counter({10: 713, 9: 702, 11: 685})\n",
      "Resampled (ADASYN) synth dataset shape Counter({9: 536, 11: 405})\n"
     ]
    },
    {
     "name": "stderr",
     "output_type": "stream",
     "text": [
      "/Users/matias/miniconda3/envs/gen-methods/lib/python3.7/site-packages/sklearn/metrics/_classification.py:1272: UndefinedMetricWarning: Recall and F-score are ill-defined and being set to 0.0 in labels with no true samples. Use `zero_division` parameter to control this behavior.\n",
      "  _warn_prf(average, modifier, msg_start, len(result))\n",
      "/Users/matias/miniconda3/envs/gen-methods/lib/python3.7/site-packages/sklearn/metrics/_classification.py:1272: UndefinedMetricWarning: Precision and F-score are ill-defined and being set to 0.0 in labels with no predicted samples. Use `zero_division` parameter to control this behavior.\n",
      "  _warn_prf(average, modifier, msg_start, len(result))\n",
      "/Users/matias/miniconda3/envs/gen-methods/lib/python3.7/site-packages/sklearn/metrics/_classification.py:1272: UndefinedMetricWarning: Precision and F-score are ill-defined and being set to 0.0 in labels with no predicted samples. Use `zero_division` parameter to control this behavior.\n",
      "  _warn_prf(average, modifier, msg_start, len(result))\n",
      "/Users/matias/miniconda3/envs/gen-methods/lib/python3.7/site-packages/sklearn/metrics/_classification.py:1272: UndefinedMetricWarning: Precision and F-score are ill-defined and being set to 0.0 in labels with no predicted samples. Use `zero_division` parameter to control this behavior.\n",
      "  _warn_prf(average, modifier, msg_start, len(result))\n",
      "/Users/matias/miniconda3/envs/gen-methods/lib/python3.7/site-packages/sklearn/metrics/_classification.py:1272: UndefinedMetricWarning: Recall and F-score are ill-defined and being set to 0.0 in labels with no true samples. Use `zero_division` parameter to control this behavior.\n",
      "  _warn_prf(average, modifier, msg_start, len(result))\n",
      "/Users/matias/miniconda3/envs/gen-methods/lib/python3.7/site-packages/sklearn/metrics/_classification.py:1272: UndefinedMetricWarning: Recall and F-score are ill-defined and being set to 0.0 in labels with no true samples. Use `zero_division` parameter to control this behavior.\n",
      "  _warn_prf(average, modifier, msg_start, len(result))\n",
      "/Users/matias/miniconda3/envs/gen-methods/lib/python3.7/site-packages/sklearn/metrics/_classification.py:1272: UndefinedMetricWarning: Precision and F-score are ill-defined and being set to 0.0 in labels with no predicted samples. Use `zero_division` parameter to control this behavior.\n",
      "  _warn_prf(average, modifier, msg_start, len(result))\n",
      "/Users/matias/miniconda3/envs/gen-methods/lib/python3.7/site-packages/sklearn/metrics/_classification.py:1272: UndefinedMetricWarning: Recall and F-score are ill-defined and being set to 0.0 in labels with no true samples. Use `zero_division` parameter to control this behavior.\n",
      "  _warn_prf(average, modifier, msg_start, len(result))\n",
      "/Users/matias/miniconda3/envs/gen-methods/lib/python3.7/site-packages/sklearn/metrics/_classification.py:1272: UndefinedMetricWarning: Recall and F-score are ill-defined and being set to 0.0 in labels with no true samples. Use `zero_division` parameter to control this behavior.\n",
      "  _warn_prf(average, modifier, msg_start, len(result))\n"
     ]
    },
    {
     "name": "stdout",
     "output_type": "stream",
     "text": [
      "End of 5 trial\n",
      "Original cresh train dataset shape Counter({10: 713, 11: 280, 9: 166})\n",
      "Resampled (SMOTE) real + synth dataset shape Counter({11: 713, 9: 713, 10: 713})\n",
      "Resampled (SMOTE) synth dataset shape Counter({9: 547, 11: 433})\n",
      "Resampled (ADASYN) train (real + synth) dataset shape Counter({10: 713, 9: 702, 11: 685})\n",
      "Resampled (ADASYN) synth dataset shape Counter({9: 536, 11: 405})\n"
     ]
    },
    {
     "name": "stderr",
     "output_type": "stream",
     "text": [
      "/Users/matias/miniconda3/envs/gen-methods/lib/python3.7/site-packages/sklearn/metrics/_classification.py:1272: UndefinedMetricWarning: Precision and F-score are ill-defined and being set to 0.0 in labels with no predicted samples. Use `zero_division` parameter to control this behavior.\n",
      "  _warn_prf(average, modifier, msg_start, len(result))\n",
      "/Users/matias/miniconda3/envs/gen-methods/lib/python3.7/site-packages/sklearn/metrics/_classification.py:1272: UndefinedMetricWarning: Precision and F-score are ill-defined and being set to 0.0 in labels with no predicted samples. Use `zero_division` parameter to control this behavior.\n",
      "  _warn_prf(average, modifier, msg_start, len(result))\n",
      "/Users/matias/miniconda3/envs/gen-methods/lib/python3.7/site-packages/sklearn/metrics/_classification.py:1272: UndefinedMetricWarning: Precision and F-score are ill-defined and being set to 0.0 in labels with no predicted samples. Use `zero_division` parameter to control this behavior.\n",
      "  _warn_prf(average, modifier, msg_start, len(result))\n",
      "/Users/matias/miniconda3/envs/gen-methods/lib/python3.7/site-packages/sklearn/metrics/_classification.py:1272: UndefinedMetricWarning: Recall and F-score are ill-defined and being set to 0.0 in labels with no true samples. Use `zero_division` parameter to control this behavior.\n",
      "  _warn_prf(average, modifier, msg_start, len(result))\n",
      "/Users/matias/miniconda3/envs/gen-methods/lib/python3.7/site-packages/sklearn/metrics/_classification.py:1272: UndefinedMetricWarning: Recall and F-score are ill-defined and being set to 0.0 in labels with no true samples. Use `zero_division` parameter to control this behavior.\n",
      "  _warn_prf(average, modifier, msg_start, len(result))\n",
      "/Users/matias/miniconda3/envs/gen-methods/lib/python3.7/site-packages/sklearn/metrics/_classification.py:1272: UndefinedMetricWarning: Precision and F-score are ill-defined and being set to 0.0 in labels with no predicted samples. Use `zero_division` parameter to control this behavior.\n",
      "  _warn_prf(average, modifier, msg_start, len(result))\n",
      "/Users/matias/miniconda3/envs/gen-methods/lib/python3.7/site-packages/sklearn/metrics/_classification.py:1272: UndefinedMetricWarning: Recall and F-score are ill-defined and being set to 0.0 in labels with no true samples. Use `zero_division` parameter to control this behavior.\n",
      "  _warn_prf(average, modifier, msg_start, len(result))\n",
      "/Users/matias/miniconda3/envs/gen-methods/lib/python3.7/site-packages/sklearn/metrics/_classification.py:1272: UndefinedMetricWarning: Recall and F-score are ill-defined and being set to 0.0 in labels with no true samples. Use `zero_division` parameter to control this behavior.\n",
      "  _warn_prf(average, modifier, msg_start, len(result))\n"
     ]
    },
    {
     "name": "stdout",
     "output_type": "stream",
     "text": [
      "End of 6 trial\n",
      "Original cresh train dataset shape Counter({10: 713, 11: 280, 9: 166})\n",
      "Resampled (SMOTE) real + synth dataset shape Counter({10: 713, 9: 713, 11: 713})\n",
      "Resampled (SMOTE) synth dataset shape Counter({9: 547, 11: 433})\n",
      "Resampled (ADASYN) train (real + synth) dataset shape Counter({10: 713, 9: 702, 11: 685})\n",
      "Resampled (ADASYN) synth dataset shape Counter({9: 536, 11: 405})\n"
     ]
    },
    {
     "name": "stderr",
     "output_type": "stream",
     "text": [
      "/Users/matias/miniconda3/envs/gen-methods/lib/python3.7/site-packages/sklearn/metrics/_classification.py:1272: UndefinedMetricWarning: Precision and F-score are ill-defined and being set to 0.0 in labels with no predicted samples. Use `zero_division` parameter to control this behavior.\n",
      "  _warn_prf(average, modifier, msg_start, len(result))\n",
      "/Users/matias/miniconda3/envs/gen-methods/lib/python3.7/site-packages/sklearn/metrics/_classification.py:1272: UndefinedMetricWarning: Precision and F-score are ill-defined and being set to 0.0 in labels with no predicted samples. Use `zero_division` parameter to control this behavior.\n",
      "  _warn_prf(average, modifier, msg_start, len(result))\n",
      "/Users/matias/miniconda3/envs/gen-methods/lib/python3.7/site-packages/sklearn/metrics/_classification.py:1272: UndefinedMetricWarning: Precision and F-score are ill-defined and being set to 0.0 in labels with no predicted samples. Use `zero_division` parameter to control this behavior.\n",
      "  _warn_prf(average, modifier, msg_start, len(result))\n",
      "/Users/matias/miniconda3/envs/gen-methods/lib/python3.7/site-packages/sklearn/metrics/_classification.py:1272: UndefinedMetricWarning: Recall and F-score are ill-defined and being set to 0.0 in labels with no true samples. Use `zero_division` parameter to control this behavior.\n",
      "  _warn_prf(average, modifier, msg_start, len(result))\n",
      "/Users/matias/miniconda3/envs/gen-methods/lib/python3.7/site-packages/sklearn/metrics/_classification.py:1272: UndefinedMetricWarning: Recall and F-score are ill-defined and being set to 0.0 in labels with no true samples. Use `zero_division` parameter to control this behavior.\n",
      "  _warn_prf(average, modifier, msg_start, len(result))\n",
      "/Users/matias/miniconda3/envs/gen-methods/lib/python3.7/site-packages/sklearn/metrics/_classification.py:1272: UndefinedMetricWarning: Precision and F-score are ill-defined and being set to 0.0 in labels with no predicted samples. Use `zero_division` parameter to control this behavior.\n",
      "  _warn_prf(average, modifier, msg_start, len(result))\n",
      "/Users/matias/miniconda3/envs/gen-methods/lib/python3.7/site-packages/sklearn/metrics/_classification.py:1272: UndefinedMetricWarning: Recall and F-score are ill-defined and being set to 0.0 in labels with no true samples. Use `zero_division` parameter to control this behavior.\n",
      "  _warn_prf(average, modifier, msg_start, len(result))\n"
     ]
    },
    {
     "name": "stdout",
     "output_type": "stream",
     "text": [
      "End of 7 trial\n",
      "Original cresh train dataset shape Counter({10: 713, 11: 280, 9: 166})\n",
      "Resampled (SMOTE) real + synth dataset shape Counter({11: 713, 9: 713, 10: 713})\n",
      "Resampled (SMOTE) synth dataset shape Counter({9: 547, 11: 433})\n",
      "Resampled (ADASYN) train (real + synth) dataset shape Counter({10: 713, 9: 702, 11: 685})\n",
      "Resampled (ADASYN) synth dataset shape Counter({9: 536, 11: 405})\n"
     ]
    },
    {
     "name": "stderr",
     "output_type": "stream",
     "text": [
      "/Users/matias/miniconda3/envs/gen-methods/lib/python3.7/site-packages/sklearn/metrics/_classification.py:1272: UndefinedMetricWarning: Recall and F-score are ill-defined and being set to 0.0 in labels with no true samples. Use `zero_division` parameter to control this behavior.\n",
      "  _warn_prf(average, modifier, msg_start, len(result))\n",
      "/Users/matias/miniconda3/envs/gen-methods/lib/python3.7/site-packages/sklearn/metrics/_classification.py:1272: UndefinedMetricWarning: Precision and F-score are ill-defined and being set to 0.0 in labels with no predicted samples. Use `zero_division` parameter to control this behavior.\n",
      "  _warn_prf(average, modifier, msg_start, len(result))\n",
      "/Users/matias/miniconda3/envs/gen-methods/lib/python3.7/site-packages/sklearn/metrics/_classification.py:1272: UndefinedMetricWarning: Precision and F-score are ill-defined and being set to 0.0 in labels with no predicted samples. Use `zero_division` parameter to control this behavior.\n",
      "  _warn_prf(average, modifier, msg_start, len(result))\n",
      "/Users/matias/miniconda3/envs/gen-methods/lib/python3.7/site-packages/sklearn/metrics/_classification.py:1272: UndefinedMetricWarning: Precision and F-score are ill-defined and being set to 0.0 in labels with no predicted samples. Use `zero_division` parameter to control this behavior.\n",
      "  _warn_prf(average, modifier, msg_start, len(result))\n",
      "/Users/matias/miniconda3/envs/gen-methods/lib/python3.7/site-packages/sklearn/metrics/_classification.py:1272: UndefinedMetricWarning: Recall and F-score are ill-defined and being set to 0.0 in labels with no true samples. Use `zero_division` parameter to control this behavior.\n",
      "  _warn_prf(average, modifier, msg_start, len(result))\n",
      "/Users/matias/miniconda3/envs/gen-methods/lib/python3.7/site-packages/sklearn/metrics/_classification.py:1272: UndefinedMetricWarning: Recall and F-score are ill-defined and being set to 0.0 in labels with no true samples. Use `zero_division` parameter to control this behavior.\n",
      "  _warn_prf(average, modifier, msg_start, len(result))\n",
      "/Users/matias/miniconda3/envs/gen-methods/lib/python3.7/site-packages/sklearn/metrics/_classification.py:1272: UndefinedMetricWarning: Precision and F-score are ill-defined and being set to 0.0 in labels with no predicted samples. Use `zero_division` parameter to control this behavior.\n",
      "  _warn_prf(average, modifier, msg_start, len(result))\n",
      "/Users/matias/miniconda3/envs/gen-methods/lib/python3.7/site-packages/sklearn/metrics/_classification.py:1272: UndefinedMetricWarning: Recall and F-score are ill-defined and being set to 0.0 in labels with no true samples. Use `zero_division` parameter to control this behavior.\n",
      "  _warn_prf(average, modifier, msg_start, len(result))\n"
     ]
    },
    {
     "name": "stdout",
     "output_type": "stream",
     "text": [
      "End of 8 trial\n",
      "Original cresh train dataset shape Counter({10: 713, 11: 280, 9: 166})\n",
      "Resampled (SMOTE) real + synth dataset shape Counter({11: 713, 9: 713, 10: 713})\n",
      "Resampled (SMOTE) synth dataset shape Counter({9: 547, 11: 433})\n",
      "Resampled (ADASYN) train (real + synth) dataset shape Counter({10: 713, 9: 702, 11: 685})\n",
      "Resampled (ADASYN) synth dataset shape Counter({9: 536, 11: 405})\n"
     ]
    },
    {
     "name": "stderr",
     "output_type": "stream",
     "text": [
      "/Users/matias/miniconda3/envs/gen-methods/lib/python3.7/site-packages/sklearn/metrics/_classification.py:1272: UndefinedMetricWarning: Recall and F-score are ill-defined and being set to 0.0 in labels with no true samples. Use `zero_division` parameter to control this behavior.\n",
      "  _warn_prf(average, modifier, msg_start, len(result))\n",
      "/Users/matias/miniconda3/envs/gen-methods/lib/python3.7/site-packages/sklearn/metrics/_classification.py:1272: UndefinedMetricWarning: Precision and F-score are ill-defined and being set to 0.0 in labels with no predicted samples. Use `zero_division` parameter to control this behavior.\n",
      "  _warn_prf(average, modifier, msg_start, len(result))\n",
      "/Users/matias/miniconda3/envs/gen-methods/lib/python3.7/site-packages/sklearn/metrics/_classification.py:1272: UndefinedMetricWarning: Precision and F-score are ill-defined and being set to 0.0 in labels with no predicted samples. Use `zero_division` parameter to control this behavior.\n",
      "  _warn_prf(average, modifier, msg_start, len(result))\n",
      "/Users/matias/miniconda3/envs/gen-methods/lib/python3.7/site-packages/sklearn/metrics/_classification.py:1272: UndefinedMetricWarning: Precision and F-score are ill-defined and being set to 0.0 in labels with no predicted samples. Use `zero_division` parameter to control this behavior.\n",
      "  _warn_prf(average, modifier, msg_start, len(result))\n",
      "/Users/matias/miniconda3/envs/gen-methods/lib/python3.7/site-packages/sklearn/metrics/_classification.py:1272: UndefinedMetricWarning: Recall and F-score are ill-defined and being set to 0.0 in labels with no true samples. Use `zero_division` parameter to control this behavior.\n",
      "  _warn_prf(average, modifier, msg_start, len(result))\n",
      "/Users/matias/miniconda3/envs/gen-methods/lib/python3.7/site-packages/sklearn/metrics/_classification.py:1272: UndefinedMetricWarning: Recall and F-score are ill-defined and being set to 0.0 in labels with no true samples. Use `zero_division` parameter to control this behavior.\n",
      "  _warn_prf(average, modifier, msg_start, len(result))\n",
      "/Users/matias/miniconda3/envs/gen-methods/lib/python3.7/site-packages/sklearn/metrics/_classification.py:1272: UndefinedMetricWarning: Precision and F-score are ill-defined and being set to 0.0 in labels with no predicted samples. Use `zero_division` parameter to control this behavior.\n",
      "  _warn_prf(average, modifier, msg_start, len(result))\n",
      "/Users/matias/miniconda3/envs/gen-methods/lib/python3.7/site-packages/sklearn/metrics/_classification.py:1272: UndefinedMetricWarning: Recall and F-score are ill-defined and being set to 0.0 in labels with no true samples. Use `zero_division` parameter to control this behavior.\n",
      "  _warn_prf(average, modifier, msg_start, len(result))\n"
     ]
    },
    {
     "name": "stdout",
     "output_type": "stream",
     "text": [
      "End of 9 trial\n",
      "Original cresh train dataset shape Counter({10: 713, 11: 280, 9: 166})\n",
      "Resampled (SMOTE) real + synth dataset shape Counter({10: 713, 11: 713, 9: 713})\n",
      "Resampled (SMOTE) synth dataset shape Counter({9: 547, 11: 433})\n",
      "Resampled (ADASYN) train (real + synth) dataset shape Counter({10: 713, 9: 702, 11: 685})\n",
      "Resampled (ADASYN) synth dataset shape Counter({9: 536, 11: 405})\n"
     ]
    },
    {
     "name": "stderr",
     "output_type": "stream",
     "text": [
      "/Users/matias/miniconda3/envs/gen-methods/lib/python3.7/site-packages/sklearn/metrics/_classification.py:1272: UndefinedMetricWarning: Recall and F-score are ill-defined and being set to 0.0 in labels with no true samples. Use `zero_division` parameter to control this behavior.\n",
      "  _warn_prf(average, modifier, msg_start, len(result))\n",
      "/Users/matias/miniconda3/envs/gen-methods/lib/python3.7/site-packages/sklearn/metrics/_classification.py:1272: UndefinedMetricWarning: Precision and F-score are ill-defined and being set to 0.0 in labels with no predicted samples. Use `zero_division` parameter to control this behavior.\n",
      "  _warn_prf(average, modifier, msg_start, len(result))\n",
      "/Users/matias/miniconda3/envs/gen-methods/lib/python3.7/site-packages/sklearn/metrics/_classification.py:1272: UndefinedMetricWarning: Precision and F-score are ill-defined and being set to 0.0 in labels with no predicted samples. Use `zero_division` parameter to control this behavior.\n",
      "  _warn_prf(average, modifier, msg_start, len(result))\n",
      "/Users/matias/miniconda3/envs/gen-methods/lib/python3.7/site-packages/sklearn/metrics/_classification.py:1272: UndefinedMetricWarning: Precision and F-score are ill-defined and being set to 0.0 in labels with no predicted samples. Use `zero_division` parameter to control this behavior.\n",
      "  _warn_prf(average, modifier, msg_start, len(result))\n",
      "/Users/matias/miniconda3/envs/gen-methods/lib/python3.7/site-packages/sklearn/metrics/_classification.py:1272: UndefinedMetricWarning: Recall and F-score are ill-defined and being set to 0.0 in labels with no true samples. Use `zero_division` parameter to control this behavior.\n",
      "  _warn_prf(average, modifier, msg_start, len(result))\n",
      "/Users/matias/miniconda3/envs/gen-methods/lib/python3.7/site-packages/sklearn/metrics/_classification.py:1272: UndefinedMetricWarning: Recall and F-score are ill-defined and being set to 0.0 in labels with no true samples. Use `zero_division` parameter to control this behavior.\n",
      "  _warn_prf(average, modifier, msg_start, len(result))\n",
      "/Users/matias/miniconda3/envs/gen-methods/lib/python3.7/site-packages/sklearn/metrics/_classification.py:1272: UndefinedMetricWarning: Precision and F-score are ill-defined and being set to 0.0 in labels with no predicted samples. Use `zero_division` parameter to control this behavior.\n",
      "  _warn_prf(average, modifier, msg_start, len(result))\n",
      "/Users/matias/miniconda3/envs/gen-methods/lib/python3.7/site-packages/sklearn/metrics/_classification.py:1272: UndefinedMetricWarning: Recall and F-score are ill-defined and being set to 0.0 in labels with no true samples. Use `zero_division` parameter to control this behavior.\n",
      "  _warn_prf(average, modifier, msg_start, len(result))\n"
     ]
    },
    {
     "name": "stdout",
     "output_type": "stream",
     "text": [
      "End of 10 trial\n",
      "Original cresh train dataset shape Counter({10: 713, 11: 280, 9: 166})\n",
      "Resampled (SMOTE) real + synth dataset shape Counter({10: 713, 9: 713, 11: 713})\n",
      "Resampled (SMOTE) synth dataset shape Counter({9: 547, 11: 433})\n",
      "Resampled (ADASYN) train (real + synth) dataset shape Counter({10: 713, 9: 702, 11: 685})\n",
      "Resampled (ADASYN) synth dataset shape Counter({9: 536, 11: 405})\n"
     ]
    },
    {
     "name": "stderr",
     "output_type": "stream",
     "text": [
      "/Users/matias/miniconda3/envs/gen-methods/lib/python3.7/site-packages/sklearn/metrics/_classification.py:1272: UndefinedMetricWarning: Recall and F-score are ill-defined and being set to 0.0 in labels with no true samples. Use `zero_division` parameter to control this behavior.\n",
      "  _warn_prf(average, modifier, msg_start, len(result))\n",
      "/Users/matias/miniconda3/envs/gen-methods/lib/python3.7/site-packages/sklearn/metrics/_classification.py:1272: UndefinedMetricWarning: Precision and F-score are ill-defined and being set to 0.0 in labels with no predicted samples. Use `zero_division` parameter to control this behavior.\n",
      "  _warn_prf(average, modifier, msg_start, len(result))\n",
      "/Users/matias/miniconda3/envs/gen-methods/lib/python3.7/site-packages/sklearn/metrics/_classification.py:1272: UndefinedMetricWarning: Precision and F-score are ill-defined and being set to 0.0 in labels with no predicted samples. Use `zero_division` parameter to control this behavior.\n",
      "  _warn_prf(average, modifier, msg_start, len(result))\n",
      "/Users/matias/miniconda3/envs/gen-methods/lib/python3.7/site-packages/sklearn/metrics/_classification.py:1272: UndefinedMetricWarning: Precision and F-score are ill-defined and being set to 0.0 in labels with no predicted samples. Use `zero_division` parameter to control this behavior.\n",
      "  _warn_prf(average, modifier, msg_start, len(result))\n",
      "/Users/matias/miniconda3/envs/gen-methods/lib/python3.7/site-packages/sklearn/metrics/_classification.py:1272: UndefinedMetricWarning: Recall and F-score are ill-defined and being set to 0.0 in labels with no true samples. Use `zero_division` parameter to control this behavior.\n",
      "  _warn_prf(average, modifier, msg_start, len(result))\n",
      "/Users/matias/miniconda3/envs/gen-methods/lib/python3.7/site-packages/sklearn/metrics/_classification.py:1272: UndefinedMetricWarning: Recall and F-score are ill-defined and being set to 0.0 in labels with no true samples. Use `zero_division` parameter to control this behavior.\n",
      "  _warn_prf(average, modifier, msg_start, len(result))\n",
      "/Users/matias/miniconda3/envs/gen-methods/lib/python3.7/site-packages/sklearn/metrics/_classification.py:1272: UndefinedMetricWarning: Precision and F-score are ill-defined and being set to 0.0 in labels with no predicted samples. Use `zero_division` parameter to control this behavior.\n",
      "  _warn_prf(average, modifier, msg_start, len(result))\n",
      "/Users/matias/miniconda3/envs/gen-methods/lib/python3.7/site-packages/sklearn/metrics/_classification.py:1272: UndefinedMetricWarning: Recall and F-score are ill-defined and being set to 0.0 in labels with no true samples. Use `zero_division` parameter to control this behavior.\n",
      "  _warn_prf(average, modifier, msg_start, len(result))\n"
     ]
    },
    {
     "name": "stdout",
     "output_type": "stream",
     "text": [
      "End of 11 trial\n",
      "Original cresh train dataset shape Counter({10: 713, 11: 280, 9: 166})\n",
      "Resampled (SMOTE) real + synth dataset shape Counter({11: 713, 9: 713, 10: 713})\n",
      "Resampled (SMOTE) synth dataset shape Counter({9: 547, 11: 433})\n",
      "Resampled (ADASYN) train (real + synth) dataset shape Counter({10: 713, 9: 702, 11: 685})\n",
      "Resampled (ADASYN) synth dataset shape Counter({9: 536, 11: 405})\n"
     ]
    },
    {
     "name": "stderr",
     "output_type": "stream",
     "text": [
      "/Users/matias/miniconda3/envs/gen-methods/lib/python3.7/site-packages/sklearn/metrics/_classification.py:1272: UndefinedMetricWarning: Recall and F-score are ill-defined and being set to 0.0 in labels with no true samples. Use `zero_division` parameter to control this behavior.\n",
      "  _warn_prf(average, modifier, msg_start, len(result))\n",
      "/Users/matias/miniconda3/envs/gen-methods/lib/python3.7/site-packages/sklearn/metrics/_classification.py:1272: UndefinedMetricWarning: Precision and F-score are ill-defined and being set to 0.0 in labels with no predicted samples. Use `zero_division` parameter to control this behavior.\n",
      "  _warn_prf(average, modifier, msg_start, len(result))\n",
      "/Users/matias/miniconda3/envs/gen-methods/lib/python3.7/site-packages/sklearn/metrics/_classification.py:1272: UndefinedMetricWarning: Precision and F-score are ill-defined and being set to 0.0 in labels with no predicted samples. Use `zero_division` parameter to control this behavior.\n",
      "  _warn_prf(average, modifier, msg_start, len(result))\n",
      "/Users/matias/miniconda3/envs/gen-methods/lib/python3.7/site-packages/sklearn/metrics/_classification.py:1272: UndefinedMetricWarning: Precision and F-score are ill-defined and being set to 0.0 in labels with no predicted samples. Use `zero_division` parameter to control this behavior.\n",
      "  _warn_prf(average, modifier, msg_start, len(result))\n",
      "/Users/matias/miniconda3/envs/gen-methods/lib/python3.7/site-packages/sklearn/metrics/_classification.py:1272: UndefinedMetricWarning: Recall and F-score are ill-defined and being set to 0.0 in labels with no true samples. Use `zero_division` parameter to control this behavior.\n",
      "  _warn_prf(average, modifier, msg_start, len(result))\n",
      "/Users/matias/miniconda3/envs/gen-methods/lib/python3.7/site-packages/sklearn/metrics/_classification.py:1272: UndefinedMetricWarning: Recall and F-score are ill-defined and being set to 0.0 in labels with no true samples. Use `zero_division` parameter to control this behavior.\n",
      "  _warn_prf(average, modifier, msg_start, len(result))\n",
      "/Users/matias/miniconda3/envs/gen-methods/lib/python3.7/site-packages/sklearn/metrics/_classification.py:1272: UndefinedMetricWarning: Precision and F-score are ill-defined and being set to 0.0 in labels with no predicted samples. Use `zero_division` parameter to control this behavior.\n",
      "  _warn_prf(average, modifier, msg_start, len(result))\n",
      "/Users/matias/miniconda3/envs/gen-methods/lib/python3.7/site-packages/sklearn/metrics/_classification.py:1272: UndefinedMetricWarning: Recall and F-score are ill-defined and being set to 0.0 in labels with no true samples. Use `zero_division` parameter to control this behavior.\n",
      "  _warn_prf(average, modifier, msg_start, len(result))\n",
      "/Users/matias/miniconda3/envs/gen-methods/lib/python3.7/site-packages/sklearn/metrics/_classification.py:1272: UndefinedMetricWarning: Recall and F-score are ill-defined and being set to 0.0 in labels with no true samples. Use `zero_division` parameter to control this behavior.\n",
      "  _warn_prf(average, modifier, msg_start, len(result))\n"
     ]
    },
    {
     "name": "stdout",
     "output_type": "stream",
     "text": [
      "End of 12 trial\n",
      "Original cresh train dataset shape Counter({10: 713, 11: 280, 9: 166})\n",
      "Resampled (SMOTE) real + synth dataset shape Counter({11: 713, 9: 713, 10: 713})\n",
      "Resampled (SMOTE) synth dataset shape Counter({9: 547, 11: 433})\n",
      "Resampled (ADASYN) train (real + synth) dataset shape Counter({10: 713, 9: 702, 11: 685})\n",
      "Resampled (ADASYN) synth dataset shape Counter({9: 536, 11: 405})\n"
     ]
    },
    {
     "name": "stderr",
     "output_type": "stream",
     "text": [
      "/Users/matias/miniconda3/envs/gen-methods/lib/python3.7/site-packages/sklearn/metrics/_classification.py:1272: UndefinedMetricWarning: Precision and F-score are ill-defined and being set to 0.0 in labels with no predicted samples. Use `zero_division` parameter to control this behavior.\n",
      "  _warn_prf(average, modifier, msg_start, len(result))\n",
      "/Users/matias/miniconda3/envs/gen-methods/lib/python3.7/site-packages/sklearn/metrics/_classification.py:1272: UndefinedMetricWarning: Precision and F-score are ill-defined and being set to 0.0 in labels with no predicted samples. Use `zero_division` parameter to control this behavior.\n",
      "  _warn_prf(average, modifier, msg_start, len(result))\n",
      "/Users/matias/miniconda3/envs/gen-methods/lib/python3.7/site-packages/sklearn/metrics/_classification.py:1272: UndefinedMetricWarning: Precision and F-score are ill-defined and being set to 0.0 in labels with no predicted samples. Use `zero_division` parameter to control this behavior.\n",
      "  _warn_prf(average, modifier, msg_start, len(result))\n",
      "/Users/matias/miniconda3/envs/gen-methods/lib/python3.7/site-packages/sklearn/metrics/_classification.py:1272: UndefinedMetricWarning: Recall and F-score are ill-defined and being set to 0.0 in labels with no true samples. Use `zero_division` parameter to control this behavior.\n",
      "  _warn_prf(average, modifier, msg_start, len(result))\n",
      "/Users/matias/miniconda3/envs/gen-methods/lib/python3.7/site-packages/sklearn/metrics/_classification.py:1272: UndefinedMetricWarning: Recall and F-score are ill-defined and being set to 0.0 in labels with no true samples. Use `zero_division` parameter to control this behavior.\n",
      "  _warn_prf(average, modifier, msg_start, len(result))\n",
      "/Users/matias/miniconda3/envs/gen-methods/lib/python3.7/site-packages/sklearn/metrics/_classification.py:1272: UndefinedMetricWarning: Precision and F-score are ill-defined and being set to 0.0 in labels with no predicted samples. Use `zero_division` parameter to control this behavior.\n",
      "  _warn_prf(average, modifier, msg_start, len(result))\n",
      "/Users/matias/miniconda3/envs/gen-methods/lib/python3.7/site-packages/sklearn/metrics/_classification.py:1272: UndefinedMetricWarning: Recall and F-score are ill-defined and being set to 0.0 in labels with no true samples. Use `zero_division` parameter to control this behavior.\n",
      "  _warn_prf(average, modifier, msg_start, len(result))\n"
     ]
    },
    {
     "name": "stdout",
     "output_type": "stream",
     "text": [
      "End of 13 trial\n",
      "Original cresh train dataset shape Counter({10: 713, 11: 280, 9: 166})\n",
      "Resampled (SMOTE) real + synth dataset shape Counter({9: 713, 11: 713, 10: 713})\n",
      "Resampled (SMOTE) synth dataset shape Counter({9: 547, 11: 433})\n",
      "Resampled (ADASYN) train (real + synth) dataset shape Counter({10: 713, 9: 702, 11: 685})\n",
      "Resampled (ADASYN) synth dataset shape Counter({9: 536, 11: 405})\n"
     ]
    },
    {
     "name": "stderr",
     "output_type": "stream",
     "text": [
      "/Users/matias/miniconda3/envs/gen-methods/lib/python3.7/site-packages/sklearn/metrics/_classification.py:1272: UndefinedMetricWarning: Recall and F-score are ill-defined and being set to 0.0 in labels with no true samples. Use `zero_division` parameter to control this behavior.\n",
      "  _warn_prf(average, modifier, msg_start, len(result))\n",
      "/Users/matias/miniconda3/envs/gen-methods/lib/python3.7/site-packages/sklearn/metrics/_classification.py:1272: UndefinedMetricWarning: Precision and F-score are ill-defined and being set to 0.0 in labels with no predicted samples. Use `zero_division` parameter to control this behavior.\n",
      "  _warn_prf(average, modifier, msg_start, len(result))\n",
      "/Users/matias/miniconda3/envs/gen-methods/lib/python3.7/site-packages/sklearn/metrics/_classification.py:1272: UndefinedMetricWarning: Precision and F-score are ill-defined and being set to 0.0 in labels with no predicted samples. Use `zero_division` parameter to control this behavior.\n",
      "  _warn_prf(average, modifier, msg_start, len(result))\n",
      "/Users/matias/miniconda3/envs/gen-methods/lib/python3.7/site-packages/sklearn/metrics/_classification.py:1272: UndefinedMetricWarning: Precision and F-score are ill-defined and being set to 0.0 in labels with no predicted samples. Use `zero_division` parameter to control this behavior.\n",
      "  _warn_prf(average, modifier, msg_start, len(result))\n",
      "/Users/matias/miniconda3/envs/gen-methods/lib/python3.7/site-packages/sklearn/metrics/_classification.py:1272: UndefinedMetricWarning: Recall and F-score are ill-defined and being set to 0.0 in labels with no true samples. Use `zero_division` parameter to control this behavior.\n",
      "  _warn_prf(average, modifier, msg_start, len(result))\n",
      "/Users/matias/miniconda3/envs/gen-methods/lib/python3.7/site-packages/sklearn/metrics/_classification.py:1272: UndefinedMetricWarning: Recall and F-score are ill-defined and being set to 0.0 in labels with no true samples. Use `zero_division` parameter to control this behavior.\n",
      "  _warn_prf(average, modifier, msg_start, len(result))\n",
      "/Users/matias/miniconda3/envs/gen-methods/lib/python3.7/site-packages/sklearn/metrics/_classification.py:1272: UndefinedMetricWarning: Precision and F-score are ill-defined and being set to 0.0 in labels with no predicted samples. Use `zero_division` parameter to control this behavior.\n",
      "  _warn_prf(average, modifier, msg_start, len(result))\n",
      "/Users/matias/miniconda3/envs/gen-methods/lib/python3.7/site-packages/sklearn/metrics/_classification.py:1272: UndefinedMetricWarning: Recall and F-score are ill-defined and being set to 0.0 in labels with no true samples. Use `zero_division` parameter to control this behavior.\n",
      "  _warn_prf(average, modifier, msg_start, len(result))\n"
     ]
    },
    {
     "name": "stdout",
     "output_type": "stream",
     "text": [
      "End of 14 trial\n",
      "Original cresh train dataset shape Counter({10: 713, 11: 280, 9: 166})\n",
      "Resampled (SMOTE) real + synth dataset shape Counter({11: 713, 10: 713, 9: 713})\n",
      "Resampled (SMOTE) synth dataset shape Counter({9: 547, 11: 433})\n",
      "Resampled (ADASYN) train (real + synth) dataset shape Counter({10: 713, 9: 702, 11: 685})\n",
      "Resampled (ADASYN) synth dataset shape Counter({9: 536, 11: 405})\n"
     ]
    },
    {
     "name": "stderr",
     "output_type": "stream",
     "text": [
      "/Users/matias/miniconda3/envs/gen-methods/lib/python3.7/site-packages/sklearn/metrics/_classification.py:1272: UndefinedMetricWarning: Recall and F-score are ill-defined and being set to 0.0 in labels with no true samples. Use `zero_division` parameter to control this behavior.\n",
      "  _warn_prf(average, modifier, msg_start, len(result))\n",
      "/Users/matias/miniconda3/envs/gen-methods/lib/python3.7/site-packages/sklearn/metrics/_classification.py:1272: UndefinedMetricWarning: Precision and F-score are ill-defined and being set to 0.0 in labels with no predicted samples. Use `zero_division` parameter to control this behavior.\n",
      "  _warn_prf(average, modifier, msg_start, len(result))\n",
      "/Users/matias/miniconda3/envs/gen-methods/lib/python3.7/site-packages/sklearn/metrics/_classification.py:1272: UndefinedMetricWarning: Precision and F-score are ill-defined and being set to 0.0 in labels with no predicted samples. Use `zero_division` parameter to control this behavior.\n",
      "  _warn_prf(average, modifier, msg_start, len(result))\n",
      "/Users/matias/miniconda3/envs/gen-methods/lib/python3.7/site-packages/sklearn/metrics/_classification.py:1272: UndefinedMetricWarning: Precision and F-score are ill-defined and being set to 0.0 in labels with no predicted samples. Use `zero_division` parameter to control this behavior.\n",
      "  _warn_prf(average, modifier, msg_start, len(result))\n",
      "/Users/matias/miniconda3/envs/gen-methods/lib/python3.7/site-packages/sklearn/metrics/_classification.py:1272: UndefinedMetricWarning: Recall and F-score are ill-defined and being set to 0.0 in labels with no true samples. Use `zero_division` parameter to control this behavior.\n",
      "  _warn_prf(average, modifier, msg_start, len(result))\n",
      "/Users/matias/miniconda3/envs/gen-methods/lib/python3.7/site-packages/sklearn/metrics/_classification.py:1272: UndefinedMetricWarning: Recall and F-score are ill-defined and being set to 0.0 in labels with no true samples. Use `zero_division` parameter to control this behavior.\n",
      "  _warn_prf(average, modifier, msg_start, len(result))\n",
      "/Users/matias/miniconda3/envs/gen-methods/lib/python3.7/site-packages/sklearn/metrics/_classification.py:1272: UndefinedMetricWarning: Precision and F-score are ill-defined and being set to 0.0 in labels with no predicted samples. Use `zero_division` parameter to control this behavior.\n",
      "  _warn_prf(average, modifier, msg_start, len(result))\n",
      "/Users/matias/miniconda3/envs/gen-methods/lib/python3.7/site-packages/sklearn/metrics/_classification.py:1272: UndefinedMetricWarning: Recall and F-score are ill-defined and being set to 0.0 in labels with no true samples. Use `zero_division` parameter to control this behavior.\n",
      "  _warn_prf(average, modifier, msg_start, len(result))\n"
     ]
    },
    {
     "name": "stdout",
     "output_type": "stream",
     "text": [
      "End of 15 trial\n",
      "Original cresh train dataset shape Counter({10: 713, 11: 280, 9: 166})\n",
      "Resampled (SMOTE) real + synth dataset shape Counter({11: 713, 9: 713, 10: 713})\n",
      "Resampled (SMOTE) synth dataset shape Counter({9: 547, 11: 433})\n",
      "Resampled (ADASYN) train (real + synth) dataset shape Counter({10: 713, 9: 702, 11: 685})\n",
      "Resampled (ADASYN) synth dataset shape Counter({9: 536, 11: 405})\n"
     ]
    },
    {
     "name": "stderr",
     "output_type": "stream",
     "text": [
      "/Users/matias/miniconda3/envs/gen-methods/lib/python3.7/site-packages/sklearn/metrics/_classification.py:1272: UndefinedMetricWarning: Recall and F-score are ill-defined and being set to 0.0 in labels with no true samples. Use `zero_division` parameter to control this behavior.\n",
      "  _warn_prf(average, modifier, msg_start, len(result))\n",
      "/Users/matias/miniconda3/envs/gen-methods/lib/python3.7/site-packages/sklearn/metrics/_classification.py:1272: UndefinedMetricWarning: Precision and F-score are ill-defined and being set to 0.0 in labels with no predicted samples. Use `zero_division` parameter to control this behavior.\n",
      "  _warn_prf(average, modifier, msg_start, len(result))\n",
      "/Users/matias/miniconda3/envs/gen-methods/lib/python3.7/site-packages/sklearn/metrics/_classification.py:1272: UndefinedMetricWarning: Precision and F-score are ill-defined and being set to 0.0 in labels with no predicted samples. Use `zero_division` parameter to control this behavior.\n",
      "  _warn_prf(average, modifier, msg_start, len(result))\n",
      "/Users/matias/miniconda3/envs/gen-methods/lib/python3.7/site-packages/sklearn/metrics/_classification.py:1272: UndefinedMetricWarning: Precision and F-score are ill-defined and being set to 0.0 in labels with no predicted samples. Use `zero_division` parameter to control this behavior.\n",
      "  _warn_prf(average, modifier, msg_start, len(result))\n",
      "/Users/matias/miniconda3/envs/gen-methods/lib/python3.7/site-packages/sklearn/metrics/_classification.py:1272: UndefinedMetricWarning: Recall and F-score are ill-defined and being set to 0.0 in labels with no true samples. Use `zero_division` parameter to control this behavior.\n",
      "  _warn_prf(average, modifier, msg_start, len(result))\n",
      "/Users/matias/miniconda3/envs/gen-methods/lib/python3.7/site-packages/sklearn/metrics/_classification.py:1272: UndefinedMetricWarning: Recall and F-score are ill-defined and being set to 0.0 in labels with no true samples. Use `zero_division` parameter to control this behavior.\n",
      "  _warn_prf(average, modifier, msg_start, len(result))\n",
      "/Users/matias/miniconda3/envs/gen-methods/lib/python3.7/site-packages/sklearn/metrics/_classification.py:1272: UndefinedMetricWarning: Precision and F-score are ill-defined and being set to 0.0 in labels with no predicted samples. Use `zero_division` parameter to control this behavior.\n",
      "  _warn_prf(average, modifier, msg_start, len(result))\n",
      "/Users/matias/miniconda3/envs/gen-methods/lib/python3.7/site-packages/sklearn/metrics/_classification.py:1272: UndefinedMetricWarning: Recall and F-score are ill-defined and being set to 0.0 in labels with no true samples. Use `zero_division` parameter to control this behavior.\n",
      "  _warn_prf(average, modifier, msg_start, len(result))\n"
     ]
    },
    {
     "name": "stdout",
     "output_type": "stream",
     "text": [
      "End of 16 trial\n",
      "Original cresh train dataset shape Counter({10: 713, 11: 280, 9: 166})\n",
      "Resampled (SMOTE) real + synth dataset shape Counter({10: 713, 11: 713, 9: 713})\n",
      "Resampled (SMOTE) synth dataset shape Counter({9: 547, 11: 433})\n",
      "Resampled (ADASYN) train (real + synth) dataset shape Counter({10: 713, 9: 702, 11: 685})\n",
      "Resampled (ADASYN) synth dataset shape Counter({9: 536, 11: 405})\n"
     ]
    },
    {
     "name": "stderr",
     "output_type": "stream",
     "text": [
      "/Users/matias/miniconda3/envs/gen-methods/lib/python3.7/site-packages/sklearn/metrics/_classification.py:1272: UndefinedMetricWarning: Recall and F-score are ill-defined and being set to 0.0 in labels with no true samples. Use `zero_division` parameter to control this behavior.\n",
      "  _warn_prf(average, modifier, msg_start, len(result))\n",
      "/Users/matias/miniconda3/envs/gen-methods/lib/python3.7/site-packages/sklearn/metrics/_classification.py:1272: UndefinedMetricWarning: Precision and F-score are ill-defined and being set to 0.0 in labels with no predicted samples. Use `zero_division` parameter to control this behavior.\n",
      "  _warn_prf(average, modifier, msg_start, len(result))\n",
      "/Users/matias/miniconda3/envs/gen-methods/lib/python3.7/site-packages/sklearn/metrics/_classification.py:1272: UndefinedMetricWarning: Precision and F-score are ill-defined and being set to 0.0 in labels with no predicted samples. Use `zero_division` parameter to control this behavior.\n",
      "  _warn_prf(average, modifier, msg_start, len(result))\n",
      "/Users/matias/miniconda3/envs/gen-methods/lib/python3.7/site-packages/sklearn/metrics/_classification.py:1272: UndefinedMetricWarning: Precision and F-score are ill-defined and being set to 0.0 in labels with no predicted samples. Use `zero_division` parameter to control this behavior.\n",
      "  _warn_prf(average, modifier, msg_start, len(result))\n",
      "/Users/matias/miniconda3/envs/gen-methods/lib/python3.7/site-packages/sklearn/metrics/_classification.py:1272: UndefinedMetricWarning: Recall and F-score are ill-defined and being set to 0.0 in labels with no true samples. Use `zero_division` parameter to control this behavior.\n",
      "  _warn_prf(average, modifier, msg_start, len(result))\n",
      "/Users/matias/miniconda3/envs/gen-methods/lib/python3.7/site-packages/sklearn/metrics/_classification.py:1272: UndefinedMetricWarning: Recall and F-score are ill-defined and being set to 0.0 in labels with no true samples. Use `zero_division` parameter to control this behavior.\n",
      "  _warn_prf(average, modifier, msg_start, len(result))\n",
      "/Users/matias/miniconda3/envs/gen-methods/lib/python3.7/site-packages/sklearn/metrics/_classification.py:1272: UndefinedMetricWarning: Precision and F-score are ill-defined and being set to 0.0 in labels with no predicted samples. Use `zero_division` parameter to control this behavior.\n",
      "  _warn_prf(average, modifier, msg_start, len(result))\n",
      "/Users/matias/miniconda3/envs/gen-methods/lib/python3.7/site-packages/sklearn/metrics/_classification.py:1272: UndefinedMetricWarning: Recall and F-score are ill-defined and being set to 0.0 in labels with no true samples. Use `zero_division` parameter to control this behavior.\n",
      "  _warn_prf(average, modifier, msg_start, len(result))\n",
      "/Users/matias/miniconda3/envs/gen-methods/lib/python3.7/site-packages/sklearn/metrics/_classification.py:1272: UndefinedMetricWarning: Recall and F-score are ill-defined and being set to 0.0 in labels with no true samples. Use `zero_division` parameter to control this behavior.\n",
      "  _warn_prf(average, modifier, msg_start, len(result))\n"
     ]
    },
    {
     "name": "stdout",
     "output_type": "stream",
     "text": [
      "End of 17 trial\n",
      "Original cresh train dataset shape Counter({10: 713, 11: 280, 9: 166})\n",
      "Resampled (SMOTE) real + synth dataset shape Counter({10: 713, 9: 713, 11: 713})\n",
      "Resampled (SMOTE) synth dataset shape Counter({9: 547, 11: 433})\n",
      "Resampled (ADASYN) train (real + synth) dataset shape Counter({10: 713, 9: 702, 11: 685})\n",
      "Resampled (ADASYN) synth dataset shape Counter({9: 536, 11: 405})\n"
     ]
    },
    {
     "name": "stderr",
     "output_type": "stream",
     "text": [
      "/Users/matias/miniconda3/envs/gen-methods/lib/python3.7/site-packages/sklearn/metrics/_classification.py:1272: UndefinedMetricWarning: Precision and F-score are ill-defined and being set to 0.0 in labels with no predicted samples. Use `zero_division` parameter to control this behavior.\n",
      "  _warn_prf(average, modifier, msg_start, len(result))\n",
      "/Users/matias/miniconda3/envs/gen-methods/lib/python3.7/site-packages/sklearn/metrics/_classification.py:1272: UndefinedMetricWarning: Precision and F-score are ill-defined and being set to 0.0 in labels with no predicted samples. Use `zero_division` parameter to control this behavior.\n",
      "  _warn_prf(average, modifier, msg_start, len(result))\n",
      "/Users/matias/miniconda3/envs/gen-methods/lib/python3.7/site-packages/sklearn/metrics/_classification.py:1272: UndefinedMetricWarning: Precision and F-score are ill-defined and being set to 0.0 in labels with no predicted samples. Use `zero_division` parameter to control this behavior.\n",
      "  _warn_prf(average, modifier, msg_start, len(result))\n",
      "/Users/matias/miniconda3/envs/gen-methods/lib/python3.7/site-packages/sklearn/metrics/_classification.py:1272: UndefinedMetricWarning: Recall and F-score are ill-defined and being set to 0.0 in labels with no true samples. Use `zero_division` parameter to control this behavior.\n",
      "  _warn_prf(average, modifier, msg_start, len(result))\n",
      "/Users/matias/miniconda3/envs/gen-methods/lib/python3.7/site-packages/sklearn/metrics/_classification.py:1272: UndefinedMetricWarning: Recall and F-score are ill-defined and being set to 0.0 in labels with no true samples. Use `zero_division` parameter to control this behavior.\n",
      "  _warn_prf(average, modifier, msg_start, len(result))\n",
      "/Users/matias/miniconda3/envs/gen-methods/lib/python3.7/site-packages/sklearn/metrics/_classification.py:1272: UndefinedMetricWarning: Precision and F-score are ill-defined and being set to 0.0 in labels with no predicted samples. Use `zero_division` parameter to control this behavior.\n",
      "  _warn_prf(average, modifier, msg_start, len(result))\n",
      "/Users/matias/miniconda3/envs/gen-methods/lib/python3.7/site-packages/sklearn/metrics/_classification.py:1272: UndefinedMetricWarning: Recall and F-score are ill-defined and being set to 0.0 in labels with no true samples. Use `zero_division` parameter to control this behavior.\n",
      "  _warn_prf(average, modifier, msg_start, len(result))\n"
     ]
    },
    {
     "name": "stdout",
     "output_type": "stream",
     "text": [
      "End of 18 trial\n",
      "Original cresh train dataset shape Counter({10: 713, 11: 280, 9: 166})\n",
      "Resampled (SMOTE) real + synth dataset shape Counter({11: 713, 9: 713, 10: 713})\n",
      "Resampled (SMOTE) synth dataset shape Counter({9: 547, 11: 433})\n",
      "Resampled (ADASYN) train (real + synth) dataset shape Counter({10: 713, 9: 702, 11: 685})\n",
      "Resampled (ADASYN) synth dataset shape Counter({9: 536, 11: 405})\n"
     ]
    },
    {
     "name": "stderr",
     "output_type": "stream",
     "text": [
      "/Users/matias/miniconda3/envs/gen-methods/lib/python3.7/site-packages/sklearn/metrics/_classification.py:1272: UndefinedMetricWarning: Recall and F-score are ill-defined and being set to 0.0 in labels with no true samples. Use `zero_division` parameter to control this behavior.\n",
      "  _warn_prf(average, modifier, msg_start, len(result))\n",
      "/Users/matias/miniconda3/envs/gen-methods/lib/python3.7/site-packages/sklearn/metrics/_classification.py:1272: UndefinedMetricWarning: Precision and F-score are ill-defined and being set to 0.0 in labels with no predicted samples. Use `zero_division` parameter to control this behavior.\n",
      "  _warn_prf(average, modifier, msg_start, len(result))\n",
      "/Users/matias/miniconda3/envs/gen-methods/lib/python3.7/site-packages/sklearn/metrics/_classification.py:1272: UndefinedMetricWarning: Precision and F-score are ill-defined and being set to 0.0 in labels with no predicted samples. Use `zero_division` parameter to control this behavior.\n",
      "  _warn_prf(average, modifier, msg_start, len(result))\n",
      "/Users/matias/miniconda3/envs/gen-methods/lib/python3.7/site-packages/sklearn/metrics/_classification.py:1272: UndefinedMetricWarning: Precision and F-score are ill-defined and being set to 0.0 in labels with no predicted samples. Use `zero_division` parameter to control this behavior.\n",
      "  _warn_prf(average, modifier, msg_start, len(result))\n",
      "/Users/matias/miniconda3/envs/gen-methods/lib/python3.7/site-packages/sklearn/metrics/_classification.py:1272: UndefinedMetricWarning: Recall and F-score are ill-defined and being set to 0.0 in labels with no true samples. Use `zero_division` parameter to control this behavior.\n",
      "  _warn_prf(average, modifier, msg_start, len(result))\n",
      "/Users/matias/miniconda3/envs/gen-methods/lib/python3.7/site-packages/sklearn/metrics/_classification.py:1272: UndefinedMetricWarning: Recall and F-score are ill-defined and being set to 0.0 in labels with no true samples. Use `zero_division` parameter to control this behavior.\n",
      "  _warn_prf(average, modifier, msg_start, len(result))\n",
      "/Users/matias/miniconda3/envs/gen-methods/lib/python3.7/site-packages/sklearn/metrics/_classification.py:1272: UndefinedMetricWarning: Precision and F-score are ill-defined and being set to 0.0 in labels with no predicted samples. Use `zero_division` parameter to control this behavior.\n",
      "  _warn_prf(average, modifier, msg_start, len(result))\n",
      "/Users/matias/miniconda3/envs/gen-methods/lib/python3.7/site-packages/sklearn/metrics/_classification.py:1272: UndefinedMetricWarning: Recall and F-score are ill-defined and being set to 0.0 in labels with no true samples. Use `zero_division` parameter to control this behavior.\n",
      "  _warn_prf(average, modifier, msg_start, len(result))\n"
     ]
    },
    {
     "name": "stdout",
     "output_type": "stream",
     "text": [
      "End of 19 trial\n",
      "Original cresh train dataset shape Counter({10: 713, 11: 280, 9: 166})\n",
      "Resampled (SMOTE) real + synth dataset shape Counter({11: 713, 9: 713, 10: 713})\n",
      "Resampled (SMOTE) synth dataset shape Counter({9: 547, 11: 433})\n",
      "Resampled (ADASYN) train (real + synth) dataset shape Counter({10: 713, 9: 702, 11: 685})\n",
      "Resampled (ADASYN) synth dataset shape Counter({9: 536, 11: 405})\n"
     ]
    },
    {
     "name": "stderr",
     "output_type": "stream",
     "text": [
      "/Users/matias/miniconda3/envs/gen-methods/lib/python3.7/site-packages/sklearn/metrics/_classification.py:1272: UndefinedMetricWarning: Recall and F-score are ill-defined and being set to 0.0 in labels with no true samples. Use `zero_division` parameter to control this behavior.\n",
      "  _warn_prf(average, modifier, msg_start, len(result))\n",
      "/Users/matias/miniconda3/envs/gen-methods/lib/python3.7/site-packages/sklearn/metrics/_classification.py:1272: UndefinedMetricWarning: Precision and F-score are ill-defined and being set to 0.0 in labels with no predicted samples. Use `zero_division` parameter to control this behavior.\n",
      "  _warn_prf(average, modifier, msg_start, len(result))\n",
      "/Users/matias/miniconda3/envs/gen-methods/lib/python3.7/site-packages/sklearn/metrics/_classification.py:1272: UndefinedMetricWarning: Precision and F-score are ill-defined and being set to 0.0 in labels with no predicted samples. Use `zero_division` parameter to control this behavior.\n",
      "  _warn_prf(average, modifier, msg_start, len(result))\n",
      "/Users/matias/miniconda3/envs/gen-methods/lib/python3.7/site-packages/sklearn/metrics/_classification.py:1272: UndefinedMetricWarning: Precision and F-score are ill-defined and being set to 0.0 in labels with no predicted samples. Use `zero_division` parameter to control this behavior.\n",
      "  _warn_prf(average, modifier, msg_start, len(result))\n",
      "/Users/matias/miniconda3/envs/gen-methods/lib/python3.7/site-packages/sklearn/metrics/_classification.py:1272: UndefinedMetricWarning: Recall and F-score are ill-defined and being set to 0.0 in labels with no true samples. Use `zero_division` parameter to control this behavior.\n",
      "  _warn_prf(average, modifier, msg_start, len(result))\n",
      "/Users/matias/miniconda3/envs/gen-methods/lib/python3.7/site-packages/sklearn/metrics/_classification.py:1272: UndefinedMetricWarning: Recall and F-score are ill-defined and being set to 0.0 in labels with no true samples. Use `zero_division` parameter to control this behavior.\n",
      "  _warn_prf(average, modifier, msg_start, len(result))\n",
      "/Users/matias/miniconda3/envs/gen-methods/lib/python3.7/site-packages/sklearn/metrics/_classification.py:1272: UndefinedMetricWarning: Precision and F-score are ill-defined and being set to 0.0 in labels with no predicted samples. Use `zero_division` parameter to control this behavior.\n",
      "  _warn_prf(average, modifier, msg_start, len(result))\n",
      "/Users/matias/miniconda3/envs/gen-methods/lib/python3.7/site-packages/sklearn/metrics/_classification.py:1272: UndefinedMetricWarning: Recall and F-score are ill-defined and being set to 0.0 in labels with no true samples. Use `zero_division` parameter to control this behavior.\n",
      "  _warn_prf(average, modifier, msg_start, len(result))\n"
     ]
    },
    {
     "name": "stdout",
     "output_type": "stream",
     "text": [
      "End of 20 trial\n",
      "Original cresh train dataset shape Counter({10: 713, 11: 280, 9: 166})\n",
      "Resampled (SMOTE) real + synth dataset shape Counter({11: 713, 10: 713, 9: 713})\n",
      "Resampled (SMOTE) synth dataset shape Counter({9: 547, 11: 433})\n",
      "Resampled (ADASYN) train (real + synth) dataset shape Counter({10: 713, 9: 702, 11: 685})\n",
      "Resampled (ADASYN) synth dataset shape Counter({9: 536, 11: 405})\n"
     ]
    },
    {
     "name": "stderr",
     "output_type": "stream",
     "text": [
      "/Users/matias/miniconda3/envs/gen-methods/lib/python3.7/site-packages/sklearn/metrics/_classification.py:1272: UndefinedMetricWarning: Recall and F-score are ill-defined and being set to 0.0 in labels with no true samples. Use `zero_division` parameter to control this behavior.\n",
      "  _warn_prf(average, modifier, msg_start, len(result))\n",
      "/Users/matias/miniconda3/envs/gen-methods/lib/python3.7/site-packages/sklearn/metrics/_classification.py:1272: UndefinedMetricWarning: Precision and F-score are ill-defined and being set to 0.0 in labels with no predicted samples. Use `zero_division` parameter to control this behavior.\n",
      "  _warn_prf(average, modifier, msg_start, len(result))\n",
      "/Users/matias/miniconda3/envs/gen-methods/lib/python3.7/site-packages/sklearn/metrics/_classification.py:1272: UndefinedMetricWarning: Precision and F-score are ill-defined and being set to 0.0 in labels with no predicted samples. Use `zero_division` parameter to control this behavior.\n",
      "  _warn_prf(average, modifier, msg_start, len(result))\n",
      "/Users/matias/miniconda3/envs/gen-methods/lib/python3.7/site-packages/sklearn/metrics/_classification.py:1272: UndefinedMetricWarning: Precision and F-score are ill-defined and being set to 0.0 in labels with no predicted samples. Use `zero_division` parameter to control this behavior.\n",
      "  _warn_prf(average, modifier, msg_start, len(result))\n",
      "/Users/matias/miniconda3/envs/gen-methods/lib/python3.7/site-packages/sklearn/metrics/_classification.py:1272: UndefinedMetricWarning: Recall and F-score are ill-defined and being set to 0.0 in labels with no true samples. Use `zero_division` parameter to control this behavior.\n",
      "  _warn_prf(average, modifier, msg_start, len(result))\n",
      "/Users/matias/miniconda3/envs/gen-methods/lib/python3.7/site-packages/sklearn/metrics/_classification.py:1272: UndefinedMetricWarning: Recall and F-score are ill-defined and being set to 0.0 in labels with no true samples. Use `zero_division` parameter to control this behavior.\n",
      "  _warn_prf(average, modifier, msg_start, len(result))\n",
      "/Users/matias/miniconda3/envs/gen-methods/lib/python3.7/site-packages/sklearn/metrics/_classification.py:1272: UndefinedMetricWarning: Precision and F-score are ill-defined and being set to 0.0 in labels with no predicted samples. Use `zero_division` parameter to control this behavior.\n",
      "  _warn_prf(average, modifier, msg_start, len(result))\n",
      "/Users/matias/miniconda3/envs/gen-methods/lib/python3.7/site-packages/sklearn/metrics/_classification.py:1272: UndefinedMetricWarning: Recall and F-score are ill-defined and being set to 0.0 in labels with no true samples. Use `zero_division` parameter to control this behavior.\n",
      "  _warn_prf(average, modifier, msg_start, len(result))\n"
     ]
    },
    {
     "name": "stdout",
     "output_type": "stream",
     "text": [
      "End of 21 trial\n",
      "Original cresh train dataset shape Counter({10: 713, 11: 280, 9: 166})\n",
      "Resampled (SMOTE) real + synth dataset shape Counter({9: 713, 10: 713, 11: 713})\n",
      "Resampled (SMOTE) synth dataset shape Counter({9: 547, 11: 433})\n",
      "Resampled (ADASYN) train (real + synth) dataset shape Counter({10: 713, 9: 702, 11: 685})\n",
      "Resampled (ADASYN) synth dataset shape Counter({9: 536, 11: 405})\n"
     ]
    },
    {
     "name": "stderr",
     "output_type": "stream",
     "text": [
      "/Users/matias/miniconda3/envs/gen-methods/lib/python3.7/site-packages/sklearn/metrics/_classification.py:1272: UndefinedMetricWarning: Recall and F-score are ill-defined and being set to 0.0 in labels with no true samples. Use `zero_division` parameter to control this behavior.\n",
      "  _warn_prf(average, modifier, msg_start, len(result))\n",
      "/Users/matias/miniconda3/envs/gen-methods/lib/python3.7/site-packages/sklearn/metrics/_classification.py:1272: UndefinedMetricWarning: Precision and F-score are ill-defined and being set to 0.0 in labels with no predicted samples. Use `zero_division` parameter to control this behavior.\n",
      "  _warn_prf(average, modifier, msg_start, len(result))\n",
      "/Users/matias/miniconda3/envs/gen-methods/lib/python3.7/site-packages/sklearn/metrics/_classification.py:1272: UndefinedMetricWarning: Precision and F-score are ill-defined and being set to 0.0 in labels with no predicted samples. Use `zero_division` parameter to control this behavior.\n",
      "  _warn_prf(average, modifier, msg_start, len(result))\n",
      "/Users/matias/miniconda3/envs/gen-methods/lib/python3.7/site-packages/sklearn/metrics/_classification.py:1272: UndefinedMetricWarning: Precision and F-score are ill-defined and being set to 0.0 in labels with no predicted samples. Use `zero_division` parameter to control this behavior.\n",
      "  _warn_prf(average, modifier, msg_start, len(result))\n",
      "/Users/matias/miniconda3/envs/gen-methods/lib/python3.7/site-packages/sklearn/metrics/_classification.py:1272: UndefinedMetricWarning: Recall and F-score are ill-defined and being set to 0.0 in labels with no true samples. Use `zero_division` parameter to control this behavior.\n",
      "  _warn_prf(average, modifier, msg_start, len(result))\n",
      "/Users/matias/miniconda3/envs/gen-methods/lib/python3.7/site-packages/sklearn/metrics/_classification.py:1272: UndefinedMetricWarning: Recall and F-score are ill-defined and being set to 0.0 in labels with no true samples. Use `zero_division` parameter to control this behavior.\n",
      "  _warn_prf(average, modifier, msg_start, len(result))\n",
      "/Users/matias/miniconda3/envs/gen-methods/lib/python3.7/site-packages/sklearn/metrics/_classification.py:1272: UndefinedMetricWarning: Precision and F-score are ill-defined and being set to 0.0 in labels with no predicted samples. Use `zero_division` parameter to control this behavior.\n",
      "  _warn_prf(average, modifier, msg_start, len(result))\n",
      "/Users/matias/miniconda3/envs/gen-methods/lib/python3.7/site-packages/sklearn/metrics/_classification.py:1272: UndefinedMetricWarning: Recall and F-score are ill-defined and being set to 0.0 in labels with no true samples. Use `zero_division` parameter to control this behavior.\n",
      "  _warn_prf(average, modifier, msg_start, len(result))\n",
      "/Users/matias/miniconda3/envs/gen-methods/lib/python3.7/site-packages/sklearn/metrics/_classification.py:1272: UndefinedMetricWarning: Recall and F-score are ill-defined and being set to 0.0 in labels with no true samples. Use `zero_division` parameter to control this behavior.\n",
      "  _warn_prf(average, modifier, msg_start, len(result))\n"
     ]
    },
    {
     "name": "stdout",
     "output_type": "stream",
     "text": [
      "End of 22 trial\n",
      "Original cresh train dataset shape Counter({10: 713, 11: 280, 9: 166})\n",
      "Resampled (SMOTE) real + synth dataset shape Counter({9: 713, 11: 713, 10: 713})\n",
      "Resampled (SMOTE) synth dataset shape Counter({9: 547, 11: 433})\n",
      "Resampled (ADASYN) train (real + synth) dataset shape Counter({10: 713, 9: 702, 11: 685})\n",
      "Resampled (ADASYN) synth dataset shape Counter({9: 536, 11: 405})\n"
     ]
    },
    {
     "name": "stderr",
     "output_type": "stream",
     "text": [
      "/Users/matias/miniconda3/envs/gen-methods/lib/python3.7/site-packages/sklearn/metrics/_classification.py:1272: UndefinedMetricWarning: Precision and F-score are ill-defined and being set to 0.0 in labels with no predicted samples. Use `zero_division` parameter to control this behavior.\n",
      "  _warn_prf(average, modifier, msg_start, len(result))\n",
      "/Users/matias/miniconda3/envs/gen-methods/lib/python3.7/site-packages/sklearn/metrics/_classification.py:1272: UndefinedMetricWarning: Precision and F-score are ill-defined and being set to 0.0 in labels with no predicted samples. Use `zero_division` parameter to control this behavior.\n",
      "  _warn_prf(average, modifier, msg_start, len(result))\n",
      "/Users/matias/miniconda3/envs/gen-methods/lib/python3.7/site-packages/sklearn/metrics/_classification.py:1272: UndefinedMetricWarning: Precision and F-score are ill-defined and being set to 0.0 in labels with no predicted samples. Use `zero_division` parameter to control this behavior.\n",
      "  _warn_prf(average, modifier, msg_start, len(result))\n",
      "/Users/matias/miniconda3/envs/gen-methods/lib/python3.7/site-packages/sklearn/metrics/_classification.py:1272: UndefinedMetricWarning: Recall and F-score are ill-defined and being set to 0.0 in labels with no true samples. Use `zero_division` parameter to control this behavior.\n",
      "  _warn_prf(average, modifier, msg_start, len(result))\n",
      "/Users/matias/miniconda3/envs/gen-methods/lib/python3.7/site-packages/sklearn/metrics/_classification.py:1272: UndefinedMetricWarning: Recall and F-score are ill-defined and being set to 0.0 in labels with no true samples. Use `zero_division` parameter to control this behavior.\n",
      "  _warn_prf(average, modifier, msg_start, len(result))\n",
      "/Users/matias/miniconda3/envs/gen-methods/lib/python3.7/site-packages/sklearn/metrics/_classification.py:1272: UndefinedMetricWarning: Precision and F-score are ill-defined and being set to 0.0 in labels with no predicted samples. Use `zero_division` parameter to control this behavior.\n",
      "  _warn_prf(average, modifier, msg_start, len(result))\n",
      "/Users/matias/miniconda3/envs/gen-methods/lib/python3.7/site-packages/sklearn/metrics/_classification.py:1272: UndefinedMetricWarning: Recall and F-score are ill-defined and being set to 0.0 in labels with no true samples. Use `zero_division` parameter to control this behavior.\n",
      "  _warn_prf(average, modifier, msg_start, len(result))\n"
     ]
    },
    {
     "name": "stdout",
     "output_type": "stream",
     "text": [
      "End of 23 trial\n",
      "Original cresh train dataset shape Counter({10: 713, 11: 280, 9: 166})\n",
      "Resampled (SMOTE) real + synth dataset shape Counter({11: 713, 10: 713, 9: 713})\n",
      "Resampled (SMOTE) synth dataset shape Counter({9: 547, 11: 433})\n",
      "Resampled (ADASYN) train (real + synth) dataset shape Counter({10: 713, 9: 702, 11: 685})\n",
      "Resampled (ADASYN) synth dataset shape Counter({9: 536, 11: 405})\n"
     ]
    },
    {
     "name": "stderr",
     "output_type": "stream",
     "text": [
      "/Users/matias/miniconda3/envs/gen-methods/lib/python3.7/site-packages/sklearn/metrics/_classification.py:1272: UndefinedMetricWarning: Recall and F-score are ill-defined and being set to 0.0 in labels with no true samples. Use `zero_division` parameter to control this behavior.\n",
      "  _warn_prf(average, modifier, msg_start, len(result))\n",
      "/Users/matias/miniconda3/envs/gen-methods/lib/python3.7/site-packages/sklearn/metrics/_classification.py:1272: UndefinedMetricWarning: Precision and F-score are ill-defined and being set to 0.0 in labels with no predicted samples. Use `zero_division` parameter to control this behavior.\n",
      "  _warn_prf(average, modifier, msg_start, len(result))\n",
      "/Users/matias/miniconda3/envs/gen-methods/lib/python3.7/site-packages/sklearn/metrics/_classification.py:1272: UndefinedMetricWarning: Precision and F-score are ill-defined and being set to 0.0 in labels with no predicted samples. Use `zero_division` parameter to control this behavior.\n",
      "  _warn_prf(average, modifier, msg_start, len(result))\n",
      "/Users/matias/miniconda3/envs/gen-methods/lib/python3.7/site-packages/sklearn/metrics/_classification.py:1272: UndefinedMetricWarning: Precision and F-score are ill-defined and being set to 0.0 in labels with no predicted samples. Use `zero_division` parameter to control this behavior.\n",
      "  _warn_prf(average, modifier, msg_start, len(result))\n",
      "/Users/matias/miniconda3/envs/gen-methods/lib/python3.7/site-packages/sklearn/metrics/_classification.py:1272: UndefinedMetricWarning: Recall and F-score are ill-defined and being set to 0.0 in labels with no true samples. Use `zero_division` parameter to control this behavior.\n",
      "  _warn_prf(average, modifier, msg_start, len(result))\n",
      "/Users/matias/miniconda3/envs/gen-methods/lib/python3.7/site-packages/sklearn/metrics/_classification.py:1272: UndefinedMetricWarning: Recall and F-score are ill-defined and being set to 0.0 in labels with no true samples. Use `zero_division` parameter to control this behavior.\n",
      "  _warn_prf(average, modifier, msg_start, len(result))\n",
      "/Users/matias/miniconda3/envs/gen-methods/lib/python3.7/site-packages/sklearn/metrics/_classification.py:1272: UndefinedMetricWarning: Precision and F-score are ill-defined and being set to 0.0 in labels with no predicted samples. Use `zero_division` parameter to control this behavior.\n",
      "  _warn_prf(average, modifier, msg_start, len(result))\n",
      "/Users/matias/miniconda3/envs/gen-methods/lib/python3.7/site-packages/sklearn/metrics/_classification.py:1272: UndefinedMetricWarning: Recall and F-score are ill-defined and being set to 0.0 in labels with no true samples. Use `zero_division` parameter to control this behavior.\n",
      "  _warn_prf(average, modifier, msg_start, len(result))\n"
     ]
    },
    {
     "name": "stdout",
     "output_type": "stream",
     "text": [
      "End of 24 trial\n",
      "Original cresh train dataset shape Counter({10: 713, 11: 280, 9: 166})\n",
      "Resampled (SMOTE) real + synth dataset shape Counter({9: 713, 11: 713, 10: 713})\n",
      "Resampled (SMOTE) synth dataset shape Counter({9: 547, 11: 433})\n",
      "Resampled (ADASYN) train (real + synth) dataset shape Counter({10: 713, 9: 702, 11: 685})\n",
      "Resampled (ADASYN) synth dataset shape Counter({9: 536, 11: 405})\n"
     ]
    },
    {
     "name": "stderr",
     "output_type": "stream",
     "text": [
      "/Users/matias/miniconda3/envs/gen-methods/lib/python3.7/site-packages/sklearn/metrics/_classification.py:1272: UndefinedMetricWarning: Recall and F-score are ill-defined and being set to 0.0 in labels with no true samples. Use `zero_division` parameter to control this behavior.\n",
      "  _warn_prf(average, modifier, msg_start, len(result))\n",
      "/Users/matias/miniconda3/envs/gen-methods/lib/python3.7/site-packages/sklearn/metrics/_classification.py:1272: UndefinedMetricWarning: Precision and F-score are ill-defined and being set to 0.0 in labels with no predicted samples. Use `zero_division` parameter to control this behavior.\n",
      "  _warn_prf(average, modifier, msg_start, len(result))\n",
      "/Users/matias/miniconda3/envs/gen-methods/lib/python3.7/site-packages/sklearn/metrics/_classification.py:1272: UndefinedMetricWarning: Precision and F-score are ill-defined and being set to 0.0 in labels with no predicted samples. Use `zero_division` parameter to control this behavior.\n",
      "  _warn_prf(average, modifier, msg_start, len(result))\n",
      "/Users/matias/miniconda3/envs/gen-methods/lib/python3.7/site-packages/sklearn/metrics/_classification.py:1272: UndefinedMetricWarning: Precision and F-score are ill-defined and being set to 0.0 in labels with no predicted samples. Use `zero_division` parameter to control this behavior.\n",
      "  _warn_prf(average, modifier, msg_start, len(result))\n",
      "/Users/matias/miniconda3/envs/gen-methods/lib/python3.7/site-packages/sklearn/metrics/_classification.py:1272: UndefinedMetricWarning: Recall and F-score are ill-defined and being set to 0.0 in labels with no true samples. Use `zero_division` parameter to control this behavior.\n",
      "  _warn_prf(average, modifier, msg_start, len(result))\n",
      "/Users/matias/miniconda3/envs/gen-methods/lib/python3.7/site-packages/sklearn/metrics/_classification.py:1272: UndefinedMetricWarning: Recall and F-score are ill-defined and being set to 0.0 in labels with no true samples. Use `zero_division` parameter to control this behavior.\n",
      "  _warn_prf(average, modifier, msg_start, len(result))\n",
      "/Users/matias/miniconda3/envs/gen-methods/lib/python3.7/site-packages/sklearn/metrics/_classification.py:1272: UndefinedMetricWarning: Precision and F-score are ill-defined and being set to 0.0 in labels with no predicted samples. Use `zero_division` parameter to control this behavior.\n",
      "  _warn_prf(average, modifier, msg_start, len(result))\n",
      "/Users/matias/miniconda3/envs/gen-methods/lib/python3.7/site-packages/sklearn/metrics/_classification.py:1272: UndefinedMetricWarning: Recall and F-score are ill-defined and being set to 0.0 in labels with no true samples. Use `zero_division` parameter to control this behavior.\n",
      "  _warn_prf(average, modifier, msg_start, len(result))\n"
     ]
    },
    {
     "name": "stdout",
     "output_type": "stream",
     "text": [
      "End of 25 trial\n",
      "Original cresh train dataset shape Counter({10: 713, 11: 280, 9: 166})\n",
      "Resampled (SMOTE) real + synth dataset shape Counter({11: 713, 10: 713, 9: 713})\n",
      "Resampled (SMOTE) synth dataset shape Counter({9: 547, 11: 433})\n",
      "Resampled (ADASYN) train (real + synth) dataset shape Counter({10: 713, 9: 702, 11: 685})\n",
      "Resampled (ADASYN) synth dataset shape Counter({9: 536, 11: 405})\n"
     ]
    },
    {
     "name": "stderr",
     "output_type": "stream",
     "text": [
      "/Users/matias/miniconda3/envs/gen-methods/lib/python3.7/site-packages/sklearn/metrics/_classification.py:1272: UndefinedMetricWarning: Recall and F-score are ill-defined and being set to 0.0 in labels with no true samples. Use `zero_division` parameter to control this behavior.\n",
      "  _warn_prf(average, modifier, msg_start, len(result))\n",
      "/Users/matias/miniconda3/envs/gen-methods/lib/python3.7/site-packages/sklearn/metrics/_classification.py:1272: UndefinedMetricWarning: Precision and F-score are ill-defined and being set to 0.0 in labels with no predicted samples. Use `zero_division` parameter to control this behavior.\n",
      "  _warn_prf(average, modifier, msg_start, len(result))\n",
      "/Users/matias/miniconda3/envs/gen-methods/lib/python3.7/site-packages/sklearn/metrics/_classification.py:1272: UndefinedMetricWarning: Precision and F-score are ill-defined and being set to 0.0 in labels with no predicted samples. Use `zero_division` parameter to control this behavior.\n",
      "  _warn_prf(average, modifier, msg_start, len(result))\n",
      "/Users/matias/miniconda3/envs/gen-methods/lib/python3.7/site-packages/sklearn/metrics/_classification.py:1272: UndefinedMetricWarning: Precision and F-score are ill-defined and being set to 0.0 in labels with no predicted samples. Use `zero_division` parameter to control this behavior.\n",
      "  _warn_prf(average, modifier, msg_start, len(result))\n",
      "/Users/matias/miniconda3/envs/gen-methods/lib/python3.7/site-packages/sklearn/metrics/_classification.py:1272: UndefinedMetricWarning: Recall and F-score are ill-defined and being set to 0.0 in labels with no true samples. Use `zero_division` parameter to control this behavior.\n",
      "  _warn_prf(average, modifier, msg_start, len(result))\n",
      "/Users/matias/miniconda3/envs/gen-methods/lib/python3.7/site-packages/sklearn/metrics/_classification.py:1272: UndefinedMetricWarning: Recall and F-score are ill-defined and being set to 0.0 in labels with no true samples. Use `zero_division` parameter to control this behavior.\n",
      "  _warn_prf(average, modifier, msg_start, len(result))\n",
      "/Users/matias/miniconda3/envs/gen-methods/lib/python3.7/site-packages/sklearn/metrics/_classification.py:1272: UndefinedMetricWarning: Precision and F-score are ill-defined and being set to 0.0 in labels with no predicted samples. Use `zero_division` parameter to control this behavior.\n",
      "  _warn_prf(average, modifier, msg_start, len(result))\n",
      "/Users/matias/miniconda3/envs/gen-methods/lib/python3.7/site-packages/sklearn/metrics/_classification.py:1272: UndefinedMetricWarning: Recall and F-score are ill-defined and being set to 0.0 in labels with no true samples. Use `zero_division` parameter to control this behavior.\n",
      "  _warn_prf(average, modifier, msg_start, len(result))\n"
     ]
    },
    {
     "name": "stdout",
     "output_type": "stream",
     "text": [
      "End of 26 trial\n",
      "Original cresh train dataset shape Counter({10: 713, 11: 280, 9: 166})\n",
      "Resampled (SMOTE) real + synth dataset shape Counter({10: 713, 9: 713, 11: 713})\n",
      "Resampled (SMOTE) synth dataset shape Counter({9: 547, 11: 433})\n",
      "Resampled (ADASYN) train (real + synth) dataset shape Counter({10: 713, 9: 702, 11: 685})\n",
      "Resampled (ADASYN) synth dataset shape Counter({9: 536, 11: 405})\n"
     ]
    },
    {
     "name": "stderr",
     "output_type": "stream",
     "text": [
      "/Users/matias/miniconda3/envs/gen-methods/lib/python3.7/site-packages/sklearn/metrics/_classification.py:1272: UndefinedMetricWarning: Recall and F-score are ill-defined and being set to 0.0 in labels with no true samples. Use `zero_division` parameter to control this behavior.\n",
      "  _warn_prf(average, modifier, msg_start, len(result))\n",
      "/Users/matias/miniconda3/envs/gen-methods/lib/python3.7/site-packages/sklearn/metrics/_classification.py:1272: UndefinedMetricWarning: Precision and F-score are ill-defined and being set to 0.0 in labels with no predicted samples. Use `zero_division` parameter to control this behavior.\n",
      "  _warn_prf(average, modifier, msg_start, len(result))\n",
      "/Users/matias/miniconda3/envs/gen-methods/lib/python3.7/site-packages/sklearn/metrics/_classification.py:1272: UndefinedMetricWarning: Precision and F-score are ill-defined and being set to 0.0 in labels with no predicted samples. Use `zero_division` parameter to control this behavior.\n",
      "  _warn_prf(average, modifier, msg_start, len(result))\n",
      "/Users/matias/miniconda3/envs/gen-methods/lib/python3.7/site-packages/sklearn/metrics/_classification.py:1272: UndefinedMetricWarning: Precision and F-score are ill-defined and being set to 0.0 in labels with no predicted samples. Use `zero_division` parameter to control this behavior.\n",
      "  _warn_prf(average, modifier, msg_start, len(result))\n",
      "/Users/matias/miniconda3/envs/gen-methods/lib/python3.7/site-packages/sklearn/metrics/_classification.py:1272: UndefinedMetricWarning: Recall and F-score are ill-defined and being set to 0.0 in labels with no true samples. Use `zero_division` parameter to control this behavior.\n",
      "  _warn_prf(average, modifier, msg_start, len(result))\n",
      "/Users/matias/miniconda3/envs/gen-methods/lib/python3.7/site-packages/sklearn/metrics/_classification.py:1272: UndefinedMetricWarning: Recall and F-score are ill-defined and being set to 0.0 in labels with no true samples. Use `zero_division` parameter to control this behavior.\n",
      "  _warn_prf(average, modifier, msg_start, len(result))\n",
      "/Users/matias/miniconda3/envs/gen-methods/lib/python3.7/site-packages/sklearn/metrics/_classification.py:1272: UndefinedMetricWarning: Precision and F-score are ill-defined and being set to 0.0 in labels with no predicted samples. Use `zero_division` parameter to control this behavior.\n",
      "  _warn_prf(average, modifier, msg_start, len(result))\n",
      "/Users/matias/miniconda3/envs/gen-methods/lib/python3.7/site-packages/sklearn/metrics/_classification.py:1272: UndefinedMetricWarning: Recall and F-score are ill-defined and being set to 0.0 in labels with no true samples. Use `zero_division` parameter to control this behavior.\n",
      "  _warn_prf(average, modifier, msg_start, len(result))\n"
     ]
    },
    {
     "name": "stdout",
     "output_type": "stream",
     "text": [
      "End of 27 trial\n",
      "Original cresh train dataset shape Counter({10: 713, 11: 280, 9: 166})\n",
      "Resampled (SMOTE) real + synth dataset shape Counter({10: 713, 11: 713, 9: 713})\n",
      "Resampled (SMOTE) synth dataset shape Counter({9: 547, 11: 433})\n",
      "Resampled (ADASYN) train (real + synth) dataset shape Counter({10: 713, 9: 702, 11: 685})\n",
      "Resampled (ADASYN) synth dataset shape Counter({9: 536, 11: 405})\n"
     ]
    },
    {
     "name": "stderr",
     "output_type": "stream",
     "text": [
      "/Users/matias/miniconda3/envs/gen-methods/lib/python3.7/site-packages/sklearn/metrics/_classification.py:1272: UndefinedMetricWarning: Recall and F-score are ill-defined and being set to 0.0 in labels with no true samples. Use `zero_division` parameter to control this behavior.\n",
      "  _warn_prf(average, modifier, msg_start, len(result))\n",
      "/Users/matias/miniconda3/envs/gen-methods/lib/python3.7/site-packages/sklearn/metrics/_classification.py:1272: UndefinedMetricWarning: Precision and F-score are ill-defined and being set to 0.0 in labels with no predicted samples. Use `zero_division` parameter to control this behavior.\n",
      "  _warn_prf(average, modifier, msg_start, len(result))\n",
      "/Users/matias/miniconda3/envs/gen-methods/lib/python3.7/site-packages/sklearn/metrics/_classification.py:1272: UndefinedMetricWarning: Precision and F-score are ill-defined and being set to 0.0 in labels with no predicted samples. Use `zero_division` parameter to control this behavior.\n",
      "  _warn_prf(average, modifier, msg_start, len(result))\n",
      "/Users/matias/miniconda3/envs/gen-methods/lib/python3.7/site-packages/sklearn/metrics/_classification.py:1272: UndefinedMetricWarning: Precision and F-score are ill-defined and being set to 0.0 in labels with no predicted samples. Use `zero_division` parameter to control this behavior.\n",
      "  _warn_prf(average, modifier, msg_start, len(result))\n",
      "/Users/matias/miniconda3/envs/gen-methods/lib/python3.7/site-packages/sklearn/metrics/_classification.py:1272: UndefinedMetricWarning: Recall and F-score are ill-defined and being set to 0.0 in labels with no true samples. Use `zero_division` parameter to control this behavior.\n",
      "  _warn_prf(average, modifier, msg_start, len(result))\n",
      "/Users/matias/miniconda3/envs/gen-methods/lib/python3.7/site-packages/sklearn/metrics/_classification.py:1272: UndefinedMetricWarning: Recall and F-score are ill-defined and being set to 0.0 in labels with no true samples. Use `zero_division` parameter to control this behavior.\n",
      "  _warn_prf(average, modifier, msg_start, len(result))\n"
     ]
    },
    {
     "name": "stdout",
     "output_type": "stream",
     "text": [
      "End of 28 trial\n",
      "Original cresh train dataset shape Counter({10: 713, 11: 280, 9: 166})\n",
      "Resampled (SMOTE) real + synth dataset shape Counter({10: 713, 9: 713, 11: 713})\n",
      "Resampled (SMOTE) synth dataset shape Counter({9: 547, 11: 433})\n",
      "Resampled (ADASYN) train (real + synth) dataset shape Counter({10: 713, 9: 702, 11: 685})\n",
      "Resampled (ADASYN) synth dataset shape Counter({9: 536, 11: 405})\n"
     ]
    },
    {
     "name": "stderr",
     "output_type": "stream",
     "text": [
      "/Users/matias/miniconda3/envs/gen-methods/lib/python3.7/site-packages/sklearn/metrics/_classification.py:1272: UndefinedMetricWarning: Precision and F-score are ill-defined and being set to 0.0 in labels with no predicted samples. Use `zero_division` parameter to control this behavior.\n",
      "  _warn_prf(average, modifier, msg_start, len(result))\n",
      "/Users/matias/miniconda3/envs/gen-methods/lib/python3.7/site-packages/sklearn/metrics/_classification.py:1272: UndefinedMetricWarning: Recall and F-score are ill-defined and being set to 0.0 in labels with no true samples. Use `zero_division` parameter to control this behavior.\n",
      "  _warn_prf(average, modifier, msg_start, len(result))\n",
      "/Users/matias/miniconda3/envs/gen-methods/lib/python3.7/site-packages/sklearn/metrics/_classification.py:1272: UndefinedMetricWarning: Recall and F-score are ill-defined and being set to 0.0 in labels with no true samples. Use `zero_division` parameter to control this behavior.\n",
      "  _warn_prf(average, modifier, msg_start, len(result))\n",
      "/Users/matias/miniconda3/envs/gen-methods/lib/python3.7/site-packages/sklearn/metrics/_classification.py:1272: UndefinedMetricWarning: Precision and F-score are ill-defined and being set to 0.0 in labels with no predicted samples. Use `zero_division` parameter to control this behavior.\n",
      "  _warn_prf(average, modifier, msg_start, len(result))\n",
      "/Users/matias/miniconda3/envs/gen-methods/lib/python3.7/site-packages/sklearn/metrics/_classification.py:1272: UndefinedMetricWarning: Precision and F-score are ill-defined and being set to 0.0 in labels with no predicted samples. Use `zero_division` parameter to control this behavior.\n",
      "  _warn_prf(average, modifier, msg_start, len(result))\n",
      "/Users/matias/miniconda3/envs/gen-methods/lib/python3.7/site-packages/sklearn/metrics/_classification.py:1272: UndefinedMetricWarning: Precision and F-score are ill-defined and being set to 0.0 in labels with no predicted samples. Use `zero_division` parameter to control this behavior.\n",
      "  _warn_prf(average, modifier, msg_start, len(result))\n",
      "/Users/matias/miniconda3/envs/gen-methods/lib/python3.7/site-packages/sklearn/metrics/_classification.py:1272: UndefinedMetricWarning: Recall and F-score are ill-defined and being set to 0.0 in labels with no true samples. Use `zero_division` parameter to control this behavior.\n",
      "  _warn_prf(average, modifier, msg_start, len(result))\n",
      "/Users/matias/miniconda3/envs/gen-methods/lib/python3.7/site-packages/sklearn/metrics/_classification.py:1272: UndefinedMetricWarning: Recall and F-score are ill-defined and being set to 0.0 in labels with no true samples. Use `zero_division` parameter to control this behavior.\n",
      "  _warn_prf(average, modifier, msg_start, len(result))\n",
      "/Users/matias/miniconda3/envs/gen-methods/lib/python3.7/site-packages/sklearn/metrics/_classification.py:1272: UndefinedMetricWarning: Precision and F-score are ill-defined and being set to 0.0 in labels with no predicted samples. Use `zero_division` parameter to control this behavior.\n",
      "  _warn_prf(average, modifier, msg_start, len(result))\n",
      "/Users/matias/miniconda3/envs/gen-methods/lib/python3.7/site-packages/sklearn/metrics/_classification.py:1272: UndefinedMetricWarning: Recall and F-score are ill-defined and being set to 0.0 in labels with no true samples. Use `zero_division` parameter to control this behavior.\n",
      "  _warn_prf(average, modifier, msg_start, len(result))\n",
      "/Users/matias/miniconda3/envs/gen-methods/lib/python3.7/site-packages/sklearn/metrics/_classification.py:1272: UndefinedMetricWarning: Recall and F-score are ill-defined and being set to 0.0 in labels with no true samples. Use `zero_division` parameter to control this behavior.\n",
      "  _warn_prf(average, modifier, msg_start, len(result))\n"
     ]
    },
    {
     "name": "stdout",
     "output_type": "stream",
     "text": [
      "End of 29 trial\n",
      "Original cresh train dataset shape Counter({10: 713, 11: 280, 9: 166})\n",
      "Resampled (SMOTE) real + synth dataset shape Counter({11: 713, 10: 713, 9: 713})\n",
      "Resampled (SMOTE) synth dataset shape Counter({9: 547, 11: 433})\n",
      "Resampled (ADASYN) train (real + synth) dataset shape Counter({10: 713, 9: 702, 11: 685})\n",
      "Resampled (ADASYN) synth dataset shape Counter({9: 536, 11: 405})\n",
      "End of 30 trial\n",
      "################################################################################\n",
      "# Metrics and models for dataset cresh saved!\n",
      "################################################################################\n"
     ]
    },
    {
     "name": "stderr",
     "output_type": "stream",
     "text": [
      "/Users/matias/miniconda3/envs/gen-methods/lib/python3.7/site-packages/sklearn/metrics/_classification.py:1272: UndefinedMetricWarning: Precision and F-score are ill-defined and being set to 0.0 in labels with no predicted samples. Use `zero_division` parameter to control this behavior.\n",
      "  _warn_prf(average, modifier, msg_start, len(result))\n",
      "/Users/matias/miniconda3/envs/gen-methods/lib/python3.7/site-packages/sklearn/metrics/_classification.py:1272: UndefinedMetricWarning: Precision and F-score are ill-defined and being set to 0.0 in labels with no predicted samples. Use `zero_division` parameter to control this behavior.\n",
      "  _warn_prf(average, modifier, msg_start, len(result))\n"
     ]
    }
   ],
   "source": [
    "evaluate_on_dataset(df_cresh_train, df_cresh_test, model='smote', dataset='cresh')\n"
   ]
  },
  {
   "cell_type": "code",
   "execution_count": 11,
   "metadata": {
    "collapsed": true,
    "jupyter": {
     "outputs_hidden": true
    }
   },
   "outputs": [
    {
     "name": "stderr",
     "output_type": "stream",
     "text": [
      "/Users/matias/miniconda3/envs/gen-methods/lib/python3.7/site-packages/sklearn/metrics/_classification.py:1272: UndefinedMetricWarning: Precision and F-score are ill-defined and being set to 0.0 in labels with no predicted samples. Use `zero_division` parameter to control this behavior.\n",
      "  _warn_prf(average, modifier, msg_start, len(result))\n",
      "/Users/matias/miniconda3/envs/gen-methods/lib/python3.7/site-packages/sklearn/metrics/_classification.py:1272: UndefinedMetricWarning: Recall and F-score are ill-defined and being set to 0.0 in labels with no true samples. Use `zero_division` parameter to control this behavior.\n",
      "  _warn_prf(average, modifier, msg_start, len(result))\n",
      "/Users/matias/miniconda3/envs/gen-methods/lib/python3.7/site-packages/sklearn/metrics/_classification.py:1272: UndefinedMetricWarning: Recall and F-score are ill-defined and being set to 0.0 in labels with no true samples. Use `zero_division` parameter to control this behavior.\n",
      "  _warn_prf(average, modifier, msg_start, len(result))\n",
      "/Users/matias/miniconda3/envs/gen-methods/lib/python3.7/site-packages/sklearn/metrics/_classification.py:1272: UndefinedMetricWarning: Precision and F-score are ill-defined and being set to 0.0 in labels with no predicted samples. Use `zero_division` parameter to control this behavior.\n",
      "  _warn_prf(average, modifier, msg_start, len(result))\n",
      "/Users/matias/miniconda3/envs/gen-methods/lib/python3.7/site-packages/sklearn/metrics/_classification.py:1272: UndefinedMetricWarning: Recall and F-score are ill-defined and being set to 0.0 in labels with no true samples. Use `zero_division` parameter to control this behavior.\n",
      "  _warn_prf(average, modifier, msg_start, len(result))\n"
     ]
    },
    {
     "name": "stdout",
     "output_type": "stream",
     "text": [
      "Original cresh train dataset shape Counter({10: 713, 11: 280, 9: 166})\n",
      "Resampled (SMOTE) real + synth dataset shape Counter({11: 713, 10: 713, 9: 713})\n",
      "Resampled (SMOTE) synth dataset shape Counter({9: 547, 11: 433})\n",
      "Resampled (ADASYN) train (real + synth) dataset shape Counter({10: 713, 9: 702, 11: 685})\n",
      "Resampled (ADASYN) synth dataset shape Counter({9: 536, 11: 405})\n"
     ]
    },
    {
     "name": "stderr",
     "output_type": "stream",
     "text": [
      "/Users/matias/miniconda3/envs/gen-methods/lib/python3.7/site-packages/sklearn/metrics/_classification.py:1272: UndefinedMetricWarning: Recall and F-score are ill-defined and being set to 0.0 in labels with no true samples. Use `zero_division` parameter to control this behavior.\n",
      "  _warn_prf(average, modifier, msg_start, len(result))\n",
      "/Users/matias/miniconda3/envs/gen-methods/lib/python3.7/site-packages/sklearn/metrics/_classification.py:1272: UndefinedMetricWarning: Precision and F-score are ill-defined and being set to 0.0 in labels with no predicted samples. Use `zero_division` parameter to control this behavior.\n",
      "  _warn_prf(average, modifier, msg_start, len(result))\n",
      "/Users/matias/miniconda3/envs/gen-methods/lib/python3.7/site-packages/sklearn/metrics/_classification.py:1272: UndefinedMetricWarning: Precision and F-score are ill-defined and being set to 0.0 in labels with no predicted samples. Use `zero_division` parameter to control this behavior.\n",
      "  _warn_prf(average, modifier, msg_start, len(result))\n",
      "/Users/matias/miniconda3/envs/gen-methods/lib/python3.7/site-packages/sklearn/metrics/_classification.py:1272: UndefinedMetricWarning: Precision and F-score are ill-defined and being set to 0.0 in labels with no predicted samples. Use `zero_division` parameter to control this behavior.\n",
      "  _warn_prf(average, modifier, msg_start, len(result))\n",
      "/Users/matias/miniconda3/envs/gen-methods/lib/python3.7/site-packages/sklearn/metrics/_classification.py:1272: UndefinedMetricWarning: Recall and F-score are ill-defined and being set to 0.0 in labels with no true samples. Use `zero_division` parameter to control this behavior.\n",
      "  _warn_prf(average, modifier, msg_start, len(result))\n",
      "/Users/matias/miniconda3/envs/gen-methods/lib/python3.7/site-packages/sklearn/metrics/_classification.py:1272: UndefinedMetricWarning: Recall and F-score are ill-defined and being set to 0.0 in labels with no true samples. Use `zero_division` parameter to control this behavior.\n",
      "  _warn_prf(average, modifier, msg_start, len(result))\n",
      "/Users/matias/miniconda3/envs/gen-methods/lib/python3.7/site-packages/sklearn/metrics/_classification.py:1272: UndefinedMetricWarning: Precision and F-score are ill-defined and being set to 0.0 in labels with no predicted samples. Use `zero_division` parameter to control this behavior.\n",
      "  _warn_prf(average, modifier, msg_start, len(result))\n",
      "/Users/matias/miniconda3/envs/gen-methods/lib/python3.7/site-packages/sklearn/metrics/_classification.py:1272: UndefinedMetricWarning: Recall and F-score are ill-defined and being set to 0.0 in labels with no true samples. Use `zero_division` parameter to control this behavior.\n",
      "  _warn_prf(average, modifier, msg_start, len(result))\n"
     ]
    },
    {
     "name": "stdout",
     "output_type": "stream",
     "text": [
      "End of 1 trial\n",
      "Original cresh train dataset shape Counter({10: 713, 11: 280, 9: 166})\n",
      "Resampled (SMOTE) real + synth dataset shape Counter({11: 713, 9: 713, 10: 713})\n",
      "Resampled (SMOTE) synth dataset shape Counter({9: 547, 11: 433})\n",
      "Resampled (ADASYN) train (real + synth) dataset shape Counter({10: 713, 9: 702, 11: 685})\n",
      "Resampled (ADASYN) synth dataset shape Counter({9: 536, 11: 405})\n"
     ]
    },
    {
     "name": "stderr",
     "output_type": "stream",
     "text": [
      "/Users/matias/miniconda3/envs/gen-methods/lib/python3.7/site-packages/sklearn/metrics/_classification.py:1272: UndefinedMetricWarning: Recall and F-score are ill-defined and being set to 0.0 in labels with no true samples. Use `zero_division` parameter to control this behavior.\n",
      "  _warn_prf(average, modifier, msg_start, len(result))\n",
      "/Users/matias/miniconda3/envs/gen-methods/lib/python3.7/site-packages/sklearn/metrics/_classification.py:1272: UndefinedMetricWarning: Precision and F-score are ill-defined and being set to 0.0 in labels with no predicted samples. Use `zero_division` parameter to control this behavior.\n",
      "  _warn_prf(average, modifier, msg_start, len(result))\n",
      "/Users/matias/miniconda3/envs/gen-methods/lib/python3.7/site-packages/sklearn/metrics/_classification.py:1272: UndefinedMetricWarning: Precision and F-score are ill-defined and being set to 0.0 in labels with no predicted samples. Use `zero_division` parameter to control this behavior.\n",
      "  _warn_prf(average, modifier, msg_start, len(result))\n",
      "/Users/matias/miniconda3/envs/gen-methods/lib/python3.7/site-packages/sklearn/metrics/_classification.py:1272: UndefinedMetricWarning: Precision and F-score are ill-defined and being set to 0.0 in labels with no predicted samples. Use `zero_division` parameter to control this behavior.\n",
      "  _warn_prf(average, modifier, msg_start, len(result))\n",
      "/Users/matias/miniconda3/envs/gen-methods/lib/python3.7/site-packages/sklearn/metrics/_classification.py:1272: UndefinedMetricWarning: Recall and F-score are ill-defined and being set to 0.0 in labels with no true samples. Use `zero_division` parameter to control this behavior.\n",
      "  _warn_prf(average, modifier, msg_start, len(result))\n",
      "/Users/matias/miniconda3/envs/gen-methods/lib/python3.7/site-packages/sklearn/metrics/_classification.py:1272: UndefinedMetricWarning: Recall and F-score are ill-defined and being set to 0.0 in labels with no true samples. Use `zero_division` parameter to control this behavior.\n",
      "  _warn_prf(average, modifier, msg_start, len(result))\n",
      "/Users/matias/miniconda3/envs/gen-methods/lib/python3.7/site-packages/sklearn/metrics/_classification.py:1272: UndefinedMetricWarning: Precision and F-score are ill-defined and being set to 0.0 in labels with no predicted samples. Use `zero_division` parameter to control this behavior.\n",
      "  _warn_prf(average, modifier, msg_start, len(result))\n",
      "/Users/matias/miniconda3/envs/gen-methods/lib/python3.7/site-packages/sklearn/metrics/_classification.py:1272: UndefinedMetricWarning: Recall and F-score are ill-defined and being set to 0.0 in labels with no true samples. Use `zero_division` parameter to control this behavior.\n",
      "  _warn_prf(average, modifier, msg_start, len(result))\n"
     ]
    },
    {
     "name": "stdout",
     "output_type": "stream",
     "text": [
      "End of 2 trial\n",
      "Original cresh train dataset shape Counter({10: 713, 11: 280, 9: 166})\n",
      "Resampled (SMOTE) real + synth dataset shape Counter({10: 713, 11: 713, 9: 713})\n",
      "Resampled (SMOTE) synth dataset shape Counter({9: 547, 11: 433})\n",
      "Resampled (ADASYN) train (real + synth) dataset shape Counter({10: 713, 9: 702, 11: 685})\n",
      "Resampled (ADASYN) synth dataset shape Counter({9: 536, 11: 405})\n"
     ]
    },
    {
     "name": "stderr",
     "output_type": "stream",
     "text": [
      "/Users/matias/miniconda3/envs/gen-methods/lib/python3.7/site-packages/sklearn/metrics/_classification.py:1272: UndefinedMetricWarning: Recall and F-score are ill-defined and being set to 0.0 in labels with no true samples. Use `zero_division` parameter to control this behavior.\n",
      "  _warn_prf(average, modifier, msg_start, len(result))\n",
      "/Users/matias/miniconda3/envs/gen-methods/lib/python3.7/site-packages/sklearn/metrics/_classification.py:1272: UndefinedMetricWarning: Precision and F-score are ill-defined and being set to 0.0 in labels with no predicted samples. Use `zero_division` parameter to control this behavior.\n",
      "  _warn_prf(average, modifier, msg_start, len(result))\n",
      "/Users/matias/miniconda3/envs/gen-methods/lib/python3.7/site-packages/sklearn/metrics/_classification.py:1272: UndefinedMetricWarning: Precision and F-score are ill-defined and being set to 0.0 in labels with no predicted samples. Use `zero_division` parameter to control this behavior.\n",
      "  _warn_prf(average, modifier, msg_start, len(result))\n",
      "/Users/matias/miniconda3/envs/gen-methods/lib/python3.7/site-packages/sklearn/metrics/_classification.py:1272: UndefinedMetricWarning: Precision and F-score are ill-defined and being set to 0.0 in labels with no predicted samples. Use `zero_division` parameter to control this behavior.\n",
      "  _warn_prf(average, modifier, msg_start, len(result))\n",
      "/Users/matias/miniconda3/envs/gen-methods/lib/python3.7/site-packages/sklearn/metrics/_classification.py:1272: UndefinedMetricWarning: Recall and F-score are ill-defined and being set to 0.0 in labels with no true samples. Use `zero_division` parameter to control this behavior.\n",
      "  _warn_prf(average, modifier, msg_start, len(result))\n",
      "/Users/matias/miniconda3/envs/gen-methods/lib/python3.7/site-packages/sklearn/metrics/_classification.py:1272: UndefinedMetricWarning: Recall and F-score are ill-defined and being set to 0.0 in labels with no true samples. Use `zero_division` parameter to control this behavior.\n",
      "  _warn_prf(average, modifier, msg_start, len(result))\n",
      "/Users/matias/miniconda3/envs/gen-methods/lib/python3.7/site-packages/sklearn/metrics/_classification.py:1272: UndefinedMetricWarning: Precision and F-score are ill-defined and being set to 0.0 in labels with no predicted samples. Use `zero_division` parameter to control this behavior.\n",
      "  _warn_prf(average, modifier, msg_start, len(result))\n",
      "/Users/matias/miniconda3/envs/gen-methods/lib/python3.7/site-packages/sklearn/metrics/_classification.py:1272: UndefinedMetricWarning: Recall and F-score are ill-defined and being set to 0.0 in labels with no true samples. Use `zero_division` parameter to control this behavior.\n",
      "  _warn_prf(average, modifier, msg_start, len(result))\n"
     ]
    },
    {
     "name": "stdout",
     "output_type": "stream",
     "text": [
      "End of 3 trial\n",
      "Original cresh train dataset shape Counter({10: 713, 11: 280, 9: 166})\n",
      "Resampled (SMOTE) real + synth dataset shape Counter({10: 713, 11: 713, 9: 713})\n",
      "Resampled (SMOTE) synth dataset shape Counter({9: 547, 11: 433})\n",
      "Resampled (ADASYN) train (real + synth) dataset shape Counter({10: 713, 9: 702, 11: 685})\n",
      "Resampled (ADASYN) synth dataset shape Counter({9: 536, 11: 405})\n"
     ]
    },
    {
     "name": "stderr",
     "output_type": "stream",
     "text": [
      "/Users/matias/miniconda3/envs/gen-methods/lib/python3.7/site-packages/sklearn/metrics/_classification.py:1272: UndefinedMetricWarning: Recall and F-score are ill-defined and being set to 0.0 in labels with no true samples. Use `zero_division` parameter to control this behavior.\n",
      "  _warn_prf(average, modifier, msg_start, len(result))\n",
      "/Users/matias/miniconda3/envs/gen-methods/lib/python3.7/site-packages/sklearn/metrics/_classification.py:1272: UndefinedMetricWarning: Precision and F-score are ill-defined and being set to 0.0 in labels with no predicted samples. Use `zero_division` parameter to control this behavior.\n",
      "  _warn_prf(average, modifier, msg_start, len(result))\n",
      "/Users/matias/miniconda3/envs/gen-methods/lib/python3.7/site-packages/sklearn/metrics/_classification.py:1272: UndefinedMetricWarning: Precision and F-score are ill-defined and being set to 0.0 in labels with no predicted samples. Use `zero_division` parameter to control this behavior.\n",
      "  _warn_prf(average, modifier, msg_start, len(result))\n",
      "/Users/matias/miniconda3/envs/gen-methods/lib/python3.7/site-packages/sklearn/metrics/_classification.py:1272: UndefinedMetricWarning: Precision and F-score are ill-defined and being set to 0.0 in labels with no predicted samples. Use `zero_division` parameter to control this behavior.\n",
      "  _warn_prf(average, modifier, msg_start, len(result))\n",
      "/Users/matias/miniconda3/envs/gen-methods/lib/python3.7/site-packages/sklearn/metrics/_classification.py:1272: UndefinedMetricWarning: Recall and F-score are ill-defined and being set to 0.0 in labels with no true samples. Use `zero_division` parameter to control this behavior.\n",
      "  _warn_prf(average, modifier, msg_start, len(result))\n",
      "/Users/matias/miniconda3/envs/gen-methods/lib/python3.7/site-packages/sklearn/metrics/_classification.py:1272: UndefinedMetricWarning: Recall and F-score are ill-defined and being set to 0.0 in labels with no true samples. Use `zero_division` parameter to control this behavior.\n",
      "  _warn_prf(average, modifier, msg_start, len(result))\n",
      "/Users/matias/miniconda3/envs/gen-methods/lib/python3.7/site-packages/sklearn/metrics/_classification.py:1272: UndefinedMetricWarning: Precision and F-score are ill-defined and being set to 0.0 in labels with no predicted samples. Use `zero_division` parameter to control this behavior.\n",
      "  _warn_prf(average, modifier, msg_start, len(result))\n",
      "/Users/matias/miniconda3/envs/gen-methods/lib/python3.7/site-packages/sklearn/metrics/_classification.py:1272: UndefinedMetricWarning: Recall and F-score are ill-defined and being set to 0.0 in labels with no true samples. Use `zero_division` parameter to control this behavior.\n",
      "  _warn_prf(average, modifier, msg_start, len(result))\n"
     ]
    },
    {
     "name": "stdout",
     "output_type": "stream",
     "text": [
      "End of 4 trial\n",
      "Original cresh train dataset shape Counter({10: 713, 11: 280, 9: 166})\n",
      "Resampled (SMOTE) real + synth dataset shape Counter({9: 713, 11: 713, 10: 713})\n",
      "Resampled (SMOTE) synth dataset shape Counter({9: 547, 11: 433})\n",
      "Resampled (ADASYN) train (real + synth) dataset shape Counter({10: 713, 9: 702, 11: 685})\n",
      "Resampled (ADASYN) synth dataset shape Counter({9: 536, 11: 405})\n"
     ]
    },
    {
     "name": "stderr",
     "output_type": "stream",
     "text": [
      "/Users/matias/miniconda3/envs/gen-methods/lib/python3.7/site-packages/sklearn/metrics/_classification.py:1272: UndefinedMetricWarning: Recall and F-score are ill-defined and being set to 0.0 in labels with no true samples. Use `zero_division` parameter to control this behavior.\n",
      "  _warn_prf(average, modifier, msg_start, len(result))\n",
      "/Users/matias/miniconda3/envs/gen-methods/lib/python3.7/site-packages/sklearn/metrics/_classification.py:1272: UndefinedMetricWarning: Precision and F-score are ill-defined and being set to 0.0 in labels with no predicted samples. Use `zero_division` parameter to control this behavior.\n",
      "  _warn_prf(average, modifier, msg_start, len(result))\n",
      "/Users/matias/miniconda3/envs/gen-methods/lib/python3.7/site-packages/sklearn/metrics/_classification.py:1272: UndefinedMetricWarning: Precision and F-score are ill-defined and being set to 0.0 in labels with no predicted samples. Use `zero_division` parameter to control this behavior.\n",
      "  _warn_prf(average, modifier, msg_start, len(result))\n",
      "/Users/matias/miniconda3/envs/gen-methods/lib/python3.7/site-packages/sklearn/metrics/_classification.py:1272: UndefinedMetricWarning: Precision and F-score are ill-defined and being set to 0.0 in labels with no predicted samples. Use `zero_division` parameter to control this behavior.\n",
      "  _warn_prf(average, modifier, msg_start, len(result))\n",
      "/Users/matias/miniconda3/envs/gen-methods/lib/python3.7/site-packages/sklearn/metrics/_classification.py:1272: UndefinedMetricWarning: Recall and F-score are ill-defined and being set to 0.0 in labels with no true samples. Use `zero_division` parameter to control this behavior.\n",
      "  _warn_prf(average, modifier, msg_start, len(result))\n",
      "/Users/matias/miniconda3/envs/gen-methods/lib/python3.7/site-packages/sklearn/metrics/_classification.py:1272: UndefinedMetricWarning: Recall and F-score are ill-defined and being set to 0.0 in labels with no true samples. Use `zero_division` parameter to control this behavior.\n",
      "  _warn_prf(average, modifier, msg_start, len(result))\n",
      "/Users/matias/miniconda3/envs/gen-methods/lib/python3.7/site-packages/sklearn/metrics/_classification.py:1272: UndefinedMetricWarning: Precision and F-score are ill-defined and being set to 0.0 in labels with no predicted samples. Use `zero_division` parameter to control this behavior.\n",
      "  _warn_prf(average, modifier, msg_start, len(result))\n",
      "/Users/matias/miniconda3/envs/gen-methods/lib/python3.7/site-packages/sklearn/metrics/_classification.py:1272: UndefinedMetricWarning: Recall and F-score are ill-defined and being set to 0.0 in labels with no true samples. Use `zero_division` parameter to control this behavior.\n",
      "  _warn_prf(average, modifier, msg_start, len(result))\n"
     ]
    },
    {
     "name": "stdout",
     "output_type": "stream",
     "text": [
      "End of 5 trial\n",
      "Original cresh train dataset shape Counter({10: 713, 11: 280, 9: 166})\n",
      "Resampled (SMOTE) real + synth dataset shape Counter({9: 713, 11: 713, 10: 713})\n",
      "Resampled (SMOTE) synth dataset shape Counter({9: 547, 11: 433})\n",
      "Resampled (ADASYN) train (real + synth) dataset shape Counter({10: 713, 9: 702, 11: 685})\n",
      "Resampled (ADASYN) synth dataset shape Counter({9: 536, 11: 405})\n"
     ]
    },
    {
     "name": "stderr",
     "output_type": "stream",
     "text": [
      "/Users/matias/miniconda3/envs/gen-methods/lib/python3.7/site-packages/sklearn/metrics/_classification.py:1272: UndefinedMetricWarning: Recall and F-score are ill-defined and being set to 0.0 in labels with no true samples. Use `zero_division` parameter to control this behavior.\n",
      "  _warn_prf(average, modifier, msg_start, len(result))\n",
      "/Users/matias/miniconda3/envs/gen-methods/lib/python3.7/site-packages/sklearn/metrics/_classification.py:1272: UndefinedMetricWarning: Precision and F-score are ill-defined and being set to 0.0 in labels with no predicted samples. Use `zero_division` parameter to control this behavior.\n",
      "  _warn_prf(average, modifier, msg_start, len(result))\n",
      "/Users/matias/miniconda3/envs/gen-methods/lib/python3.7/site-packages/sklearn/metrics/_classification.py:1272: UndefinedMetricWarning: Precision and F-score are ill-defined and being set to 0.0 in labels with no predicted samples. Use `zero_division` parameter to control this behavior.\n",
      "  _warn_prf(average, modifier, msg_start, len(result))\n",
      "/Users/matias/miniconda3/envs/gen-methods/lib/python3.7/site-packages/sklearn/metrics/_classification.py:1272: UndefinedMetricWarning: Precision and F-score are ill-defined and being set to 0.0 in labels with no predicted samples. Use `zero_division` parameter to control this behavior.\n",
      "  _warn_prf(average, modifier, msg_start, len(result))\n",
      "/Users/matias/miniconda3/envs/gen-methods/lib/python3.7/site-packages/sklearn/metrics/_classification.py:1272: UndefinedMetricWarning: Recall and F-score are ill-defined and being set to 0.0 in labels with no true samples. Use `zero_division` parameter to control this behavior.\n",
      "  _warn_prf(average, modifier, msg_start, len(result))\n",
      "/Users/matias/miniconda3/envs/gen-methods/lib/python3.7/site-packages/sklearn/metrics/_classification.py:1272: UndefinedMetricWarning: Recall and F-score are ill-defined and being set to 0.0 in labels with no true samples. Use `zero_division` parameter to control this behavior.\n",
      "  _warn_prf(average, modifier, msg_start, len(result))\n",
      "/Users/matias/miniconda3/envs/gen-methods/lib/python3.7/site-packages/sklearn/metrics/_classification.py:1272: UndefinedMetricWarning: Precision and F-score are ill-defined and being set to 0.0 in labels with no predicted samples. Use `zero_division` parameter to control this behavior.\n",
      "  _warn_prf(average, modifier, msg_start, len(result))\n",
      "/Users/matias/miniconda3/envs/gen-methods/lib/python3.7/site-packages/sklearn/metrics/_classification.py:1272: UndefinedMetricWarning: Recall and F-score are ill-defined and being set to 0.0 in labels with no true samples. Use `zero_division` parameter to control this behavior.\n",
      "  _warn_prf(average, modifier, msg_start, len(result))\n"
     ]
    },
    {
     "name": "stdout",
     "output_type": "stream",
     "text": [
      "End of 6 trial\n",
      "Original cresh train dataset shape Counter({10: 713, 11: 280, 9: 166})\n",
      "Resampled (SMOTE) real + synth dataset shape Counter({11: 713, 10: 713, 9: 713})\n",
      "Resampled (SMOTE) synth dataset shape Counter({9: 547, 11: 433})\n",
      "Resampled (ADASYN) train (real + synth) dataset shape Counter({10: 713, 9: 702, 11: 685})\n",
      "Resampled (ADASYN) synth dataset shape Counter({9: 536, 11: 405})\n"
     ]
    },
    {
     "name": "stderr",
     "output_type": "stream",
     "text": [
      "/Users/matias/miniconda3/envs/gen-methods/lib/python3.7/site-packages/sklearn/metrics/_classification.py:1272: UndefinedMetricWarning: Recall and F-score are ill-defined and being set to 0.0 in labels with no true samples. Use `zero_division` parameter to control this behavior.\n",
      "  _warn_prf(average, modifier, msg_start, len(result))\n",
      "/Users/matias/miniconda3/envs/gen-methods/lib/python3.7/site-packages/sklearn/metrics/_classification.py:1272: UndefinedMetricWarning: Precision and F-score are ill-defined and being set to 0.0 in labels with no predicted samples. Use `zero_division` parameter to control this behavior.\n",
      "  _warn_prf(average, modifier, msg_start, len(result))\n",
      "/Users/matias/miniconda3/envs/gen-methods/lib/python3.7/site-packages/sklearn/metrics/_classification.py:1272: UndefinedMetricWarning: Precision and F-score are ill-defined and being set to 0.0 in labels with no predicted samples. Use `zero_division` parameter to control this behavior.\n",
      "  _warn_prf(average, modifier, msg_start, len(result))\n",
      "/Users/matias/miniconda3/envs/gen-methods/lib/python3.7/site-packages/sklearn/metrics/_classification.py:1272: UndefinedMetricWarning: Precision and F-score are ill-defined and being set to 0.0 in labels with no predicted samples. Use `zero_division` parameter to control this behavior.\n",
      "  _warn_prf(average, modifier, msg_start, len(result))\n",
      "/Users/matias/miniconda3/envs/gen-methods/lib/python3.7/site-packages/sklearn/metrics/_classification.py:1272: UndefinedMetricWarning: Recall and F-score are ill-defined and being set to 0.0 in labels with no true samples. Use `zero_division` parameter to control this behavior.\n",
      "  _warn_prf(average, modifier, msg_start, len(result))\n",
      "/Users/matias/miniconda3/envs/gen-methods/lib/python3.7/site-packages/sklearn/metrics/_classification.py:1272: UndefinedMetricWarning: Recall and F-score are ill-defined and being set to 0.0 in labels with no true samples. Use `zero_division` parameter to control this behavior.\n",
      "  _warn_prf(average, modifier, msg_start, len(result))\n",
      "/Users/matias/miniconda3/envs/gen-methods/lib/python3.7/site-packages/sklearn/metrics/_classification.py:1272: UndefinedMetricWarning: Precision and F-score are ill-defined and being set to 0.0 in labels with no predicted samples. Use `zero_division` parameter to control this behavior.\n",
      "  _warn_prf(average, modifier, msg_start, len(result))\n",
      "/Users/matias/miniconda3/envs/gen-methods/lib/python3.7/site-packages/sklearn/metrics/_classification.py:1272: UndefinedMetricWarning: Recall and F-score are ill-defined and being set to 0.0 in labels with no true samples. Use `zero_division` parameter to control this behavior.\n",
      "  _warn_prf(average, modifier, msg_start, len(result))\n"
     ]
    },
    {
     "name": "stdout",
     "output_type": "stream",
     "text": [
      "End of 7 trial\n",
      "Original cresh train dataset shape Counter({10: 713, 11: 280, 9: 166})\n",
      "Resampled (SMOTE) real + synth dataset shape Counter({10: 713, 11: 713, 9: 713})\n",
      "Resampled (SMOTE) synth dataset shape Counter({9: 547, 11: 433})\n",
      "Resampled (ADASYN) train (real + synth) dataset shape Counter({10: 713, 9: 702, 11: 685})\n",
      "Resampled (ADASYN) synth dataset shape Counter({9: 536, 11: 405})\n"
     ]
    },
    {
     "name": "stderr",
     "output_type": "stream",
     "text": [
      "/Users/matias/miniconda3/envs/gen-methods/lib/python3.7/site-packages/sklearn/metrics/_classification.py:1272: UndefinedMetricWarning: Recall and F-score are ill-defined and being set to 0.0 in labels with no true samples. Use `zero_division` parameter to control this behavior.\n",
      "  _warn_prf(average, modifier, msg_start, len(result))\n",
      "/Users/matias/miniconda3/envs/gen-methods/lib/python3.7/site-packages/sklearn/metrics/_classification.py:1272: UndefinedMetricWarning: Precision and F-score are ill-defined and being set to 0.0 in labels with no predicted samples. Use `zero_division` parameter to control this behavior.\n",
      "  _warn_prf(average, modifier, msg_start, len(result))\n",
      "/Users/matias/miniconda3/envs/gen-methods/lib/python3.7/site-packages/sklearn/metrics/_classification.py:1272: UndefinedMetricWarning: Precision and F-score are ill-defined and being set to 0.0 in labels with no predicted samples. Use `zero_division` parameter to control this behavior.\n",
      "  _warn_prf(average, modifier, msg_start, len(result))\n",
      "/Users/matias/miniconda3/envs/gen-methods/lib/python3.7/site-packages/sklearn/metrics/_classification.py:1272: UndefinedMetricWarning: Precision and F-score are ill-defined and being set to 0.0 in labels with no predicted samples. Use `zero_division` parameter to control this behavior.\n",
      "  _warn_prf(average, modifier, msg_start, len(result))\n",
      "/Users/matias/miniconda3/envs/gen-methods/lib/python3.7/site-packages/sklearn/metrics/_classification.py:1272: UndefinedMetricWarning: Recall and F-score are ill-defined and being set to 0.0 in labels with no true samples. Use `zero_division` parameter to control this behavior.\n",
      "  _warn_prf(average, modifier, msg_start, len(result))\n",
      "/Users/matias/miniconda3/envs/gen-methods/lib/python3.7/site-packages/sklearn/metrics/_classification.py:1272: UndefinedMetricWarning: Recall and F-score are ill-defined and being set to 0.0 in labels with no true samples. Use `zero_division` parameter to control this behavior.\n",
      "  _warn_prf(average, modifier, msg_start, len(result))\n",
      "/Users/matias/miniconda3/envs/gen-methods/lib/python3.7/site-packages/sklearn/metrics/_classification.py:1272: UndefinedMetricWarning: Precision and F-score are ill-defined and being set to 0.0 in labels with no predicted samples. Use `zero_division` parameter to control this behavior.\n",
      "  _warn_prf(average, modifier, msg_start, len(result))\n",
      "/Users/matias/miniconda3/envs/gen-methods/lib/python3.7/site-packages/sklearn/metrics/_classification.py:1272: UndefinedMetricWarning: Recall and F-score are ill-defined and being set to 0.0 in labels with no true samples. Use `zero_division` parameter to control this behavior.\n",
      "  _warn_prf(average, modifier, msg_start, len(result))\n"
     ]
    },
    {
     "name": "stdout",
     "output_type": "stream",
     "text": [
      "End of 8 trial\n",
      "Original cresh train dataset shape Counter({10: 713, 11: 280, 9: 166})\n",
      "Resampled (SMOTE) real + synth dataset shape Counter({11: 713, 9: 713, 10: 713})\n",
      "Resampled (SMOTE) synth dataset shape Counter({9: 547, 11: 433})\n",
      "Resampled (ADASYN) train (real + synth) dataset shape Counter({10: 713, 9: 702, 11: 685})\n",
      "Resampled (ADASYN) synth dataset shape Counter({9: 536, 11: 405})\n"
     ]
    },
    {
     "name": "stderr",
     "output_type": "stream",
     "text": [
      "/Users/matias/miniconda3/envs/gen-methods/lib/python3.7/site-packages/sklearn/metrics/_classification.py:1272: UndefinedMetricWarning: Recall and F-score are ill-defined and being set to 0.0 in labels with no true samples. Use `zero_division` parameter to control this behavior.\n",
      "  _warn_prf(average, modifier, msg_start, len(result))\n",
      "/Users/matias/miniconda3/envs/gen-methods/lib/python3.7/site-packages/sklearn/metrics/_classification.py:1272: UndefinedMetricWarning: Precision and F-score are ill-defined and being set to 0.0 in labels with no predicted samples. Use `zero_division` parameter to control this behavior.\n",
      "  _warn_prf(average, modifier, msg_start, len(result))\n",
      "/Users/matias/miniconda3/envs/gen-methods/lib/python3.7/site-packages/sklearn/metrics/_classification.py:1272: UndefinedMetricWarning: Precision and F-score are ill-defined and being set to 0.0 in labels with no predicted samples. Use `zero_division` parameter to control this behavior.\n",
      "  _warn_prf(average, modifier, msg_start, len(result))\n",
      "/Users/matias/miniconda3/envs/gen-methods/lib/python3.7/site-packages/sklearn/metrics/_classification.py:1272: UndefinedMetricWarning: Precision and F-score are ill-defined and being set to 0.0 in labels with no predicted samples. Use `zero_division` parameter to control this behavior.\n",
      "  _warn_prf(average, modifier, msg_start, len(result))\n",
      "/Users/matias/miniconda3/envs/gen-methods/lib/python3.7/site-packages/sklearn/metrics/_classification.py:1272: UndefinedMetricWarning: Recall and F-score are ill-defined and being set to 0.0 in labels with no true samples. Use `zero_division` parameter to control this behavior.\n",
      "  _warn_prf(average, modifier, msg_start, len(result))\n",
      "/Users/matias/miniconda3/envs/gen-methods/lib/python3.7/site-packages/sklearn/metrics/_classification.py:1272: UndefinedMetricWarning: Recall and F-score are ill-defined and being set to 0.0 in labels with no true samples. Use `zero_division` parameter to control this behavior.\n",
      "  _warn_prf(average, modifier, msg_start, len(result))\n",
      "/Users/matias/miniconda3/envs/gen-methods/lib/python3.7/site-packages/sklearn/metrics/_classification.py:1272: UndefinedMetricWarning: Precision and F-score are ill-defined and being set to 0.0 in labels with no predicted samples. Use `zero_division` parameter to control this behavior.\n",
      "  _warn_prf(average, modifier, msg_start, len(result))\n",
      "/Users/matias/miniconda3/envs/gen-methods/lib/python3.7/site-packages/sklearn/metrics/_classification.py:1272: UndefinedMetricWarning: Recall and F-score are ill-defined and being set to 0.0 in labels with no true samples. Use `zero_division` parameter to control this behavior.\n",
      "  _warn_prf(average, modifier, msg_start, len(result))\n"
     ]
    },
    {
     "name": "stdout",
     "output_type": "stream",
     "text": [
      "End of 9 trial\n",
      "Original cresh train dataset shape Counter({10: 713, 11: 280, 9: 166})\n",
      "Resampled (SMOTE) real + synth dataset shape Counter({10: 713, 9: 713, 11: 713})\n",
      "Resampled (SMOTE) synth dataset shape Counter({9: 547, 11: 433})\n",
      "Resampled (ADASYN) train (real + synth) dataset shape Counter({10: 713, 9: 702, 11: 685})\n",
      "Resampled (ADASYN) synth dataset shape Counter({9: 536, 11: 405})\n"
     ]
    },
    {
     "name": "stderr",
     "output_type": "stream",
     "text": [
      "/Users/matias/miniconda3/envs/gen-methods/lib/python3.7/site-packages/sklearn/metrics/_classification.py:1272: UndefinedMetricWarning: Recall and F-score are ill-defined and being set to 0.0 in labels with no true samples. Use `zero_division` parameter to control this behavior.\n",
      "  _warn_prf(average, modifier, msg_start, len(result))\n",
      "/Users/matias/miniconda3/envs/gen-methods/lib/python3.7/site-packages/sklearn/metrics/_classification.py:1272: UndefinedMetricWarning: Precision and F-score are ill-defined and being set to 0.0 in labels with no predicted samples. Use `zero_division` parameter to control this behavior.\n",
      "  _warn_prf(average, modifier, msg_start, len(result))\n",
      "/Users/matias/miniconda3/envs/gen-methods/lib/python3.7/site-packages/sklearn/metrics/_classification.py:1272: UndefinedMetricWarning: Precision and F-score are ill-defined and being set to 0.0 in labels with no predicted samples. Use `zero_division` parameter to control this behavior.\n",
      "  _warn_prf(average, modifier, msg_start, len(result))\n",
      "/Users/matias/miniconda3/envs/gen-methods/lib/python3.7/site-packages/sklearn/metrics/_classification.py:1272: UndefinedMetricWarning: Precision and F-score are ill-defined and being set to 0.0 in labels with no predicted samples. Use `zero_division` parameter to control this behavior.\n",
      "  _warn_prf(average, modifier, msg_start, len(result))\n",
      "/Users/matias/miniconda3/envs/gen-methods/lib/python3.7/site-packages/sklearn/metrics/_classification.py:1272: UndefinedMetricWarning: Recall and F-score are ill-defined and being set to 0.0 in labels with no true samples. Use `zero_division` parameter to control this behavior.\n",
      "  _warn_prf(average, modifier, msg_start, len(result))\n",
      "/Users/matias/miniconda3/envs/gen-methods/lib/python3.7/site-packages/sklearn/metrics/_classification.py:1272: UndefinedMetricWarning: Recall and F-score are ill-defined and being set to 0.0 in labels with no true samples. Use `zero_division` parameter to control this behavior.\n",
      "  _warn_prf(average, modifier, msg_start, len(result))\n"
     ]
    },
    {
     "name": "stdout",
     "output_type": "stream",
     "text": [
      "End of 10 trial\n",
      "Original cresh train dataset shape Counter({10: 713, 11: 280, 9: 166})\n",
      "Resampled (SMOTE) real + synth dataset shape Counter({11: 713, 9: 713, 10: 713})\n",
      "Resampled (SMOTE) synth dataset shape Counter({9: 547, 11: 433})\n",
      "Resampled (ADASYN) train (real + synth) dataset shape Counter({10: 713, 9: 702, 11: 685})\n",
      "Resampled (ADASYN) synth dataset shape Counter({9: 536, 11: 405})\n"
     ]
    },
    {
     "name": "stderr",
     "output_type": "stream",
     "text": [
      "/Users/matias/miniconda3/envs/gen-methods/lib/python3.7/site-packages/sklearn/metrics/_classification.py:1272: UndefinedMetricWarning: Precision and F-score are ill-defined and being set to 0.0 in labels with no predicted samples. Use `zero_division` parameter to control this behavior.\n",
      "  _warn_prf(average, modifier, msg_start, len(result))\n",
      "/Users/matias/miniconda3/envs/gen-methods/lib/python3.7/site-packages/sklearn/metrics/_classification.py:1272: UndefinedMetricWarning: Recall and F-score are ill-defined and being set to 0.0 in labels with no true samples. Use `zero_division` parameter to control this behavior.\n",
      "  _warn_prf(average, modifier, msg_start, len(result))\n",
      "/Users/matias/miniconda3/envs/gen-methods/lib/python3.7/site-packages/sklearn/metrics/_classification.py:1272: UndefinedMetricWarning: Recall and F-score are ill-defined and being set to 0.0 in labels with no true samples. Use `zero_division` parameter to control this behavior.\n",
      "  _warn_prf(average, modifier, msg_start, len(result))\n",
      "/Users/matias/miniconda3/envs/gen-methods/lib/python3.7/site-packages/sklearn/metrics/_classification.py:1272: UndefinedMetricWarning: Precision and F-score are ill-defined and being set to 0.0 in labels with no predicted samples. Use `zero_division` parameter to control this behavior.\n",
      "  _warn_prf(average, modifier, msg_start, len(result))\n",
      "/Users/matias/miniconda3/envs/gen-methods/lib/python3.7/site-packages/sklearn/metrics/_classification.py:1272: UndefinedMetricWarning: Precision and F-score are ill-defined and being set to 0.0 in labels with no predicted samples. Use `zero_division` parameter to control this behavior.\n",
      "  _warn_prf(average, modifier, msg_start, len(result))\n",
      "/Users/matias/miniconda3/envs/gen-methods/lib/python3.7/site-packages/sklearn/metrics/_classification.py:1272: UndefinedMetricWarning: Precision and F-score are ill-defined and being set to 0.0 in labels with no predicted samples. Use `zero_division` parameter to control this behavior.\n",
      "  _warn_prf(average, modifier, msg_start, len(result))\n",
      "/Users/matias/miniconda3/envs/gen-methods/lib/python3.7/site-packages/sklearn/metrics/_classification.py:1272: UndefinedMetricWarning: Recall and F-score are ill-defined and being set to 0.0 in labels with no true samples. Use `zero_division` parameter to control this behavior.\n",
      "  _warn_prf(average, modifier, msg_start, len(result))\n",
      "/Users/matias/miniconda3/envs/gen-methods/lib/python3.7/site-packages/sklearn/metrics/_classification.py:1272: UndefinedMetricWarning: Recall and F-score are ill-defined and being set to 0.0 in labels with no true samples. Use `zero_division` parameter to control this behavior.\n",
      "  _warn_prf(average, modifier, msg_start, len(result))\n",
      "/Users/matias/miniconda3/envs/gen-methods/lib/python3.7/site-packages/sklearn/metrics/_classification.py:1272: UndefinedMetricWarning: Precision and F-score are ill-defined and being set to 0.0 in labels with no predicted samples. Use `zero_division` parameter to control this behavior.\n",
      "  _warn_prf(average, modifier, msg_start, len(result))\n",
      "/Users/matias/miniconda3/envs/gen-methods/lib/python3.7/site-packages/sklearn/metrics/_classification.py:1272: UndefinedMetricWarning: Recall and F-score are ill-defined and being set to 0.0 in labels with no true samples. Use `zero_division` parameter to control this behavior.\n",
      "  _warn_prf(average, modifier, msg_start, len(result))\n"
     ]
    },
    {
     "name": "stdout",
     "output_type": "stream",
     "text": [
      "End of 11 trial\n",
      "Original cresh train dataset shape Counter({10: 713, 11: 280, 9: 166})\n",
      "Resampled (SMOTE) real + synth dataset shape Counter({11: 713, 9: 713, 10: 713})\n",
      "Resampled (SMOTE) synth dataset shape Counter({9: 547, 11: 433})\n",
      "Resampled (ADASYN) train (real + synth) dataset shape Counter({10: 713, 9: 702, 11: 685})\n",
      "Resampled (ADASYN) synth dataset shape Counter({9: 536, 11: 405})\n"
     ]
    },
    {
     "name": "stderr",
     "output_type": "stream",
     "text": [
      "/Users/matias/miniconda3/envs/gen-methods/lib/python3.7/site-packages/sklearn/metrics/_classification.py:1272: UndefinedMetricWarning: Recall and F-score are ill-defined and being set to 0.0 in labels with no true samples. Use `zero_division` parameter to control this behavior.\n",
      "  _warn_prf(average, modifier, msg_start, len(result))\n",
      "/Users/matias/miniconda3/envs/gen-methods/lib/python3.7/site-packages/sklearn/metrics/_classification.py:1272: UndefinedMetricWarning: Precision and F-score are ill-defined and being set to 0.0 in labels with no predicted samples. Use `zero_division` parameter to control this behavior.\n",
      "  _warn_prf(average, modifier, msg_start, len(result))\n",
      "/Users/matias/miniconda3/envs/gen-methods/lib/python3.7/site-packages/sklearn/metrics/_classification.py:1272: UndefinedMetricWarning: Precision and F-score are ill-defined and being set to 0.0 in labels with no predicted samples. Use `zero_division` parameter to control this behavior.\n",
      "  _warn_prf(average, modifier, msg_start, len(result))\n",
      "/Users/matias/miniconda3/envs/gen-methods/lib/python3.7/site-packages/sklearn/metrics/_classification.py:1272: UndefinedMetricWarning: Precision and F-score are ill-defined and being set to 0.0 in labels with no predicted samples. Use `zero_division` parameter to control this behavior.\n",
      "  _warn_prf(average, modifier, msg_start, len(result))\n",
      "/Users/matias/miniconda3/envs/gen-methods/lib/python3.7/site-packages/sklearn/metrics/_classification.py:1272: UndefinedMetricWarning: Recall and F-score are ill-defined and being set to 0.0 in labels with no true samples. Use `zero_division` parameter to control this behavior.\n",
      "  _warn_prf(average, modifier, msg_start, len(result))\n",
      "/Users/matias/miniconda3/envs/gen-methods/lib/python3.7/site-packages/sklearn/metrics/_classification.py:1272: UndefinedMetricWarning: Recall and F-score are ill-defined and being set to 0.0 in labels with no true samples. Use `zero_division` parameter to control this behavior.\n",
      "  _warn_prf(average, modifier, msg_start, len(result))\n"
     ]
    },
    {
     "name": "stdout",
     "output_type": "stream",
     "text": [
      "End of 12 trial\n",
      "Original cresh train dataset shape Counter({10: 713, 11: 280, 9: 166})\n",
      "Resampled (SMOTE) real + synth dataset shape Counter({11: 713, 9: 713, 10: 713})\n",
      "Resampled (SMOTE) synth dataset shape Counter({9: 547, 11: 433})\n",
      "Resampled (ADASYN) train (real + synth) dataset shape Counter({10: 713, 9: 702, 11: 685})\n",
      "Resampled (ADASYN) synth dataset shape Counter({9: 536, 11: 405})\n"
     ]
    },
    {
     "name": "stderr",
     "output_type": "stream",
     "text": [
      "/Users/matias/miniconda3/envs/gen-methods/lib/python3.7/site-packages/sklearn/metrics/_classification.py:1272: UndefinedMetricWarning: Precision and F-score are ill-defined and being set to 0.0 in labels with no predicted samples. Use `zero_division` parameter to control this behavior.\n",
      "  _warn_prf(average, modifier, msg_start, len(result))\n",
      "/Users/matias/miniconda3/envs/gen-methods/lib/python3.7/site-packages/sklearn/metrics/_classification.py:1272: UndefinedMetricWarning: Recall and F-score are ill-defined and being set to 0.0 in labels with no true samples. Use `zero_division` parameter to control this behavior.\n",
      "  _warn_prf(average, modifier, msg_start, len(result))\n",
      "/Users/matias/miniconda3/envs/gen-methods/lib/python3.7/site-packages/sklearn/metrics/_classification.py:1272: UndefinedMetricWarning: Recall and F-score are ill-defined and being set to 0.0 in labels with no true samples. Use `zero_division` parameter to control this behavior.\n",
      "  _warn_prf(average, modifier, msg_start, len(result))\n",
      "/Users/matias/miniconda3/envs/gen-methods/lib/python3.7/site-packages/sklearn/metrics/_classification.py:1272: UndefinedMetricWarning: Precision and F-score are ill-defined and being set to 0.0 in labels with no predicted samples. Use `zero_division` parameter to control this behavior.\n",
      "  _warn_prf(average, modifier, msg_start, len(result))\n",
      "/Users/matias/miniconda3/envs/gen-methods/lib/python3.7/site-packages/sklearn/metrics/_classification.py:1272: UndefinedMetricWarning: Precision and F-score are ill-defined and being set to 0.0 in labels with no predicted samples. Use `zero_division` parameter to control this behavior.\n",
      "  _warn_prf(average, modifier, msg_start, len(result))\n",
      "/Users/matias/miniconda3/envs/gen-methods/lib/python3.7/site-packages/sklearn/metrics/_classification.py:1272: UndefinedMetricWarning: Precision and F-score are ill-defined and being set to 0.0 in labels with no predicted samples. Use `zero_division` parameter to control this behavior.\n",
      "  _warn_prf(average, modifier, msg_start, len(result))\n",
      "/Users/matias/miniconda3/envs/gen-methods/lib/python3.7/site-packages/sklearn/metrics/_classification.py:1272: UndefinedMetricWarning: Recall and F-score are ill-defined and being set to 0.0 in labels with no true samples. Use `zero_division` parameter to control this behavior.\n",
      "  _warn_prf(average, modifier, msg_start, len(result))\n",
      "/Users/matias/miniconda3/envs/gen-methods/lib/python3.7/site-packages/sklearn/metrics/_classification.py:1272: UndefinedMetricWarning: Recall and F-score are ill-defined and being set to 0.0 in labels with no true samples. Use `zero_division` parameter to control this behavior.\n",
      "  _warn_prf(average, modifier, msg_start, len(result))\n",
      "/Users/matias/miniconda3/envs/gen-methods/lib/python3.7/site-packages/sklearn/metrics/_classification.py:1272: UndefinedMetricWarning: Precision and F-score are ill-defined and being set to 0.0 in labels with no predicted samples. Use `zero_division` parameter to control this behavior.\n",
      "  _warn_prf(average, modifier, msg_start, len(result))\n",
      "/Users/matias/miniconda3/envs/gen-methods/lib/python3.7/site-packages/sklearn/metrics/_classification.py:1272: UndefinedMetricWarning: Recall and F-score are ill-defined and being set to 0.0 in labels with no true samples. Use `zero_division` parameter to control this behavior.\n",
      "  _warn_prf(average, modifier, msg_start, len(result))\n"
     ]
    },
    {
     "name": "stdout",
     "output_type": "stream",
     "text": [
      "End of 13 trial\n",
      "Original cresh train dataset shape Counter({10: 713, 11: 280, 9: 166})\n",
      "Resampled (SMOTE) real + synth dataset shape Counter({9: 713, 10: 713, 11: 713})\n",
      "Resampled (SMOTE) synth dataset shape Counter({9: 547, 11: 433})\n",
      "Resampled (ADASYN) train (real + synth) dataset shape Counter({10: 713, 9: 702, 11: 685})\n",
      "Resampled (ADASYN) synth dataset shape Counter({9: 536, 11: 405})\n"
     ]
    },
    {
     "name": "stderr",
     "output_type": "stream",
     "text": [
      "/Users/matias/miniconda3/envs/gen-methods/lib/python3.7/site-packages/sklearn/metrics/_classification.py:1272: UndefinedMetricWarning: Recall and F-score are ill-defined and being set to 0.0 in labels with no true samples. Use `zero_division` parameter to control this behavior.\n",
      "  _warn_prf(average, modifier, msg_start, len(result))\n",
      "/Users/matias/miniconda3/envs/gen-methods/lib/python3.7/site-packages/sklearn/metrics/_classification.py:1272: UndefinedMetricWarning: Precision and F-score are ill-defined and being set to 0.0 in labels with no predicted samples. Use `zero_division` parameter to control this behavior.\n",
      "  _warn_prf(average, modifier, msg_start, len(result))\n",
      "/Users/matias/miniconda3/envs/gen-methods/lib/python3.7/site-packages/sklearn/metrics/_classification.py:1272: UndefinedMetricWarning: Precision and F-score are ill-defined and being set to 0.0 in labels with no predicted samples. Use `zero_division` parameter to control this behavior.\n",
      "  _warn_prf(average, modifier, msg_start, len(result))\n",
      "/Users/matias/miniconda3/envs/gen-methods/lib/python3.7/site-packages/sklearn/metrics/_classification.py:1272: UndefinedMetricWarning: Precision and F-score are ill-defined and being set to 0.0 in labels with no predicted samples. Use `zero_division` parameter to control this behavior.\n",
      "  _warn_prf(average, modifier, msg_start, len(result))\n",
      "/Users/matias/miniconda3/envs/gen-methods/lib/python3.7/site-packages/sklearn/metrics/_classification.py:1272: UndefinedMetricWarning: Recall and F-score are ill-defined and being set to 0.0 in labels with no true samples. Use `zero_division` parameter to control this behavior.\n",
      "  _warn_prf(average, modifier, msg_start, len(result))\n",
      "/Users/matias/miniconda3/envs/gen-methods/lib/python3.7/site-packages/sklearn/metrics/_classification.py:1272: UndefinedMetricWarning: Recall and F-score are ill-defined and being set to 0.0 in labels with no true samples. Use `zero_division` parameter to control this behavior.\n",
      "  _warn_prf(average, modifier, msg_start, len(result))\n",
      "/Users/matias/miniconda3/envs/gen-methods/lib/python3.7/site-packages/sklearn/metrics/_classification.py:1272: UndefinedMetricWarning: Precision and F-score are ill-defined and being set to 0.0 in labels with no predicted samples. Use `zero_division` parameter to control this behavior.\n",
      "  _warn_prf(average, modifier, msg_start, len(result))\n",
      "/Users/matias/miniconda3/envs/gen-methods/lib/python3.7/site-packages/sklearn/metrics/_classification.py:1272: UndefinedMetricWarning: Recall and F-score are ill-defined and being set to 0.0 in labels with no true samples. Use `zero_division` parameter to control this behavior.\n",
      "  _warn_prf(average, modifier, msg_start, len(result))\n"
     ]
    },
    {
     "name": "stdout",
     "output_type": "stream",
     "text": [
      "End of 14 trial\n",
      "Original cresh train dataset shape Counter({10: 713, 11: 280, 9: 166})\n",
      "Resampled (SMOTE) real + synth dataset shape Counter({10: 713, 11: 713, 9: 713})\n",
      "Resampled (SMOTE) synth dataset shape Counter({9: 547, 11: 433})\n",
      "Resampled (ADASYN) train (real + synth) dataset shape Counter({10: 713, 9: 702, 11: 685})\n",
      "Resampled (ADASYN) synth dataset shape Counter({9: 536, 11: 405})\n"
     ]
    },
    {
     "name": "stderr",
     "output_type": "stream",
     "text": [
      "/Users/matias/miniconda3/envs/gen-methods/lib/python3.7/site-packages/sklearn/metrics/_classification.py:1272: UndefinedMetricWarning: Recall and F-score are ill-defined and being set to 0.0 in labels with no true samples. Use `zero_division` parameter to control this behavior.\n",
      "  _warn_prf(average, modifier, msg_start, len(result))\n",
      "/Users/matias/miniconda3/envs/gen-methods/lib/python3.7/site-packages/sklearn/metrics/_classification.py:1272: UndefinedMetricWarning: Precision and F-score are ill-defined and being set to 0.0 in labels with no predicted samples. Use `zero_division` parameter to control this behavior.\n",
      "  _warn_prf(average, modifier, msg_start, len(result))\n",
      "/Users/matias/miniconda3/envs/gen-methods/lib/python3.7/site-packages/sklearn/metrics/_classification.py:1272: UndefinedMetricWarning: Precision and F-score are ill-defined and being set to 0.0 in labels with no predicted samples. Use `zero_division` parameter to control this behavior.\n",
      "  _warn_prf(average, modifier, msg_start, len(result))\n",
      "/Users/matias/miniconda3/envs/gen-methods/lib/python3.7/site-packages/sklearn/metrics/_classification.py:1272: UndefinedMetricWarning: Precision and F-score are ill-defined and being set to 0.0 in labels with no predicted samples. Use `zero_division` parameter to control this behavior.\n",
      "  _warn_prf(average, modifier, msg_start, len(result))\n",
      "/Users/matias/miniconda3/envs/gen-methods/lib/python3.7/site-packages/sklearn/metrics/_classification.py:1272: UndefinedMetricWarning: Recall and F-score are ill-defined and being set to 0.0 in labels with no true samples. Use `zero_division` parameter to control this behavior.\n",
      "  _warn_prf(average, modifier, msg_start, len(result))\n",
      "/Users/matias/miniconda3/envs/gen-methods/lib/python3.7/site-packages/sklearn/metrics/_classification.py:1272: UndefinedMetricWarning: Recall and F-score are ill-defined and being set to 0.0 in labels with no true samples. Use `zero_division` parameter to control this behavior.\n",
      "  _warn_prf(average, modifier, msg_start, len(result))\n"
     ]
    },
    {
     "name": "stdout",
     "output_type": "stream",
     "text": [
      "End of 15 trial\n",
      "Original cresh train dataset shape Counter({10: 713, 11: 280, 9: 166})\n",
      "Resampled (SMOTE) real + synth dataset shape Counter({11: 713, 9: 713, 10: 713})\n",
      "Resampled (SMOTE) synth dataset shape Counter({9: 547, 11: 433})\n",
      "Resampled (ADASYN) train (real + synth) dataset shape Counter({10: 713, 9: 702, 11: 685})\n",
      "Resampled (ADASYN) synth dataset shape Counter({9: 536, 11: 405})\n"
     ]
    },
    {
     "name": "stderr",
     "output_type": "stream",
     "text": [
      "/Users/matias/miniconda3/envs/gen-methods/lib/python3.7/site-packages/sklearn/metrics/_classification.py:1272: UndefinedMetricWarning: Precision and F-score are ill-defined and being set to 0.0 in labels with no predicted samples. Use `zero_division` parameter to control this behavior.\n",
      "  _warn_prf(average, modifier, msg_start, len(result))\n",
      "/Users/matias/miniconda3/envs/gen-methods/lib/python3.7/site-packages/sklearn/metrics/_classification.py:1272: UndefinedMetricWarning: Recall and F-score are ill-defined and being set to 0.0 in labels with no true samples. Use `zero_division` parameter to control this behavior.\n",
      "  _warn_prf(average, modifier, msg_start, len(result))\n",
      "/Users/matias/miniconda3/envs/gen-methods/lib/python3.7/site-packages/sklearn/metrics/_classification.py:1272: UndefinedMetricWarning: Recall and F-score are ill-defined and being set to 0.0 in labels with no true samples. Use `zero_division` parameter to control this behavior.\n",
      "  _warn_prf(average, modifier, msg_start, len(result))\n",
      "/Users/matias/miniconda3/envs/gen-methods/lib/python3.7/site-packages/sklearn/metrics/_classification.py:1272: UndefinedMetricWarning: Precision and F-score are ill-defined and being set to 0.0 in labels with no predicted samples. Use `zero_division` parameter to control this behavior.\n",
      "  _warn_prf(average, modifier, msg_start, len(result))\n",
      "/Users/matias/miniconda3/envs/gen-methods/lib/python3.7/site-packages/sklearn/metrics/_classification.py:1272: UndefinedMetricWarning: Precision and F-score are ill-defined and being set to 0.0 in labels with no predicted samples. Use `zero_division` parameter to control this behavior.\n",
      "  _warn_prf(average, modifier, msg_start, len(result))\n",
      "/Users/matias/miniconda3/envs/gen-methods/lib/python3.7/site-packages/sklearn/metrics/_classification.py:1272: UndefinedMetricWarning: Precision and F-score are ill-defined and being set to 0.0 in labels with no predicted samples. Use `zero_division` parameter to control this behavior.\n",
      "  _warn_prf(average, modifier, msg_start, len(result))\n",
      "/Users/matias/miniconda3/envs/gen-methods/lib/python3.7/site-packages/sklearn/metrics/_classification.py:1272: UndefinedMetricWarning: Recall and F-score are ill-defined and being set to 0.0 in labels with no true samples. Use `zero_division` parameter to control this behavior.\n",
      "  _warn_prf(average, modifier, msg_start, len(result))\n",
      "/Users/matias/miniconda3/envs/gen-methods/lib/python3.7/site-packages/sklearn/metrics/_classification.py:1272: UndefinedMetricWarning: Recall and F-score are ill-defined and being set to 0.0 in labels with no true samples. Use `zero_division` parameter to control this behavior.\n",
      "  _warn_prf(average, modifier, msg_start, len(result))\n"
     ]
    },
    {
     "name": "stdout",
     "output_type": "stream",
     "text": [
      "End of 16 trial\n",
      "Original cresh train dataset shape Counter({10: 713, 11: 280, 9: 166})\n",
      "Resampled (SMOTE) real + synth dataset shape Counter({9: 713, 10: 713, 11: 713})\n",
      "Resampled (SMOTE) synth dataset shape Counter({9: 547, 11: 433})\n",
      "Resampled (ADASYN) train (real + synth) dataset shape Counter({10: 713, 9: 702, 11: 685})\n",
      "Resampled (ADASYN) synth dataset shape Counter({9: 536, 11: 405})\n"
     ]
    },
    {
     "name": "stderr",
     "output_type": "stream",
     "text": [
      "/Users/matias/miniconda3/envs/gen-methods/lib/python3.7/site-packages/sklearn/metrics/_classification.py:1272: UndefinedMetricWarning: Precision and F-score are ill-defined and being set to 0.0 in labels with no predicted samples. Use `zero_division` parameter to control this behavior.\n",
      "  _warn_prf(average, modifier, msg_start, len(result))\n",
      "/Users/matias/miniconda3/envs/gen-methods/lib/python3.7/site-packages/sklearn/metrics/_classification.py:1272: UndefinedMetricWarning: Recall and F-score are ill-defined and being set to 0.0 in labels with no true samples. Use `zero_division` parameter to control this behavior.\n",
      "  _warn_prf(average, modifier, msg_start, len(result))\n",
      "/Users/matias/miniconda3/envs/gen-methods/lib/python3.7/site-packages/sklearn/metrics/_classification.py:1272: UndefinedMetricWarning: Recall and F-score are ill-defined and being set to 0.0 in labels with no true samples. Use `zero_division` parameter to control this behavior.\n",
      "  _warn_prf(average, modifier, msg_start, len(result))\n",
      "/Users/matias/miniconda3/envs/gen-methods/lib/python3.7/site-packages/sklearn/metrics/_classification.py:1272: UndefinedMetricWarning: Precision and F-score are ill-defined and being set to 0.0 in labels with no predicted samples. Use `zero_division` parameter to control this behavior.\n",
      "  _warn_prf(average, modifier, msg_start, len(result))\n",
      "/Users/matias/miniconda3/envs/gen-methods/lib/python3.7/site-packages/sklearn/metrics/_classification.py:1272: UndefinedMetricWarning: Precision and F-score are ill-defined and being set to 0.0 in labels with no predicted samples. Use `zero_division` parameter to control this behavior.\n",
      "  _warn_prf(average, modifier, msg_start, len(result))\n",
      "/Users/matias/miniconda3/envs/gen-methods/lib/python3.7/site-packages/sklearn/metrics/_classification.py:1272: UndefinedMetricWarning: Precision and F-score are ill-defined and being set to 0.0 in labels with no predicted samples. Use `zero_division` parameter to control this behavior.\n",
      "  _warn_prf(average, modifier, msg_start, len(result))\n",
      "/Users/matias/miniconda3/envs/gen-methods/lib/python3.7/site-packages/sklearn/metrics/_classification.py:1272: UndefinedMetricWarning: Recall and F-score are ill-defined and being set to 0.0 in labels with no true samples. Use `zero_division` parameter to control this behavior.\n",
      "  _warn_prf(average, modifier, msg_start, len(result))\n",
      "/Users/matias/miniconda3/envs/gen-methods/lib/python3.7/site-packages/sklearn/metrics/_classification.py:1272: UndefinedMetricWarning: Recall and F-score are ill-defined and being set to 0.0 in labels with no true samples. Use `zero_division` parameter to control this behavior.\n",
      "  _warn_prf(average, modifier, msg_start, len(result))\n",
      "/Users/matias/miniconda3/envs/gen-methods/lib/python3.7/site-packages/sklearn/metrics/_classification.py:1272: UndefinedMetricWarning: Precision and F-score are ill-defined and being set to 0.0 in labels with no predicted samples. Use `zero_division` parameter to control this behavior.\n",
      "  _warn_prf(average, modifier, msg_start, len(result))\n",
      "/Users/matias/miniconda3/envs/gen-methods/lib/python3.7/site-packages/sklearn/metrics/_classification.py:1272: UndefinedMetricWarning: Recall and F-score are ill-defined and being set to 0.0 in labels with no true samples. Use `zero_division` parameter to control this behavior.\n",
      "  _warn_prf(average, modifier, msg_start, len(result))\n"
     ]
    },
    {
     "name": "stdout",
     "output_type": "stream",
     "text": [
      "End of 17 trial\n",
      "Original cresh train dataset shape Counter({10: 713, 11: 280, 9: 166})\n",
      "Resampled (SMOTE) real + synth dataset shape Counter({9: 713, 10: 713, 11: 713})\n",
      "Resampled (SMOTE) synth dataset shape Counter({9: 547, 11: 433})\n",
      "Resampled (ADASYN) train (real + synth) dataset shape Counter({10: 713, 9: 702, 11: 685})\n",
      "Resampled (ADASYN) synth dataset shape Counter({9: 536, 11: 405})\n"
     ]
    },
    {
     "name": "stderr",
     "output_type": "stream",
     "text": [
      "/Users/matias/miniconda3/envs/gen-methods/lib/python3.7/site-packages/sklearn/metrics/_classification.py:1272: UndefinedMetricWarning: Recall and F-score are ill-defined and being set to 0.0 in labels with no true samples. Use `zero_division` parameter to control this behavior.\n",
      "  _warn_prf(average, modifier, msg_start, len(result))\n",
      "/Users/matias/miniconda3/envs/gen-methods/lib/python3.7/site-packages/sklearn/metrics/_classification.py:1272: UndefinedMetricWarning: Precision and F-score are ill-defined and being set to 0.0 in labels with no predicted samples. Use `zero_division` parameter to control this behavior.\n",
      "  _warn_prf(average, modifier, msg_start, len(result))\n",
      "/Users/matias/miniconda3/envs/gen-methods/lib/python3.7/site-packages/sklearn/metrics/_classification.py:1272: UndefinedMetricWarning: Precision and F-score are ill-defined and being set to 0.0 in labels with no predicted samples. Use `zero_division` parameter to control this behavior.\n",
      "  _warn_prf(average, modifier, msg_start, len(result))\n",
      "/Users/matias/miniconda3/envs/gen-methods/lib/python3.7/site-packages/sklearn/metrics/_classification.py:1272: UndefinedMetricWarning: Precision and F-score are ill-defined and being set to 0.0 in labels with no predicted samples. Use `zero_division` parameter to control this behavior.\n",
      "  _warn_prf(average, modifier, msg_start, len(result))\n",
      "/Users/matias/miniconda3/envs/gen-methods/lib/python3.7/site-packages/sklearn/metrics/_classification.py:1272: UndefinedMetricWarning: Recall and F-score are ill-defined and being set to 0.0 in labels with no true samples. Use `zero_division` parameter to control this behavior.\n",
      "  _warn_prf(average, modifier, msg_start, len(result))\n",
      "/Users/matias/miniconda3/envs/gen-methods/lib/python3.7/site-packages/sklearn/metrics/_classification.py:1272: UndefinedMetricWarning: Recall and F-score are ill-defined and being set to 0.0 in labels with no true samples. Use `zero_division` parameter to control this behavior.\n",
      "  _warn_prf(average, modifier, msg_start, len(result))\n",
      "/Users/matias/miniconda3/envs/gen-methods/lib/python3.7/site-packages/sklearn/metrics/_classification.py:1272: UndefinedMetricWarning: Precision and F-score are ill-defined and being set to 0.0 in labels with no predicted samples. Use `zero_division` parameter to control this behavior.\n",
      "  _warn_prf(average, modifier, msg_start, len(result))\n",
      "/Users/matias/miniconda3/envs/gen-methods/lib/python3.7/site-packages/sklearn/metrics/_classification.py:1272: UndefinedMetricWarning: Recall and F-score are ill-defined and being set to 0.0 in labels with no true samples. Use `zero_division` parameter to control this behavior.\n",
      "  _warn_prf(average, modifier, msg_start, len(result))\n"
     ]
    },
    {
     "name": "stdout",
     "output_type": "stream",
     "text": [
      "End of 18 trial\n",
      "Original cresh train dataset shape Counter({10: 713, 11: 280, 9: 166})\n",
      "Resampled (SMOTE) real + synth dataset shape Counter({11: 713, 10: 713, 9: 713})\n",
      "Resampled (SMOTE) synth dataset shape Counter({9: 547, 11: 433})\n",
      "Resampled (ADASYN) train (real + synth) dataset shape Counter({10: 713, 9: 702, 11: 685})\n",
      "Resampled (ADASYN) synth dataset shape Counter({9: 536, 11: 405})\n"
     ]
    },
    {
     "name": "stderr",
     "output_type": "stream",
     "text": [
      "/Users/matias/miniconda3/envs/gen-methods/lib/python3.7/site-packages/sklearn/metrics/_classification.py:1272: UndefinedMetricWarning: Recall and F-score are ill-defined and being set to 0.0 in labels with no true samples. Use `zero_division` parameter to control this behavior.\n",
      "  _warn_prf(average, modifier, msg_start, len(result))\n",
      "/Users/matias/miniconda3/envs/gen-methods/lib/python3.7/site-packages/sklearn/metrics/_classification.py:1272: UndefinedMetricWarning: Precision and F-score are ill-defined and being set to 0.0 in labels with no predicted samples. Use `zero_division` parameter to control this behavior.\n",
      "  _warn_prf(average, modifier, msg_start, len(result))\n",
      "/Users/matias/miniconda3/envs/gen-methods/lib/python3.7/site-packages/sklearn/metrics/_classification.py:1272: UndefinedMetricWarning: Precision and F-score are ill-defined and being set to 0.0 in labels with no predicted samples. Use `zero_division` parameter to control this behavior.\n",
      "  _warn_prf(average, modifier, msg_start, len(result))\n",
      "/Users/matias/miniconda3/envs/gen-methods/lib/python3.7/site-packages/sklearn/metrics/_classification.py:1272: UndefinedMetricWarning: Precision and F-score are ill-defined and being set to 0.0 in labels with no predicted samples. Use `zero_division` parameter to control this behavior.\n",
      "  _warn_prf(average, modifier, msg_start, len(result))\n",
      "/Users/matias/miniconda3/envs/gen-methods/lib/python3.7/site-packages/sklearn/metrics/_classification.py:1272: UndefinedMetricWarning: Recall and F-score are ill-defined and being set to 0.0 in labels with no true samples. Use `zero_division` parameter to control this behavior.\n",
      "  _warn_prf(average, modifier, msg_start, len(result))\n",
      "/Users/matias/miniconda3/envs/gen-methods/lib/python3.7/site-packages/sklearn/metrics/_classification.py:1272: UndefinedMetricWarning: Recall and F-score are ill-defined and being set to 0.0 in labels with no true samples. Use `zero_division` parameter to control this behavior.\n",
      "  _warn_prf(average, modifier, msg_start, len(result))\n",
      "/Users/matias/miniconda3/envs/gen-methods/lib/python3.7/site-packages/sklearn/metrics/_classification.py:1272: UndefinedMetricWarning: Precision and F-score are ill-defined and being set to 0.0 in labels with no predicted samples. Use `zero_division` parameter to control this behavior.\n",
      "  _warn_prf(average, modifier, msg_start, len(result))\n",
      "/Users/matias/miniconda3/envs/gen-methods/lib/python3.7/site-packages/sklearn/metrics/_classification.py:1272: UndefinedMetricWarning: Recall and F-score are ill-defined and being set to 0.0 in labels with no true samples. Use `zero_division` parameter to control this behavior.\n",
      "  _warn_prf(average, modifier, msg_start, len(result))\n"
     ]
    },
    {
     "name": "stdout",
     "output_type": "stream",
     "text": [
      "End of 19 trial\n",
      "Original cresh train dataset shape Counter({10: 713, 11: 280, 9: 166})\n",
      "Resampled (SMOTE) real + synth dataset shape Counter({11: 713, 9: 713, 10: 713})\n",
      "Resampled (SMOTE) synth dataset shape Counter({9: 547, 11: 433})\n",
      "Resampled (ADASYN) train (real + synth) dataset shape Counter({10: 713, 9: 702, 11: 685})\n",
      "Resampled (ADASYN) synth dataset shape Counter({9: 536, 11: 405})\n"
     ]
    },
    {
     "name": "stderr",
     "output_type": "stream",
     "text": [
      "/Users/matias/miniconda3/envs/gen-methods/lib/python3.7/site-packages/sklearn/metrics/_classification.py:1272: UndefinedMetricWarning: Recall and F-score are ill-defined and being set to 0.0 in labels with no true samples. Use `zero_division` parameter to control this behavior.\n",
      "  _warn_prf(average, modifier, msg_start, len(result))\n",
      "/Users/matias/miniconda3/envs/gen-methods/lib/python3.7/site-packages/sklearn/metrics/_classification.py:1272: UndefinedMetricWarning: Precision and F-score are ill-defined and being set to 0.0 in labels with no predicted samples. Use `zero_division` parameter to control this behavior.\n",
      "  _warn_prf(average, modifier, msg_start, len(result))\n",
      "/Users/matias/miniconda3/envs/gen-methods/lib/python3.7/site-packages/sklearn/metrics/_classification.py:1272: UndefinedMetricWarning: Precision and F-score are ill-defined and being set to 0.0 in labels with no predicted samples. Use `zero_division` parameter to control this behavior.\n",
      "  _warn_prf(average, modifier, msg_start, len(result))\n",
      "/Users/matias/miniconda3/envs/gen-methods/lib/python3.7/site-packages/sklearn/metrics/_classification.py:1272: UndefinedMetricWarning: Precision and F-score are ill-defined and being set to 0.0 in labels with no predicted samples. Use `zero_division` parameter to control this behavior.\n",
      "  _warn_prf(average, modifier, msg_start, len(result))\n",
      "/Users/matias/miniconda3/envs/gen-methods/lib/python3.7/site-packages/sklearn/metrics/_classification.py:1272: UndefinedMetricWarning: Recall and F-score are ill-defined and being set to 0.0 in labels with no true samples. Use `zero_division` parameter to control this behavior.\n",
      "  _warn_prf(average, modifier, msg_start, len(result))\n",
      "/Users/matias/miniconda3/envs/gen-methods/lib/python3.7/site-packages/sklearn/metrics/_classification.py:1272: UndefinedMetricWarning: Recall and F-score are ill-defined and being set to 0.0 in labels with no true samples. Use `zero_division` parameter to control this behavior.\n",
      "  _warn_prf(average, modifier, msg_start, len(result))\n",
      "/Users/matias/miniconda3/envs/gen-methods/lib/python3.7/site-packages/sklearn/metrics/_classification.py:1272: UndefinedMetricWarning: Precision and F-score are ill-defined and being set to 0.0 in labels with no predicted samples. Use `zero_division` parameter to control this behavior.\n",
      "  _warn_prf(average, modifier, msg_start, len(result))\n",
      "/Users/matias/miniconda3/envs/gen-methods/lib/python3.7/site-packages/sklearn/metrics/_classification.py:1272: UndefinedMetricWarning: Recall and F-score are ill-defined and being set to 0.0 in labels with no true samples. Use `zero_division` parameter to control this behavior.\n",
      "  _warn_prf(average, modifier, msg_start, len(result))\n"
     ]
    },
    {
     "name": "stdout",
     "output_type": "stream",
     "text": [
      "End of 20 trial\n",
      "Original cresh train dataset shape Counter({10: 713, 11: 280, 9: 166})\n",
      "Resampled (SMOTE) real + synth dataset shape Counter({11: 713, 9: 713, 10: 713})\n",
      "Resampled (SMOTE) synth dataset shape Counter({9: 547, 11: 433})\n",
      "Resampled (ADASYN) train (real + synth) dataset shape Counter({10: 713, 9: 702, 11: 685})\n",
      "Resampled (ADASYN) synth dataset shape Counter({9: 536, 11: 405})\n"
     ]
    },
    {
     "name": "stderr",
     "output_type": "stream",
     "text": [
      "/Users/matias/miniconda3/envs/gen-methods/lib/python3.7/site-packages/sklearn/metrics/_classification.py:1272: UndefinedMetricWarning: Recall and F-score are ill-defined and being set to 0.0 in labels with no true samples. Use `zero_division` parameter to control this behavior.\n",
      "  _warn_prf(average, modifier, msg_start, len(result))\n",
      "/Users/matias/miniconda3/envs/gen-methods/lib/python3.7/site-packages/sklearn/metrics/_classification.py:1272: UndefinedMetricWarning: Precision and F-score are ill-defined and being set to 0.0 in labels with no predicted samples. Use `zero_division` parameter to control this behavior.\n",
      "  _warn_prf(average, modifier, msg_start, len(result))\n",
      "/Users/matias/miniconda3/envs/gen-methods/lib/python3.7/site-packages/sklearn/metrics/_classification.py:1272: UndefinedMetricWarning: Precision and F-score are ill-defined and being set to 0.0 in labels with no predicted samples. Use `zero_division` parameter to control this behavior.\n",
      "  _warn_prf(average, modifier, msg_start, len(result))\n",
      "/Users/matias/miniconda3/envs/gen-methods/lib/python3.7/site-packages/sklearn/metrics/_classification.py:1272: UndefinedMetricWarning: Precision and F-score are ill-defined and being set to 0.0 in labels with no predicted samples. Use `zero_division` parameter to control this behavior.\n",
      "  _warn_prf(average, modifier, msg_start, len(result))\n",
      "/Users/matias/miniconda3/envs/gen-methods/lib/python3.7/site-packages/sklearn/metrics/_classification.py:1272: UndefinedMetricWarning: Recall and F-score are ill-defined and being set to 0.0 in labels with no true samples. Use `zero_division` parameter to control this behavior.\n",
      "  _warn_prf(average, modifier, msg_start, len(result))\n",
      "/Users/matias/miniconda3/envs/gen-methods/lib/python3.7/site-packages/sklearn/metrics/_classification.py:1272: UndefinedMetricWarning: Recall and F-score are ill-defined and being set to 0.0 in labels with no true samples. Use `zero_division` parameter to control this behavior.\n",
      "  _warn_prf(average, modifier, msg_start, len(result))\n",
      "/Users/matias/miniconda3/envs/gen-methods/lib/python3.7/site-packages/sklearn/metrics/_classification.py:1272: UndefinedMetricWarning: Precision and F-score are ill-defined and being set to 0.0 in labels with no predicted samples. Use `zero_division` parameter to control this behavior.\n",
      "  _warn_prf(average, modifier, msg_start, len(result))\n",
      "/Users/matias/miniconda3/envs/gen-methods/lib/python3.7/site-packages/sklearn/metrics/_classification.py:1272: UndefinedMetricWarning: Recall and F-score are ill-defined and being set to 0.0 in labels with no true samples. Use `zero_division` parameter to control this behavior.\n",
      "  _warn_prf(average, modifier, msg_start, len(result))\n"
     ]
    },
    {
     "name": "stdout",
     "output_type": "stream",
     "text": [
      "End of 21 trial\n",
      "Original cresh train dataset shape Counter({10: 713, 11: 280, 9: 166})\n",
      "Resampled (SMOTE) real + synth dataset shape Counter({9: 713, 10: 713, 11: 713})\n",
      "Resampled (SMOTE) synth dataset shape Counter({9: 547, 11: 433})\n",
      "Resampled (ADASYN) train (real + synth) dataset shape Counter({10: 713, 9: 702, 11: 685})\n",
      "Resampled (ADASYN) synth dataset shape Counter({9: 536, 11: 405})\n"
     ]
    },
    {
     "name": "stderr",
     "output_type": "stream",
     "text": [
      "/Users/matias/miniconda3/envs/gen-methods/lib/python3.7/site-packages/sklearn/metrics/_classification.py:1272: UndefinedMetricWarning: Recall and F-score are ill-defined and being set to 0.0 in labels with no true samples. Use `zero_division` parameter to control this behavior.\n",
      "  _warn_prf(average, modifier, msg_start, len(result))\n",
      "/Users/matias/miniconda3/envs/gen-methods/lib/python3.7/site-packages/sklearn/metrics/_classification.py:1272: UndefinedMetricWarning: Precision and F-score are ill-defined and being set to 0.0 in labels with no predicted samples. Use `zero_division` parameter to control this behavior.\n",
      "  _warn_prf(average, modifier, msg_start, len(result))\n",
      "/Users/matias/miniconda3/envs/gen-methods/lib/python3.7/site-packages/sklearn/metrics/_classification.py:1272: UndefinedMetricWarning: Precision and F-score are ill-defined and being set to 0.0 in labels with no predicted samples. Use `zero_division` parameter to control this behavior.\n",
      "  _warn_prf(average, modifier, msg_start, len(result))\n",
      "/Users/matias/miniconda3/envs/gen-methods/lib/python3.7/site-packages/sklearn/metrics/_classification.py:1272: UndefinedMetricWarning: Precision and F-score are ill-defined and being set to 0.0 in labels with no predicted samples. Use `zero_division` parameter to control this behavior.\n",
      "  _warn_prf(average, modifier, msg_start, len(result))\n",
      "/Users/matias/miniconda3/envs/gen-methods/lib/python3.7/site-packages/sklearn/metrics/_classification.py:1272: UndefinedMetricWarning: Recall and F-score are ill-defined and being set to 0.0 in labels with no true samples. Use `zero_division` parameter to control this behavior.\n",
      "  _warn_prf(average, modifier, msg_start, len(result))\n",
      "/Users/matias/miniconda3/envs/gen-methods/lib/python3.7/site-packages/sklearn/metrics/_classification.py:1272: UndefinedMetricWarning: Recall and F-score are ill-defined and being set to 0.0 in labels with no true samples. Use `zero_division` parameter to control this behavior.\n",
      "  _warn_prf(average, modifier, msg_start, len(result))\n"
     ]
    },
    {
     "name": "stdout",
     "output_type": "stream",
     "text": [
      "End of 22 trial\n",
      "Original cresh train dataset shape Counter({10: 713, 11: 280, 9: 166})\n",
      "Resampled (SMOTE) real + synth dataset shape Counter({11: 713, 10: 713, 9: 713})\n",
      "Resampled (SMOTE) synth dataset shape Counter({9: 547, 11: 433})\n",
      "Resampled (ADASYN) train (real + synth) dataset shape Counter({10: 713, 9: 702, 11: 685})\n",
      "Resampled (ADASYN) synth dataset shape Counter({9: 536, 11: 405})\n"
     ]
    },
    {
     "name": "stderr",
     "output_type": "stream",
     "text": [
      "/Users/matias/miniconda3/envs/gen-methods/lib/python3.7/site-packages/sklearn/metrics/_classification.py:1272: UndefinedMetricWarning: Precision and F-score are ill-defined and being set to 0.0 in labels with no predicted samples. Use `zero_division` parameter to control this behavior.\n",
      "  _warn_prf(average, modifier, msg_start, len(result))\n",
      "/Users/matias/miniconda3/envs/gen-methods/lib/python3.7/site-packages/sklearn/metrics/_classification.py:1272: UndefinedMetricWarning: Recall and F-score are ill-defined and being set to 0.0 in labels with no true samples. Use `zero_division` parameter to control this behavior.\n",
      "  _warn_prf(average, modifier, msg_start, len(result))\n",
      "/Users/matias/miniconda3/envs/gen-methods/lib/python3.7/site-packages/sklearn/metrics/_classification.py:1272: UndefinedMetricWarning: Recall and F-score are ill-defined and being set to 0.0 in labels with no true samples. Use `zero_division` parameter to control this behavior.\n",
      "  _warn_prf(average, modifier, msg_start, len(result))\n",
      "/Users/matias/miniconda3/envs/gen-methods/lib/python3.7/site-packages/sklearn/metrics/_classification.py:1272: UndefinedMetricWarning: Precision and F-score are ill-defined and being set to 0.0 in labels with no predicted samples. Use `zero_division` parameter to control this behavior.\n",
      "  _warn_prf(average, modifier, msg_start, len(result))\n",
      "/Users/matias/miniconda3/envs/gen-methods/lib/python3.7/site-packages/sklearn/metrics/_classification.py:1272: UndefinedMetricWarning: Precision and F-score are ill-defined and being set to 0.0 in labels with no predicted samples. Use `zero_division` parameter to control this behavior.\n",
      "  _warn_prf(average, modifier, msg_start, len(result))\n",
      "/Users/matias/miniconda3/envs/gen-methods/lib/python3.7/site-packages/sklearn/metrics/_classification.py:1272: UndefinedMetricWarning: Precision and F-score are ill-defined and being set to 0.0 in labels with no predicted samples. Use `zero_division` parameter to control this behavior.\n",
      "  _warn_prf(average, modifier, msg_start, len(result))\n",
      "/Users/matias/miniconda3/envs/gen-methods/lib/python3.7/site-packages/sklearn/metrics/_classification.py:1272: UndefinedMetricWarning: Recall and F-score are ill-defined and being set to 0.0 in labels with no true samples. Use `zero_division` parameter to control this behavior.\n",
      "  _warn_prf(average, modifier, msg_start, len(result))\n",
      "/Users/matias/miniconda3/envs/gen-methods/lib/python3.7/site-packages/sklearn/metrics/_classification.py:1272: UndefinedMetricWarning: Recall and F-score are ill-defined and being set to 0.0 in labels with no true samples. Use `zero_division` parameter to control this behavior.\n",
      "  _warn_prf(average, modifier, msg_start, len(result))\n"
     ]
    },
    {
     "name": "stdout",
     "output_type": "stream",
     "text": [
      "End of 23 trial\n",
      "Original cresh train dataset shape Counter({10: 713, 11: 280, 9: 166})\n",
      "Resampled (SMOTE) real + synth dataset shape Counter({11: 713, 9: 713, 10: 713})\n",
      "Resampled (SMOTE) synth dataset shape Counter({9: 547, 11: 433})\n",
      "Resampled (ADASYN) train (real + synth) dataset shape Counter({10: 713, 9: 702, 11: 685})\n",
      "Resampled (ADASYN) synth dataset shape Counter({9: 536, 11: 405})\n"
     ]
    },
    {
     "name": "stderr",
     "output_type": "stream",
     "text": [
      "/Users/matias/miniconda3/envs/gen-methods/lib/python3.7/site-packages/sklearn/metrics/_classification.py:1272: UndefinedMetricWarning: Precision and F-score are ill-defined and being set to 0.0 in labels with no predicted samples. Use `zero_division` parameter to control this behavior.\n",
      "  _warn_prf(average, modifier, msg_start, len(result))\n",
      "/Users/matias/miniconda3/envs/gen-methods/lib/python3.7/site-packages/sklearn/metrics/_classification.py:1272: UndefinedMetricWarning: Recall and F-score are ill-defined and being set to 0.0 in labels with no true samples. Use `zero_division` parameter to control this behavior.\n",
      "  _warn_prf(average, modifier, msg_start, len(result))\n",
      "/Users/matias/miniconda3/envs/gen-methods/lib/python3.7/site-packages/sklearn/metrics/_classification.py:1272: UndefinedMetricWarning: Recall and F-score are ill-defined and being set to 0.0 in labels with no true samples. Use `zero_division` parameter to control this behavior.\n",
      "  _warn_prf(average, modifier, msg_start, len(result))\n",
      "/Users/matias/miniconda3/envs/gen-methods/lib/python3.7/site-packages/sklearn/metrics/_classification.py:1272: UndefinedMetricWarning: Precision and F-score are ill-defined and being set to 0.0 in labels with no predicted samples. Use `zero_division` parameter to control this behavior.\n",
      "  _warn_prf(average, modifier, msg_start, len(result))\n",
      "/Users/matias/miniconda3/envs/gen-methods/lib/python3.7/site-packages/sklearn/metrics/_classification.py:1272: UndefinedMetricWarning: Precision and F-score are ill-defined and being set to 0.0 in labels with no predicted samples. Use `zero_division` parameter to control this behavior.\n",
      "  _warn_prf(average, modifier, msg_start, len(result))\n",
      "/Users/matias/miniconda3/envs/gen-methods/lib/python3.7/site-packages/sklearn/metrics/_classification.py:1272: UndefinedMetricWarning: Precision and F-score are ill-defined and being set to 0.0 in labels with no predicted samples. Use `zero_division` parameter to control this behavior.\n",
      "  _warn_prf(average, modifier, msg_start, len(result))\n",
      "/Users/matias/miniconda3/envs/gen-methods/lib/python3.7/site-packages/sklearn/metrics/_classification.py:1272: UndefinedMetricWarning: Recall and F-score are ill-defined and being set to 0.0 in labels with no true samples. Use `zero_division` parameter to control this behavior.\n",
      "  _warn_prf(average, modifier, msg_start, len(result))\n",
      "/Users/matias/miniconda3/envs/gen-methods/lib/python3.7/site-packages/sklearn/metrics/_classification.py:1272: UndefinedMetricWarning: Recall and F-score are ill-defined and being set to 0.0 in labels with no true samples. Use `zero_division` parameter to control this behavior.\n",
      "  _warn_prf(average, modifier, msg_start, len(result))\n",
      "/Users/matias/miniconda3/envs/gen-methods/lib/python3.7/site-packages/sklearn/metrics/_classification.py:1272: UndefinedMetricWarning: Precision and F-score are ill-defined and being set to 0.0 in labels with no predicted samples. Use `zero_division` parameter to control this behavior.\n",
      "  _warn_prf(average, modifier, msg_start, len(result))\n",
      "/Users/matias/miniconda3/envs/gen-methods/lib/python3.7/site-packages/sklearn/metrics/_classification.py:1272: UndefinedMetricWarning: Recall and F-score are ill-defined and being set to 0.0 in labels with no true samples. Use `zero_division` parameter to control this behavior.\n",
      "  _warn_prf(average, modifier, msg_start, len(result))\n"
     ]
    },
    {
     "name": "stdout",
     "output_type": "stream",
     "text": [
      "End of 24 trial\n",
      "Original cresh train dataset shape Counter({10: 713, 11: 280, 9: 166})\n",
      "Resampled (SMOTE) real + synth dataset shape Counter({9: 713, 11: 713, 10: 713})\n",
      "Resampled (SMOTE) synth dataset shape Counter({9: 547, 11: 433})\n",
      "Resampled (ADASYN) train (real + synth) dataset shape Counter({10: 713, 9: 702, 11: 685})\n",
      "Resampled (ADASYN) synth dataset shape Counter({9: 536, 11: 405})\n"
     ]
    },
    {
     "name": "stderr",
     "output_type": "stream",
     "text": [
      "/Users/matias/miniconda3/envs/gen-methods/lib/python3.7/site-packages/sklearn/metrics/_classification.py:1272: UndefinedMetricWarning: Recall and F-score are ill-defined and being set to 0.0 in labels with no true samples. Use `zero_division` parameter to control this behavior.\n",
      "  _warn_prf(average, modifier, msg_start, len(result))\n",
      "/Users/matias/miniconda3/envs/gen-methods/lib/python3.7/site-packages/sklearn/metrics/_classification.py:1272: UndefinedMetricWarning: Precision and F-score are ill-defined and being set to 0.0 in labels with no predicted samples. Use `zero_division` parameter to control this behavior.\n",
      "  _warn_prf(average, modifier, msg_start, len(result))\n",
      "/Users/matias/miniconda3/envs/gen-methods/lib/python3.7/site-packages/sklearn/metrics/_classification.py:1272: UndefinedMetricWarning: Precision and F-score are ill-defined and being set to 0.0 in labels with no predicted samples. Use `zero_division` parameter to control this behavior.\n",
      "  _warn_prf(average, modifier, msg_start, len(result))\n",
      "/Users/matias/miniconda3/envs/gen-methods/lib/python3.7/site-packages/sklearn/metrics/_classification.py:1272: UndefinedMetricWarning: Precision and F-score are ill-defined and being set to 0.0 in labels with no predicted samples. Use `zero_division` parameter to control this behavior.\n",
      "  _warn_prf(average, modifier, msg_start, len(result))\n",
      "/Users/matias/miniconda3/envs/gen-methods/lib/python3.7/site-packages/sklearn/metrics/_classification.py:1272: UndefinedMetricWarning: Recall and F-score are ill-defined and being set to 0.0 in labels with no true samples. Use `zero_division` parameter to control this behavior.\n",
      "  _warn_prf(average, modifier, msg_start, len(result))\n",
      "/Users/matias/miniconda3/envs/gen-methods/lib/python3.7/site-packages/sklearn/metrics/_classification.py:1272: UndefinedMetricWarning: Recall and F-score are ill-defined and being set to 0.0 in labels with no true samples. Use `zero_division` parameter to control this behavior.\n",
      "  _warn_prf(average, modifier, msg_start, len(result))\n",
      "/Users/matias/miniconda3/envs/gen-methods/lib/python3.7/site-packages/sklearn/metrics/_classification.py:1272: UndefinedMetricWarning: Precision and F-score are ill-defined and being set to 0.0 in labels with no predicted samples. Use `zero_division` parameter to control this behavior.\n",
      "  _warn_prf(average, modifier, msg_start, len(result))\n",
      "/Users/matias/miniconda3/envs/gen-methods/lib/python3.7/site-packages/sklearn/metrics/_classification.py:1272: UndefinedMetricWarning: Recall and F-score are ill-defined and being set to 0.0 in labels with no true samples. Use `zero_division` parameter to control this behavior.\n",
      "  _warn_prf(average, modifier, msg_start, len(result))\n"
     ]
    },
    {
     "name": "stdout",
     "output_type": "stream",
     "text": [
      "End of 25 trial\n",
      "Original cresh train dataset shape Counter({10: 713, 11: 280, 9: 166})\n",
      "Resampled (SMOTE) real + synth dataset shape Counter({10: 713, 11: 713, 9: 713})\n",
      "Resampled (SMOTE) synth dataset shape Counter({9: 547, 11: 433})\n",
      "Resampled (ADASYN) train (real + synth) dataset shape Counter({10: 713, 9: 702, 11: 685})\n",
      "Resampled (ADASYN) synth dataset shape Counter({9: 536, 11: 405})\n"
     ]
    },
    {
     "name": "stderr",
     "output_type": "stream",
     "text": [
      "/Users/matias/miniconda3/envs/gen-methods/lib/python3.7/site-packages/sklearn/metrics/_classification.py:1272: UndefinedMetricWarning: Recall and F-score are ill-defined and being set to 0.0 in labels with no true samples. Use `zero_division` parameter to control this behavior.\n",
      "  _warn_prf(average, modifier, msg_start, len(result))\n",
      "/Users/matias/miniconda3/envs/gen-methods/lib/python3.7/site-packages/sklearn/metrics/_classification.py:1272: UndefinedMetricWarning: Precision and F-score are ill-defined and being set to 0.0 in labels with no predicted samples. Use `zero_division` parameter to control this behavior.\n",
      "  _warn_prf(average, modifier, msg_start, len(result))\n",
      "/Users/matias/miniconda3/envs/gen-methods/lib/python3.7/site-packages/sklearn/metrics/_classification.py:1272: UndefinedMetricWarning: Precision and F-score are ill-defined and being set to 0.0 in labels with no predicted samples. Use `zero_division` parameter to control this behavior.\n",
      "  _warn_prf(average, modifier, msg_start, len(result))\n",
      "/Users/matias/miniconda3/envs/gen-methods/lib/python3.7/site-packages/sklearn/metrics/_classification.py:1272: UndefinedMetricWarning: Precision and F-score are ill-defined and being set to 0.0 in labels with no predicted samples. Use `zero_division` parameter to control this behavior.\n",
      "  _warn_prf(average, modifier, msg_start, len(result))\n",
      "/Users/matias/miniconda3/envs/gen-methods/lib/python3.7/site-packages/sklearn/metrics/_classification.py:1272: UndefinedMetricWarning: Recall and F-score are ill-defined and being set to 0.0 in labels with no true samples. Use `zero_division` parameter to control this behavior.\n",
      "  _warn_prf(average, modifier, msg_start, len(result))\n",
      "/Users/matias/miniconda3/envs/gen-methods/lib/python3.7/site-packages/sklearn/metrics/_classification.py:1272: UndefinedMetricWarning: Recall and F-score are ill-defined and being set to 0.0 in labels with no true samples. Use `zero_division` parameter to control this behavior.\n",
      "  _warn_prf(average, modifier, msg_start, len(result))\n",
      "/Users/matias/miniconda3/envs/gen-methods/lib/python3.7/site-packages/sklearn/metrics/_classification.py:1272: UndefinedMetricWarning: Precision and F-score are ill-defined and being set to 0.0 in labels with no predicted samples. Use `zero_division` parameter to control this behavior.\n",
      "  _warn_prf(average, modifier, msg_start, len(result))\n",
      "/Users/matias/miniconda3/envs/gen-methods/lib/python3.7/site-packages/sklearn/metrics/_classification.py:1272: UndefinedMetricWarning: Recall and F-score are ill-defined and being set to 0.0 in labels with no true samples. Use `zero_division` parameter to control this behavior.\n",
      "  _warn_prf(average, modifier, msg_start, len(result))\n"
     ]
    },
    {
     "name": "stdout",
     "output_type": "stream",
     "text": [
      "End of 26 trial\n",
      "Original cresh train dataset shape Counter({10: 713, 11: 280, 9: 166})\n",
      "Resampled (SMOTE) real + synth dataset shape Counter({9: 713, 11: 713, 10: 713})\n",
      "Resampled (SMOTE) synth dataset shape Counter({9: 547, 11: 433})\n",
      "Resampled (ADASYN) train (real + synth) dataset shape Counter({10: 713, 9: 702, 11: 685})\n",
      "Resampled (ADASYN) synth dataset shape Counter({9: 536, 11: 405})\n"
     ]
    },
    {
     "name": "stderr",
     "output_type": "stream",
     "text": [
      "/Users/matias/miniconda3/envs/gen-methods/lib/python3.7/site-packages/sklearn/metrics/_classification.py:1272: UndefinedMetricWarning: Recall and F-score are ill-defined and being set to 0.0 in labels with no true samples. Use `zero_division` parameter to control this behavior.\n",
      "  _warn_prf(average, modifier, msg_start, len(result))\n",
      "/Users/matias/miniconda3/envs/gen-methods/lib/python3.7/site-packages/sklearn/metrics/_classification.py:1272: UndefinedMetricWarning: Precision and F-score are ill-defined and being set to 0.0 in labels with no predicted samples. Use `zero_division` parameter to control this behavior.\n",
      "  _warn_prf(average, modifier, msg_start, len(result))\n",
      "/Users/matias/miniconda3/envs/gen-methods/lib/python3.7/site-packages/sklearn/metrics/_classification.py:1272: UndefinedMetricWarning: Precision and F-score are ill-defined and being set to 0.0 in labels with no predicted samples. Use `zero_division` parameter to control this behavior.\n",
      "  _warn_prf(average, modifier, msg_start, len(result))\n",
      "/Users/matias/miniconda3/envs/gen-methods/lib/python3.7/site-packages/sklearn/metrics/_classification.py:1272: UndefinedMetricWarning: Precision and F-score are ill-defined and being set to 0.0 in labels with no predicted samples. Use `zero_division` parameter to control this behavior.\n",
      "  _warn_prf(average, modifier, msg_start, len(result))\n",
      "/Users/matias/miniconda3/envs/gen-methods/lib/python3.7/site-packages/sklearn/metrics/_classification.py:1272: UndefinedMetricWarning: Recall and F-score are ill-defined and being set to 0.0 in labels with no true samples. Use `zero_division` parameter to control this behavior.\n",
      "  _warn_prf(average, modifier, msg_start, len(result))\n",
      "/Users/matias/miniconda3/envs/gen-methods/lib/python3.7/site-packages/sklearn/metrics/_classification.py:1272: UndefinedMetricWarning: Recall and F-score are ill-defined and being set to 0.0 in labels with no true samples. Use `zero_division` parameter to control this behavior.\n",
      "  _warn_prf(average, modifier, msg_start, len(result))\n"
     ]
    },
    {
     "name": "stdout",
     "output_type": "stream",
     "text": [
      "End of 27 trial\n",
      "Original cresh train dataset shape Counter({10: 713, 11: 280, 9: 166})\n",
      "Resampled (SMOTE) real + synth dataset shape Counter({10: 713, 11: 713, 9: 713})\n",
      "Resampled (SMOTE) synth dataset shape Counter({9: 547, 11: 433})\n",
      "Resampled (ADASYN) train (real + synth) dataset shape Counter({10: 713, 9: 702, 11: 685})\n",
      "Resampled (ADASYN) synth dataset shape Counter({9: 536, 11: 405})\n"
     ]
    },
    {
     "name": "stderr",
     "output_type": "stream",
     "text": [
      "/Users/matias/miniconda3/envs/gen-methods/lib/python3.7/site-packages/sklearn/metrics/_classification.py:1272: UndefinedMetricWarning: Precision and F-score are ill-defined and being set to 0.0 in labels with no predicted samples. Use `zero_division` parameter to control this behavior.\n",
      "  _warn_prf(average, modifier, msg_start, len(result))\n",
      "/Users/matias/miniconda3/envs/gen-methods/lib/python3.7/site-packages/sklearn/metrics/_classification.py:1272: UndefinedMetricWarning: Recall and F-score are ill-defined and being set to 0.0 in labels with no true samples. Use `zero_division` parameter to control this behavior.\n",
      "  _warn_prf(average, modifier, msg_start, len(result))\n",
      "/Users/matias/miniconda3/envs/gen-methods/lib/python3.7/site-packages/sklearn/metrics/_classification.py:1272: UndefinedMetricWarning: Recall and F-score are ill-defined and being set to 0.0 in labels with no true samples. Use `zero_division` parameter to control this behavior.\n",
      "  _warn_prf(average, modifier, msg_start, len(result))\n",
      "/Users/matias/miniconda3/envs/gen-methods/lib/python3.7/site-packages/sklearn/metrics/_classification.py:1272: UndefinedMetricWarning: Precision and F-score are ill-defined and being set to 0.0 in labels with no predicted samples. Use `zero_division` parameter to control this behavior.\n",
      "  _warn_prf(average, modifier, msg_start, len(result))\n",
      "/Users/matias/miniconda3/envs/gen-methods/lib/python3.7/site-packages/sklearn/metrics/_classification.py:1272: UndefinedMetricWarning: Precision and F-score are ill-defined and being set to 0.0 in labels with no predicted samples. Use `zero_division` parameter to control this behavior.\n",
      "  _warn_prf(average, modifier, msg_start, len(result))\n",
      "/Users/matias/miniconda3/envs/gen-methods/lib/python3.7/site-packages/sklearn/metrics/_classification.py:1272: UndefinedMetricWarning: Precision and F-score are ill-defined and being set to 0.0 in labels with no predicted samples. Use `zero_division` parameter to control this behavior.\n",
      "  _warn_prf(average, modifier, msg_start, len(result))\n",
      "/Users/matias/miniconda3/envs/gen-methods/lib/python3.7/site-packages/sklearn/metrics/_classification.py:1272: UndefinedMetricWarning: Recall and F-score are ill-defined and being set to 0.0 in labels with no true samples. Use `zero_division` parameter to control this behavior.\n",
      "  _warn_prf(average, modifier, msg_start, len(result))\n",
      "/Users/matias/miniconda3/envs/gen-methods/lib/python3.7/site-packages/sklearn/metrics/_classification.py:1272: UndefinedMetricWarning: Recall and F-score are ill-defined and being set to 0.0 in labels with no true samples. Use `zero_division` parameter to control this behavior.\n",
      "  _warn_prf(average, modifier, msg_start, len(result))\n"
     ]
    },
    {
     "name": "stdout",
     "output_type": "stream",
     "text": [
      "End of 28 trial\n",
      "Original cresh train dataset shape Counter({10: 713, 11: 280, 9: 166})\n",
      "Resampled (SMOTE) real + synth dataset shape Counter({10: 713, 9: 713, 11: 713})\n",
      "Resampled (SMOTE) synth dataset shape Counter({9: 547, 11: 433})\n",
      "Resampled (ADASYN) train (real + synth) dataset shape Counter({10: 713, 9: 702, 11: 685})\n",
      "Resampled (ADASYN) synth dataset shape Counter({9: 536, 11: 405})\n"
     ]
    },
    {
     "name": "stderr",
     "output_type": "stream",
     "text": [
      "/Users/matias/miniconda3/envs/gen-methods/lib/python3.7/site-packages/sklearn/metrics/_classification.py:1272: UndefinedMetricWarning: Precision and F-score are ill-defined and being set to 0.0 in labels with no predicted samples. Use `zero_division` parameter to control this behavior.\n",
      "  _warn_prf(average, modifier, msg_start, len(result))\n",
      "/Users/matias/miniconda3/envs/gen-methods/lib/python3.7/site-packages/sklearn/metrics/_classification.py:1272: UndefinedMetricWarning: Recall and F-score are ill-defined and being set to 0.0 in labels with no true samples. Use `zero_division` parameter to control this behavior.\n",
      "  _warn_prf(average, modifier, msg_start, len(result))\n",
      "/Users/matias/miniconda3/envs/gen-methods/lib/python3.7/site-packages/sklearn/metrics/_classification.py:1272: UndefinedMetricWarning: Recall and F-score are ill-defined and being set to 0.0 in labels with no true samples. Use `zero_division` parameter to control this behavior.\n",
      "  _warn_prf(average, modifier, msg_start, len(result))\n",
      "/Users/matias/miniconda3/envs/gen-methods/lib/python3.7/site-packages/sklearn/metrics/_classification.py:1272: UndefinedMetricWarning: Precision and F-score are ill-defined and being set to 0.0 in labels with no predicted samples. Use `zero_division` parameter to control this behavior.\n",
      "  _warn_prf(average, modifier, msg_start, len(result))\n",
      "/Users/matias/miniconda3/envs/gen-methods/lib/python3.7/site-packages/sklearn/metrics/_classification.py:1272: UndefinedMetricWarning: Precision and F-score are ill-defined and being set to 0.0 in labels with no predicted samples. Use `zero_division` parameter to control this behavior.\n",
      "  _warn_prf(average, modifier, msg_start, len(result))\n",
      "/Users/matias/miniconda3/envs/gen-methods/lib/python3.7/site-packages/sklearn/metrics/_classification.py:1272: UndefinedMetricWarning: Precision and F-score are ill-defined and being set to 0.0 in labels with no predicted samples. Use `zero_division` parameter to control this behavior.\n",
      "  _warn_prf(average, modifier, msg_start, len(result))\n",
      "/Users/matias/miniconda3/envs/gen-methods/lib/python3.7/site-packages/sklearn/metrics/_classification.py:1272: UndefinedMetricWarning: Recall and F-score are ill-defined and being set to 0.0 in labels with no true samples. Use `zero_division` parameter to control this behavior.\n",
      "  _warn_prf(average, modifier, msg_start, len(result))\n",
      "/Users/matias/miniconda3/envs/gen-methods/lib/python3.7/site-packages/sklearn/metrics/_classification.py:1272: UndefinedMetricWarning: Recall and F-score are ill-defined and being set to 0.0 in labels with no true samples. Use `zero_division` parameter to control this behavior.\n",
      "  _warn_prf(average, modifier, msg_start, len(result))\n",
      "/Users/matias/miniconda3/envs/gen-methods/lib/python3.7/site-packages/sklearn/metrics/_classification.py:1272: UndefinedMetricWarning: Precision and F-score are ill-defined and being set to 0.0 in labels with no predicted samples. Use `zero_division` parameter to control this behavior.\n",
      "  _warn_prf(average, modifier, msg_start, len(result))\n",
      "/Users/matias/miniconda3/envs/gen-methods/lib/python3.7/site-packages/sklearn/metrics/_classification.py:1272: UndefinedMetricWarning: Recall and F-score are ill-defined and being set to 0.0 in labels with no true samples. Use `zero_division` parameter to control this behavior.\n",
      "  _warn_prf(average, modifier, msg_start, len(result))\n"
     ]
    },
    {
     "name": "stdout",
     "output_type": "stream",
     "text": [
      "End of 29 trial\n",
      "Original cresh train dataset shape Counter({10: 713, 11: 280, 9: 166})\n",
      "Resampled (SMOTE) real + synth dataset shape Counter({9: 713, 10: 713, 11: 713})\n",
      "Resampled (SMOTE) synth dataset shape Counter({9: 547, 11: 433})\n",
      "Resampled (ADASYN) train (real + synth) dataset shape Counter({10: 713, 9: 702, 11: 685})\n",
      "Resampled (ADASYN) synth dataset shape Counter({9: 536, 11: 405})\n"
     ]
    },
    {
     "name": "stderr",
     "output_type": "stream",
     "text": [
      "/Users/matias/miniconda3/envs/gen-methods/lib/python3.7/site-packages/sklearn/metrics/_classification.py:1272: UndefinedMetricWarning: Recall and F-score are ill-defined and being set to 0.0 in labels with no true samples. Use `zero_division` parameter to control this behavior.\n",
      "  _warn_prf(average, modifier, msg_start, len(result))\n"
     ]
    },
    {
     "name": "stdout",
     "output_type": "stream",
     "text": [
      "End of 30 trial\n",
      "################################################################################\n",
      "# Metrics and models for dataset cresh saved!\n",
      "################################################################################\n"
     ]
    },
    {
     "name": "stderr",
     "output_type": "stream",
     "text": [
      "/Users/matias/miniconda3/envs/gen-methods/lib/python3.7/site-packages/sklearn/metrics/_classification.py:1272: UndefinedMetricWarning: Precision and F-score are ill-defined and being set to 0.0 in labels with no predicted samples. Use `zero_division` parameter to control this behavior.\n",
      "  _warn_prf(average, modifier, msg_start, len(result))\n",
      "/Users/matias/miniconda3/envs/gen-methods/lib/python3.7/site-packages/sklearn/metrics/_classification.py:1272: UndefinedMetricWarning: Precision and F-score are ill-defined and being set to 0.0 in labels with no predicted samples. Use `zero_division` parameter to control this behavior.\n",
      "  _warn_prf(average, modifier, msg_start, len(result))\n"
     ]
    }
   ],
   "source": [
    "evaluate_on_dataset(df_cresh_train, df_cresh_test, model='adasyn', dataset='cresh')\n"
   ]
  },
  {
   "cell_type": "markdown",
   "metadata": {},
   "source": [
    "## ASHRAE"
   ]
  },
  {
   "cell_type": "code",
   "execution_count": 6,
   "metadata": {},
   "outputs": [
    {
     "name": "stdout",
     "output_type": "stream",
     "text": [
      "Original ashrae train dataset shape Counter({0.0: 19271, 1.0: 8872, -1.0: 7289, 2.0: 4889, -2.0: 2790, 3.0: 2161, -3.0: 1205})\n",
      "Resampled (SMOTE) real + synth dataset shape Counter({-1.0: 19271, 0.0: 19271, -2.0: 19271, 3.0: 19271, 1.0: 19271, 2.0: 19271, -3.0: 19271})\n",
      "Resampled (SMOTE) synth dataset shape Counter({-3.0: 17886, -2.0: 16284, 3.0: 16079, 2.0: 14085, -1.0: 11686, 1.0: 10135})\n",
      "Resampled (ADASYN) train (real + synth) dataset shape Counter({2.0: 20124, 1.0: 20027, 3.0: 19847, -2.0: 19554, -1.0: 19538, -3.0: 19511, 0.0: 19271})\n",
      "Resampled (ADASYN) synth dataset shape Counter({-3.0: 18166, 3.0: 16972, -2.0: 16614, 2.0: 14964, -1.0: 12052, 1.0: 10974})\n"
     ]
    },
    {
     "name": "stderr",
     "output_type": "stream",
     "text": [
      "/home/matias/anaconda3/envs/gen-methods/lib/python3.7/site-packages/sklearn/metrics/pairwise.py:1449: FutureWarning: from version 0.25, pairwise_distances for metric='seuclidean' will require V to be specified if Y is passed.\n",
      "  \"specified if Y is passed.\", FutureWarning)\n",
      "/home/matias/anaconda3/envs/gen-methods/lib/python3.7/site-packages/sklearn/metrics/pairwise.py:1449: FutureWarning: from version 0.25, pairwise_distances for metric='seuclidean' will require V to be specified if Y is passed.\n",
      "  \"specified if Y is passed.\", FutureWarning)\n"
     ]
    },
    {
     "name": "stdout",
     "output_type": "stream",
     "text": [
      "End of 1 trial\n",
      "Original ashrae train dataset shape Counter({0.0: 19271, 1.0: 8872, -1.0: 7289, 2.0: 4889, -2.0: 2790, 3.0: 2161, -3.0: 1205})\n",
      "Resampled (SMOTE) real + synth dataset shape Counter({1.0: 19271, -2.0: 19271, -1.0: 19271, 2.0: 19271, 3.0: 19271, 0.0: 19271, -3.0: 19271})\n",
      "Resampled (SMOTE) synth dataset shape Counter({-3.0: 17900, -2.0: 16292, 3.0: 16077, 2.0: 14042, -1.0: 11663, 1.0: 10125})\n",
      "Resampled (ADASYN) train (real + synth) dataset shape Counter({2.0: 20124, 1.0: 20027, 3.0: 19847, -2.0: 19554, -1.0: 19538, -3.0: 19511, 0.0: 19271})\n",
      "Resampled (ADASYN) synth dataset shape Counter({-3.0: 18182, 3.0: 16985, -2.0: 16617, 2.0: 14967, -1.0: 12056, 1.0: 10965})\n"
     ]
    },
    {
     "name": "stderr",
     "output_type": "stream",
     "text": [
      "/home/matias/anaconda3/envs/gen-methods/lib/python3.7/site-packages/sklearn/metrics/pairwise.py:1449: FutureWarning: from version 0.25, pairwise_distances for metric='seuclidean' will require V to be specified if Y is passed.\n",
      "  \"specified if Y is passed.\", FutureWarning)\n",
      "/home/matias/anaconda3/envs/gen-methods/lib/python3.7/site-packages/sklearn/metrics/pairwise.py:1449: FutureWarning: from version 0.25, pairwise_distances for metric='seuclidean' will require V to be specified if Y is passed.\n",
      "  \"specified if Y is passed.\", FutureWarning)\n"
     ]
    },
    {
     "name": "stdout",
     "output_type": "stream",
     "text": [
      "End of 2 trial\n",
      "Original ashrae train dataset shape Counter({0.0: 19271, 1.0: 8872, -1.0: 7289, 2.0: 4889, -2.0: 2790, 3.0: 2161, -3.0: 1205})\n",
      "Resampled (SMOTE) real + synth dataset shape Counter({0.0: 19271, 2.0: 19271, -1.0: 19271, -2.0: 19271, -3.0: 19271, 3.0: 19271, 1.0: 19271})\n",
      "Resampled (SMOTE) synth dataset shape Counter({-3.0: 17887, -2.0: 16291, 3.0: 16086, 2.0: 14056, -1.0: 11661, 1.0: 10150})\n",
      "Resampled (ADASYN) train (real + synth) dataset shape Counter({2.0: 20124, 1.0: 20027, 3.0: 19847, -2.0: 19554, -1.0: 19538, -3.0: 19511, 0.0: 19271})\n",
      "Resampled (ADASYN) synth dataset shape Counter({-3.0: 18152, 3.0: 16956, -2.0: 16619, 2.0: 14957, -1.0: 12026, 1.0: 10970})\n"
     ]
    },
    {
     "name": "stderr",
     "output_type": "stream",
     "text": [
      "/home/matias/anaconda3/envs/gen-methods/lib/python3.7/site-packages/sklearn/metrics/pairwise.py:1449: FutureWarning: from version 0.25, pairwise_distances for metric='seuclidean' will require V to be specified if Y is passed.\n",
      "  \"specified if Y is passed.\", FutureWarning)\n",
      "/home/matias/anaconda3/envs/gen-methods/lib/python3.7/site-packages/sklearn/metrics/pairwise.py:1449: FutureWarning: from version 0.25, pairwise_distances for metric='seuclidean' will require V to be specified if Y is passed.\n",
      "  \"specified if Y is passed.\", FutureWarning)\n"
     ]
    },
    {
     "name": "stdout",
     "output_type": "stream",
     "text": [
      "End of 3 trial\n",
      "Original ashrae train dataset shape Counter({0.0: 19271, 1.0: 8872, -1.0: 7289, 2.0: 4889, -2.0: 2790, 3.0: 2161, -3.0: 1205})\n",
      "Resampled (SMOTE) real + synth dataset shape Counter({0.0: 19271, -2.0: 19271, -3.0: 19271, 2.0: 19271, -1.0: 19271, 1.0: 19271, 3.0: 19271})\n",
      "Resampled (SMOTE) synth dataset shape Counter({-3.0: 17885, -2.0: 16275, 3.0: 16109, 2.0: 14042, -1.0: 11673, 1.0: 10149})\n",
      "Resampled (ADASYN) train (real + synth) dataset shape Counter({2.0: 20124, 1.0: 20027, 3.0: 19847, -2.0: 19554, -1.0: 19538, -3.0: 19511, 0.0: 19271})\n",
      "Resampled (ADASYN) synth dataset shape Counter({-3.0: 18167, 3.0: 17009, -2.0: 16628, 2.0: 14983, -1.0: 12053, 1.0: 10972})\n"
     ]
    },
    {
     "name": "stderr",
     "output_type": "stream",
     "text": [
      "/home/matias/anaconda3/envs/gen-methods/lib/python3.7/site-packages/sklearn/metrics/pairwise.py:1449: FutureWarning: from version 0.25, pairwise_distances for metric='seuclidean' will require V to be specified if Y is passed.\n",
      "  \"specified if Y is passed.\", FutureWarning)\n",
      "/home/matias/anaconda3/envs/gen-methods/lib/python3.7/site-packages/sklearn/metrics/pairwise.py:1449: FutureWarning: from version 0.25, pairwise_distances for metric='seuclidean' will require V to be specified if Y is passed.\n",
      "  \"specified if Y is passed.\", FutureWarning)\n"
     ]
    },
    {
     "name": "stdout",
     "output_type": "stream",
     "text": [
      "End of 4 trial\n",
      "Original ashrae train dataset shape Counter({0.0: 19271, 1.0: 8872, -1.0: 7289, 2.0: 4889, -2.0: 2790, 3.0: 2161, -3.0: 1205})\n",
      "Resampled (SMOTE) real + synth dataset shape Counter({3.0: 19271, 1.0: 19271, 0.0: 19271, -2.0: 19271, 2.0: 19271, -1.0: 19271, -3.0: 19271})\n",
      "Resampled (SMOTE) synth dataset shape Counter({-3.0: 17911, -2.0: 16266, 3.0: 16052, 2.0: 14084, -1.0: 11674, 1.0: 10185})\n",
      "Resampled (ADASYN) train (real + synth) dataset shape Counter({2.0: 20124, 1.0: 20027, 3.0: 19847, -2.0: 19554, -1.0: 19538, -3.0: 19511, 0.0: 19271})\n",
      "Resampled (ADASYN) synth dataset shape Counter({-3.0: 18154, 3.0: 16986, -2.0: 16629, 2.0: 14982, -1.0: 12034, 1.0: 10961})\n"
     ]
    },
    {
     "name": "stderr",
     "output_type": "stream",
     "text": [
      "/home/matias/anaconda3/envs/gen-methods/lib/python3.7/site-packages/sklearn/metrics/pairwise.py:1449: FutureWarning: from version 0.25, pairwise_distances for metric='seuclidean' will require V to be specified if Y is passed.\n",
      "  \"specified if Y is passed.\", FutureWarning)\n",
      "/home/matias/anaconda3/envs/gen-methods/lib/python3.7/site-packages/sklearn/metrics/pairwise.py:1449: FutureWarning: from version 0.25, pairwise_distances for metric='seuclidean' will require V to be specified if Y is passed.\n",
      "  \"specified if Y is passed.\", FutureWarning)\n"
     ]
    },
    {
     "name": "stdout",
     "output_type": "stream",
     "text": [
      "End of 5 trial\n",
      "Original ashrae train dataset shape Counter({0.0: 19271, 1.0: 8872, -1.0: 7289, 2.0: 4889, -2.0: 2790, 3.0: 2161, -3.0: 1205})\n",
      "Resampled (SMOTE) real + synth dataset shape Counter({-3.0: 19271, 0.0: 19271, -2.0: 19271, 3.0: 19271, -1.0: 19271, 2.0: 19271, 1.0: 19271})\n",
      "Resampled (SMOTE) synth dataset shape Counter({-3.0: 17882, -2.0: 16289, 3.0: 16206, 2.0: 14055, -1.0: 11686, 1.0: 10163})\n",
      "Resampled (ADASYN) train (real + synth) dataset shape Counter({2.0: 20124, 1.0: 20027, 3.0: 19847, -2.0: 19554, -1.0: 19538, -3.0: 19511, 0.0: 19271})\n",
      "Resampled (ADASYN) synth dataset shape Counter({-3.0: 18160, 3.0: 16985, -2.0: 16638, 2.0: 14962, -1.0: 12042, 1.0: 10983})\n"
     ]
    },
    {
     "name": "stderr",
     "output_type": "stream",
     "text": [
      "/home/matias/anaconda3/envs/gen-methods/lib/python3.7/site-packages/sklearn/metrics/pairwise.py:1449: FutureWarning: from version 0.25, pairwise_distances for metric='seuclidean' will require V to be specified if Y is passed.\n",
      "  \"specified if Y is passed.\", FutureWarning)\n",
      "/home/matias/anaconda3/envs/gen-methods/lib/python3.7/site-packages/sklearn/metrics/pairwise.py:1449: FutureWarning: from version 0.25, pairwise_distances for metric='seuclidean' will require V to be specified if Y is passed.\n",
      "  \"specified if Y is passed.\", FutureWarning)\n"
     ]
    },
    {
     "name": "stdout",
     "output_type": "stream",
     "text": [
      "End of 6 trial\n",
      "Original ashrae train dataset shape Counter({0.0: 19271, 1.0: 8872, -1.0: 7289, 2.0: 4889, -2.0: 2790, 3.0: 2161, -3.0: 1205})\n",
      "Resampled (SMOTE) real + synth dataset shape Counter({-3.0: 19271, 1.0: 19271, -2.0: 19271, 3.0: 19271, -1.0: 19271, -0.0: 19271, 2.0: 19271})\n",
      "Resampled (SMOTE) synth dataset shape Counter({-3.0: 17892, -2.0: 16282, 3.0: 16125, 2.0: 14053, -1.0: 11704, 1.0: 10172})\n",
      "Resampled (ADASYN) train (real + synth) dataset shape Counter({2.0: 20124, 1.0: 20027, 3.0: 19847, -2.0: 19554, -1.0: 19538, -3.0: 19511, 0.0: 19271})\n",
      "Resampled (ADASYN) synth dataset shape Counter({-3.0: 18165, 3.0: 16967, -2.0: 16641, 2.0: 14965, -1.0: 12068, 1.0: 10980})\n"
     ]
    },
    {
     "name": "stderr",
     "output_type": "stream",
     "text": [
      "/home/matias/anaconda3/envs/gen-methods/lib/python3.7/site-packages/sklearn/metrics/pairwise.py:1449: FutureWarning: from version 0.25, pairwise_distances for metric='seuclidean' will require V to be specified if Y is passed.\n",
      "  \"specified if Y is passed.\", FutureWarning)\n",
      "/home/matias/anaconda3/envs/gen-methods/lib/python3.7/site-packages/sklearn/metrics/pairwise.py:1449: FutureWarning: from version 0.25, pairwise_distances for metric='seuclidean' will require V to be specified if Y is passed.\n",
      "  \"specified if Y is passed.\", FutureWarning)\n"
     ]
    },
    {
     "name": "stdout",
     "output_type": "stream",
     "text": [
      "End of 7 trial\n",
      "Original ashrae train dataset shape Counter({0.0: 19271, 1.0: 8872, -1.0: 7289, 2.0: 4889, -2.0: 2790, 3.0: 2161, -3.0: 1205})\n",
      "Resampled (SMOTE) real + synth dataset shape Counter({2.0: 19271, -2.0: 19271, 0.0: 19271, 1.0: 19271, -1.0: 19271, -3.0: 19271, 3.0: 19271})\n",
      "Resampled (SMOTE) synth dataset shape Counter({-3.0: 17864, -2.0: 16289, 3.0: 16055, 2.0: 14069, -1.0: 11651, 1.0: 10165})\n",
      "Resampled (ADASYN) train (real + synth) dataset shape Counter({2.0: 20124, 1.0: 20027, 3.0: 19847, -2.0: 19554, -1.0: 19538, -3.0: 19511, 0.0: 19271})\n",
      "Resampled (ADASYN) synth dataset shape Counter({-3.0: 18173, 3.0: 16972, -2.0: 16622, 2.0: 14979, -1.0: 12047, 1.0: 10981})\n"
     ]
    },
    {
     "name": "stderr",
     "output_type": "stream",
     "text": [
      "/home/matias/anaconda3/envs/gen-methods/lib/python3.7/site-packages/sklearn/metrics/pairwise.py:1449: FutureWarning: from version 0.25, pairwise_distances for metric='seuclidean' will require V to be specified if Y is passed.\n",
      "  \"specified if Y is passed.\", FutureWarning)\n",
      "/home/matias/anaconda3/envs/gen-methods/lib/python3.7/site-packages/sklearn/metrics/pairwise.py:1449: FutureWarning: from version 0.25, pairwise_distances for metric='seuclidean' will require V to be specified if Y is passed.\n",
      "  \"specified if Y is passed.\", FutureWarning)\n"
     ]
    },
    {
     "name": "stdout",
     "output_type": "stream",
     "text": [
      "End of 8 trial\n",
      "Original ashrae train dataset shape Counter({0.0: 19271, 1.0: 8872, -1.0: 7289, 2.0: 4889, -2.0: 2790, 3.0: 2161, -3.0: 1205})\n",
      "Resampled (SMOTE) real + synth dataset shape Counter({3.0: 19271, 0.0: 19271, 1.0: 19271, -2.0: 19271, -1.0: 19271, 2.0: 19271, -3.0: 19271})\n",
      "Resampled (SMOTE) synth dataset shape Counter({-3.0: 17872, -2.0: 16297, 3.0: 16179, 2.0: 14074, -1.0: 11677, 1.0: 10168})\n",
      "Resampled (ADASYN) train (real + synth) dataset shape Counter({2.0: 20124, 1.0: 20027, 3.0: 19847, -2.0: 19554, -1.0: 19538, -3.0: 19511, 0.0: 19271})\n",
      "Resampled (ADASYN) synth dataset shape Counter({-3.0: 18171, 3.0: 16980, -2.0: 16616, 2.0: 14963, -1.0: 12051, 1.0: 10973})\n"
     ]
    },
    {
     "name": "stderr",
     "output_type": "stream",
     "text": [
      "/home/matias/anaconda3/envs/gen-methods/lib/python3.7/site-packages/sklearn/metrics/pairwise.py:1449: FutureWarning: from version 0.25, pairwise_distances for metric='seuclidean' will require V to be specified if Y is passed.\n",
      "  \"specified if Y is passed.\", FutureWarning)\n",
      "/home/matias/anaconda3/envs/gen-methods/lib/python3.7/site-packages/sklearn/metrics/pairwise.py:1449: FutureWarning: from version 0.25, pairwise_distances for metric='seuclidean' will require V to be specified if Y is passed.\n",
      "  \"specified if Y is passed.\", FutureWarning)\n"
     ]
    },
    {
     "name": "stdout",
     "output_type": "stream",
     "text": [
      "End of 9 trial\n",
      "Original ashrae train dataset shape Counter({0.0: 19271, 1.0: 8872, -1.0: 7289, 2.0: 4889, -2.0: 2790, 3.0: 2161, -3.0: 1205})\n",
      "Resampled (SMOTE) real + synth dataset shape Counter({0.0: 19271, -1.0: 19271, 2.0: 19271, 1.0: 19271, 3.0: 19271, -2.0: 19271, -3.0: 19271})\n",
      "Resampled (SMOTE) synth dataset shape Counter({-3.0: 17861, -2.0: 16304, 3.0: 16163, 2.0: 14063, -1.0: 11720, 1.0: 10153})\n",
      "Resampled (ADASYN) train (real + synth) dataset shape Counter({2.0: 20124, 1.0: 20027, 3.0: 19847, -2.0: 19554, -1.0: 19538, -3.0: 19511, 0.0: 19271})\n",
      "Resampled (ADASYN) synth dataset shape Counter({-3.0: 18160, 3.0: 16985, -2.0: 16620, 2.0: 14988, -1.0: 12051, 1.0: 10983})\n"
     ]
    },
    {
     "name": "stderr",
     "output_type": "stream",
     "text": [
      "/home/matias/anaconda3/envs/gen-methods/lib/python3.7/site-packages/sklearn/metrics/pairwise.py:1449: FutureWarning: from version 0.25, pairwise_distances for metric='seuclidean' will require V to be specified if Y is passed.\n",
      "  \"specified if Y is passed.\", FutureWarning)\n",
      "/home/matias/anaconda3/envs/gen-methods/lib/python3.7/site-packages/sklearn/metrics/pairwise.py:1449: FutureWarning: from version 0.25, pairwise_distances for metric='seuclidean' will require V to be specified if Y is passed.\n",
      "  \"specified if Y is passed.\", FutureWarning)\n"
     ]
    },
    {
     "name": "stdout",
     "output_type": "stream",
     "text": [
      "End of 10 trial\n",
      "Original ashrae train dataset shape Counter({0.0: 19271, 1.0: 8872, -1.0: 7289, 2.0: 4889, -2.0: 2790, 3.0: 2161, -3.0: 1205})\n",
      "Resampled (SMOTE) real + synth dataset shape Counter({1.0: 19271, -3.0: 19271, -1.0: 19271, 3.0: 19271, -2.0: 19271, 0.0: 19271, 2.0: 19271})\n",
      "Resampled (SMOTE) synth dataset shape Counter({-3.0: 17922, -2.0: 16295, 3.0: 16150, 2.0: 14087, -1.0: 11679, 1.0: 10164})\n",
      "Resampled (ADASYN) train (real + synth) dataset shape Counter({2.0: 20124, 1.0: 20027, 3.0: 19847, -2.0: 19554, -1.0: 19538, -3.0: 19511, 0.0: 19271})\n",
      "Resampled (ADASYN) synth dataset shape Counter({-3.0: 18169, 3.0: 16947, -2.0: 16626, 2.0: 14979, -1.0: 12046, 1.0: 10946})\n"
     ]
    },
    {
     "name": "stderr",
     "output_type": "stream",
     "text": [
      "/home/matias/anaconda3/envs/gen-methods/lib/python3.7/site-packages/sklearn/metrics/pairwise.py:1449: FutureWarning: from version 0.25, pairwise_distances for metric='seuclidean' will require V to be specified if Y is passed.\n",
      "  \"specified if Y is passed.\", FutureWarning)\n",
      "/home/matias/anaconda3/envs/gen-methods/lib/python3.7/site-packages/sklearn/metrics/pairwise.py:1449: FutureWarning: from version 0.25, pairwise_distances for metric='seuclidean' will require V to be specified if Y is passed.\n",
      "  \"specified if Y is passed.\", FutureWarning)\n"
     ]
    },
    {
     "name": "stdout",
     "output_type": "stream",
     "text": [
      "End of 11 trial\n",
      "Original ashrae train dataset shape Counter({0.0: 19271, 1.0: 8872, -1.0: 7289, 2.0: 4889, -2.0: 2790, 3.0: 2161, -3.0: 1205})\n",
      "Resampled (SMOTE) real + synth dataset shape Counter({-3.0: 19271, 0.0: 19271, -2.0: 19271, -1.0: 19271, 1.0: 19271, 3.0: 19271, 2.0: 19271})\n",
      "Resampled (SMOTE) synth dataset shape Counter({-3.0: 17893, -2.0: 16283, 3.0: 16146, 2.0: 14048, -1.0: 11680, 1.0: 10162})\n",
      "Resampled (ADASYN) train (real + synth) dataset shape Counter({2.0: 20124, 1.0: 20027, 3.0: 19847, -2.0: 19554, -1.0: 19538, -3.0: 19511, 0.0: 19271})\n",
      "Resampled (ADASYN) synth dataset shape Counter({-3.0: 18168, 3.0: 16978, -2.0: 16614, 2.0: 14964, -1.0: 12052, 1.0: 10970})\n"
     ]
    },
    {
     "name": "stderr",
     "output_type": "stream",
     "text": [
      "/home/matias/anaconda3/envs/gen-methods/lib/python3.7/site-packages/sklearn/metrics/pairwise.py:1449: FutureWarning: from version 0.25, pairwise_distances for metric='seuclidean' will require V to be specified if Y is passed.\n",
      "  \"specified if Y is passed.\", FutureWarning)\n",
      "/home/matias/anaconda3/envs/gen-methods/lib/python3.7/site-packages/sklearn/metrics/pairwise.py:1449: FutureWarning: from version 0.25, pairwise_distances for metric='seuclidean' will require V to be specified if Y is passed.\n",
      "  \"specified if Y is passed.\", FutureWarning)\n"
     ]
    },
    {
     "name": "stdout",
     "output_type": "stream",
     "text": [
      "End of 12 trial\n",
      "Original ashrae train dataset shape Counter({0.0: 19271, 1.0: 8872, -1.0: 7289, 2.0: 4889, -2.0: 2790, 3.0: 2161, -3.0: 1205})\n",
      "Resampled (SMOTE) real + synth dataset shape Counter({-3.0: 19271, -1.0: 19271, 3.0: 19271, 0.0: 19271, 2.0: 19271, -2.0: 19271, 1.0: 19271})\n",
      "Resampled (SMOTE) synth dataset shape Counter({-3.0: 17871, -2.0: 16302, 3.0: 16058, 2.0: 14057, -1.0: 11654, 1.0: 10159})\n",
      "Resampled (ADASYN) train (real + synth) dataset shape Counter({2.0: 20124, 1.0: 20027, 3.0: 19847, -2.0: 19554, -1.0: 19538, -3.0: 19511, 0.0: 19271})\n",
      "Resampled (ADASYN) synth dataset shape Counter({-3.0: 18134, 3.0: 16948, -2.0: 16615, 2.0: 14963, -1.0: 12051, 1.0: 10978})\n"
     ]
    },
    {
     "name": "stderr",
     "output_type": "stream",
     "text": [
      "/home/matias/anaconda3/envs/gen-methods/lib/python3.7/site-packages/sklearn/metrics/pairwise.py:1449: FutureWarning: from version 0.25, pairwise_distances for metric='seuclidean' will require V to be specified if Y is passed.\n",
      "  \"specified if Y is passed.\", FutureWarning)\n",
      "/home/matias/anaconda3/envs/gen-methods/lib/python3.7/site-packages/sklearn/metrics/pairwise.py:1449: FutureWarning: from version 0.25, pairwise_distances for metric='seuclidean' will require V to be specified if Y is passed.\n",
      "  \"specified if Y is passed.\", FutureWarning)\n"
     ]
    },
    {
     "name": "stdout",
     "output_type": "stream",
     "text": [
      "End of 13 trial\n",
      "Original ashrae train dataset shape Counter({0.0: 19271, 1.0: 8872, -1.0: 7289, 2.0: 4889, -2.0: 2790, 3.0: 2161, -3.0: 1205})\n",
      "Resampled (SMOTE) real + synth dataset shape Counter({0.0: 19271, 3.0: 19271, -1.0: 19271, 2.0: 19271, 1.0: 19271, -3.0: 19271, -2.0: 19271})\n",
      "Resampled (SMOTE) synth dataset shape Counter({-3.0: 17896, -2.0: 16271, 3.0: 16137, 2.0: 14080, -1.0: 11691, 1.0: 10178})\n",
      "Resampled (ADASYN) train (real + synth) dataset shape Counter({2.0: 20124, 1.0: 20027, 3.0: 19847, -2.0: 19554, -1.0: 19538, -3.0: 19511, 0.0: 19271})\n",
      "Resampled (ADASYN) synth dataset shape Counter({-3.0: 18164, 3.0: 16951, -2.0: 16618, 2.0: 14985, -1.0: 12061, 1.0: 10967})\n"
     ]
    },
    {
     "name": "stderr",
     "output_type": "stream",
     "text": [
      "/home/matias/anaconda3/envs/gen-methods/lib/python3.7/site-packages/sklearn/metrics/pairwise.py:1449: FutureWarning: from version 0.25, pairwise_distances for metric='seuclidean' will require V to be specified if Y is passed.\n",
      "  \"specified if Y is passed.\", FutureWarning)\n",
      "/home/matias/anaconda3/envs/gen-methods/lib/python3.7/site-packages/sklearn/metrics/pairwise.py:1449: FutureWarning: from version 0.25, pairwise_distances for metric='seuclidean' will require V to be specified if Y is passed.\n",
      "  \"specified if Y is passed.\", FutureWarning)\n"
     ]
    },
    {
     "name": "stdout",
     "output_type": "stream",
     "text": [
      "End of 14 trial\n",
      "Original ashrae train dataset shape Counter({0.0: 19271, 1.0: 8872, -1.0: 7289, 2.0: 4889, -2.0: 2790, 3.0: 2161, -3.0: 1205})\n",
      "Resampled (SMOTE) real + synth dataset shape Counter({-1.0: 19271, 1.0: 19271, -2.0: 19271, -3.0: 19271, 0.0: 19271, 2.0: 19271, 3.0: 19271})\n",
      "Resampled (SMOTE) synth dataset shape Counter({-3.0: 17892, -2.0: 16297, 3.0: 16085, 2.0: 14041, -1.0: 11693, 1.0: 10144})\n",
      "Resampled (ADASYN) train (real + synth) dataset shape Counter({2.0: 20124, 1.0: 20027, 3.0: 19847, -2.0: 19554, -1.0: 19538, -3.0: 19511, 0.0: 19271})\n",
      "Resampled (ADASYN) synth dataset shape Counter({-3.0: 18161, 3.0: 16948, -2.0: 16628, 2.0: 14993, -1.0: 12035, 1.0: 10956})\n"
     ]
    },
    {
     "name": "stderr",
     "output_type": "stream",
     "text": [
      "/home/matias/anaconda3/envs/gen-methods/lib/python3.7/site-packages/sklearn/metrics/pairwise.py:1449: FutureWarning: from version 0.25, pairwise_distances for metric='seuclidean' will require V to be specified if Y is passed.\n",
      "  \"specified if Y is passed.\", FutureWarning)\n",
      "/home/matias/anaconda3/envs/gen-methods/lib/python3.7/site-packages/sklearn/metrics/pairwise.py:1449: FutureWarning: from version 0.25, pairwise_distances for metric='seuclidean' will require V to be specified if Y is passed.\n",
      "  \"specified if Y is passed.\", FutureWarning)\n"
     ]
    },
    {
     "name": "stdout",
     "output_type": "stream",
     "text": [
      "End of 15 trial\n",
      "Original ashrae train dataset shape Counter({0.0: 19271, 1.0: 8872, -1.0: 7289, 2.0: 4889, -2.0: 2790, 3.0: 2161, -3.0: 1205})\n",
      "Resampled (SMOTE) real + synth dataset shape Counter({1.0: 19271, -2.0: 19271, 3.0: 19271, -1.0: 19271, 0.0: 19271, -3.0: 19271, 2.0: 19271})\n",
      "Resampled (SMOTE) synth dataset shape Counter({-3.0: 17910, -2.0: 16276, 3.0: 16102, 2.0: 14041, -1.0: 11670, 1.0: 10142})\n",
      "Resampled (ADASYN) train (real + synth) dataset shape Counter({2.0: 20124, 1.0: 20027, 3.0: 19847, -2.0: 19554, -1.0: 19538, -3.0: 19511, 0.0: 19271})\n",
      "Resampled (ADASYN) synth dataset shape Counter({-3.0: 18164, 3.0: 16987, -2.0: 16622, 2.0: 14980, -1.0: 12044, 1.0: 10987})\n"
     ]
    },
    {
     "name": "stderr",
     "output_type": "stream",
     "text": [
      "/home/matias/anaconda3/envs/gen-methods/lib/python3.7/site-packages/sklearn/metrics/pairwise.py:1449: FutureWarning: from version 0.25, pairwise_distances for metric='seuclidean' will require V to be specified if Y is passed.\n",
      "  \"specified if Y is passed.\", FutureWarning)\n",
      "/home/matias/anaconda3/envs/gen-methods/lib/python3.7/site-packages/sklearn/metrics/pairwise.py:1449: FutureWarning: from version 0.25, pairwise_distances for metric='seuclidean' will require V to be specified if Y is passed.\n",
      "  \"specified if Y is passed.\", FutureWarning)\n"
     ]
    },
    {
     "name": "stdout",
     "output_type": "stream",
     "text": [
      "End of 16 trial\n",
      "Original ashrae train dataset shape Counter({0.0: 19271, 1.0: 8872, -1.0: 7289, 2.0: 4889, -2.0: 2790, 3.0: 2161, -3.0: 1205})\n",
      "Resampled (SMOTE) real + synth dataset shape Counter({-2.0: 19271, -1.0: 19271, 0.0: 19271, 1.0: 19271, -3.0: 19271, 2.0: 19271, 3.0: 19271})\n",
      "Resampled (SMOTE) synth dataset shape Counter({-3.0: 17865, -2.0: 16293, 3.0: 16130, 2.0: 14068, -1.0: 11675, 1.0: 10152})\n",
      "Resampled (ADASYN) train (real + synth) dataset shape Counter({2.0: 20124, 1.0: 20027, 3.0: 19847, -2.0: 19554, -1.0: 19538, -3.0: 19511, 0.0: 19271})\n",
      "Resampled (ADASYN) synth dataset shape Counter({-3.0: 18162, 3.0: 16960, -2.0: 16631, 2.0: 14980, -1.0: 12045, 1.0: 10974})\n"
     ]
    },
    {
     "name": "stderr",
     "output_type": "stream",
     "text": [
      "/home/matias/anaconda3/envs/gen-methods/lib/python3.7/site-packages/sklearn/metrics/pairwise.py:1449: FutureWarning: from version 0.25, pairwise_distances for metric='seuclidean' will require V to be specified if Y is passed.\n",
      "  \"specified if Y is passed.\", FutureWarning)\n",
      "/home/matias/anaconda3/envs/gen-methods/lib/python3.7/site-packages/sklearn/metrics/pairwise.py:1449: FutureWarning: from version 0.25, pairwise_distances for metric='seuclidean' will require V to be specified if Y is passed.\n",
      "  \"specified if Y is passed.\", FutureWarning)\n"
     ]
    },
    {
     "name": "stdout",
     "output_type": "stream",
     "text": [
      "End of 17 trial\n",
      "Original ashrae train dataset shape Counter({0.0: 19271, 1.0: 8872, -1.0: 7289, 2.0: 4889, -2.0: 2790, 3.0: 2161, -3.0: 1205})\n",
      "Resampled (SMOTE) real + synth dataset shape Counter({-2.0: 19271, 1.0: 19271, -1.0: 19271, 3.0: 19271, 2.0: 19271, -3.0: 19271, 0.0: 19271})\n",
      "Resampled (SMOTE) synth dataset shape Counter({-3.0: 17874, -2.0: 16286, 3.0: 16111, 2.0: 14054, -1.0: 11669, 1.0: 10167})\n",
      "Resampled (ADASYN) train (real + synth) dataset shape Counter({2.0: 20124, 1.0: 20027, 3.0: 19847, -2.0: 19554, -1.0: 19538, -3.0: 19511, 0.0: 19271})\n",
      "Resampled (ADASYN) synth dataset shape Counter({-3.0: 18167, 3.0: 16965, -2.0: 16622, 2.0: 14984, -1.0: 12039, 1.0: 10976})\n"
     ]
    },
    {
     "name": "stderr",
     "output_type": "stream",
     "text": [
      "/home/matias/anaconda3/envs/gen-methods/lib/python3.7/site-packages/sklearn/metrics/pairwise.py:1449: FutureWarning: from version 0.25, pairwise_distances for metric='seuclidean' will require V to be specified if Y is passed.\n",
      "  \"specified if Y is passed.\", FutureWarning)\n",
      "/home/matias/anaconda3/envs/gen-methods/lib/python3.7/site-packages/sklearn/metrics/pairwise.py:1449: FutureWarning: from version 0.25, pairwise_distances for metric='seuclidean' will require V to be specified if Y is passed.\n",
      "  \"specified if Y is passed.\", FutureWarning)\n"
     ]
    },
    {
     "name": "stdout",
     "output_type": "stream",
     "text": [
      "End of 18 trial\n",
      "Original ashrae train dataset shape Counter({0.0: 19271, 1.0: 8872, -1.0: 7289, 2.0: 4889, -2.0: 2790, 3.0: 2161, -3.0: 1205})\n",
      "Resampled (SMOTE) real + synth dataset shape Counter({-3.0: 19271, 3.0: 19271, -2.0: 19271, 2.0: 19271, -1.0: 19271, 1.0: 19271, 0.0: 19271})\n",
      "Resampled (SMOTE) synth dataset shape Counter({-3.0: 17881, -2.0: 16257, 3.0: 16155, 2.0: 14056, -1.0: 11682, 1.0: 10149})\n",
      "Resampled (ADASYN) train (real + synth) dataset shape Counter({2.0: 20124, 1.0: 20027, 3.0: 19847, -2.0: 19554, -1.0: 19538, -3.0: 19511, 0.0: 19271})\n",
      "Resampled (ADASYN) synth dataset shape Counter({-3.0: 18180, 3.0: 16997, -2.0: 16615, 2.0: 14983, -1.0: 12055, 1.0: 10956})\n"
     ]
    },
    {
     "name": "stderr",
     "output_type": "stream",
     "text": [
      "/home/matias/anaconda3/envs/gen-methods/lib/python3.7/site-packages/sklearn/metrics/pairwise.py:1449: FutureWarning: from version 0.25, pairwise_distances for metric='seuclidean' will require V to be specified if Y is passed.\n",
      "  \"specified if Y is passed.\", FutureWarning)\n",
      "/home/matias/anaconda3/envs/gen-methods/lib/python3.7/site-packages/sklearn/metrics/pairwise.py:1449: FutureWarning: from version 0.25, pairwise_distances for metric='seuclidean' will require V to be specified if Y is passed.\n",
      "  \"specified if Y is passed.\", FutureWarning)\n"
     ]
    },
    {
     "name": "stdout",
     "output_type": "stream",
     "text": [
      "End of 19 trial\n",
      "Original ashrae train dataset shape Counter({0.0: 19271, 1.0: 8872, -1.0: 7289, 2.0: 4889, -2.0: 2790, 3.0: 2161, -3.0: 1205})\n",
      "Resampled (SMOTE) real + synth dataset shape Counter({0.0: 19271, 2.0: 19271, 3.0: 19271, -3.0: 19271, -2.0: 19271, -1.0: 19271, 1.0: 19271})\n",
      "Resampled (SMOTE) synth dataset shape Counter({-3.0: 17874, -2.0: 16273, 3.0: 16142, 2.0: 14063, -1.0: 11676, 1.0: 10171})\n",
      "Resampled (ADASYN) train (real + synth) dataset shape Counter({2.0: 20124, 1.0: 20027, 3.0: 19847, -2.0: 19554, -1.0: 19538, -3.0: 19511, 0.0: 19271})\n",
      "Resampled (ADASYN) synth dataset shape Counter({-3.0: 18162, 3.0: 16953, -2.0: 16624, 2.0: 14962, -1.0: 12060, 1.0: 10964})\n"
     ]
    },
    {
     "name": "stderr",
     "output_type": "stream",
     "text": [
      "/home/matias/anaconda3/envs/gen-methods/lib/python3.7/site-packages/sklearn/metrics/pairwise.py:1449: FutureWarning: from version 0.25, pairwise_distances for metric='seuclidean' will require V to be specified if Y is passed.\n",
      "  \"specified if Y is passed.\", FutureWarning)\n",
      "/home/matias/anaconda3/envs/gen-methods/lib/python3.7/site-packages/sklearn/metrics/pairwise.py:1449: FutureWarning: from version 0.25, pairwise_distances for metric='seuclidean' will require V to be specified if Y is passed.\n",
      "  \"specified if Y is passed.\", FutureWarning)\n"
     ]
    },
    {
     "name": "stdout",
     "output_type": "stream",
     "text": [
      "End of 20 trial\n",
      "Original ashrae train dataset shape Counter({0.0: 19271, 1.0: 8872, -1.0: 7289, 2.0: 4889, -2.0: 2790, 3.0: 2161, -3.0: 1205})\n",
      "Resampled (SMOTE) real + synth dataset shape Counter({-1.0: 19271, -2.0: 19271, 2.0: 19271, 3.0: 19271, 0.0: 19271, -3.0: 19271, 1.0: 19271})\n",
      "Resampled (SMOTE) synth dataset shape Counter({-3.0: 17892, -2.0: 16298, 3.0: 16131, 2.0: 14050, -1.0: 11684, 1.0: 10156})\n",
      "Resampled (ADASYN) train (real + synth) dataset shape Counter({2.0: 20124, 1.0: 20027, 3.0: 19847, -2.0: 19554, -1.0: 19538, -3.0: 19511, 0.0: 19271})\n",
      "Resampled (ADASYN) synth dataset shape Counter({-3.0: 18161, 3.0: 16978, -2.0: 16617, 2.0: 14969, -1.0: 12041, 1.0: 10983})\n"
     ]
    },
    {
     "name": "stderr",
     "output_type": "stream",
     "text": [
      "/home/matias/anaconda3/envs/gen-methods/lib/python3.7/site-packages/sklearn/metrics/pairwise.py:1449: FutureWarning: from version 0.25, pairwise_distances for metric='seuclidean' will require V to be specified if Y is passed.\n",
      "  \"specified if Y is passed.\", FutureWarning)\n",
      "/home/matias/anaconda3/envs/gen-methods/lib/python3.7/site-packages/sklearn/metrics/pairwise.py:1449: FutureWarning: from version 0.25, pairwise_distances for metric='seuclidean' will require V to be specified if Y is passed.\n",
      "  \"specified if Y is passed.\", FutureWarning)\n"
     ]
    },
    {
     "name": "stdout",
     "output_type": "stream",
     "text": [
      "End of 21 trial\n",
      "Original ashrae train dataset shape Counter({0.0: 19271, 1.0: 8872, -1.0: 7289, 2.0: 4889, -2.0: 2790, 3.0: 2161, -3.0: 1205})\n",
      "Resampled (SMOTE) real + synth dataset shape Counter({-3.0: 19271, 3.0: 19271, 1.0: 19271, -1.0: 19271, 0.0: 19271, -2.0: 19271, 2.0: 19271})\n",
      "Resampled (SMOTE) synth dataset shape Counter({-3.0: 17893, -2.0: 16276, 3.0: 16110, 2.0: 14053, -1.0: 11665, 1.0: 10153})\n",
      "Resampled (ADASYN) train (real + synth) dataset shape Counter({2.0: 20124, 1.0: 20027, 3.0: 19847, -2.0: 19554, -1.0: 19538, -3.0: 19511, -0.0: 19271})\n",
      "Resampled (ADASYN) synth dataset shape Counter({-3.0: 18163, 3.0: 16970, -2.0: 16624, 2.0: 14989, -1.0: 12060, 1.0: 10963})\n"
     ]
    },
    {
     "name": "stderr",
     "output_type": "stream",
     "text": [
      "/home/matias/anaconda3/envs/gen-methods/lib/python3.7/site-packages/sklearn/metrics/pairwise.py:1449: FutureWarning: from version 0.25, pairwise_distances for metric='seuclidean' will require V to be specified if Y is passed.\n",
      "  \"specified if Y is passed.\", FutureWarning)\n",
      "/home/matias/anaconda3/envs/gen-methods/lib/python3.7/site-packages/sklearn/metrics/pairwise.py:1449: FutureWarning: from version 0.25, pairwise_distances for metric='seuclidean' will require V to be specified if Y is passed.\n",
      "  \"specified if Y is passed.\", FutureWarning)\n"
     ]
    },
    {
     "name": "stdout",
     "output_type": "stream",
     "text": [
      "End of 22 trial\n",
      "Original ashrae train dataset shape Counter({0.0: 19271, 1.0: 8872, -1.0: 7289, 2.0: 4889, -2.0: 2790, 3.0: 2161, -3.0: 1205})\n",
      "Resampled (SMOTE) real + synth dataset shape Counter({2.0: 19271, -2.0: 19271, -1.0: 19271, 3.0: 19271, -3.0: 19271, 0.0: 19271, 1.0: 19271})\n",
      "Resampled (SMOTE) synth dataset shape Counter({-3.0: 17891, -2.0: 16288, 3.0: 16091, 2.0: 14077, -1.0: 11674, 1.0: 10137})\n",
      "Resampled (ADASYN) train (real + synth) dataset shape Counter({2.0: 20124, 1.0: 20027, 3.0: 19847, -2.0: 19554, -1.0: 19538, -3.0: 19511, 0.0: 19271})\n",
      "Resampled (ADASYN) synth dataset shape Counter({-3.0: 18191, 3.0: 16952, -2.0: 16629, 2.0: 14987, -1.0: 12042, 1.0: 10960})\n"
     ]
    },
    {
     "name": "stderr",
     "output_type": "stream",
     "text": [
      "/home/matias/anaconda3/envs/gen-methods/lib/python3.7/site-packages/sklearn/metrics/pairwise.py:1449: FutureWarning: from version 0.25, pairwise_distances for metric='seuclidean' will require V to be specified if Y is passed.\n",
      "  \"specified if Y is passed.\", FutureWarning)\n",
      "/home/matias/anaconda3/envs/gen-methods/lib/python3.7/site-packages/sklearn/metrics/pairwise.py:1449: FutureWarning: from version 0.25, pairwise_distances for metric='seuclidean' will require V to be specified if Y is passed.\n",
      "  \"specified if Y is passed.\", FutureWarning)\n"
     ]
    },
    {
     "name": "stdout",
     "output_type": "stream",
     "text": [
      "End of 23 trial\n",
      "Original ashrae train dataset shape Counter({0.0: 19271, 1.0: 8872, -1.0: 7289, 2.0: 4889, -2.0: 2790, 3.0: 2161, -3.0: 1205})\n",
      "Resampled (SMOTE) real + synth dataset shape Counter({-3.0: 19271, -1.0: 19271, 0.0: 19271, 3.0: 19271, -2.0: 19271, 1.0: 19271, 2.0: 19271})\n",
      "Resampled (SMOTE) synth dataset shape Counter({-3.0: 17885, -2.0: 16282, 3.0: 16117, 2.0: 14068, -1.0: 11696, 1.0: 10148})\n",
      "Resampled (ADASYN) train (real + synth) dataset shape Counter({2.0: 20124, 1.0: 20027, 3.0: 19847, -2.0: 19554, -1.0: 19538, -3.0: 19511, 0.0: 19271})\n",
      "Resampled (ADASYN) synth dataset shape Counter({-3.0: 18154, 3.0: 16946, -2.0: 16616, 2.0: 14976, -1.0: 12042, 1.0: 10981})\n"
     ]
    },
    {
     "name": "stderr",
     "output_type": "stream",
     "text": [
      "/home/matias/anaconda3/envs/gen-methods/lib/python3.7/site-packages/sklearn/metrics/pairwise.py:1449: FutureWarning: from version 0.25, pairwise_distances for metric='seuclidean' will require V to be specified if Y is passed.\n",
      "  \"specified if Y is passed.\", FutureWarning)\n",
      "/home/matias/anaconda3/envs/gen-methods/lib/python3.7/site-packages/sklearn/metrics/pairwise.py:1449: FutureWarning: from version 0.25, pairwise_distances for metric='seuclidean' will require V to be specified if Y is passed.\n",
      "  \"specified if Y is passed.\", FutureWarning)\n"
     ]
    },
    {
     "name": "stdout",
     "output_type": "stream",
     "text": [
      "End of 24 trial\n",
      "Original ashrae train dataset shape Counter({0.0: 19271, 1.0: 8872, -1.0: 7289, 2.0: 4889, -2.0: 2790, 3.0: 2161, -3.0: 1205})\n",
      "Resampled (SMOTE) real + synth dataset shape Counter({-3.0: 19271, 3.0: 19271, 1.0: 19271, -1.0: 19271, 0.0: 19271, -2.0: 19271, 2.0: 19271})\n",
      "Resampled (SMOTE) synth dataset shape Counter({-3.0: 17898, -2.0: 16301, 3.0: 16193, 2.0: 14021, -1.0: 11693, 1.0: 10171})\n",
      "Resampled (ADASYN) train (real + synth) dataset shape Counter({2.0: 20124, 1.0: 20027, 3.0: 19847, -2.0: 19554, -1.0: 19538, -3.0: 19511, 0.0: 19271})\n",
      "Resampled (ADASYN) synth dataset shape Counter({-3.0: 18167, 3.0: 16997, -2.0: 16617, 2.0: 14979, -1.0: 12052, 1.0: 10974})\n"
     ]
    },
    {
     "name": "stderr",
     "output_type": "stream",
     "text": [
      "/home/matias/anaconda3/envs/gen-methods/lib/python3.7/site-packages/sklearn/metrics/pairwise.py:1449: FutureWarning: from version 0.25, pairwise_distances for metric='seuclidean' will require V to be specified if Y is passed.\n",
      "  \"specified if Y is passed.\", FutureWarning)\n",
      "/home/matias/anaconda3/envs/gen-methods/lib/python3.7/site-packages/sklearn/metrics/pairwise.py:1449: FutureWarning: from version 0.25, pairwise_distances for metric='seuclidean' will require V to be specified if Y is passed.\n",
      "  \"specified if Y is passed.\", FutureWarning)\n"
     ]
    },
    {
     "name": "stdout",
     "output_type": "stream",
     "text": [
      "End of 25 trial\n",
      "Original ashrae train dataset shape Counter({0.0: 19271, 1.0: 8872, -1.0: 7289, 2.0: 4889, -2.0: 2790, 3.0: 2161, -3.0: 1205})\n",
      "Resampled (SMOTE) real + synth dataset shape Counter({-2.0: 19271, -3.0: 19271, 1.0: 19271, 2.0: 19271, 0.0: 19271, -1.0: 19271, 3.0: 19271})\n",
      "Resampled (SMOTE) synth dataset shape Counter({-3.0: 17899, -2.0: 16285, 3.0: 16152, 2.0: 14052, -1.0: 11695, 1.0: 10134})\n",
      "Resampled (ADASYN) train (real + synth) dataset shape Counter({2.0: 20124, 1.0: 20027, 3.0: 19847, -2.0: 19554, -1.0: 19538, -3.0: 19511, 0.0: 19271})\n",
      "Resampled (ADASYN) synth dataset shape Counter({-3.0: 18170, 3.0: 16942, -2.0: 16612, 2.0: 14976, -1.0: 12034, 1.0: 10979})\n"
     ]
    },
    {
     "name": "stderr",
     "output_type": "stream",
     "text": [
      "/home/matias/anaconda3/envs/gen-methods/lib/python3.7/site-packages/sklearn/metrics/pairwise.py:1449: FutureWarning: from version 0.25, pairwise_distances for metric='seuclidean' will require V to be specified if Y is passed.\n",
      "  \"specified if Y is passed.\", FutureWarning)\n",
      "/home/matias/anaconda3/envs/gen-methods/lib/python3.7/site-packages/sklearn/metrics/pairwise.py:1449: FutureWarning: from version 0.25, pairwise_distances for metric='seuclidean' will require V to be specified if Y is passed.\n",
      "  \"specified if Y is passed.\", FutureWarning)\n"
     ]
    },
    {
     "name": "stdout",
     "output_type": "stream",
     "text": [
      "End of 26 trial\n",
      "Original ashrae train dataset shape Counter({0.0: 19271, 1.0: 8872, -1.0: 7289, 2.0: 4889, -2.0: 2790, 3.0: 2161, -3.0: 1205})\n",
      "Resampled (SMOTE) real + synth dataset shape Counter({-1.0: 19271, 2.0: 19271, 1.0: 19271, -3.0: 19271, 0.0: 19271, 3.0: 19271, -2.0: 19271})\n",
      "Resampled (SMOTE) synth dataset shape Counter({-3.0: 17886, -2.0: 16290, 3.0: 16094, 2.0: 14071, -1.0: 11692, 1.0: 10160})\n",
      "Resampled (ADASYN) train (real + synth) dataset shape Counter({2.0: 20124, 1.0: 20027, 3.0: 19847, -2.0: 19554, -1.0: 19538, -3.0: 19511, 0.0: 19271})\n",
      "Resampled (ADASYN) synth dataset shape Counter({-3.0: 18160, 3.0: 16948, -2.0: 16618, 2.0: 14959, -1.0: 12054, 1.0: 10981})\n"
     ]
    },
    {
     "name": "stderr",
     "output_type": "stream",
     "text": [
      "/home/matias/anaconda3/envs/gen-methods/lib/python3.7/site-packages/sklearn/metrics/pairwise.py:1449: FutureWarning: from version 0.25, pairwise_distances for metric='seuclidean' will require V to be specified if Y is passed.\n",
      "  \"specified if Y is passed.\", FutureWarning)\n",
      "/home/matias/anaconda3/envs/gen-methods/lib/python3.7/site-packages/sklearn/metrics/pairwise.py:1449: FutureWarning: from version 0.25, pairwise_distances for metric='seuclidean' will require V to be specified if Y is passed.\n",
      "  \"specified if Y is passed.\", FutureWarning)\n"
     ]
    },
    {
     "name": "stdout",
     "output_type": "stream",
     "text": [
      "End of 27 trial\n",
      "Original ashrae train dataset shape Counter({0.0: 19271, 1.0: 8872, -1.0: 7289, 2.0: 4889, -2.0: 2790, 3.0: 2161, -3.0: 1205})\n",
      "Resampled (SMOTE) real + synth dataset shape Counter({-3.0: 19271, 3.0: 19271, -1.0: 19271, 1.0: 19271, -2.0: 19271, 0.0: 19271, 2.0: 19271})\n",
      "Resampled (SMOTE) synth dataset shape Counter({-3.0: 17891, -2.0: 16269, 3.0: 16122, 2.0: 14072, -1.0: 11679, 1.0: 10179})\n",
      "Resampled (ADASYN) train (real + synth) dataset shape Counter({2.0: 20124, 1.0: 20027, 3.0: 19847, -2.0: 19554, -1.0: 19538, -3.0: 19511, 0.0: 19271})\n",
      "Resampled (ADASYN) synth dataset shape Counter({-3.0: 18183, 3.0: 16951, -2.0: 16621, 2.0: 14990, -1.0: 12054, 1.0: 10976})\n"
     ]
    },
    {
     "name": "stderr",
     "output_type": "stream",
     "text": [
      "/home/matias/anaconda3/envs/gen-methods/lib/python3.7/site-packages/sklearn/metrics/pairwise.py:1449: FutureWarning: from version 0.25, pairwise_distances for metric='seuclidean' will require V to be specified if Y is passed.\n",
      "  \"specified if Y is passed.\", FutureWarning)\n",
      "/home/matias/anaconda3/envs/gen-methods/lib/python3.7/site-packages/sklearn/metrics/pairwise.py:1449: FutureWarning: from version 0.25, pairwise_distances for metric='seuclidean' will require V to be specified if Y is passed.\n",
      "  \"specified if Y is passed.\", FutureWarning)\n"
     ]
    },
    {
     "name": "stdout",
     "output_type": "stream",
     "text": [
      "End of 28 trial\n",
      "Original ashrae train dataset shape Counter({0.0: 19271, 1.0: 8872, -1.0: 7289, 2.0: 4889, -2.0: 2790, 3.0: 2161, -3.0: 1205})\n",
      "Resampled (SMOTE) real + synth dataset shape Counter({-3.0: 19271, 1.0: 19271, 3.0: 19271, -1.0: 19271, -2.0: 19271, 2.0: 19271, 0.0: 19271})\n",
      "Resampled (SMOTE) synth dataset shape Counter({-3.0: 17886, -2.0: 16246, 3.0: 16089, 2.0: 14006, -1.0: 11682, 1.0: 10130})\n",
      "Resampled (ADASYN) train (real + synth) dataset shape Counter({2.0: 20124, 1.0: 20027, 3.0: 19847, -2.0: 19554, -1.0: 19538, -3.0: 19511, 0.0: 19271})\n",
      "Resampled (ADASYN) synth dataset shape Counter({-3.0: 18159, 3.0: 16936, -2.0: 16618, 2.0: 14985, -1.0: 12052, 1.0: 10975})\n"
     ]
    },
    {
     "name": "stderr",
     "output_type": "stream",
     "text": [
      "/home/matias/anaconda3/envs/gen-methods/lib/python3.7/site-packages/sklearn/metrics/pairwise.py:1449: FutureWarning: from version 0.25, pairwise_distances for metric='seuclidean' will require V to be specified if Y is passed.\n",
      "  \"specified if Y is passed.\", FutureWarning)\n",
      "/home/matias/anaconda3/envs/gen-methods/lib/python3.7/site-packages/sklearn/metrics/pairwise.py:1449: FutureWarning: from version 0.25, pairwise_distances for metric='seuclidean' will require V to be specified if Y is passed.\n",
      "  \"specified if Y is passed.\", FutureWarning)\n"
     ]
    },
    {
     "name": "stdout",
     "output_type": "stream",
     "text": [
      "End of 29 trial\n",
      "Original ashrae train dataset shape Counter({0.0: 19271, 1.0: 8872, -1.0: 7289, 2.0: 4889, -2.0: 2790, 3.0: 2161, -3.0: 1205})\n",
      "Resampled (SMOTE) real + synth dataset shape Counter({3.0: 19271, 1.0: 19271, -2.0: 19271, 2.0: 19271, 0.0: 19271, -1.0: 19271, -3.0: 19271})\n",
      "Resampled (SMOTE) synth dataset shape Counter({-3.0: 17907, -2.0: 16286, 3.0: 16155, 2.0: 14069, -1.0: 11685, 1.0: 10190})\n",
      "Resampled (ADASYN) train (real + synth) dataset shape Counter({2.0: 20124, 1.0: 20027, 3.0: 19847, -2.0: 19554, -1.0: 19538, -3.0: 19511, 0.0: 19271})\n",
      "Resampled (ADASYN) synth dataset shape Counter({-3.0: 18163, 3.0: 16963, -2.0: 16626, 2.0: 14966, -1.0: 12065, 1.0: 10966})\n"
     ]
    },
    {
     "name": "stderr",
     "output_type": "stream",
     "text": [
      "/home/matias/anaconda3/envs/gen-methods/lib/python3.7/site-packages/sklearn/metrics/pairwise.py:1449: FutureWarning: from version 0.25, pairwise_distances for metric='seuclidean' will require V to be specified if Y is passed.\n",
      "  \"specified if Y is passed.\", FutureWarning)\n",
      "/home/matias/anaconda3/envs/gen-methods/lib/python3.7/site-packages/sklearn/metrics/pairwise.py:1449: FutureWarning: from version 0.25, pairwise_distances for metric='seuclidean' will require V to be specified if Y is passed.\n",
      "  \"specified if Y is passed.\", FutureWarning)\n"
     ]
    },
    {
     "name": "stdout",
     "output_type": "stream",
     "text": [
      "End of 30 trial\n",
      "################################################################################\n",
      "# Metrics and models for dataset ashrae saved!\n",
      "################################################################################\n"
     ]
    }
   ],
   "source": [
    "evaluate_on_dataset(df_ashrae_train, df_ashrae_test, model='smote', dataset='ashrae')\n"
   ]
  },
  {
   "cell_type": "code",
   "execution_count": 7,
   "metadata": {},
   "outputs": [
    {
     "name": "stdout",
     "output_type": "stream",
     "text": [
      "Original ashrae train dataset shape Counter({0.0: 19271, 1.0: 8872, -1.0: 7289, 2.0: 4889, -2.0: 2790, 3.0: 2161, -3.0: 1205})\n",
      "Resampled (SMOTE) real + synth dataset shape Counter({-2.0: 19271, 3.0: 19271, -1.0: 19271, 2.0: 19271, 0.0: 19271, 1.0: 19271, -3.0: 19271})\n",
      "Resampled (SMOTE) synth dataset shape Counter({-3.0: 17872, -2.0: 16299, 3.0: 16102, 2.0: 14047, -1.0: 11668, 1.0: 10196})\n",
      "Resampled (ADASYN) train (real + synth) dataset shape Counter({2.0: 20124, 1.0: 20027, 3.0: 19847, -2.0: 19554, -1.0: 19538, -3.0: 19511, 0.0: 19271})\n",
      "Resampled (ADASYN) synth dataset shape Counter({-3.0: 18180, 3.0: 16973, -2.0: 16619, 2.0: 14961, -1.0: 12035, 1.0: 10973})\n"
     ]
    },
    {
     "name": "stderr",
     "output_type": "stream",
     "text": [
      "/home/matias/anaconda3/envs/gen-methods/lib/python3.7/site-packages/sklearn/metrics/pairwise.py:1449: FutureWarning: from version 0.25, pairwise_distances for metric='seuclidean' will require V to be specified if Y is passed.\n",
      "  \"specified if Y is passed.\", FutureWarning)\n",
      "/home/matias/anaconda3/envs/gen-methods/lib/python3.7/site-packages/sklearn/metrics/pairwise.py:1449: FutureWarning: from version 0.25, pairwise_distances for metric='seuclidean' will require V to be specified if Y is passed.\n",
      "  \"specified if Y is passed.\", FutureWarning)\n"
     ]
    },
    {
     "name": "stdout",
     "output_type": "stream",
     "text": [
      "End of 1 trial\n",
      "Original ashrae train dataset shape Counter({0.0: 19271, 1.0: 8872, -1.0: 7289, 2.0: 4889, -2.0: 2790, 3.0: 2161, -3.0: 1205})\n",
      "Resampled (SMOTE) real + synth dataset shape Counter({0.0: 19271, 3.0: 19271, 1.0: 19271, -3.0: 19271, 2.0: 19271, -2.0: 19271, -1.0: 19271})\n",
      "Resampled (SMOTE) synth dataset shape Counter({-3.0: 17875, -2.0: 16278, 3.0: 16051, 2.0: 14060, -1.0: 11696, 1.0: 10160})\n",
      "Resampled (ADASYN) train (real + synth) dataset shape Counter({2.0: 20124, 1.0: 20027, 3.0: 19847, -2.0: 19554, -1.0: 19538, -3.0: 19511, 0.0: 19271})\n",
      "Resampled (ADASYN) synth dataset shape Counter({-3.0: 18173, 3.0: 16984, -2.0: 16616, 2.0: 14971, -1.0: 12045, 1.0: 10969})\n"
     ]
    },
    {
     "name": "stderr",
     "output_type": "stream",
     "text": [
      "/home/matias/anaconda3/envs/gen-methods/lib/python3.7/site-packages/sklearn/metrics/pairwise.py:1449: FutureWarning: from version 0.25, pairwise_distances for metric='seuclidean' will require V to be specified if Y is passed.\n",
      "  \"specified if Y is passed.\", FutureWarning)\n",
      "/home/matias/anaconda3/envs/gen-methods/lib/python3.7/site-packages/sklearn/metrics/pairwise.py:1449: FutureWarning: from version 0.25, pairwise_distances for metric='seuclidean' will require V to be specified if Y is passed.\n",
      "  \"specified if Y is passed.\", FutureWarning)\n"
     ]
    },
    {
     "name": "stdout",
     "output_type": "stream",
     "text": [
      "End of 2 trial\n",
      "Original ashrae train dataset shape Counter({0.0: 19271, 1.0: 8872, -1.0: 7289, 2.0: 4889, -2.0: 2790, 3.0: 2161, -3.0: 1205})\n",
      "Resampled (SMOTE) real + synth dataset shape Counter({-2.0: 19271, 1.0: 19271, -1.0: 19271, -3.0: 19271, 2.0: 19271, 3.0: 19271, 0.0: 19271})\n",
      "Resampled (SMOTE) synth dataset shape Counter({-3.0: 17895, -2.0: 16292, 3.0: 16138, 2.0: 14031, -1.0: 11668, 1.0: 10156})\n",
      "Resampled (ADASYN) train (real + synth) dataset shape Counter({2.0: 20124, 1.0: 20027, 3.0: 19847, -2.0: 19554, -1.0: 19538, -3.0: 19511, 0.0: 19271})\n",
      "Resampled (ADASYN) synth dataset shape Counter({-3.0: 18168, 3.0: 16968, -2.0: 16624, 2.0: 14972, -1.0: 12059, 1.0: 10979})\n"
     ]
    },
    {
     "name": "stderr",
     "output_type": "stream",
     "text": [
      "/home/matias/anaconda3/envs/gen-methods/lib/python3.7/site-packages/sklearn/metrics/pairwise.py:1449: FutureWarning: from version 0.25, pairwise_distances for metric='seuclidean' will require V to be specified if Y is passed.\n",
      "  \"specified if Y is passed.\", FutureWarning)\n",
      "/home/matias/anaconda3/envs/gen-methods/lib/python3.7/site-packages/sklearn/metrics/pairwise.py:1449: FutureWarning: from version 0.25, pairwise_distances for metric='seuclidean' will require V to be specified if Y is passed.\n",
      "  \"specified if Y is passed.\", FutureWarning)\n"
     ]
    },
    {
     "name": "stdout",
     "output_type": "stream",
     "text": [
      "End of 3 trial\n",
      "Original ashrae train dataset shape Counter({0.0: 19271, 1.0: 8872, -1.0: 7289, 2.0: 4889, -2.0: 2790, 3.0: 2161, -3.0: 1205})\n",
      "Resampled (SMOTE) real + synth dataset shape Counter({1.0: 19271, -1.0: 19271, -3.0: 19271, 3.0: 19271, 0.0: 19271, 2.0: 19271, -2.0: 19271})\n",
      "Resampled (SMOTE) synth dataset shape Counter({-3.0: 17866, -2.0: 16282, 3.0: 16104, 2.0: 14039, -1.0: 11717, 1.0: 10162})\n",
      "Resampled (ADASYN) train (real + synth) dataset shape Counter({2.0: 20124, 1.0: 20027, 3.0: 19847, -2.0: 19554, -1.0: 19538, -3.0: 19511, 0.0: 19271})\n",
      "Resampled (ADASYN) synth dataset shape Counter({-3.0: 18190, 3.0: 16945, -2.0: 16602, 2.0: 14983, -1.0: 12055, 1.0: 10993})\n"
     ]
    },
    {
     "name": "stderr",
     "output_type": "stream",
     "text": [
      "/home/matias/anaconda3/envs/gen-methods/lib/python3.7/site-packages/sklearn/metrics/pairwise.py:1449: FutureWarning: from version 0.25, pairwise_distances for metric='seuclidean' will require V to be specified if Y is passed.\n",
      "  \"specified if Y is passed.\", FutureWarning)\n",
      "/home/matias/anaconda3/envs/gen-methods/lib/python3.7/site-packages/sklearn/metrics/pairwise.py:1449: FutureWarning: from version 0.25, pairwise_distances for metric='seuclidean' will require V to be specified if Y is passed.\n",
      "  \"specified if Y is passed.\", FutureWarning)\n"
     ]
    },
    {
     "name": "stdout",
     "output_type": "stream",
     "text": [
      "End of 4 trial\n",
      "Original ashrae train dataset shape Counter({0.0: 19271, 1.0: 8872, -1.0: 7289, 2.0: 4889, -2.0: 2790, 3.0: 2161, -3.0: 1205})\n",
      "Resampled (SMOTE) real + synth dataset shape Counter({0.0: 19271, -2.0: 19271, 1.0: 19271, -1.0: 19271, 3.0: 19271, 2.0: 19271, -3.0: 19271})\n",
      "Resampled (SMOTE) synth dataset shape Counter({-3.0: 17869, -2.0: 16258, 3.0: 16088, 2.0: 14065, -1.0: 11682, 1.0: 10171})\n",
      "Resampled (ADASYN) train (real + synth) dataset shape Counter({2.0: 20124, 1.0: 20027, 3.0: 19847, -2.0: 19554, -1.0: 19538, -3.0: 19511, 0.0: 19271})\n",
      "Resampled (ADASYN) synth dataset shape Counter({-3.0: 18163, 3.0: 16979, -2.0: 16614, 2.0: 14985, -1.0: 12054, 1.0: 10980})\n"
     ]
    },
    {
     "name": "stderr",
     "output_type": "stream",
     "text": [
      "/home/matias/anaconda3/envs/gen-methods/lib/python3.7/site-packages/sklearn/metrics/pairwise.py:1449: FutureWarning: from version 0.25, pairwise_distances for metric='seuclidean' will require V to be specified if Y is passed.\n",
      "  \"specified if Y is passed.\", FutureWarning)\n",
      "/home/matias/anaconda3/envs/gen-methods/lib/python3.7/site-packages/sklearn/metrics/pairwise.py:1449: FutureWarning: from version 0.25, pairwise_distances for metric='seuclidean' will require V to be specified if Y is passed.\n",
      "  \"specified if Y is passed.\", FutureWarning)\n"
     ]
    },
    {
     "name": "stdout",
     "output_type": "stream",
     "text": [
      "End of 5 trial\n",
      "Original ashrae train dataset shape Counter({0.0: 19271, 1.0: 8872, -1.0: 7289, 2.0: 4889, -2.0: 2790, 3.0: 2161, -3.0: 1205})\n",
      "Resampled (SMOTE) real + synth dataset shape Counter({-2.0: 19271, 2.0: 19271, -1.0: 19271, 3.0: 19271, 0.0: 19271, 1.0: 19271, -3.0: 19271})\n",
      "Resampled (SMOTE) synth dataset shape Counter({-3.0: 17872, -2.0: 16284, 3.0: 16129, 2.0: 14039, -1.0: 11681, 1.0: 10141})\n",
      "Resampled (ADASYN) train (real + synth) dataset shape Counter({2.0: 20124, 1.0: 20027, 3.0: 19847, -2.0: 19554, -1.0: 19538, -3.0: 19511, 0.0: 19271})\n",
      "Resampled (ADASYN) synth dataset shape Counter({-3.0: 18186, 3.0: 16974, -2.0: 16630, 2.0: 14977, -1.0: 12079, 1.0: 10979})\n"
     ]
    },
    {
     "name": "stderr",
     "output_type": "stream",
     "text": [
      "/home/matias/anaconda3/envs/gen-methods/lib/python3.7/site-packages/sklearn/metrics/pairwise.py:1449: FutureWarning: from version 0.25, pairwise_distances for metric='seuclidean' will require V to be specified if Y is passed.\n",
      "  \"specified if Y is passed.\", FutureWarning)\n",
      "/home/matias/anaconda3/envs/gen-methods/lib/python3.7/site-packages/sklearn/metrics/pairwise.py:1449: FutureWarning: from version 0.25, pairwise_distances for metric='seuclidean' will require V to be specified if Y is passed.\n",
      "  \"specified if Y is passed.\", FutureWarning)\n"
     ]
    },
    {
     "name": "stdout",
     "output_type": "stream",
     "text": [
      "End of 6 trial\n",
      "Original ashrae train dataset shape Counter({0.0: 19271, 1.0: 8872, -1.0: 7289, 2.0: 4889, -2.0: 2790, 3.0: 2161, -3.0: 1205})\n",
      "Resampled (SMOTE) real + synth dataset shape Counter({3.0: 19271, 1.0: 19271, -1.0: 19271, -2.0: 19271, -3.0: 19271, 2.0: 19271, 0.0: 19271})\n",
      "Resampled (SMOTE) synth dataset shape Counter({-3.0: 17901, -2.0: 16264, 3.0: 16122, 2.0: 14038, -1.0: 11690, 1.0: 10178})\n",
      "Resampled (ADASYN) train (real + synth) dataset shape Counter({2.0: 20124, 1.0: 20027, 3.0: 19847, -2.0: 19554, -1.0: 19538, -3.0: 19511, 0.0: 19271})\n",
      "Resampled (ADASYN) synth dataset shape Counter({-3.0: 18163, 3.0: 16939, -2.0: 16625, 2.0: 14978, -1.0: 12034, 1.0: 10988})\n"
     ]
    },
    {
     "name": "stderr",
     "output_type": "stream",
     "text": [
      "/home/matias/anaconda3/envs/gen-methods/lib/python3.7/site-packages/sklearn/metrics/pairwise.py:1449: FutureWarning: from version 0.25, pairwise_distances for metric='seuclidean' will require V to be specified if Y is passed.\n",
      "  \"specified if Y is passed.\", FutureWarning)\n",
      "/home/matias/anaconda3/envs/gen-methods/lib/python3.7/site-packages/sklearn/metrics/pairwise.py:1449: FutureWarning: from version 0.25, pairwise_distances for metric='seuclidean' will require V to be specified if Y is passed.\n",
      "  \"specified if Y is passed.\", FutureWarning)\n"
     ]
    },
    {
     "name": "stdout",
     "output_type": "stream",
     "text": [
      "End of 7 trial\n",
      "Original ashrae train dataset shape Counter({0.0: 19271, 1.0: 8872, -1.0: 7289, 2.0: 4889, -2.0: 2790, 3.0: 2161, -3.0: 1205})\n",
      "Resampled (SMOTE) real + synth dataset shape Counter({2.0: 19271, 3.0: 19271, -1.0: 19271, 0.0: 19271, -3.0: 19271, 1.0: 19271, -2.0: 19271})\n",
      "Resampled (SMOTE) synth dataset shape Counter({-3.0: 17895, -2.0: 16303, 3.0: 16152, 2.0: 14077, -1.0: 11690, 1.0: 10176})\n",
      "Resampled (ADASYN) train (real + synth) dataset shape Counter({2.0: 20124, 1.0: 20027, 3.0: 19847, -2.0: 19554, -1.0: 19538, -3.0: 19511, 0.0: 19271})\n",
      "Resampled (ADASYN) synth dataset shape Counter({-3.0: 18182, 3.0: 16955, -2.0: 16633, 2.0: 14958, -1.0: 12067, 1.0: 10969})\n"
     ]
    },
    {
     "name": "stderr",
     "output_type": "stream",
     "text": [
      "/home/matias/anaconda3/envs/gen-methods/lib/python3.7/site-packages/sklearn/metrics/pairwise.py:1449: FutureWarning: from version 0.25, pairwise_distances for metric='seuclidean' will require V to be specified if Y is passed.\n",
      "  \"specified if Y is passed.\", FutureWarning)\n",
      "/home/matias/anaconda3/envs/gen-methods/lib/python3.7/site-packages/sklearn/metrics/pairwise.py:1449: FutureWarning: from version 0.25, pairwise_distances for metric='seuclidean' will require V to be specified if Y is passed.\n",
      "  \"specified if Y is passed.\", FutureWarning)\n"
     ]
    },
    {
     "name": "stdout",
     "output_type": "stream",
     "text": [
      "End of 8 trial\n",
      "Original ashrae train dataset shape Counter({0.0: 19271, 1.0: 8872, -1.0: 7289, 2.0: 4889, -2.0: 2790, 3.0: 2161, -3.0: 1205})\n",
      "Resampled (SMOTE) real + synth dataset shape Counter({0.0: 19271, -1.0: 19271, 3.0: 19271, -2.0: 19271, 2.0: 19271, 1.0: 19271, -3.0: 19271})\n",
      "Resampled (SMOTE) synth dataset shape Counter({-3.0: 17879, -2.0: 16304, 3.0: 16132, 2.0: 14034, -1.0: 11674, 1.0: 10184})\n",
      "Resampled (ADASYN) train (real + synth) dataset shape Counter({2.0: 20124, 1.0: 20027, 3.0: 19847, -2.0: 19554, -1.0: 19538, -3.0: 19511, 0.0: 19271})\n",
      "Resampled (ADASYN) synth dataset shape Counter({-3.0: 18175, 3.0: 16990, -2.0: 16613, 2.0: 14968, -1.0: 12039, 1.0: 10964})\n"
     ]
    },
    {
     "name": "stderr",
     "output_type": "stream",
     "text": [
      "/home/matias/anaconda3/envs/gen-methods/lib/python3.7/site-packages/sklearn/metrics/pairwise.py:1449: FutureWarning: from version 0.25, pairwise_distances for metric='seuclidean' will require V to be specified if Y is passed.\n",
      "  \"specified if Y is passed.\", FutureWarning)\n",
      "/home/matias/anaconda3/envs/gen-methods/lib/python3.7/site-packages/sklearn/metrics/pairwise.py:1449: FutureWarning: from version 0.25, pairwise_distances for metric='seuclidean' will require V to be specified if Y is passed.\n",
      "  \"specified if Y is passed.\", FutureWarning)\n"
     ]
    },
    {
     "name": "stdout",
     "output_type": "stream",
     "text": [
      "End of 9 trial\n",
      "Original ashrae train dataset shape Counter({0.0: 19271, 1.0: 8872, -1.0: 7289, 2.0: 4889, -2.0: 2790, 3.0: 2161, -3.0: 1205})\n",
      "Resampled (SMOTE) real + synth dataset shape Counter({1.0: 19271, -1.0: 19271, -2.0: 19271, 3.0: 19271, 0.0: 19271, 2.0: 19271, -3.0: 19271})\n",
      "Resampled (SMOTE) synth dataset shape Counter({-3.0: 17907, -2.0: 16267, 3.0: 16065, 2.0: 14084, -1.0: 11677, 1.0: 10141})\n",
      "Resampled (ADASYN) train (real + synth) dataset shape Counter({2.0: 20124, 1.0: 20027, 3.0: 19847, -2.0: 19554, -1.0: 19538, -3.0: 19511, 0.0: 19271})\n",
      "Resampled (ADASYN) synth dataset shape Counter({-3.0: 18159, 3.0: 16967, -2.0: 16610, 2.0: 14962, -1.0: 12043, 1.0: 10981})\n"
     ]
    },
    {
     "name": "stderr",
     "output_type": "stream",
     "text": [
      "/home/matias/anaconda3/envs/gen-methods/lib/python3.7/site-packages/sklearn/metrics/pairwise.py:1449: FutureWarning: from version 0.25, pairwise_distances for metric='seuclidean' will require V to be specified if Y is passed.\n",
      "  \"specified if Y is passed.\", FutureWarning)\n",
      "/home/matias/anaconda3/envs/gen-methods/lib/python3.7/site-packages/sklearn/metrics/pairwise.py:1449: FutureWarning: from version 0.25, pairwise_distances for metric='seuclidean' will require V to be specified if Y is passed.\n",
      "  \"specified if Y is passed.\", FutureWarning)\n"
     ]
    },
    {
     "name": "stdout",
     "output_type": "stream",
     "text": [
      "End of 10 trial\n",
      "Original ashrae train dataset shape Counter({0.0: 19271, 1.0: 8872, -1.0: 7289, 2.0: 4889, -2.0: 2790, 3.0: 2161, -3.0: 1205})\n",
      "Resampled (SMOTE) real + synth dataset shape Counter({3.0: 19271, -3.0: 19271, -1.0: 19271, -2.0: 19271, 0.0: 19271, 1.0: 19271, 2.0: 19271})\n",
      "Resampled (SMOTE) synth dataset shape Counter({-3.0: 17878, -2.0: 16291, 3.0: 16105, 2.0: 14036, -1.0: 11689, 1.0: 10186})\n",
      "Resampled (ADASYN) train (real + synth) dataset shape Counter({2.0: 20124, 1.0: 20027, 3.0: 19847, -2.0: 19554, -1.0: 19538, -3.0: 19511, 0.0: 19271})\n",
      "Resampled (ADASYN) synth dataset shape Counter({-3.0: 18168, 3.0: 16940, -2.0: 16604, 2.0: 14968, -1.0: 12075, 1.0: 10962})\n"
     ]
    },
    {
     "name": "stderr",
     "output_type": "stream",
     "text": [
      "/home/matias/anaconda3/envs/gen-methods/lib/python3.7/site-packages/sklearn/metrics/pairwise.py:1449: FutureWarning: from version 0.25, pairwise_distances for metric='seuclidean' will require V to be specified if Y is passed.\n",
      "  \"specified if Y is passed.\", FutureWarning)\n",
      "/home/matias/anaconda3/envs/gen-methods/lib/python3.7/site-packages/sklearn/metrics/pairwise.py:1449: FutureWarning: from version 0.25, pairwise_distances for metric='seuclidean' will require V to be specified if Y is passed.\n",
      "  \"specified if Y is passed.\", FutureWarning)\n"
     ]
    },
    {
     "name": "stdout",
     "output_type": "stream",
     "text": [
      "End of 11 trial\n",
      "Original ashrae train dataset shape Counter({0.0: 19271, 1.0: 8872, -1.0: 7289, 2.0: 4889, -2.0: 2790, 3.0: 2161, -3.0: 1205})\n",
      "Resampled (SMOTE) real + synth dataset shape Counter({-1.0: 19271, 1.0: 19271, 2.0: 19271, 0.0: 19271, -2.0: 19271, -3.0: 19271, 3.0: 19271})\n",
      "Resampled (SMOTE) synth dataset shape Counter({-3.0: 17879, -2.0: 16272, 3.0: 16138, 2.0: 14065, -1.0: 11700, 1.0: 10144})\n",
      "Resampled (ADASYN) train (real + synth) dataset shape Counter({2.0: 20124, 1.0: 20027, 3.0: 19847, -2.0: 19554, -1.0: 19538, -3.0: 19511, 0.0: 19271})\n",
      "Resampled (ADASYN) synth dataset shape Counter({-3.0: 18176, 3.0: 16960, -2.0: 16614, 2.0: 14977, -1.0: 12060, 1.0: 10967})\n"
     ]
    },
    {
     "name": "stderr",
     "output_type": "stream",
     "text": [
      "/home/matias/anaconda3/envs/gen-methods/lib/python3.7/site-packages/sklearn/metrics/pairwise.py:1449: FutureWarning: from version 0.25, pairwise_distances for metric='seuclidean' will require V to be specified if Y is passed.\n",
      "  \"specified if Y is passed.\", FutureWarning)\n",
      "/home/matias/anaconda3/envs/gen-methods/lib/python3.7/site-packages/sklearn/metrics/pairwise.py:1449: FutureWarning: from version 0.25, pairwise_distances for metric='seuclidean' will require V to be specified if Y is passed.\n",
      "  \"specified if Y is passed.\", FutureWarning)\n"
     ]
    },
    {
     "name": "stdout",
     "output_type": "stream",
     "text": [
      "End of 12 trial\n",
      "Original ashrae train dataset shape Counter({0.0: 19271, 1.0: 8872, -1.0: 7289, 2.0: 4889, -2.0: 2790, 3.0: 2161, -3.0: 1205})\n",
      "Resampled (SMOTE) real + synth dataset shape Counter({3.0: 19271, 1.0: 19271, -2.0: 19271, 2.0: 19271, -1.0: 19271, 0.0: 19271, -3.0: 19271})\n",
      "Resampled (SMOTE) synth dataset shape Counter({-3.0: 17880, -2.0: 16291, 3.0: 16079, 2.0: 14036, -1.0: 11683, 1.0: 10171})\n",
      "Resampled (ADASYN) train (real + synth) dataset shape Counter({2.0: 20124, 1.0: 20027, 3.0: 19847, -2.0: 19554, -1.0: 19538, -3.0: 19511, 0.0: 19271})\n",
      "Resampled (ADASYN) synth dataset shape Counter({-3.0: 18173, 3.0: 16967, -2.0: 16655, 2.0: 14971, -1.0: 12055, 1.0: 10962})\n"
     ]
    },
    {
     "name": "stderr",
     "output_type": "stream",
     "text": [
      "/home/matias/anaconda3/envs/gen-methods/lib/python3.7/site-packages/sklearn/metrics/pairwise.py:1449: FutureWarning: from version 0.25, pairwise_distances for metric='seuclidean' will require V to be specified if Y is passed.\n",
      "  \"specified if Y is passed.\", FutureWarning)\n",
      "/home/matias/anaconda3/envs/gen-methods/lib/python3.7/site-packages/sklearn/metrics/pairwise.py:1449: FutureWarning: from version 0.25, pairwise_distances for metric='seuclidean' will require V to be specified if Y is passed.\n",
      "  \"specified if Y is passed.\", FutureWarning)\n"
     ]
    },
    {
     "name": "stdout",
     "output_type": "stream",
     "text": [
      "End of 13 trial\n",
      "Original ashrae train dataset shape Counter({0.0: 19271, 1.0: 8872, -1.0: 7289, 2.0: 4889, -2.0: 2790, 3.0: 2161, -3.0: 1205})\n",
      "Resampled (SMOTE) real + synth dataset shape Counter({1.0: 19271, -2.0: 19271, -3.0: 19271, 2.0: 19271, -1.0: 19271, 0.0: 19271, 3.0: 19271})\n",
      "Resampled (SMOTE) synth dataset shape Counter({-3.0: 17877, -2.0: 16270, 3.0: 16109, 2.0: 14056, -1.0: 11668, 1.0: 10134})\n",
      "Resampled (ADASYN) train (real + synth) dataset shape Counter({2.0: 20124, 1.0: 20027, 3.0: 19847, -2.0: 19554, -1.0: 19538, -3.0: 19511, 0.0: 19271})\n",
      "Resampled (ADASYN) synth dataset shape Counter({-3.0: 18171, 3.0: 16960, -2.0: 16624, 2.0: 14951, -1.0: 12066, 1.0: 10960})\n"
     ]
    },
    {
     "name": "stderr",
     "output_type": "stream",
     "text": [
      "/home/matias/anaconda3/envs/gen-methods/lib/python3.7/site-packages/sklearn/metrics/pairwise.py:1449: FutureWarning: from version 0.25, pairwise_distances for metric='seuclidean' will require V to be specified if Y is passed.\n",
      "  \"specified if Y is passed.\", FutureWarning)\n",
      "/home/matias/anaconda3/envs/gen-methods/lib/python3.7/site-packages/sklearn/metrics/pairwise.py:1449: FutureWarning: from version 0.25, pairwise_distances for metric='seuclidean' will require V to be specified if Y is passed.\n",
      "  \"specified if Y is passed.\", FutureWarning)\n"
     ]
    },
    {
     "name": "stdout",
     "output_type": "stream",
     "text": [
      "End of 14 trial\n",
      "Original ashrae train dataset shape Counter({0.0: 19271, 1.0: 8872, -1.0: 7289, 2.0: 4889, -2.0: 2790, 3.0: 2161, -3.0: 1205})\n",
      "Resampled (SMOTE) real + synth dataset shape Counter({-2.0: 19271, 2.0: 19271, 0.0: 19271, -3.0: 19271, -1.0: 19271, 1.0: 19271, 3.0: 19271})\n",
      "Resampled (SMOTE) synth dataset shape Counter({-3.0: 17885, -2.0: 16284, 3.0: 16136, 2.0: 14075, -1.0: 11686, 1.0: 10145})\n",
      "Resampled (ADASYN) train (real + synth) dataset shape Counter({2.0: 20124, 1.0: 20027, 3.0: 19847, -2.0: 19554, -1.0: 19538, -3.0: 19511, 0.0: 19271})\n",
      "Resampled (ADASYN) synth dataset shape Counter({-3.0: 18169, 3.0: 16962, -2.0: 16617, 2.0: 14969, -1.0: 12038, 1.0: 10960})\n"
     ]
    },
    {
     "name": "stderr",
     "output_type": "stream",
     "text": [
      "/home/matias/anaconda3/envs/gen-methods/lib/python3.7/site-packages/sklearn/metrics/pairwise.py:1449: FutureWarning: from version 0.25, pairwise_distances for metric='seuclidean' will require V to be specified if Y is passed.\n",
      "  \"specified if Y is passed.\", FutureWarning)\n",
      "/home/matias/anaconda3/envs/gen-methods/lib/python3.7/site-packages/sklearn/metrics/pairwise.py:1449: FutureWarning: from version 0.25, pairwise_distances for metric='seuclidean' will require V to be specified if Y is passed.\n",
      "  \"specified if Y is passed.\", FutureWarning)\n"
     ]
    },
    {
     "name": "stdout",
     "output_type": "stream",
     "text": [
      "End of 15 trial\n",
      "Original ashrae train dataset shape Counter({0.0: 19271, 1.0: 8872, -1.0: 7289, 2.0: 4889, -2.0: 2790, 3.0: 2161, -3.0: 1205})\n",
      "Resampled (SMOTE) real + synth dataset shape Counter({-2.0: 19271, 2.0: 19271, 3.0: 19271, -1.0: 19271, 0.0: 19271, 1.0: 19271, -3.0: 19271})\n",
      "Resampled (SMOTE) synth dataset shape Counter({-3.0: 17894, -2.0: 16256, 3.0: 16140, 2.0: 14063, -1.0: 11689, 1.0: 10174})\n",
      "Resampled (ADASYN) train (real + synth) dataset shape Counter({2.0: 20124, 1.0: 20027, 3.0: 19847, -2.0: 19554, -1.0: 19538, -3.0: 19511, 0.0: 19271})\n",
      "Resampled (ADASYN) synth dataset shape Counter({-3.0: 18168, 3.0: 16981, -2.0: 16622, 2.0: 14986, -1.0: 12085, 1.0: 10970})\n"
     ]
    },
    {
     "name": "stderr",
     "output_type": "stream",
     "text": [
      "/home/matias/anaconda3/envs/gen-methods/lib/python3.7/site-packages/sklearn/metrics/pairwise.py:1449: FutureWarning: from version 0.25, pairwise_distances for metric='seuclidean' will require V to be specified if Y is passed.\n",
      "  \"specified if Y is passed.\", FutureWarning)\n",
      "/home/matias/anaconda3/envs/gen-methods/lib/python3.7/site-packages/sklearn/metrics/pairwise.py:1449: FutureWarning: from version 0.25, pairwise_distances for metric='seuclidean' will require V to be specified if Y is passed.\n",
      "  \"specified if Y is passed.\", FutureWarning)\n"
     ]
    },
    {
     "name": "stdout",
     "output_type": "stream",
     "text": [
      "End of 16 trial\n",
      "Original ashrae train dataset shape Counter({0.0: 19271, 1.0: 8872, -1.0: 7289, 2.0: 4889, -2.0: 2790, 3.0: 2161, -3.0: 1205})\n",
      "Resampled (SMOTE) real + synth dataset shape Counter({-1.0: 19271, -3.0: 19271, 2.0: 19271, -2.0: 19271, 1.0: 19271, 3.0: 19271, 0.0: 19271})\n",
      "Resampled (SMOTE) synth dataset shape Counter({-3.0: 17868, -2.0: 16263, 3.0: 16128, 2.0: 14070, -1.0: 11675, 1.0: 10178})\n",
      "Resampled (ADASYN) train (real + synth) dataset shape Counter({2.0: 20124, 1.0: 20027, 3.0: 19847, -2.0: 19554, -1.0: 19538, -3.0: 19511, 0.0: 19271})\n",
      "Resampled (ADASYN) synth dataset shape Counter({-3.0: 18164, 3.0: 16944, -2.0: 16615, 2.0: 14977, -1.0: 12061, 1.0: 10982})\n"
     ]
    },
    {
     "name": "stderr",
     "output_type": "stream",
     "text": [
      "/home/matias/anaconda3/envs/gen-methods/lib/python3.7/site-packages/sklearn/metrics/pairwise.py:1449: FutureWarning: from version 0.25, pairwise_distances for metric='seuclidean' will require V to be specified if Y is passed.\n",
      "  \"specified if Y is passed.\", FutureWarning)\n",
      "/home/matias/anaconda3/envs/gen-methods/lib/python3.7/site-packages/sklearn/metrics/pairwise.py:1449: FutureWarning: from version 0.25, pairwise_distances for metric='seuclidean' will require V to be specified if Y is passed.\n",
      "  \"specified if Y is passed.\", FutureWarning)\n"
     ]
    },
    {
     "name": "stdout",
     "output_type": "stream",
     "text": [
      "End of 17 trial\n",
      "Original ashrae train dataset shape Counter({0.0: 19271, 1.0: 8872, -1.0: 7289, 2.0: 4889, -2.0: 2790, 3.0: 2161, -3.0: 1205})\n",
      "Resampled (SMOTE) real + synth dataset shape Counter({1.0: 19271, 3.0: 19271, -1.0: 19271, 2.0: 19271, -2.0: 19271, 0.0: 19271, -3.0: 19271})\n",
      "Resampled (SMOTE) synth dataset shape Counter({-3.0: 17883, -2.0: 16270, 3.0: 16119, 2.0: 14083, -1.0: 11677, 1.0: 10125})\n",
      "Resampled (ADASYN) train (real + synth) dataset shape Counter({2.0: 20124, 1.0: 20027, 3.0: 19847, -2.0: 19554, -1.0: 19538, -3.0: 19511, 0.0: 19271})\n",
      "Resampled (ADASYN) synth dataset shape Counter({-3.0: 18176, 3.0: 16960, -2.0: 16621, 2.0: 14971, -1.0: 12043, 1.0: 10962})\n"
     ]
    },
    {
     "name": "stderr",
     "output_type": "stream",
     "text": [
      "/home/matias/anaconda3/envs/gen-methods/lib/python3.7/site-packages/sklearn/metrics/pairwise.py:1449: FutureWarning: from version 0.25, pairwise_distances for metric='seuclidean' will require V to be specified if Y is passed.\n",
      "  \"specified if Y is passed.\", FutureWarning)\n",
      "/home/matias/anaconda3/envs/gen-methods/lib/python3.7/site-packages/sklearn/metrics/pairwise.py:1449: FutureWarning: from version 0.25, pairwise_distances for metric='seuclidean' will require V to be specified if Y is passed.\n",
      "  \"specified if Y is passed.\", FutureWarning)\n"
     ]
    },
    {
     "name": "stdout",
     "output_type": "stream",
     "text": [
      "End of 18 trial\n",
      "Original ashrae train dataset shape Counter({0.0: 19271, 1.0: 8872, -1.0: 7289, 2.0: 4889, -2.0: 2790, 3.0: 2161, -3.0: 1205})\n",
      "Resampled (SMOTE) real + synth dataset shape Counter({1.0: 19271, -3.0: 19271, 3.0: 19271, -2.0: 19271, 0.0: 19271, 2.0: 19271, -1.0: 19271})\n",
      "Resampled (SMOTE) synth dataset shape Counter({-3.0: 17896, -2.0: 16275, 3.0: 16112, 2.0: 14064, -1.0: 11671, 1.0: 10131})\n",
      "Resampled (ADASYN) train (real + synth) dataset shape Counter({2.0: 20124, 1.0: 20027, 3.0: 19847, -2.0: 19554, -1.0: 19538, -3.0: 19511, 0.0: 19271})\n",
      "Resampled (ADASYN) synth dataset shape Counter({-3.0: 18157, 3.0: 16953, -2.0: 16631, 2.0: 14966, -1.0: 12060, 1.0: 10975})\n"
     ]
    },
    {
     "name": "stderr",
     "output_type": "stream",
     "text": [
      "/home/matias/anaconda3/envs/gen-methods/lib/python3.7/site-packages/sklearn/metrics/pairwise.py:1449: FutureWarning: from version 0.25, pairwise_distances for metric='seuclidean' will require V to be specified if Y is passed.\n",
      "  \"specified if Y is passed.\", FutureWarning)\n",
      "/home/matias/anaconda3/envs/gen-methods/lib/python3.7/site-packages/sklearn/metrics/pairwise.py:1449: FutureWarning: from version 0.25, pairwise_distances for metric='seuclidean' will require V to be specified if Y is passed.\n",
      "  \"specified if Y is passed.\", FutureWarning)\n"
     ]
    },
    {
     "name": "stdout",
     "output_type": "stream",
     "text": [
      "End of 19 trial\n",
      "Original ashrae train dataset shape Counter({0.0: 19271, 1.0: 8872, -1.0: 7289, 2.0: 4889, -2.0: 2790, 3.0: 2161, -3.0: 1205})\n",
      "Resampled (SMOTE) real + synth dataset shape Counter({-3.0: 19271, 1.0: 19271, -1.0: 19271, 2.0: 19271, -2.0: 19271, 0.0: 19271, 3.0: 19271})\n",
      "Resampled (SMOTE) synth dataset shape Counter({-3.0: 17910, -2.0: 16295, 3.0: 16092, 2.0: 14069, -1.0: 11676, 1.0: 10140})\n",
      "Resampled (ADASYN) train (real + synth) dataset shape Counter({2.0: 20124, 1.0: 20027, 3.0: 19847, -2.0: 19554, -1.0: 19538, -3.0: 19511, 0.0: 19271})\n",
      "Resampled (ADASYN) synth dataset shape Counter({-3.0: 18157, 3.0: 16979, -2.0: 16623, 2.0: 14979, -1.0: 12055, 1.0: 10991})\n"
     ]
    },
    {
     "name": "stderr",
     "output_type": "stream",
     "text": [
      "/home/matias/anaconda3/envs/gen-methods/lib/python3.7/site-packages/sklearn/metrics/pairwise.py:1449: FutureWarning: from version 0.25, pairwise_distances for metric='seuclidean' will require V to be specified if Y is passed.\n",
      "  \"specified if Y is passed.\", FutureWarning)\n",
      "/home/matias/anaconda3/envs/gen-methods/lib/python3.7/site-packages/sklearn/metrics/pairwise.py:1449: FutureWarning: from version 0.25, pairwise_distances for metric='seuclidean' will require V to be specified if Y is passed.\n",
      "  \"specified if Y is passed.\", FutureWarning)\n"
     ]
    },
    {
     "name": "stdout",
     "output_type": "stream",
     "text": [
      "End of 20 trial\n",
      "Original ashrae train dataset shape Counter({0.0: 19271, 1.0: 8872, -1.0: 7289, 2.0: 4889, -2.0: 2790, 3.0: 2161, -3.0: 1205})\n",
      "Resampled (SMOTE) real + synth dataset shape Counter({-2.0: 19271, 3.0: 19271, -1.0: 19271, 2.0: 19271, 1.0: 19271, 0.0: 19271, -3.0: 19271})\n",
      "Resampled (SMOTE) synth dataset shape Counter({-3.0: 17892, -2.0: 16291, 3.0: 16075, 2.0: 14079, -1.0: 11677, 1.0: 10118})\n",
      "Resampled (ADASYN) train (real + synth) dataset shape Counter({2.0: 20124, 1.0: 20027, 3.0: 19847, -2.0: 19554, -1.0: 19538, -3.0: 19511, 0.0: 19271})\n",
      "Resampled (ADASYN) synth dataset shape Counter({-3.0: 18162, 3.0: 16966, -2.0: 16629, 2.0: 14970, -1.0: 12053, 1.0: 10968})\n"
     ]
    },
    {
     "name": "stderr",
     "output_type": "stream",
     "text": [
      "/home/matias/anaconda3/envs/gen-methods/lib/python3.7/site-packages/sklearn/metrics/pairwise.py:1449: FutureWarning: from version 0.25, pairwise_distances for metric='seuclidean' will require V to be specified if Y is passed.\n",
      "  \"specified if Y is passed.\", FutureWarning)\n",
      "/home/matias/anaconda3/envs/gen-methods/lib/python3.7/site-packages/sklearn/metrics/pairwise.py:1449: FutureWarning: from version 0.25, pairwise_distances for metric='seuclidean' will require V to be specified if Y is passed.\n",
      "  \"specified if Y is passed.\", FutureWarning)\n"
     ]
    },
    {
     "name": "stdout",
     "output_type": "stream",
     "text": [
      "End of 21 trial\n",
      "Original ashrae train dataset shape Counter({0.0: 19271, 1.0: 8872, -1.0: 7289, 2.0: 4889, -2.0: 2790, 3.0: 2161, -3.0: 1205})\n",
      "Resampled (SMOTE) real + synth dataset shape Counter({-1.0: 19271, 3.0: 19271, -2.0: 19271, -3.0: 19271, 2.0: 19271, 0.0: 19271, 1.0: 19271})\n",
      "Resampled (SMOTE) synth dataset shape Counter({-3.0: 17864, -2.0: 16280, 3.0: 16116, 2.0: 14054, -1.0: 11667, 1.0: 10133})\n",
      "Resampled (ADASYN) train (real + synth) dataset shape Counter({2.0: 20124, 1.0: 20027, 3.0: 19847, -2.0: 19554, -1.0: 19538, -3.0: 19511, 0.0: 19271})\n",
      "Resampled (ADASYN) synth dataset shape Counter({-3.0: 18161, 3.0: 16931, -2.0: 16609, 2.0: 14995, -1.0: 12054, 1.0: 10966})\n"
     ]
    },
    {
     "name": "stderr",
     "output_type": "stream",
     "text": [
      "/home/matias/anaconda3/envs/gen-methods/lib/python3.7/site-packages/sklearn/metrics/pairwise.py:1449: FutureWarning: from version 0.25, pairwise_distances for metric='seuclidean' will require V to be specified if Y is passed.\n",
      "  \"specified if Y is passed.\", FutureWarning)\n",
      "/home/matias/anaconda3/envs/gen-methods/lib/python3.7/site-packages/sklearn/metrics/pairwise.py:1449: FutureWarning: from version 0.25, pairwise_distances for metric='seuclidean' will require V to be specified if Y is passed.\n",
      "  \"specified if Y is passed.\", FutureWarning)\n"
     ]
    },
    {
     "name": "stdout",
     "output_type": "stream",
     "text": [
      "End of 22 trial\n",
      "Original ashrae train dataset shape Counter({0.0: 19271, 1.0: 8872, -1.0: 7289, 2.0: 4889, -2.0: 2790, 3.0: 2161, -3.0: 1205})\n",
      "Resampled (SMOTE) real + synth dataset shape Counter({-2.0: 19271, 2.0: 19271, 0.0: 19271, -1.0: 19271, 1.0: 19271, 3.0: 19271, -3.0: 19271})\n",
      "Resampled (SMOTE) synth dataset shape Counter({-3.0: 17910, -2.0: 16287, 3.0: 16166, 2.0: 14040, -1.0: 11690, 1.0: 10161})\n",
      "Resampled (ADASYN) train (real + synth) dataset shape Counter({2.0: 20124, 1.0: 20027, 3.0: 19847, -2.0: 19554, -1.0: 19538, -3.0: 19511, 0.0: 19271})\n",
      "Resampled (ADASYN) synth dataset shape Counter({-3.0: 18156, 3.0: 16960, -2.0: 16626, 2.0: 14983, -1.0: 12054, 1.0: 10968})\n"
     ]
    },
    {
     "name": "stderr",
     "output_type": "stream",
     "text": [
      "/home/matias/anaconda3/envs/gen-methods/lib/python3.7/site-packages/sklearn/metrics/pairwise.py:1449: FutureWarning: from version 0.25, pairwise_distances for metric='seuclidean' will require V to be specified if Y is passed.\n",
      "  \"specified if Y is passed.\", FutureWarning)\n",
      "/home/matias/anaconda3/envs/gen-methods/lib/python3.7/site-packages/sklearn/metrics/pairwise.py:1449: FutureWarning: from version 0.25, pairwise_distances for metric='seuclidean' will require V to be specified if Y is passed.\n",
      "  \"specified if Y is passed.\", FutureWarning)\n"
     ]
    },
    {
     "name": "stdout",
     "output_type": "stream",
     "text": [
      "End of 23 trial\n",
      "Original ashrae train dataset shape Counter({0.0: 19271, 1.0: 8872, -1.0: 7289, 2.0: 4889, -2.0: 2790, 3.0: 2161, -3.0: 1205})\n",
      "Resampled (SMOTE) real + synth dataset shape Counter({2.0: 19271, -3.0: 19271, -1.0: 19271, 0.0: 19271, 1.0: 19271, -2.0: 19271, 3.0: 19271})\n",
      "Resampled (SMOTE) synth dataset shape Counter({-3.0: 17892, -2.0: 16278, 3.0: 16116, 2.0: 14057, -1.0: 11677, 1.0: 10176})\n",
      "Resampled (ADASYN) train (real + synth) dataset shape Counter({2.0: 20124, 1.0: 20027, 3.0: 19847, -2.0: 19554, -1.0: 19538, -3.0: 19511, 0.0: 19271})\n",
      "Resampled (ADASYN) synth dataset shape Counter({-3.0: 18165, 3.0: 16951, -2.0: 16626, 2.0: 14994, -1.0: 12069, 1.0: 10973})\n"
     ]
    },
    {
     "name": "stderr",
     "output_type": "stream",
     "text": [
      "/home/matias/anaconda3/envs/gen-methods/lib/python3.7/site-packages/sklearn/metrics/pairwise.py:1449: FutureWarning: from version 0.25, pairwise_distances for metric='seuclidean' will require V to be specified if Y is passed.\n",
      "  \"specified if Y is passed.\", FutureWarning)\n",
      "/home/matias/anaconda3/envs/gen-methods/lib/python3.7/site-packages/sklearn/metrics/pairwise.py:1449: FutureWarning: from version 0.25, pairwise_distances for metric='seuclidean' will require V to be specified if Y is passed.\n",
      "  \"specified if Y is passed.\", FutureWarning)\n"
     ]
    },
    {
     "name": "stdout",
     "output_type": "stream",
     "text": [
      "End of 24 trial\n",
      "Original ashrae train dataset shape Counter({0.0: 19271, 1.0: 8872, -1.0: 7289, 2.0: 4889, -2.0: 2790, 3.0: 2161, -3.0: 1205})\n",
      "Resampled (SMOTE) real + synth dataset shape Counter({1.0: 19271, -2.0: 19271, 3.0: 19271, 0.0: 19271, -3.0: 19271, 2.0: 19271, -1.0: 19271})\n",
      "Resampled (SMOTE) synth dataset shape Counter({-3.0: 17856, -2.0: 16283, 3.0: 16121, 2.0: 14035, -1.0: 11697, 1.0: 10161})\n",
      "Resampled (ADASYN) train (real + synth) dataset shape Counter({2.0: 20124, 1.0: 20027, 3.0: 19847, -2.0: 19554, -1.0: 19538, -3.0: 19511, 0.0: 19271})\n",
      "Resampled (ADASYN) synth dataset shape Counter({-3.0: 18171, 3.0: 16989, -2.0: 16615, 2.0: 14981, -1.0: 12050, 1.0: 10980})\n"
     ]
    },
    {
     "name": "stderr",
     "output_type": "stream",
     "text": [
      "/home/matias/anaconda3/envs/gen-methods/lib/python3.7/site-packages/sklearn/metrics/pairwise.py:1449: FutureWarning: from version 0.25, pairwise_distances for metric='seuclidean' will require V to be specified if Y is passed.\n",
      "  \"specified if Y is passed.\", FutureWarning)\n",
      "/home/matias/anaconda3/envs/gen-methods/lib/python3.7/site-packages/sklearn/metrics/pairwise.py:1449: FutureWarning: from version 0.25, pairwise_distances for metric='seuclidean' will require V to be specified if Y is passed.\n",
      "  \"specified if Y is passed.\", FutureWarning)\n"
     ]
    },
    {
     "name": "stdout",
     "output_type": "stream",
     "text": [
      "End of 25 trial\n",
      "Original ashrae train dataset shape Counter({0.0: 19271, 1.0: 8872, -1.0: 7289, 2.0: 4889, -2.0: 2790, 3.0: 2161, -3.0: 1205})\n",
      "Resampled (SMOTE) real + synth dataset shape Counter({3.0: 19271, 1.0: 19271, 0.0: 19271, -3.0: 19271, -2.0: 19271, -1.0: 19271, 2.0: 19271})\n",
      "Resampled (SMOTE) synth dataset shape Counter({-3.0: 17892, -2.0: 16282, 3.0: 16180, 2.0: 14053, -1.0: 11701, 1.0: 10153})\n",
      "Resampled (ADASYN) train (real + synth) dataset shape Counter({2.0: 20124, 1.0: 20027, 3.0: 19847, -2.0: 19554, -1.0: 19538, -3.0: 19511, 0.0: 19271})\n",
      "Resampled (ADASYN) synth dataset shape Counter({-3.0: 18171, 3.0: 16977, -2.0: 16630, 2.0: 14943, -1.0: 12056, 1.0: 10968})\n"
     ]
    },
    {
     "name": "stderr",
     "output_type": "stream",
     "text": [
      "/home/matias/anaconda3/envs/gen-methods/lib/python3.7/site-packages/sklearn/metrics/pairwise.py:1449: FutureWarning: from version 0.25, pairwise_distances for metric='seuclidean' will require V to be specified if Y is passed.\n",
      "  \"specified if Y is passed.\", FutureWarning)\n",
      "/home/matias/anaconda3/envs/gen-methods/lib/python3.7/site-packages/sklearn/metrics/pairwise.py:1449: FutureWarning: from version 0.25, pairwise_distances for metric='seuclidean' will require V to be specified if Y is passed.\n",
      "  \"specified if Y is passed.\", FutureWarning)\n"
     ]
    },
    {
     "name": "stdout",
     "output_type": "stream",
     "text": [
      "End of 26 trial\n",
      "Original ashrae train dataset shape Counter({0.0: 19271, 1.0: 8872, -1.0: 7289, 2.0: 4889, -2.0: 2790, 3.0: 2161, -3.0: 1205})\n",
      "Resampled (SMOTE) real + synth dataset shape Counter({-2.0: 19271, -3.0: 19271, 3.0: 19271, 2.0: 19271, -1.0: 19271, 1.0: 19271, 0.0: 19271})\n",
      "Resampled (SMOTE) synth dataset shape Counter({-3.0: 17888, -2.0: 16291, 3.0: 16095, 2.0: 14060, -1.0: 11677, 1.0: 10151})\n",
      "Resampled (ADASYN) train (real + synth) dataset shape Counter({2.0: 20124, 1.0: 20027, 3.0: 19847, -2.0: 19554, -1.0: 19538, -3.0: 19511, 0.0: 19271})\n",
      "Resampled (ADASYN) synth dataset shape Counter({-3.0: 18152, 3.0: 16989, -2.0: 16620, 2.0: 14991, -1.0: 12064, 1.0: 10962})\n"
     ]
    },
    {
     "name": "stderr",
     "output_type": "stream",
     "text": [
      "/home/matias/anaconda3/envs/gen-methods/lib/python3.7/site-packages/sklearn/metrics/pairwise.py:1449: FutureWarning: from version 0.25, pairwise_distances for metric='seuclidean' will require V to be specified if Y is passed.\n",
      "  \"specified if Y is passed.\", FutureWarning)\n",
      "/home/matias/anaconda3/envs/gen-methods/lib/python3.7/site-packages/sklearn/metrics/pairwise.py:1449: FutureWarning: from version 0.25, pairwise_distances for metric='seuclidean' will require V to be specified if Y is passed.\n",
      "  \"specified if Y is passed.\", FutureWarning)\n"
     ]
    },
    {
     "name": "stdout",
     "output_type": "stream",
     "text": [
      "End of 27 trial\n",
      "Original ashrae train dataset shape Counter({0.0: 19271, 1.0: 8872, -1.0: 7289, 2.0: 4889, -2.0: 2790, 3.0: 2161, -3.0: 1205})\n",
      "Resampled (SMOTE) real + synth dataset shape Counter({-1.0: 19271, -3.0: 19271, -2.0: 19271, 0.0: 19271, 2.0: 19271, 3.0: 19271, 1.0: 19271})\n",
      "Resampled (SMOTE) synth dataset shape Counter({-3.0: 17863, -2.0: 16275, 3.0: 16133, 2.0: 14038, -1.0: 11674, 1.0: 10128})\n",
      "Resampled (ADASYN) train (real + synth) dataset shape Counter({2.0: 20124, 1.0: 20027, 3.0: 19847, -2.0: 19554, -1.0: 19538, -3.0: 19511, 0.0: 19271})\n",
      "Resampled (ADASYN) synth dataset shape Counter({-3.0: 18163, 3.0: 16949, -2.0: 16602, 2.0: 14971, -1.0: 12047, 1.0: 10968})\n"
     ]
    },
    {
     "name": "stderr",
     "output_type": "stream",
     "text": [
      "/home/matias/anaconda3/envs/gen-methods/lib/python3.7/site-packages/sklearn/metrics/pairwise.py:1449: FutureWarning: from version 0.25, pairwise_distances for metric='seuclidean' will require V to be specified if Y is passed.\n",
      "  \"specified if Y is passed.\", FutureWarning)\n",
      "/home/matias/anaconda3/envs/gen-methods/lib/python3.7/site-packages/sklearn/metrics/pairwise.py:1449: FutureWarning: from version 0.25, pairwise_distances for metric='seuclidean' will require V to be specified if Y is passed.\n",
      "  \"specified if Y is passed.\", FutureWarning)\n"
     ]
    },
    {
     "name": "stdout",
     "output_type": "stream",
     "text": [
      "End of 28 trial\n",
      "Original ashrae train dataset shape Counter({0.0: 19271, 1.0: 8872, -1.0: 7289, 2.0: 4889, -2.0: 2790, 3.0: 2161, -3.0: 1205})\n",
      "Resampled (SMOTE) real + synth dataset shape Counter({-2.0: 19271, -3.0: 19271, -1.0: 19271, 3.0: 19271, 2.0: 19271, 1.0: 19271, 0.0: 19271})\n",
      "Resampled (SMOTE) synth dataset shape Counter({-3.0: 17897, -2.0: 16284, 3.0: 16123, 2.0: 14030, -1.0: 11636, 1.0: 10149})\n",
      "Resampled (ADASYN) train (real + synth) dataset shape Counter({2.0: 20124, 1.0: 20027, 3.0: 19847, -2.0: 19554, -1.0: 19538, -3.0: 19511, 0.0: 19271})\n",
      "Resampled (ADASYN) synth dataset shape Counter({-3.0: 18164, 3.0: 16961, -2.0: 16633, 2.0: 14971, -1.0: 12054, 1.0: 10957})\n"
     ]
    },
    {
     "name": "stderr",
     "output_type": "stream",
     "text": [
      "/home/matias/anaconda3/envs/gen-methods/lib/python3.7/site-packages/sklearn/metrics/pairwise.py:1449: FutureWarning: from version 0.25, pairwise_distances for metric='seuclidean' will require V to be specified if Y is passed.\n",
      "  \"specified if Y is passed.\", FutureWarning)\n",
      "/home/matias/anaconda3/envs/gen-methods/lib/python3.7/site-packages/sklearn/metrics/pairwise.py:1449: FutureWarning: from version 0.25, pairwise_distances for metric='seuclidean' will require V to be specified if Y is passed.\n",
      "  \"specified if Y is passed.\", FutureWarning)\n"
     ]
    },
    {
     "name": "stdout",
     "output_type": "stream",
     "text": [
      "End of 29 trial\n",
      "Original ashrae train dataset shape Counter({0.0: 19271, 1.0: 8872, -1.0: 7289, 2.0: 4889, -2.0: 2790, 3.0: 2161, -3.0: 1205})\n",
      "Resampled (SMOTE) real + synth dataset shape Counter({-1.0: 19271, -3.0: 19271, -2.0: 19271, 3.0: 19271, 2.0: 19271, 0.0: 19271, 1.0: 19271})\n",
      "Resampled (SMOTE) synth dataset shape Counter({-3.0: 17896, -2.0: 16282, 3.0: 16153, 2.0: 14038, -1.0: 11694, 1.0: 10146})\n",
      "Resampled (ADASYN) train (real + synth) dataset shape Counter({2.0: 20124, 1.0: 20027, 3.0: 19847, -2.0: 19554, -1.0: 19538, -3.0: 19511, 0.0: 19271})\n",
      "Resampled (ADASYN) synth dataset shape Counter({-3.0: 18158, 3.0: 16971, -2.0: 16623, 2.0: 14954, -1.0: 12073, 1.0: 10976})\n"
     ]
    },
    {
     "name": "stderr",
     "output_type": "stream",
     "text": [
      "/home/matias/anaconda3/envs/gen-methods/lib/python3.7/site-packages/sklearn/metrics/pairwise.py:1449: FutureWarning: from version 0.25, pairwise_distances for metric='seuclidean' will require V to be specified if Y is passed.\n",
      "  \"specified if Y is passed.\", FutureWarning)\n",
      "/home/matias/anaconda3/envs/gen-methods/lib/python3.7/site-packages/sklearn/metrics/pairwise.py:1449: FutureWarning: from version 0.25, pairwise_distances for metric='seuclidean' will require V to be specified if Y is passed.\n",
      "  \"specified if Y is passed.\", FutureWarning)\n"
     ]
    },
    {
     "name": "stdout",
     "output_type": "stream",
     "text": [
      "End of 30 trial\n",
      "################################################################################\n",
      "# Metrics and models for dataset ashrae saved!\n",
      "################################################################################\n"
     ]
    }
   ],
   "source": [
    "evaluate_on_dataset(df_ashrae_train, df_ashrae_test, model='adasyn', dataset='ashrae')\n"
   ]
  },
  {
   "cell_type": "code",
   "execution_count": null,
   "metadata": {},
   "outputs": [],
   "source": []
  }
 ],
 "metadata": {
  "kernelspec": {
   "display_name": "gen-methods",
   "language": "python",
   "name": "gen-methods"
  },
  "language_info": {
   "codemirror_mode": {
    "name": "ipython",
    "version": 3
   },
   "file_extension": ".py",
   "mimetype": "text/x-python",
   "name": "python",
   "nbconvert_exporter": "python",
   "pygments_lexer": "ipython3",
   "version": "3.7.4"
  }
 },
 "nbformat": 4,
 "nbformat_minor": 4
}
